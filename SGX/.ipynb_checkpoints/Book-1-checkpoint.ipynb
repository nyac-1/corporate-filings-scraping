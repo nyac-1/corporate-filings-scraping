{
 "cells": [
  {
   "cell_type": "code",
   "execution_count": 1,
   "metadata": {},
   "outputs": [],
   "source": [
    "from selenium import webdriver\n",
    "from selenium.webdriver.support.ui import WebDriverWait\n",
    "from selenium.webdriver.common.by import By\n",
    "from selenium.webdriver.support import expected_conditions as EC\n",
    "\n",
    "from pathlib import Path\n",
    "import requests"
   ]
  },
  {
   "cell_type": "code",
   "execution_count": 2,
   "metadata": {},
   "outputs": [
    {
     "data": {
      "text/plain": [
       "<selenium.webdriver.remote.webelement.WebElement (session=\"1c5d1c775b10094f979afa3028b19902\", element=\"1f1d67b0-7a06-4280-9de4-d961a99fd6bb\")>"
      ]
     },
     "execution_count": 2,
     "metadata": {},
     "output_type": "execute_result"
    }
   ],
   "source": [
    "url = \"https://www.sgx.com/securities/company-announcements?value=JARDINE%20MATHESON%20HLDGS%20LTD&type=company\"+\"&pagesize=100\"\n",
    "\n",
    "driver = webdriver.Chrome()\n",
    "driver.get(url)\n",
    "\n",
    "wait  = lambda x: WebDriverWait(driver, x)\n",
    "\n",
    "wait(10).until(EC.presence_of_element_located((By.TAG_NAME, 'table')))\n"
   ]
  },
  {
   "cell_type": "code",
   "execution_count": 3,
   "metadata": {},
   "outputs": [],
   "source": [
    "def get_all_rows(driver):\n",
    "    try:\n",
    "        rows = driver.find_elements_by_tag_name(\"table\")[0].find_elements_by_tag_name(\"tbody\")[0].find_elements_by_tag_name(\"tr\")\n",
    "        return(rows)\n",
    "    except:\n",
    "        print(\"Table not found\")\n",
    "        return None\n",
    "    \n",
    "def get_title_link(row):\n",
    "    element =  row.find_elements_by_tag_name(\"td\")[3]\n",
    "    try:\n",
    "        return element.find_elements_by_tag_name(\"a\")[0].get_attribute(\"href\")\n",
    "    except:\n",
    "        print(\"No tag found\")\n",
    "        return None\n",
    "    \n",
    "    \n",
    "def download_pdfs(links):\n",
    "    for i, link in enumerate(links):\n",
    "        if(\".pdf\" in link):\n",
    "            response = requests.get(link)\n",
    "            print(\"Downloading file: \", i)\n",
    "            pdf = open(\"./ja/\"+ link.split(\"/\")[-1], 'wb')\n",
    "            pdf.write(response.content)\n",
    "            pdf.close()\n",
    "\n",
    "def explore_link(newDriver,link):\n",
    "    newDriver.get(link)\n",
    "    div = newDriver.find_elements_by_class_name('announcement-attachment-list')\n",
    "    \n",
    "    all_links = []\n",
    "\n",
    "    for element in div:\n",
    "        elements = element.find_elements_by_tag_name(\"a\")\n",
    "        all_links.extend(elements)\n",
    "    \n",
    "    return list(map(lambda x: x.get_attribute(\"href\"), all_links))"
   ]
  },
  {
   "cell_type": "code",
   "execution_count": 4,
   "metadata": {},
   "outputs": [
    {
     "name": "stdout",
     "output_type": "stream",
     "text": [
      "['https://links.sgx.com/1.0.0/corporate-announcements/HM31C8F25ZJUY6DO/721003_JMH.pdf']\n",
      "Downloading file:  0\n",
      "['https://links.sgx.com/1.0.0/corporate-announcements/94F35UQJKUDS9O0M/719296_JMH.pdf']\n",
      "Downloading file:  0\n",
      "['https://links.sgx.com/1.0.0/corporate-announcements/B1GG86HMV5P1XK97/718330_JMH.pdf']\n",
      "Downloading file:  0\n",
      "['https://links.sgx.com/1.0.0/corporate-announcements/UOWFQGJAAPO6A6JX/718238_JMH.pdf']\n",
      "Downloading file:  0\n",
      "['https://links.sgx.com/1.0.0/corporate-announcements/0U85F8P5NET6IIA3/718096_JMH.pdf']\n",
      "Downloading file:  0\n",
      "['https://links.sgx.com/1.0.0/corporate-announcements/G896H1CVS7KKVNS7/717879_JMH.pdf']\n",
      "Downloading file:  0\n",
      "['https://links.sgx.com/1.0.0/corporate-announcements/TCVEWRZ8LZ7Q66CL/717758_JMH.pdf']\n",
      "Downloading file:  0\n",
      "['https://links.sgx.com/1.0.0/corporate-announcements/PA20GS8UG03HZEOZ/717757_JMH.pdf']\n",
      "Downloading file:  0\n",
      "['https://links.sgx.com/1.0.0/corporate-announcements/5IGDOWTJII2LRU13/717591_JMH.pdf']\n",
      "Downloading file:  0\n",
      "['https://links.sgx.com/1.0.0/corporate-announcements/Y34LF8SVYL3HWY7R/716779_JMH.pdf']\n",
      "Downloading file:  0\n",
      "['https://links.sgx.com/1.0.0/corporate-announcements/I0NF5LLUELRZTN1U/716778_JMH.pdf']\n",
      "Downloading file:  0\n",
      "['https://links.sgx.com/1.0.0/corporate-announcements/HOAMPHM9G3POZGSX/716123_JMH.pdf']\n",
      "Downloading file:  0\n",
      "['https://links.sgx.com/1.0.0/corporate-announcements/DAS440G17NS80ZIH/716000_JMH.pdf']\n",
      "Downloading file:  0\n",
      "['https://links.sgx.com/1.0.0/corporate-announcements/ZLMCX5QHBFKL3BV4/714312_JMH.pdf']\n",
      "Downloading file:  0\n",
      "['https://links.sgx.com/1.0.0/corporate-announcements/00Y65KELOS4HUP4R/713389_JMH.pdf']\n",
      "Downloading file:  0\n",
      "['https://links.sgx.com/1.0.0/corporate-announcements/1Y4BQNYUB1EKTHBU/710966_JMH.pdf']\n",
      "Downloading file:  0\n",
      "['https://links.sgx.com/1.0.0/corporate-announcements/RB8P9QKUEK6JXYTC/710602_JMH%20Annual%20Report%202021.pdf', 'https://links.sgx.com/1.0.0/corporate-announcements/RB8P9QKUEK6JXYTC/710603_Notice%20of%20the%202022%20Annual%20General%20Meeting.pdf', 'https://links.sgx.com/1.0.0/corporate-announcements/RB8P9QKUEK6JXYTC/710604_Form%20of%20Proxy.pdf']\n",
      "Downloading file:  0\n",
      "Downloading file:  1\n",
      "Downloading file:  2\n",
      "['https://links.sgx.com/1.0.0/corporate-announcements/UDK8C5YDBG8V7JQN/710593_JMH.pdf']\n",
      "Downloading file:  0\n",
      "['https://links.sgx.com/1.0.0/corporate-announcements/OO069TV9OARP5OHR/709856_JMH.pdf']\n",
      "Downloading file:  0\n",
      "['https://links.sgx.com/1.0.0/corporate-announcements/F08MGRDQITW6SSTZ/709317_JMH.pdf']\n",
      "Downloading file:  0\n",
      "['https://links.sgx.com/1.0.0/corporate-announcements/EFNI2QE9IZJ8KKMK/709003_JMH.pdf']\n",
      "Downloading file:  0\n",
      "['https://links.sgx.com/1.0.0/corporate-announcements/U4FJ9JSBO5LBVJLL/708446_JMH.pdf']\n",
      "Downloading file:  0\n",
      "['https://links.sgx.com/1.0.0/corporate-announcements/7S3KQX7CT1GN73A0/708444_JMH.pdf']\n",
      "Downloading file:  0\n",
      "['https://links.sgx.com/1.0.0/corporate-announcements/NEUAJ4THXJJE0GYZ/708107_JMH.pdf']\n",
      "Downloading file:  0\n",
      "['https://links.sgx.com/1.0.0/corporate-announcements/Z4WXO0MG8754KS45/707134_JMH.pdf']\n",
      "Downloading file:  0\n",
      "['https://links.sgx.com/1.0.0/corporate-announcements/Z2E8AJ6NX5U6QH9D/706124_JMH.pdf']\n",
      "Downloading file:  0\n",
      "['https://links.sgx.com/1.0.0/corporate-announcements/VEDISNZAL61LXH0N/705998_JMH.pdf']\n",
      "Downloading file:  0\n",
      "['https://links.sgx.com/1.0.0/corporate-announcements/U6XD191MNI6A769S/705970_JMH.pdf']\n",
      "Downloading file:  0\n",
      "['https://links.sgx.com/1.0.0/corporate-announcements/4AG3468464OCZUZ3/705928_JMH.pdf']\n",
      "Downloading file:  0\n",
      "['https://links.sgx.com/1.0.0/corporate-announcements/H7ULUX6J6CFU5S59/705848_JMH.pdf']\n",
      "Downloading file:  0\n",
      "['https://links.sgx.com/1.0.0/corporate-announcements/4B8LQYLJZUUANC8G/705593_JMH.pdf']\n",
      "Downloading file:  0\n",
      "['https://links.sgx.com/1.0.0/corporate-announcements/7OBIROMN8QW5KE4Z/705293_JMH.pdf']\n",
      "Downloading file:  0\n",
      "['https://links.sgx.com/1.0.0/corporate-announcements/CU4BWUNN9P943ER0/705286_JMH.pdf']\n",
      "Downloading file:  0\n",
      "['https://links.sgx.com/1.0.0/corporate-announcements/DNSPSQ287TKLGWNG/703960_JMH.pdf']\n",
      "Downloading file:  0\n",
      "['https://links.sgx.com/1.0.0/corporate-announcements/ZXFXJE6PFHE2TWVC/703518_JMH.pdf']\n",
      "Downloading file:  0\n",
      "['https://links.sgx.com/1.0.0/corporate-announcements/LAE26AZIF2CR4WIS/703289_JMH.pdf']\n",
      "Downloading file:  0\n",
      "['https://links.sgx.com/1.0.0/corporate-announcements/3IF2139TJ3T416RD/703054_JMH.pdf']\n",
      "Downloading file:  0\n",
      "['https://links.sgx.com/1.0.0/corporate-announcements/BQES8E9S0BSEJPPS/702850_JMH.pdf']\n",
      "Downloading file:  0\n",
      "['https://links.sgx.com/1.0.0/corporate-announcements/P73ILD6653VYMCWS/702689_JMH.pdf']\n",
      "Downloading file:  0\n",
      "['https://links.sgx.com/1.0.0/corporate-announcements/Y16Z9GJMOYXQ0ZBT/702318_JMH.pdf']\n",
      "Downloading file:  0\n",
      "['https://links.sgx.com/1.0.0/corporate-announcements/47CPRACS7CNMB4MZ/702169_JMH.pdf']\n",
      "Downloading file:  0\n",
      "['https://links.sgx.com/1.0.0/corporate-announcements/WRIEQ1J3P9R0QBQI/702041_JMH.pdf']\n",
      "Downloading file:  0\n",
      "['https://links.sgx.com/1.0.0/corporate-announcements/N63W4KSOKPZVW108/701834_JMH.pdf']\n",
      "Downloading file:  0\n",
      "['https://links.sgx.com/1.0.0/corporate-announcements/KT6C2LCINN0TTBC0/701709_JMH.pdf']\n",
      "Downloading file:  0\n",
      "['https://links.sgx.com/1.0.0/corporate-announcements/72KX2CLCD8MLFY9D/701482_JMH.pdf']\n",
      "Downloading file:  0\n",
      "['https://links.sgx.com/1.0.0/corporate-announcements/VGM39U7KPW2ECZLB/701249_JMH.pdf']\n",
      "Downloading file:  0\n",
      "['https://links.sgx.com/1.0.0/corporate-announcements/FSM9D7PEMNCN815B/701092_JMH.pdf']\n",
      "Downloading file:  0\n",
      "['https://links.sgx.com/1.0.0/corporate-announcements/E8AQV7DQVBTZIMHZ/701022_JMH.pdf']\n",
      "Downloading file:  0\n",
      "['https://links.sgx.com/1.0.0/corporate-announcements/B3DBDL9V8A7A59J5/701020_JMH.pdf']\n",
      "Downloading file:  0\n",
      "['https://links.sgx.com/1.0.0/corporate-announcements/A2C8673H3ELJLLAN/700726_JMH.pdf']\n",
      "Downloading file:  0\n",
      "['https://links.sgx.com/1.0.0/corporate-announcements/48867ULDLQR2D7N6/700723_JMH.pdf']\n",
      "Downloading file:  0\n",
      "['https://links.sgx.com/1.0.0/corporate-announcements/629XGSV3G4V6ZFQJ/699548_JMH.pdf']\n",
      "Downloading file:  0\n",
      "['https://links.sgx.com/1.0.0/corporate-announcements/DBNLLHH41WSA8E7G/699252_JMH.pdf']\n",
      "Downloading file:  0\n",
      "['https://links.sgx.com/1.0.0/corporate-announcements/ARV7U8JKADHKW0AL/699243_JMH.pdf']\n",
      "Downloading file:  0\n",
      "['https://links.sgx.com/1.0.0/corporate-announcements/W9JAOGTP79V1XLAW/699012_JMH.pdf']\n",
      "Downloading file:  0\n",
      "['https://links.sgx.com/1.0.0/corporate-announcements/A5EPVUTA8IIDBNNJ/698836_JMH.pdf']\n",
      "Downloading file:  0\n",
      "['https://links.sgx.com/1.0.0/corporate-announcements/YJ5I733T6X9Y62CC/698587_JMH.pdf']\n",
      "Downloading file:  0\n",
      "['https://links.sgx.com/1.0.0/corporate-announcements/ITHJ6EYSBH3GVTDY/698396_JMH.pdf']\n",
      "Downloading file:  0\n",
      "['https://links.sgx.com/1.0.0/corporate-announcements/3CCL4Q5LVWZOE9KO/698254_JMH.pdf']\n",
      "Downloading file:  0\n",
      "['https://links.sgx.com/1.0.0/corporate-announcements/S3134X14IHSSFO1F/698097_JMH.pdf']\n",
      "Downloading file:  0\n",
      "['https://links.sgx.com/1.0.0/corporate-announcements/IR7V062CKEK0YZY9/697951_JMH.pdf']\n",
      "Downloading file:  0\n",
      "['https://links.sgx.com/1.0.0/corporate-announcements/HDEFH0GZOILK2V4M/697820_JMH.pdf']\n",
      "Downloading file:  0\n",
      "['https://links.sgx.com/1.0.0/corporate-announcements/NHW1ZVPQG1HM9CQ1/697688_JMH.pdf']\n",
      "Downloading file:  0\n",
      "['https://links.sgx.com/1.0.0/corporate-announcements/L5R3F7ILZT9VWM0M/697562_JMH.pdf']\n",
      "Downloading file:  0\n",
      "['https://links.sgx.com/1.0.0/corporate-announcements/1O8IGAHG3TSFLTQS/697406_JMH.pdf']\n",
      "Downloading file:  0\n",
      "['https://links.sgx.com/1.0.0/corporate-announcements/KSGF7RL7IYHF9Z8J/697304_JMH.pdf']\n",
      "Downloading file:  0\n"
     ]
    },
    {
     "ename": "TypeError",
     "evalue": "'NoneType' object is not subscriptable",
     "output_type": "error",
     "traceback": [
      "\u001b[0;31m---------------------------------------------------------------------------\u001b[0m",
      "\u001b[0;31mTypeError\u001b[0m                                 Traceback (most recent call last)",
      "\u001b[0;32m<ipython-input-4-c44daae58bd7>\u001b[0m in \u001b[0;36m<module>\u001b[0;34m\u001b[0m\n\u001b[1;32m      3\u001b[0m \u001b[0mnewDriver\u001b[0m \u001b[0;34m=\u001b[0m \u001b[0mwebdriver\u001b[0m\u001b[0;34m.\u001b[0m\u001b[0mChrome\u001b[0m\u001b[0;34m(\u001b[0m\u001b[0;34m)\u001b[0m\u001b[0;34m\u001b[0m\u001b[0;34m\u001b[0m\u001b[0m\n\u001b[1;32m      4\u001b[0m \u001b[0;32mfor\u001b[0m \u001b[0mrow\u001b[0m \u001b[0;32min\u001b[0m \u001b[0mrows\u001b[0m\u001b[0;34m:\u001b[0m\u001b[0;34m\u001b[0m\u001b[0;34m\u001b[0m\u001b[0m\n\u001b[0;32m----> 5\u001b[0;31m     \u001b[0mlink\u001b[0m \u001b[0;34m=\u001b[0m \u001b[0mget_title_link\u001b[0m\u001b[0;34m(\u001b[0m\u001b[0mrow\u001b[0m\u001b[0;34m)\u001b[0m\u001b[0;34m\u001b[0m\u001b[0;34m\u001b[0m\u001b[0m\n\u001b[0m\u001b[1;32m      6\u001b[0m     \u001b[0mlinks\u001b[0m \u001b[0;34m=\u001b[0m \u001b[0mexplore_link\u001b[0m\u001b[0;34m(\u001b[0m\u001b[0mnewDriver\u001b[0m\u001b[0;34m,\u001b[0m \u001b[0mlink\u001b[0m\u001b[0;34m)\u001b[0m\u001b[0;34m\u001b[0m\u001b[0;34m\u001b[0m\u001b[0m\n\u001b[1;32m      7\u001b[0m     \u001b[0mprint\u001b[0m\u001b[0;34m(\u001b[0m\u001b[0mlinks\u001b[0m\u001b[0;34m)\u001b[0m\u001b[0;34m\u001b[0m\u001b[0;34m\u001b[0m\u001b[0m\n",
      "\u001b[0;32m<ipython-input-3-bc66883aa955>\u001b[0m in \u001b[0;36mget_title_link\u001b[0;34m(row)\u001b[0m\n\u001b[1;32m      8\u001b[0m \u001b[0;34m\u001b[0m\u001b[0m\n\u001b[1;32m      9\u001b[0m \u001b[0;32mdef\u001b[0m \u001b[0mget_title_link\u001b[0m\u001b[0;34m(\u001b[0m\u001b[0mrow\u001b[0m\u001b[0;34m)\u001b[0m\u001b[0;34m:\u001b[0m\u001b[0;34m\u001b[0m\u001b[0;34m\u001b[0m\u001b[0m\n\u001b[0;32m---> 10\u001b[0;31m     \u001b[0melement\u001b[0m \u001b[0;34m=\u001b[0m  \u001b[0mrow\u001b[0m\u001b[0;34m.\u001b[0m\u001b[0mfind_elements_by_tag_name\u001b[0m\u001b[0;34m(\u001b[0m\u001b[0;34m\"td\"\u001b[0m\u001b[0;34m)\u001b[0m\u001b[0;34m[\u001b[0m\u001b[0;36m3\u001b[0m\u001b[0;34m]\u001b[0m\u001b[0;34m\u001b[0m\u001b[0;34m\u001b[0m\u001b[0m\n\u001b[0m\u001b[1;32m     11\u001b[0m     \u001b[0;32mtry\u001b[0m\u001b[0;34m:\u001b[0m\u001b[0;34m\u001b[0m\u001b[0;34m\u001b[0m\u001b[0m\n\u001b[1;32m     12\u001b[0m         \u001b[0;32mreturn\u001b[0m \u001b[0melement\u001b[0m\u001b[0;34m.\u001b[0m\u001b[0mfind_elements_by_tag_name\u001b[0m\u001b[0;34m(\u001b[0m\u001b[0;34m\"a\"\u001b[0m\u001b[0;34m)\u001b[0m\u001b[0;34m[\u001b[0m\u001b[0;36m0\u001b[0m\u001b[0;34m]\u001b[0m\u001b[0;34m.\u001b[0m\u001b[0mget_attribute\u001b[0m\u001b[0;34m(\u001b[0m\u001b[0;34m\"href\"\u001b[0m\u001b[0;34m)\u001b[0m\u001b[0;34m\u001b[0m\u001b[0;34m\u001b[0m\u001b[0m\n",
      "\u001b[0;31mTypeError\u001b[0m: 'NoneType' object is not subscriptable"
     ]
    }
   ],
   "source": [
    "rows = get_all_rows(driver)\n",
    "\n",
    "newDriver = webdriver.Chrome()\n",
    "for i, row in enumerate(rows):\n",
    "    link = get_title_link(row)\n",
    "    links = explore_link(newDriver, link)\n",
    "    download_pdfs(links)\n",
    "    \n",
    "    print(i)\n",
    "newDriver.quit()"
   ]
  },
  {
   "cell_type": "code",
   "execution_count": 5,
   "metadata": {},
   "outputs": [
    {
     "data": {
      "text/plain": [
       "<selenium.webdriver.remote.webelement.WebElement (session=\"1c5d1c775b10094f979afa3028b19902\", element=\"f0ac5f5f-a902-4a5f-90e9-7b31a7a6c928\")>"
      ]
     },
     "execution_count": 5,
     "metadata": {},
     "output_type": "execute_result"
    }
   ],
   "source": [
    "rows[68]"
   ]
  },
  {
   "cell_type": "code",
   "execution_count": 7,
   "metadata": {},
   "outputs": [],
   "source": [
    "smth = rows[68]"
   ]
  },
  {
   "cell_type": "code",
   "execution_count": 9,
   "metadata": {},
   "outputs": [
    {
     "ename": "NoSuchWindowException",
     "evalue": "Message: no such window: target window already closed\nfrom unknown error: web view not found\n  (Session info: chrome=102.0.5005.115)\n",
     "output_type": "error",
     "traceback": [
      "\u001b[0;31m---------------------------------------------------------------------------\u001b[0m",
      "\u001b[0;31mNoSuchWindowException\u001b[0m                     Traceback (most recent call last)",
      "\u001b[0;32m<ipython-input-9-6736f5c38015>\u001b[0m in \u001b[0;36m<module>\u001b[0;34m\u001b[0m\n\u001b[0;32m----> 1\u001b[0;31m \u001b[0msmth\u001b[0m\u001b[0;34m.\u001b[0m\u001b[0mfind_element_by_tag_name\u001b[0m\u001b[0;34m(\u001b[0m\u001b[0;34m\"a\"\u001b[0m\u001b[0;34m)\u001b[0m\u001b[0;34m\u001b[0m\u001b[0;34m\u001b[0m\u001b[0m\n\u001b[0m",
      "\u001b[0;32m~/opt/anaconda3/lib/python3.8/site-packages/selenium/webdriver/remote/webelement.py\u001b[0m in \u001b[0;36mfind_element_by_tag_name\u001b[0;34m(self, name)\u001b[0m\n\u001b[1;32m    303\u001b[0m             \u001b[0melement\u001b[0m \u001b[0;34m=\u001b[0m \u001b[0melement\u001b[0m\u001b[0;34m.\u001b[0m\u001b[0mfind_element_by_tag_name\u001b[0m\u001b[0;34m(\u001b[0m\u001b[0;34m'h1'\u001b[0m\u001b[0;34m)\u001b[0m\u001b[0;34m\u001b[0m\u001b[0;34m\u001b[0m\u001b[0m\n\u001b[1;32m    304\u001b[0m         \"\"\"\n\u001b[0;32m--> 305\u001b[0;31m         \u001b[0;32mreturn\u001b[0m \u001b[0mself\u001b[0m\u001b[0;34m.\u001b[0m\u001b[0mfind_element\u001b[0m\u001b[0;34m(\u001b[0m\u001b[0mby\u001b[0m\u001b[0;34m=\u001b[0m\u001b[0mBy\u001b[0m\u001b[0;34m.\u001b[0m\u001b[0mTAG_NAME\u001b[0m\u001b[0;34m,\u001b[0m \u001b[0mvalue\u001b[0m\u001b[0;34m=\u001b[0m\u001b[0mname\u001b[0m\u001b[0;34m)\u001b[0m\u001b[0;34m\u001b[0m\u001b[0;34m\u001b[0m\u001b[0m\n\u001b[0m\u001b[1;32m    306\u001b[0m \u001b[0;34m\u001b[0m\u001b[0m\n\u001b[1;32m    307\u001b[0m     \u001b[0;32mdef\u001b[0m \u001b[0mfind_elements_by_tag_name\u001b[0m\u001b[0;34m(\u001b[0m\u001b[0mself\u001b[0m\u001b[0;34m,\u001b[0m \u001b[0mname\u001b[0m\u001b[0;34m)\u001b[0m\u001b[0;34m:\u001b[0m\u001b[0;34m\u001b[0m\u001b[0;34m\u001b[0m\u001b[0m\n",
      "\u001b[0;32m~/opt/anaconda3/lib/python3.8/site-packages/selenium/webdriver/remote/webelement.py\u001b[0m in \u001b[0;36mfind_element\u001b[0;34m(self, by, value)\u001b[0m\n\u001b[1;32m    656\u001b[0m                 \u001b[0mvalue\u001b[0m \u001b[0;34m=\u001b[0m \u001b[0;34m'[name=\"%s\"]'\u001b[0m \u001b[0;34m%\u001b[0m \u001b[0mvalue\u001b[0m\u001b[0;34m\u001b[0m\u001b[0;34m\u001b[0m\u001b[0m\n\u001b[1;32m    657\u001b[0m \u001b[0;34m\u001b[0m\u001b[0m\n\u001b[0;32m--> 658\u001b[0;31m         return self._execute(Command.FIND_CHILD_ELEMENT,\n\u001b[0m\u001b[1;32m    659\u001b[0m                              {\"using\": by, \"value\": value})['value']\n\u001b[1;32m    660\u001b[0m \u001b[0;34m\u001b[0m\u001b[0m\n",
      "\u001b[0;32m~/opt/anaconda3/lib/python3.8/site-packages/selenium/webdriver/remote/webelement.py\u001b[0m in \u001b[0;36m_execute\u001b[0;34m(self, command, params)\u001b[0m\n\u001b[1;32m    631\u001b[0m             \u001b[0mparams\u001b[0m \u001b[0;34m=\u001b[0m \u001b[0;34m{\u001b[0m\u001b[0;34m}\u001b[0m\u001b[0;34m\u001b[0m\u001b[0;34m\u001b[0m\u001b[0m\n\u001b[1;32m    632\u001b[0m         \u001b[0mparams\u001b[0m\u001b[0;34m[\u001b[0m\u001b[0;34m'id'\u001b[0m\u001b[0;34m]\u001b[0m \u001b[0;34m=\u001b[0m \u001b[0mself\u001b[0m\u001b[0;34m.\u001b[0m\u001b[0m_id\u001b[0m\u001b[0;34m\u001b[0m\u001b[0;34m\u001b[0m\u001b[0m\n\u001b[0;32m--> 633\u001b[0;31m         \u001b[0;32mreturn\u001b[0m \u001b[0mself\u001b[0m\u001b[0;34m.\u001b[0m\u001b[0m_parent\u001b[0m\u001b[0;34m.\u001b[0m\u001b[0mexecute\u001b[0m\u001b[0;34m(\u001b[0m\u001b[0mcommand\u001b[0m\u001b[0;34m,\u001b[0m \u001b[0mparams\u001b[0m\u001b[0;34m)\u001b[0m\u001b[0;34m\u001b[0m\u001b[0;34m\u001b[0m\u001b[0m\n\u001b[0m\u001b[1;32m    634\u001b[0m \u001b[0;34m\u001b[0m\u001b[0m\n\u001b[1;32m    635\u001b[0m     \u001b[0;32mdef\u001b[0m \u001b[0mfind_element\u001b[0m\u001b[0;34m(\u001b[0m\u001b[0mself\u001b[0m\u001b[0;34m,\u001b[0m \u001b[0mby\u001b[0m\u001b[0;34m=\u001b[0m\u001b[0mBy\u001b[0m\u001b[0;34m.\u001b[0m\u001b[0mID\u001b[0m\u001b[0;34m,\u001b[0m \u001b[0mvalue\u001b[0m\u001b[0;34m=\u001b[0m\u001b[0;32mNone\u001b[0m\u001b[0;34m)\u001b[0m\u001b[0;34m:\u001b[0m\u001b[0;34m\u001b[0m\u001b[0;34m\u001b[0m\u001b[0m\n",
      "\u001b[0;32m~/opt/anaconda3/lib/python3.8/site-packages/selenium/webdriver/remote/webdriver.py\u001b[0m in \u001b[0;36mexecute\u001b[0;34m(self, driver_command, params)\u001b[0m\n\u001b[1;32m    319\u001b[0m         \u001b[0mresponse\u001b[0m \u001b[0;34m=\u001b[0m \u001b[0mself\u001b[0m\u001b[0;34m.\u001b[0m\u001b[0mcommand_executor\u001b[0m\u001b[0;34m.\u001b[0m\u001b[0mexecute\u001b[0m\u001b[0;34m(\u001b[0m\u001b[0mdriver_command\u001b[0m\u001b[0;34m,\u001b[0m \u001b[0mparams\u001b[0m\u001b[0;34m)\u001b[0m\u001b[0;34m\u001b[0m\u001b[0;34m\u001b[0m\u001b[0m\n\u001b[1;32m    320\u001b[0m         \u001b[0;32mif\u001b[0m \u001b[0mresponse\u001b[0m\u001b[0;34m:\u001b[0m\u001b[0;34m\u001b[0m\u001b[0;34m\u001b[0m\u001b[0m\n\u001b[0;32m--> 321\u001b[0;31m             \u001b[0mself\u001b[0m\u001b[0;34m.\u001b[0m\u001b[0merror_handler\u001b[0m\u001b[0;34m.\u001b[0m\u001b[0mcheck_response\u001b[0m\u001b[0;34m(\u001b[0m\u001b[0mresponse\u001b[0m\u001b[0;34m)\u001b[0m\u001b[0;34m\u001b[0m\u001b[0;34m\u001b[0m\u001b[0m\n\u001b[0m\u001b[1;32m    322\u001b[0m             response['value'] = self._unwrap_value(\n\u001b[1;32m    323\u001b[0m                 response.get('value', None))\n",
      "\u001b[0;32m~/opt/anaconda3/lib/python3.8/site-packages/selenium/webdriver/remote/errorhandler.py\u001b[0m in \u001b[0;36mcheck_response\u001b[0;34m(self, response)\u001b[0m\n\u001b[1;32m    240\u001b[0m                 \u001b[0malert_text\u001b[0m \u001b[0;34m=\u001b[0m \u001b[0mvalue\u001b[0m\u001b[0;34m[\u001b[0m\u001b[0;34m'alert'\u001b[0m\u001b[0;34m]\u001b[0m\u001b[0;34m.\u001b[0m\u001b[0mget\u001b[0m\u001b[0;34m(\u001b[0m\u001b[0;34m'text'\u001b[0m\u001b[0;34m)\u001b[0m\u001b[0;34m\u001b[0m\u001b[0;34m\u001b[0m\u001b[0m\n\u001b[1;32m    241\u001b[0m             \u001b[0;32mraise\u001b[0m \u001b[0mexception_class\u001b[0m\u001b[0;34m(\u001b[0m\u001b[0mmessage\u001b[0m\u001b[0;34m,\u001b[0m \u001b[0mscreen\u001b[0m\u001b[0;34m,\u001b[0m \u001b[0mstacktrace\u001b[0m\u001b[0;34m,\u001b[0m \u001b[0malert_text\u001b[0m\u001b[0;34m)\u001b[0m\u001b[0;34m\u001b[0m\u001b[0;34m\u001b[0m\u001b[0m\n\u001b[0;32m--> 242\u001b[0;31m         \u001b[0;32mraise\u001b[0m \u001b[0mexception_class\u001b[0m\u001b[0;34m(\u001b[0m\u001b[0mmessage\u001b[0m\u001b[0;34m,\u001b[0m \u001b[0mscreen\u001b[0m\u001b[0;34m,\u001b[0m \u001b[0mstacktrace\u001b[0m\u001b[0;34m)\u001b[0m\u001b[0;34m\u001b[0m\u001b[0;34m\u001b[0m\u001b[0m\n\u001b[0m\u001b[1;32m    243\u001b[0m \u001b[0;34m\u001b[0m\u001b[0m\n\u001b[1;32m    244\u001b[0m     \u001b[0;32mdef\u001b[0m \u001b[0m_value_or_default\u001b[0m\u001b[0;34m(\u001b[0m\u001b[0mself\u001b[0m\u001b[0;34m,\u001b[0m \u001b[0mobj\u001b[0m\u001b[0;34m,\u001b[0m \u001b[0mkey\u001b[0m\u001b[0;34m,\u001b[0m \u001b[0mdefault\u001b[0m\u001b[0;34m)\u001b[0m\u001b[0;34m:\u001b[0m\u001b[0;34m\u001b[0m\u001b[0;34m\u001b[0m\u001b[0m\n",
      "\u001b[0;31mNoSuchWindowException\u001b[0m: Message: no such window: target window already closed\nfrom unknown error: web view not found\n  (Session info: chrome=102.0.5005.115)\n"
     ]
    }
   ],
   "source": [
    "smth.find_element_by_tag_name(\"a\")"
   ]
  },
  {
   "cell_type": "code",
   "execution_count": null,
   "metadata": {},
   "outputs": [],
   "source": []
  }
 ],
 "metadata": {
  "kernelspec": {
   "display_name": "Python 3",
   "language": "python",
   "name": "python3"
  },
  "language_info": {
   "codemirror_mode": {
    "name": "ipython",
    "version": 3
   },
   "file_extension": ".py",
   "mimetype": "text/x-python",
   "name": "python",
   "nbconvert_exporter": "python",
   "pygments_lexer": "ipython3",
   "version": "3.8.3"
  }
 },
 "nbformat": 4,
 "nbformat_minor": 4
}
