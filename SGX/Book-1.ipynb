{
 "cells": [
  {
   "cell_type": "code",
   "execution_count": 1,
   "metadata": {},
   "outputs": [
    {
     "data": {
      "text/plain": [
       "<selenium.webdriver.remote.webelement.WebElement (session=\"54e20be867546cfae230dd2ef14a9679\", element=\"7f8e7af0-17cc-4212-851f-574cb4cd3847\")>"
      ]
     },
     "execution_count": 1,
     "metadata": {},
     "output_type": "execute_result"
    }
   ],
   "source": [
    "from selenium import webdriver\n",
    "from selenium.webdriver.support.ui import WebDriverWait\n",
    "from selenium.webdriver.common.by import By\n",
    "from selenium.webdriver.support import expected_conditions as EC\n",
    "\n",
    "url = \"https://www.sgx.com/securities/company-announcements?value=JARDINE%20MATHESON%20HLDGS%20LTD&type=company\"+\"&pagesize=100\"\n",
    "\n",
    "driver = webdriver.Chrome()\n",
    "driver.get(url)\n",
    "\n",
    "wait  = lambda x: WebDriverWait(driver, x)\n",
    "\n",
    "wait(10).until(EC.presence_of_element_located((By.TAG_NAME, 'table')))\n"
   ]
  },
  {
   "cell_type": "code",
   "execution_count": 2,
   "metadata": {},
   "outputs": [],
   "source": [
    "def get_all_rows(driver):\n",
    "    try:\n",
    "        rows = driver.find_elements_by_tag_name(\"table\")[0].find_elements_by_tag_name(\"tbody\")[0].find_elements_by_tag_name(\"tr\")\n",
    "        return(rows)\n",
    "    except:\n",
    "        print(\"Table not found\")\n",
    "        return None\n",
    "    \n",
    "def get_title_link(row):\n",
    "    element =  row.find_elements_by_tag_name(\"td\")[3]\n",
    "    try:\n",
    "        return element.find_elements_by_tag_name(\"a\")[0].get_attribute(\"href\")\n",
    "    except:\n",
    "        print(\"No tag found\")\n",
    "        return None\n",
    "\n",
    "def explore_link(newDriver,link):\n",
    "    newDriver.get(link)\n"
   ]
  },
  {
   "cell_type": "code",
   "execution_count": 3,
   "metadata": {},
   "outputs": [],
   "source": [
    "rows = get_all_rows(driver)\n",
    "\n"
   ]
  },
  {
   "cell_type": "code",
   "execution_count": 4,
   "metadata": {},
   "outputs": [
    {
     "name": "stdout",
     "output_type": "stream",
     "text": [
      "https://links.sgx.com/1.0.0/corporate-announcements/HM31C8F25ZJUY6DO/b6cb539a76cd8395f3fa7d1d94f41804995106da5cd6f50776eef9966dba45ec\n",
      "Explored-Fam\n",
      "https://links.sgx.com/1.0.0/corporate-announcements/94F35UQJKUDS9O0M/796c027a2e1d3c82ce3f1eb955d029b7f2cded6c19fb94a41b480337e7a6a9c4\n",
      "Explored-Fam\n",
      "https://links.sgx.com/1.0.0/corporate-announcements/B1GG86HMV5P1XK97/745e803542765d2e9c1ffedec219315e79510d65c77786d6d8a7f006ca470f13\n",
      "Explored-Fam\n",
      "https://links.sgx.com/1.0.0/corporate-announcements/UOWFQGJAAPO6A6JX/76c1602e050593a8a3ff3e3bd6e16191350222b96b95293819d470b68b487423\n",
      "Explored-Fam\n",
      "https://links.sgx.com/1.0.0/corporate-announcements/0U85F8P5NET6IIA3/1be0242c9ff06ffdf1312118df58d7cd7c8bbfb5edb5554f9ca68147f740f38c\n",
      "Explored-Fam\n",
      "https://links.sgx.com/1.0.0/corporate-announcements/G896H1CVS7KKVNS7/456c80f3f166c9cdf985674191ff9607d2a14bfd9abe5639d97eb9bc2bb021d8\n",
      "Explored-Fam\n",
      "https://links.sgx.com/1.0.0/corporate-announcements/TCVEWRZ8LZ7Q66CL/4fd0a400c2810552c775acd4163a20bba3b5512f8f2a71f2971a965fd7df925b\n",
      "Explored-Fam\n",
      "https://links.sgx.com/1.0.0/corporate-announcements/PA20GS8UG03HZEOZ/3698f92ca454a2a56550d067b69c0aeb5af8a7b9a4358586e46e8011bf971f8d\n",
      "Explored-Fam\n",
      "https://links.sgx.com/1.0.0/corporate-announcements/5IGDOWTJII2LRU13/e66156fb2b6519ab93c1f68fc30b922109b2ab5af54b03fb1f7726288024539f\n",
      "Explored-Fam\n",
      "https://links.sgx.com/1.0.0/corporate-announcements/Y34LF8SVYL3HWY7R/84947175c0cb333fafa875b8dad76aec24f5adf848a09e8c8e6627b095c400cd\n",
      "Explored-Fam\n"
     ]
    }
   ],
   "source": [
    "i = 0\n",
    "\n",
    "newDriver = webdriver.Chrome()\n",
    "for row in rows:\n",
    "    link = get_title_link(row)\n",
    "    print(link)\n",
    "    explore_link(newDriver, link)\n",
    "    i+=1\n",
    "    if(i == 10):\n",
    "        break\n",
    "newDriver.quit()"
   ]
  },
  {
   "cell_type": "code",
   "execution_count": 5,
   "metadata": {},
   "outputs": [
    {
     "data": {
      "text/plain": [
       "[<selenium.webdriver.remote.webelement.WebElement (session=\"54e20be867546cfae230dd2ef14a9679\", element=\"d71ec2d0-0b1b-44f1-9e9c-9fddba34ae04\")>,\n",
       " <selenium.webdriver.remote.webelement.WebElement (session=\"54e20be867546cfae230dd2ef14a9679\", element=\"9fae41fc-d093-4072-9502-b6834a73956a\")>,\n",
       " <selenium.webdriver.remote.webelement.WebElement (session=\"54e20be867546cfae230dd2ef14a9679\", element=\"47afb825-f6b9-4804-b873-2bd7b7970ec1\")>,\n",
       " <selenium.webdriver.remote.webelement.WebElement (session=\"54e20be867546cfae230dd2ef14a9679\", element=\"d749e39b-ed73-4b61-92db-05a229f57d38\")>,\n",
       " <selenium.webdriver.remote.webelement.WebElement (session=\"54e20be867546cfae230dd2ef14a9679\", element=\"47c96e3c-763c-484b-b20f-7bb848416d91\")>,\n",
       " <selenium.webdriver.remote.webelement.WebElement (session=\"54e20be867546cfae230dd2ef14a9679\", element=\"9f89be3b-c1c5-4262-9051-b9bf0bb79cec\")>,\n",
       " <selenium.webdriver.remote.webelement.WebElement (session=\"54e20be867546cfae230dd2ef14a9679\", element=\"42c95421-fda4-4d01-b82e-7bf23092bd02\")>,\n",
       " <selenium.webdriver.remote.webelement.WebElement (session=\"54e20be867546cfae230dd2ef14a9679\", element=\"69a876c3-6147-42cd-8a2b-831bf0ad1f44\")>,\n",
       " <selenium.webdriver.remote.webelement.WebElement (session=\"54e20be867546cfae230dd2ef14a9679\", element=\"f7ec1c43-f913-4122-8597-2c1b95975b05\")>,\n",
       " <selenium.webdriver.remote.webelement.WebElement (session=\"54e20be867546cfae230dd2ef14a9679\", element=\"b6e1ddb1-5fc6-4a25-b851-9301fc7197e0\")>,\n",
       " <selenium.webdriver.remote.webelement.WebElement (session=\"54e20be867546cfae230dd2ef14a9679\", element=\"e3920ff8-f101-4794-a12d-5bacb8b76d03\")>,\n",
       " <selenium.webdriver.remote.webelement.WebElement (session=\"54e20be867546cfae230dd2ef14a9679\", element=\"b82038b7-9f66-498e-893b-8aba728ee588\")>,\n",
       " <selenium.webdriver.remote.webelement.WebElement (session=\"54e20be867546cfae230dd2ef14a9679\", element=\"3879cc4c-166c-435d-8731-f70ced36a4cc\")>,\n",
       " <selenium.webdriver.remote.webelement.WebElement (session=\"54e20be867546cfae230dd2ef14a9679\", element=\"e6772a46-a22a-42bc-8ca1-1d640e8812ae\")>,\n",
       " <selenium.webdriver.remote.webelement.WebElement (session=\"54e20be867546cfae230dd2ef14a9679\", element=\"e7cfb766-f61d-4ad3-8ad2-54972c316917\")>,\n",
       " <selenium.webdriver.remote.webelement.WebElement (session=\"54e20be867546cfae230dd2ef14a9679\", element=\"3fc116ca-1b0d-47d5-83a6-01d9a8391d41\")>,\n",
       " <selenium.webdriver.remote.webelement.WebElement (session=\"54e20be867546cfae230dd2ef14a9679\", element=\"ad181a18-ccfe-4422-aff8-77d7271ff08c\")>,\n",
       " <selenium.webdriver.remote.webelement.WebElement (session=\"54e20be867546cfae230dd2ef14a9679\", element=\"fac405eb-7c55-49c9-8225-3603d9734d5f\")>,\n",
       " <selenium.webdriver.remote.webelement.WebElement (session=\"54e20be867546cfae230dd2ef14a9679\", element=\"341ea171-1109-4f9e-9ca7-fc0f4e3b7534\")>,\n",
       " <selenium.webdriver.remote.webelement.WebElement (session=\"54e20be867546cfae230dd2ef14a9679\", element=\"84dd9b3f-6554-42bb-a1d3-02eda1f00965\")>,\n",
       " <selenium.webdriver.remote.webelement.WebElement (session=\"54e20be867546cfae230dd2ef14a9679\", element=\"b577f3f7-d048-404a-9e63-33c16cda1d1f\")>,\n",
       " <selenium.webdriver.remote.webelement.WebElement (session=\"54e20be867546cfae230dd2ef14a9679\", element=\"9dc3b91f-eca9-4c68-9471-6b49ded4124e\")>,\n",
       " <selenium.webdriver.remote.webelement.WebElement (session=\"54e20be867546cfae230dd2ef14a9679\", element=\"4cc8cf46-369f-4dfd-808a-2c4ffc41fae9\")>,\n",
       " <selenium.webdriver.remote.webelement.WebElement (session=\"54e20be867546cfae230dd2ef14a9679\", element=\"efbd6243-f1df-44df-bb6e-69694a8015d7\")>,\n",
       " <selenium.webdriver.remote.webelement.WebElement (session=\"54e20be867546cfae230dd2ef14a9679\", element=\"f2319d5a-d43a-45d3-a25c-3eeeed91fdbe\")>,\n",
       " <selenium.webdriver.remote.webelement.WebElement (session=\"54e20be867546cfae230dd2ef14a9679\", element=\"7bf414b0-26c1-44ff-bf4f-8555fe32cd10\")>,\n",
       " <selenium.webdriver.remote.webelement.WebElement (session=\"54e20be867546cfae230dd2ef14a9679\", element=\"332d35d7-992c-48b4-a2e1-5e4749989a80\")>,\n",
       " <selenium.webdriver.remote.webelement.WebElement (session=\"54e20be867546cfae230dd2ef14a9679\", element=\"cdfc1796-9dfd-4bb7-80e3-15a75cc0d8b8\")>,\n",
       " <selenium.webdriver.remote.webelement.WebElement (session=\"54e20be867546cfae230dd2ef14a9679\", element=\"5b64554f-611e-43a4-8a4b-6916cb7724a7\")>,\n",
       " <selenium.webdriver.remote.webelement.WebElement (session=\"54e20be867546cfae230dd2ef14a9679\", element=\"c5976820-9a4d-458e-8b8a-da1b2ee1e9f9\")>,\n",
       " <selenium.webdriver.remote.webelement.WebElement (session=\"54e20be867546cfae230dd2ef14a9679\", element=\"9195538b-b561-444f-bbe0-02cb3c1ec1bd\")>,\n",
       " <selenium.webdriver.remote.webelement.WebElement (session=\"54e20be867546cfae230dd2ef14a9679\", element=\"e989e7e9-b0c7-4a16-9314-0af0ef91d84c\")>,\n",
       " <selenium.webdriver.remote.webelement.WebElement (session=\"54e20be867546cfae230dd2ef14a9679\", element=\"11c37f26-9b9b-47ee-9c1e-8eb2e2a9da09\")>,\n",
       " <selenium.webdriver.remote.webelement.WebElement (session=\"54e20be867546cfae230dd2ef14a9679\", element=\"3b644349-f9e4-47a4-bf82-fd5c5db690ac\")>,\n",
       " <selenium.webdriver.remote.webelement.WebElement (session=\"54e20be867546cfae230dd2ef14a9679\", element=\"13256151-9691-4896-a39a-a526c983c401\")>,\n",
       " <selenium.webdriver.remote.webelement.WebElement (session=\"54e20be867546cfae230dd2ef14a9679\", element=\"da5c8efe-abc2-4e83-a1d4-7118ab585a0b\")>,\n",
       " <selenium.webdriver.remote.webelement.WebElement (session=\"54e20be867546cfae230dd2ef14a9679\", element=\"699f6254-cfb6-4af5-8571-367eea4f3470\")>,\n",
       " <selenium.webdriver.remote.webelement.WebElement (session=\"54e20be867546cfae230dd2ef14a9679\", element=\"7e3fc4b1-4277-4cf9-acf1-17f30081b349\")>,\n",
       " <selenium.webdriver.remote.webelement.WebElement (session=\"54e20be867546cfae230dd2ef14a9679\", element=\"80d2669f-023e-4d2f-a44c-0eb0452eb391\")>,\n",
       " <selenium.webdriver.remote.webelement.WebElement (session=\"54e20be867546cfae230dd2ef14a9679\", element=\"827fbd49-2fa7-4e17-a94a-2f770a3d59df\")>,\n",
       " <selenium.webdriver.remote.webelement.WebElement (session=\"54e20be867546cfae230dd2ef14a9679\", element=\"24ae3b5f-e4a7-4d89-8d21-474120618550\")>,\n",
       " <selenium.webdriver.remote.webelement.WebElement (session=\"54e20be867546cfae230dd2ef14a9679\", element=\"a3890517-d94c-4434-81ec-cdf85a1466d3\")>,\n",
       " <selenium.webdriver.remote.webelement.WebElement (session=\"54e20be867546cfae230dd2ef14a9679\", element=\"a51a392d-fb40-416e-abaa-169c1baeebd6\")>,\n",
       " <selenium.webdriver.remote.webelement.WebElement (session=\"54e20be867546cfae230dd2ef14a9679\", element=\"f63af0c1-8b5a-4268-9bf4-b639d8e82cb0\")>,\n",
       " <selenium.webdriver.remote.webelement.WebElement (session=\"54e20be867546cfae230dd2ef14a9679\", element=\"8490483f-ff88-4e20-94cc-9ecfc07e3f00\")>,\n",
       " <selenium.webdriver.remote.webelement.WebElement (session=\"54e20be867546cfae230dd2ef14a9679\", element=\"7ac7eaf0-2434-4122-be28-9c2d2a6d67b0\")>,\n",
       " <selenium.webdriver.remote.webelement.WebElement (session=\"54e20be867546cfae230dd2ef14a9679\", element=\"e632bc74-7368-4b15-8b1c-ba375cd26cab\")>,\n",
       " <selenium.webdriver.remote.webelement.WebElement (session=\"54e20be867546cfae230dd2ef14a9679\", element=\"5add9774-6bc7-4aac-b95a-bf7bb3045f82\")>,\n",
       " <selenium.webdriver.remote.webelement.WebElement (session=\"54e20be867546cfae230dd2ef14a9679\", element=\"fc1e87b5-f356-4486-86c5-2a2c2728e79e\")>,\n",
       " <selenium.webdriver.remote.webelement.WebElement (session=\"54e20be867546cfae230dd2ef14a9679\", element=\"35303e34-d7f1-4453-aebd-0bdd00b5a2f3\")>,\n",
       " <selenium.webdriver.remote.webelement.WebElement (session=\"54e20be867546cfae230dd2ef14a9679\", element=\"cb08bfeb-c190-44be-a5a7-c92af30d8625\")>,\n",
       " <selenium.webdriver.remote.webelement.WebElement (session=\"54e20be867546cfae230dd2ef14a9679\", element=\"2c208852-9aa6-4dc7-9dfc-d60a95cf5173\")>,\n",
       " <selenium.webdriver.remote.webelement.WebElement (session=\"54e20be867546cfae230dd2ef14a9679\", element=\"c20b8405-2132-4cea-8522-d7ad1dc1f3ce\")>,\n",
       " <selenium.webdriver.remote.webelement.WebElement (session=\"54e20be867546cfae230dd2ef14a9679\", element=\"8e2f2533-0b2e-4670-918f-5c83ffb07aac\")>,\n",
       " <selenium.webdriver.remote.webelement.WebElement (session=\"54e20be867546cfae230dd2ef14a9679\", element=\"f78d0202-a3f0-49ca-9bb8-9fda9ff3dc06\")>,\n",
       " <selenium.webdriver.remote.webelement.WebElement (session=\"54e20be867546cfae230dd2ef14a9679\", element=\"a23fcd74-ca11-48a6-9c96-d8b336e638e9\")>,\n",
       " <selenium.webdriver.remote.webelement.WebElement (session=\"54e20be867546cfae230dd2ef14a9679\", element=\"9f307b5a-eb10-4938-85a5-701bdd0a6029\")>,\n",
       " <selenium.webdriver.remote.webelement.WebElement (session=\"54e20be867546cfae230dd2ef14a9679\", element=\"83525063-2165-47bb-b899-eabe1e6dc423\")>,\n",
       " <selenium.webdriver.remote.webelement.WebElement (session=\"54e20be867546cfae230dd2ef14a9679\", element=\"2038594f-aa2f-4923-93fe-462593aaa62a\")>,\n",
       " <selenium.webdriver.remote.webelement.WebElement (session=\"54e20be867546cfae230dd2ef14a9679\", element=\"46157607-4a44-4eb7-a532-c280df5b2980\")>,\n",
       " <selenium.webdriver.remote.webelement.WebElement (session=\"54e20be867546cfae230dd2ef14a9679\", element=\"c1f94aa1-6383-461c-98d8-782224e3cf21\")>,\n",
       " <selenium.webdriver.remote.webelement.WebElement (session=\"54e20be867546cfae230dd2ef14a9679\", element=\"7835d584-e561-429c-981d-d372a342ad64\")>,\n",
       " <selenium.webdriver.remote.webelement.WebElement (session=\"54e20be867546cfae230dd2ef14a9679\", element=\"26dbb45d-f9e0-4b99-8c35-7fddea7bc640\")>,\n",
       " <selenium.webdriver.remote.webelement.WebElement (session=\"54e20be867546cfae230dd2ef14a9679\", element=\"750b656d-6ce0-41a5-b2b9-749b3d1760ee\")>,\n",
       " <selenium.webdriver.remote.webelement.WebElement (session=\"54e20be867546cfae230dd2ef14a9679\", element=\"25768b85-e334-47c3-8e2b-f46af9cee447\")>,\n",
       " <selenium.webdriver.remote.webelement.WebElement (session=\"54e20be867546cfae230dd2ef14a9679\", element=\"6c657c60-ec36-4156-9815-80f4be76e641\")>,\n",
       " <selenium.webdriver.remote.webelement.WebElement (session=\"54e20be867546cfae230dd2ef14a9679\", element=\"8dc95c77-6c5d-4952-a6b8-f30915b4a8fe\")>,\n",
       " <selenium.webdriver.remote.webelement.WebElement (session=\"54e20be867546cfae230dd2ef14a9679\", element=\"6a5f944d-c35e-4035-834b-e537f912a9e1\")>,\n",
       " <selenium.webdriver.remote.webelement.WebElement (session=\"54e20be867546cfae230dd2ef14a9679\", element=\"bad5d596-6ac9-4f0a-8ac5-546ba379534e\")>,\n",
       " <selenium.webdriver.remote.webelement.WebElement (session=\"54e20be867546cfae230dd2ef14a9679\", element=\"0d621c2b-d72c-478c-8ffd-8a0c358d8e31\")>,\n",
       " <selenium.webdriver.remote.webelement.WebElement (session=\"54e20be867546cfae230dd2ef14a9679\", element=\"c09592bc-0b67-42b4-bd0a-fafefc8f44fc\")>,\n",
       " <selenium.webdriver.remote.webelement.WebElement (session=\"54e20be867546cfae230dd2ef14a9679\", element=\"9daead79-8414-4817-8d60-5b6b5341e1c3\")>,\n",
       " <selenium.webdriver.remote.webelement.WebElement (session=\"54e20be867546cfae230dd2ef14a9679\", element=\"5708fada-9057-46de-bee2-3e92e9a13f21\")>,\n",
       " <selenium.webdriver.remote.webelement.WebElement (session=\"54e20be867546cfae230dd2ef14a9679\", element=\"07641f2c-ebc7-4df8-a797-a2cb40a8f0f8\")>,\n",
       " <selenium.webdriver.remote.webelement.WebElement (session=\"54e20be867546cfae230dd2ef14a9679\", element=\"253f6b0b-469a-42f3-9532-747f36dabb00\")>,\n",
       " <selenium.webdriver.remote.webelement.WebElement (session=\"54e20be867546cfae230dd2ef14a9679\", element=\"15d348d6-52c7-4cc8-aab0-19c176ff8c18\")>,\n",
       " <selenium.webdriver.remote.webelement.WebElement (session=\"54e20be867546cfae230dd2ef14a9679\", element=\"8bb12ae2-6959-48cc-b9c5-cff4721f1c97\")>,\n",
       " <selenium.webdriver.remote.webelement.WebElement (session=\"54e20be867546cfae230dd2ef14a9679\", element=\"93a5648d-7602-4ba5-b5c5-0e001ab779c3\")>,\n",
       " <selenium.webdriver.remote.webelement.WebElement (session=\"54e20be867546cfae230dd2ef14a9679\", element=\"f677f435-dbb0-4672-88c9-213576e56f14\")>,\n",
       " <selenium.webdriver.remote.webelement.WebElement (session=\"54e20be867546cfae230dd2ef14a9679\", element=\"19dd644e-d475-4b46-9deb-90f1e20a6198\")>,\n",
       " <selenium.webdriver.remote.webelement.WebElement (session=\"54e20be867546cfae230dd2ef14a9679\", element=\"ee8a8d8d-7228-49b1-ab7f-2e5a3ceea28d\")>,\n",
       " <selenium.webdriver.remote.webelement.WebElement (session=\"54e20be867546cfae230dd2ef14a9679\", element=\"7a454eaf-8169-4bbd-8610-4dce9db79c2b\")>,\n",
       " <selenium.webdriver.remote.webelement.WebElement (session=\"54e20be867546cfae230dd2ef14a9679\", element=\"c4c3b21c-6ee1-4498-9939-4ef4a26d8a39\")>,\n",
       " <selenium.webdriver.remote.webelement.WebElement (session=\"54e20be867546cfae230dd2ef14a9679\", element=\"f5b5f4ea-2d11-47c0-8e28-794c8a32e948\")>,\n",
       " <selenium.webdriver.remote.webelement.WebElement (session=\"54e20be867546cfae230dd2ef14a9679\", element=\"abb3d6b8-3344-4e12-9228-86fa56450e51\")>,\n",
       " <selenium.webdriver.remote.webelement.WebElement (session=\"54e20be867546cfae230dd2ef14a9679\", element=\"a786d1e3-6d01-44e1-a8d2-62612460b238\")>,\n",
       " <selenium.webdriver.remote.webelement.WebElement (session=\"54e20be867546cfae230dd2ef14a9679\", element=\"5d517ecd-cf71-4589-bb0b-e2085e4b0937\")>,\n",
       " <selenium.webdriver.remote.webelement.WebElement (session=\"54e20be867546cfae230dd2ef14a9679\", element=\"eaa3fb5c-9cb1-4826-95d4-676abdff1bb9\")>,\n",
       " <selenium.webdriver.remote.webelement.WebElement (session=\"54e20be867546cfae230dd2ef14a9679\", element=\"5be9a140-9594-4775-8ed8-77e8a9fb753e\")>,\n",
       " <selenium.webdriver.remote.webelement.WebElement (session=\"54e20be867546cfae230dd2ef14a9679\", element=\"09318f90-f7e2-44a7-8d76-7559c968d3a2\")>,\n",
       " <selenium.webdriver.remote.webelement.WebElement (session=\"54e20be867546cfae230dd2ef14a9679\", element=\"56d9d753-22f5-4429-84f8-f89c253f9ab7\")>,\n",
       " <selenium.webdriver.remote.webelement.WebElement (session=\"54e20be867546cfae230dd2ef14a9679\", element=\"b80ba26b-547c-4787-84ae-abc0a62a33ec\")>,\n",
       " <selenium.webdriver.remote.webelement.WebElement (session=\"54e20be867546cfae230dd2ef14a9679\", element=\"342b7a5a-d657-4b2c-998c-b4ece2016f82\")>,\n",
       " <selenium.webdriver.remote.webelement.WebElement (session=\"54e20be867546cfae230dd2ef14a9679\", element=\"dfb2394d-efc7-4ac5-a66b-aea58160b5a7\")>,\n",
       " <selenium.webdriver.remote.webelement.WebElement (session=\"54e20be867546cfae230dd2ef14a9679\", element=\"f546f048-15ed-463c-83ee-5e03092d11f8\")>,\n",
       " <selenium.webdriver.remote.webelement.WebElement (session=\"54e20be867546cfae230dd2ef14a9679\", element=\"907511ab-d18c-4550-817d-81d671b0767e\")>,\n",
       " <selenium.webdriver.remote.webelement.WebElement (session=\"54e20be867546cfae230dd2ef14a9679\", element=\"33a2d25c-67ad-4e55-872e-afe20f44462c\")>,\n",
       " <selenium.webdriver.remote.webelement.WebElement (session=\"54e20be867546cfae230dd2ef14a9679\", element=\"02fa3cff-9570-4784-a634-b0c5b2c85ee5\")>,\n",
       " <selenium.webdriver.remote.webelement.WebElement (session=\"54e20be867546cfae230dd2ef14a9679\", element=\"14be9984-c15a-4f90-b835-bdfb533240e5\")>,\n",
       " <selenium.webdriver.remote.webelement.WebElement (session=\"54e20be867546cfae230dd2ef14a9679\", element=\"95eca34d-41a2-4c40-8fb8-8d88bfc23d92\")>]"
      ]
     },
     "execution_count": 5,
     "metadata": {},
     "output_type": "execute_result"
    }
   ],
   "source": [
    "rows"
   ]
  },
  {
   "cell_type": "code",
   "execution_count": null,
   "metadata": {},
   "outputs": [],
   "source": []
  }
 ],
 "metadata": {
  "kernelspec": {
   "display_name": "Python 3",
   "language": "python",
   "name": "python3"
  },
  "language_info": {
   "codemirror_mode": {
    "name": "ipython",
    "version": 3
   },
   "file_extension": ".py",
   "mimetype": "text/x-python",
   "name": "python",
   "nbconvert_exporter": "python",
   "pygments_lexer": "ipython3",
   "version": "3.8.3"
  }
 },
 "nbformat": 4,
 "nbformat_minor": 4
}
