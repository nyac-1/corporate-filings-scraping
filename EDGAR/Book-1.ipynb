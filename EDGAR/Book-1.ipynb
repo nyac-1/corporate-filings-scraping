{
 "cells": [
  {
   "cell_type": "code",
   "execution_count": 1,
   "metadata": {},
   "outputs": [],
   "source": [
    "from bs4 import BeautifulSoup, SoupStrainer\n",
    "import requests\n",
    "import pandas as pd\n",
    "import re\n",
    "\n",
    "company = \"Facebook Inc\"\n",
    "year = 2016\n",
    "quarter = \"QTR1\"\n",
    "\n",
    "data = {\n",
    "            \"year\":[i for i in range(2010,2022)],\n",
    "            \"quarter\": ['QTR2', 'QTR3', 'QTR4', 'QTR1']\n",
    "       }\n",
    "\n",
    "baseurl = \"https://www.sec.gov/Archives/\""
   ]
  },
  {
   "cell_type": "code",
   "execution_count": 2,
   "metadata": {},
   "outputs": [],
   "source": [
    "def get_fulllength_document(year, quarter):\n",
    "    headers = {\n",
    "        'User-Agent': 'yessir@MacLinuxWindows.pharrell',\n",
    "        'From': 'johndoe@gmail.com',\n",
    "    }\n",
    "\n",
    "    return requests.get(f'https://www.sec.gov/Archives/edgar/full-index/{year}/{quarter}/master.idx', headers = headers).content.decode(\"utf-8\").split(\"\\n\")\n",
    "\n",
    "def get_file(url):\n",
    "    headers = {\n",
    "        'User-Agent': 'yessir@MacLinuxWindows.pharrell',\n",
    "        'From': 'johndoe@gmail.com',\n",
    "    }\n",
    "\n",
    "    response = requests.get(modified_url, headers=headers).content.decode(\"utf-8\")\n",
    "    soup =  BeautifulSoup(response)\n",
    "    \n",
    "    highest_downloads = 0\n",
    "    download_link = None\n",
    "\n",
    "    for row in soup.table.find_all(\"tr\"):\n",
    "        link = row.a\n",
    "        if(link):\n",
    "            if(link.has_attr(\"href\") and row.find_all(\"td\")[1].text != \"\"):\n",
    "                if(\".htm\" in link['href']):\n",
    "                    try:\n",
    "                        downloads = int(row.find_all(\"td\")[1].text)\n",
    "                    except:\n",
    "                        continue\n",
    "                    if(downloads > highest_downloads):\n",
    "                        highest_downloads = downloads\n",
    "                        download_link = \"https://www.sec.gov\"+link['href']\n",
    "\n",
    "    return download_link"
   ]
  },
  {
   "cell_type": "code",
   "execution_count": 3,
   "metadata": {},
   "outputs": [],
   "source": [
    "download = get_fulllength_document(year, quarter)"
   ]
  },
  {
   "cell_type": "code",
   "execution_count": 4,
   "metadata": {},
   "outputs": [
    {
     "name": "stdout",
     "output_type": "stream",
     "text": [
      "https://www.sec.gov/Archives/edgar/data/1326801/000132680116000043\n",
      "https://www.sec.gov/Archives/edgar/data/1326801/000132680116000043/fb-12312015x10k.htm\n"
     ]
    }
   ],
   "source": [
    "for item in download:\n",
    "    if (company in item) and (\"10-K\" in item or \"10-Q\" in item):\n",
    "        url = item.split(\"|\")[-1]\n",
    "        modified_url = baseurl + \"\".join(url.split(\"-\")).replace(\".txt\",\"\")\n",
    "        print(get_file(modified_url))"
   ]
  },
  {
   "cell_type": "code",
   "execution_count": null,
   "metadata": {},
   "outputs": [],
   "source": []
  },
  {
   "cell_type": "code",
   "execution_count": null,
   "metadata": {},
   "outputs": [],
   "source": []
  }
 ],
 "metadata": {
  "kernelspec": {
   "display_name": "Python 3",
   "language": "python",
   "name": "python3"
  },
  "language_info": {
   "codemirror_mode": {
    "name": "ipython",
    "version": 3
   },
   "file_extension": ".py",
   "mimetype": "text/x-python",
   "name": "python",
   "nbconvert_exporter": "python",
   "pygments_lexer": "ipython3",
   "version": "3.8.3"
  }
 },
 "nbformat": 4,
 "nbformat_minor": 4
}
