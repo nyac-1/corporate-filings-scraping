{
  "nbformat": 4,
  "nbformat_minor": 0,
  "metadata": {
    "colab": {
      "provenance": [],
      "authorship_tag": "ABX9TyNwPgv/qC3Ha8yjonQPAeIW",
      "include_colab_link": true
    },
    "kernelspec": {
      "name": "python3",
      "display_name": "Python 3"
    },
    "language_info": {
      "name": "python"
    },
    "accelerator": "GPU",
    "gpuClass": "standard"
  },
  "cells": [
    {
      "cell_type": "markdown",
      "metadata": {
        "id": "view-in-github",
        "colab_type": "text"
      },
      "source": [
        "<a href=\"https://colab.research.google.com/github/nyac-1/corporate-filings-scraping/blob/main/ca_1.ipynb\" target=\"_parent\"><img src=\"https://colab.research.google.com/assets/colab-badge.svg\" alt=\"Open In Colab\"/></a>"
      ]
    },
    {
      "cell_type": "code",
      "execution_count": 1,
      "metadata": {
        "id": "lBBvAgZ414gW",
        "colab": {
          "base_uri": "https://localhost:8080/"
        },
        "outputId": "9bd67d13-e6ed-4ccb-a828-efc2ca9561b5"
      },
      "outputs": [
        {
          "output_type": "stream",
          "name": "stdout",
          "text": [
            "\u001b[?25l     \u001b[90m━━━━━━━━━━━━━━━━━━━━━━━━━━━━━━━━━━━━━━━━\u001b[0m \u001b[32m0.0/401.9 KB\u001b[0m \u001b[31m?\u001b[0m eta \u001b[36m-:--:--\u001b[0m\r\u001b[2K     \u001b[91m━━━━━━━━━━━━━━━━━━━━━━━━━━━━━━━\u001b[0m\u001b[91m╸\u001b[0m\u001b[90m━━━━━━━\u001b[0m \u001b[32m327.7/401.9 KB\u001b[0m \u001b[31m9.6 MB/s\u001b[0m eta \u001b[36m0:00:01\u001b[0m\r\u001b[2K     \u001b[90m━━━━━━━━━━━━━━━━━━━━━━━━━━━━━━━━━━━━━━━\u001b[0m \u001b[32m401.9/401.9 KB\u001b[0m \u001b[31m8.9 MB/s\u001b[0m eta \u001b[36m0:00:00\u001b[0m\n",
            "\u001b[?25h\u001b[?25l     \u001b[90m━━━━━━━━━━━━━━━━━━━━━━━━━━━━━━━━━━━━━━━━\u001b[0m \u001b[32m0.0/788.5 KB\u001b[0m \u001b[31m?\u001b[0m eta \u001b[36m-:--:--\u001b[0m\r\u001b[2K     \u001b[90m━━━━━━━━━━━━━━━━━━━━━━━━━━━━━━━━━━━━━━\u001b[0m \u001b[32m788.5/788.5 KB\u001b[0m \u001b[31m34.3 MB/s\u001b[0m eta \u001b[36m0:00:00\u001b[0m\n",
            "\u001b[?25h  Preparing metadata (setup.py) ... \u001b[?25l\u001b[?25hdone\n",
            "\u001b[2K     \u001b[90m━━━━━━━━━━━━━━━━━━━━━━━━━━━━━━━━━━━━━━\u001b[0m \u001b[32m981.5/981.5 KB\u001b[0m \u001b[31m68.8 MB/s\u001b[0m eta \u001b[36m0:00:00\u001b[0m\n",
            "\u001b[?25h  Preparing metadata (setup.py) ... \u001b[?25l\u001b[?25hdone\n",
            "\u001b[2K     \u001b[90m━━━━━━━━━━━━━━━━━━━━━━━━━━━━━━━━━━━━━━━━\u001b[0m \u001b[32m19.7/19.7 MB\u001b[0m \u001b[31m68.0 MB/s\u001b[0m eta \u001b[36m0:00:00\u001b[0m\n",
            "\u001b[2K     \u001b[90m━━━━━━━━━━━━━━━━━━━━━━━━━━━━━━━━━━━━━━━━\u001b[0m \u001b[32m53.1/53.1 KB\u001b[0m \u001b[31m4.4 MB/s\u001b[0m eta \u001b[36m0:00:00\u001b[0m\n",
            "\u001b[2K     \u001b[90m━━━━━━━━━━━━━━━━━━━━━━━━━━━━━━━━━━━━━━━━\u001b[0m \u001b[32m1.2/1.2 MB\u001b[0m \u001b[31m76.1 MB/s\u001b[0m eta \u001b[36m0:00:00\u001b[0m\n",
            "\u001b[2K     \u001b[90m━━━━━━━━━━━━━━━━━━━━━━━━━━━━━━━━━━━━━━\u001b[0m \u001b[32m190.3/190.3 KB\u001b[0m \u001b[31m24.7 MB/s\u001b[0m eta \u001b[36m0:00:00\u001b[0m\n",
            "\u001b[?25h  Preparing metadata (setup.py) ... \u001b[?25l\u001b[?25hdone\n",
            "  Preparing metadata (setup.py) ... \u001b[?25l\u001b[?25hdone\n",
            "\u001b[2K     \u001b[90m━━━━━━━━━━━━━━━━━━━━━━━━━━━━━━━━━━━━━━━━\u001b[0m \u001b[32m1.6/1.6 MB\u001b[0m \u001b[31m87.7 MB/s\u001b[0m eta \u001b[36m0:00:00\u001b[0m\n",
            "\u001b[2K     \u001b[90m━━━━━━━━━━━━━━━━━━━━━━━━━━━━━━━━━━━━━━━━\u001b[0m \u001b[32m6.3/6.3 MB\u001b[0m \u001b[31m112.7 MB/s\u001b[0m eta \u001b[36m0:00:00\u001b[0m\n",
            "\u001b[2K     \u001b[90m━━━━━━━━━━━━━━━━━━━━━━━━━━━━━━━━━━━━━━\u001b[0m \u001b[32m200.5/200.5 KB\u001b[0m \u001b[31m26.2 MB/s\u001b[0m eta \u001b[36m0:00:00\u001b[0m\n",
            "\u001b[?25h  Preparing metadata (setup.py) ... \u001b[?25l\u001b[?25hdone\n",
            "\u001b[2K     \u001b[90m━━━━━━━━━━━━━━━━━━━━━━━━━━━━━━━━━━━━━━━━\u001b[0m \u001b[32m7.6/7.6 MB\u001b[0m \u001b[31m61.5 MB/s\u001b[0m eta \u001b[36m0:00:00\u001b[0m\n",
            "\u001b[?25h  Building wheel for mpld3 (setup.py) ... \u001b[?25l\u001b[?25hdone\n",
            "  Building wheel for sqlitedict (setup.py) ... \u001b[?25l\u001b[?25hdone\n",
            "  Building wheel for langdetect (setup.py) ... \u001b[?25l\u001b[?25hdone\n",
            "  Building wheel for pptree (setup.py) ... \u001b[?25l\u001b[?25hdone\n",
            "  Building wheel for overrides (setup.py) ... \u001b[?25l\u001b[?25hdone\n",
            "\u001b[31mERROR: pip's dependency resolver does not currently take into account all the packages that are installed. This behaviour is the source of the following dependency conflicts.\n",
            "markdown 3.4.1 requires importlib-metadata>=4.4; python_version < \"3.10\", but you have importlib-metadata 3.10.1 which is incompatible.\n",
            "gym 0.25.2 requires importlib-metadata>=4.8.0; python_version < \"3.10\", but you have importlib-metadata 3.10.1 which is incompatible.\u001b[0m\u001b[31m\n",
            "\u001b[0m"
          ]
        }
      ],
      "source": [
        "!pip3 install -q flair"
      ]
    },
    {
      "cell_type": "code",
      "source": [
        "import torch\n",
        "import flair\n",
        "from flair.data import Corpus\n",
        "from flair.datasets import ColumnCorpus\n",
        "from flair.embeddings import WordEmbeddings, FlairEmbeddings, StackedEmbeddings\n",
        "from flair.models import SequenceTagger\n",
        "from flair.trainers import ModelTrainer"
      ],
      "metadata": {
        "id": "cZEYNcvK2Ae5"
      },
      "execution_count": 2,
      "outputs": []
    },
    {
      "cell_type": "code",
      "source": [
        "from google.colab import drive; drive.mount('/content/gdrive', force_remount=True)\n",
        "%cd '/content/gdrive/My Drive/Colab Notebooks'"
      ],
      "metadata": {
        "id": "ygc4e19P2Xwa",
        "colab": {
          "base_uri": "https://localhost:8080/"
        },
        "outputId": "1fed1010-91a8-4d24-cac3-0e76554d6b41"
      },
      "execution_count": 3,
      "outputs": [
        {
          "output_type": "stream",
          "name": "stdout",
          "text": [
            "Mounted at /content/gdrive\n",
            "/content/gdrive/My Drive/Colab Notebooks\n"
          ]
        }
      ]
    },
    {
      "cell_type": "code",
      "source": [
        "path = \"/content/gdrive/My Drive/rsc/data_conll.txt\"\n"
      ],
      "metadata": {
        "id": "plrr67Yx3TBF"
      },
      "execution_count": 4,
      "outputs": []
    },
    {
      "cell_type": "code",
      "source": [
        "#1\n",
        "from flair.embeddings import WordEmbeddings, FlairEmbeddings, StackedEmbeddings\n",
        "from flair.models import SequenceTagger\n",
        "from flair.trainers import ModelTrainer\n",
        "\n",
        "columns = {0: 'text', 1: 'ner'}\n",
        "corpus: Corpus = ColumnCorpus('.', columns, train_file=path)"
      ],
      "metadata": {
        "colab": {
          "base_uri": "https://localhost:8080/"
        },
        "id": "QMh-GmeG3v7O",
        "outputId": "b94fbf9b-ac36-46b1-9568-f7aa9604f1bd"
      },
      "execution_count": 9,
      "outputs": [
        {
          "output_type": "stream",
          "name": "stdout",
          "text": [
            "2023-02-24 05:24:40,015 Reading data from .\n",
            "2023-02-24 05:24:40,016 Train: /content/gdrive/My Drive/rsc/data_conll.txt\n",
            "2023-02-24 05:24:40,019 Dev: None\n",
            "2023-02-24 05:24:40,020 Test: None\n"
          ]
        }
      ]
    },
    {
      "cell_type": "code",
      "source": [
        "#2\n",
        "label_type = 'ner'\n",
        "\n",
        "# 3. make the label dictionary from the corpus\n",
        "label_dict = corpus.make_label_dictionary(label_type=label_type)\n",
        "print(label_dict)"
      ],
      "metadata": {
        "colab": {
          "base_uri": "https://localhost:8080/"
        },
        "id": "R6uaUSoS36tk",
        "outputId": "e85890f1-ed2f-4578-8553-41d839a5b680"
      },
      "execution_count": 10,
      "outputs": [
        {
          "output_type": "stream",
          "name": "stdout",
          "text": [
            "2023-02-24 05:24:45,370 Computing label dictionary. Progress:\n"
          ]
        },
        {
          "output_type": "stream",
          "name": "stderr",
          "text": [
            "162it [00:00, 10041.34it/s]"
          ]
        },
        {
          "output_type": "stream",
          "name": "stdout",
          "text": [
            "2023-02-24 05:24:45,430 Dictionary created for label 'ner' with 21 values: B_VAL_5 (seen 75 times), I_VAL_5 (seen 74 times), B_COV_5 (seen 68 times), I_COV_5 (seen 68 times), I_COV_3 (seen 62 times), I_COV_1 (seen 46 times), I_COV_4 (seen 41 times), B_VAL_4 (seen 25 times), I_VAL_3 (seen 24 times), B_VAL_1 (seen 24 times), B_COV_1 (seen 23 times), B_COV_3 (seen 22 times), B_VAL_3 (seen 21 times), B_COV_4 (seen 21 times), I_VAL_4 (seen 6 times), I_VAL_1 (seen 5 times), I_COV_2 (seen 4 times), I_VAL_2 (seen 4 times), B_COV_2 (seen 2 times), B_VAL_2 (seen 2 times)\n",
            "Dictionary with 21 tags: <unk>, B_VAL_5, I_VAL_5, B_COV_5, I_COV_5, I_COV_3, I_COV_1, I_COV_4, B_VAL_4, I_VAL_3, B_VAL_1, B_COV_1, B_COV_3, B_VAL_3, B_COV_4, I_VAL_4, I_VAL_1, I_COV_2, I_VAL_2, B_COV_2, B_VAL_2\n"
          ]
        },
        {
          "output_type": "stream",
          "name": "stderr",
          "text": [
            "\n"
          ]
        }
      ]
    },
    {
      "cell_type": "code",
      "source": [
        "# 4\n",
        "embedding_types = [\n",
        "    WordEmbeddings('glove'),\n",
        "    FlairEmbeddings('news-forward'),\n",
        "    FlairEmbeddings('news-backward'),\n",
        "]"
      ],
      "metadata": {
        "colab": {
          "base_uri": "https://localhost:8080/"
        },
        "id": "ZokFGMBw4AFr",
        "outputId": "441b0b69-1e94-46e7-c02e-59cdb88cf0ee"
      },
      "execution_count": 11,
      "outputs": [
        {
          "output_type": "stream",
          "name": "stdout",
          "text": [
            "2023-02-24 05:25:39,595 https://flair.informatik.hu-berlin.de/resources/embeddings/token/glove.gensim.vectors.npy not found in cache, downloading to /tmp/tmpvz218ywe\n"
          ]
        },
        {
          "output_type": "stream",
          "name": "stderr",
          "text": [
            "100%|██████████| 160000128/160000128 [00:07<00:00, 20582780.79B/s]"
          ]
        },
        {
          "output_type": "stream",
          "name": "stdout",
          "text": [
            "2023-02-24 05:25:47,788 copying /tmp/tmpvz218ywe to cache at /root/.flair/embeddings/glove.gensim.vectors.npy\n"
          ]
        },
        {
          "output_type": "stream",
          "name": "stderr",
          "text": [
            "\n"
          ]
        },
        {
          "output_type": "stream",
          "name": "stdout",
          "text": [
            "2023-02-24 05:25:48,035 removing temp file /tmp/tmpvz218ywe\n",
            "2023-02-24 05:25:48,481 https://flair.informatik.hu-berlin.de/resources/embeddings/token/glove.gensim not found in cache, downloading to /tmp/tmpscsx62z1\n"
          ]
        },
        {
          "output_type": "stream",
          "name": "stderr",
          "text": [
            "100%|██████████| 21494764/21494764 [00:02<00:00, 9475904.48B/s] "
          ]
        },
        {
          "output_type": "stream",
          "name": "stdout",
          "text": [
            "2023-02-24 05:25:51,168 copying /tmp/tmpscsx62z1 to cache at /root/.flair/embeddings/glove.gensim\n",
            "2023-02-24 05:25:51,189 removing temp file /tmp/tmpscsx62z1\n"
          ]
        },
        {
          "output_type": "stream",
          "name": "stderr",
          "text": [
            "\n"
          ]
        },
        {
          "output_type": "stream",
          "name": "stdout",
          "text": [
            "2023-02-24 05:25:52,951 https://flair.informatik.hu-berlin.de/resources/embeddings/flair/news-forward-0.4.1.pt not found in cache, downloading to /tmp/tmpkzavp7fa\n"
          ]
        },
        {
          "output_type": "stream",
          "name": "stderr",
          "text": [
            "100%|██████████| 73034624/73034624 [00:03<00:00, 18461116.06B/s]"
          ]
        },
        {
          "output_type": "stream",
          "name": "stdout",
          "text": [
            "2023-02-24 05:25:57,366 copying /tmp/tmpkzavp7fa to cache at /root/.flair/embeddings/news-forward-0.4.1.pt\n"
          ]
        },
        {
          "output_type": "stream",
          "name": "stderr",
          "text": [
            "\n"
          ]
        },
        {
          "output_type": "stream",
          "name": "stdout",
          "text": [
            "2023-02-24 05:25:57,457 removing temp file /tmp/tmpkzavp7fa\n",
            "2023-02-24 05:26:08,241 https://flair.informatik.hu-berlin.de/resources/embeddings/flair/news-backward-0.4.1.pt not found in cache, downloading to /tmp/tmpriik3ybp\n"
          ]
        },
        {
          "output_type": "stream",
          "name": "stderr",
          "text": [
            "100%|██████████| 73034575/73034575 [00:03<00:00, 18511925.16B/s]"
          ]
        },
        {
          "output_type": "stream",
          "name": "stdout",
          "text": [
            "2023-02-24 05:26:12,609 copying /tmp/tmpriik3ybp to cache at /root/.flair/embeddings/news-backward-0.4.1.pt\n"
          ]
        },
        {
          "output_type": "stream",
          "name": "stderr",
          "text": [
            "\n"
          ]
        },
        {
          "output_type": "stream",
          "name": "stdout",
          "text": [
            "2023-02-24 05:26:12,727 removing temp file /tmp/tmpriik3ybp\n"
          ]
        }
      ]
    },
    {
      "cell_type": "code",
      "source": [
        "embeddings = StackedEmbeddings(embeddings=embedding_types)"
      ],
      "metadata": {
        "id": "fyC_NtXO4k_m"
      },
      "execution_count": 12,
      "outputs": []
    },
    {
      "cell_type": "code",
      "source": [
        "tagger = SequenceTagger(hidden_size=256,\n",
        "                        embeddings=embeddings,\n",
        "                        tag_dictionary=label_dict,\n",
        "                        tag_type=label_type,\n",
        "                        use_crf=True)"
      ],
      "metadata": {
        "colab": {
          "base_uri": "https://localhost:8080/"
        },
        "id": "jP0EUum74tXg",
        "outputId": "25b8b446-4c04-4370-a884-99c85c343311"
      },
      "execution_count": 13,
      "outputs": [
        {
          "output_type": "stream",
          "name": "stdout",
          "text": [
            "2023-02-24 05:26:36,221 SequenceTagger predicts: Dictionary with 21 tags: <unk>, B_VAL_5, I_VAL_5, B_COV_5, I_COV_5, I_COV_3, I_COV_1, I_COV_4, B_VAL_4, I_VAL_3, B_VAL_1, B_COV_1, B_COV_3, B_VAL_3, B_COV_4, I_VAL_4, I_VAL_1, I_COV_2, I_VAL_2, B_COV_2, B_VAL_2\n"
          ]
        }
      ]
    },
    {
      "cell_type": "code",
      "source": [
        "trainer = ModelTrainer(tagger, corpus)"
      ],
      "metadata": {
        "id": "WAKHDYy14y-T"
      },
      "execution_count": 14,
      "outputs": []
    },
    {
      "cell_type": "code",
      "source": [
        "trainer.fine_tune('resources/taggers/sota-ner-flair',\n",
        "              learning_rate=0.1,\n",
        "              mini_batch_size=32,\n",
        "              max_epochs=150)"
      ],
      "metadata": {
        "colab": {
          "base_uri": "https://localhost:8080/"
        },
        "id": "Ig0lUt_p42HR",
        "outputId": "c791bbe6-efdd-429b-fbcc-72cf2f93967c"
      },
      "execution_count": 15,
      "outputs": [
        {
          "output_type": "stream",
          "name": "stdout",
          "text": [
            "2023-02-24 05:27:17,907 ----------------------------------------------------------------------------------------------------\n",
            "2023-02-24 05:27:17,912 Model: \"SequenceTagger(\n",
            "  (embeddings): StackedEmbeddings(\n",
            "    (list_embedding_0): WordEmbeddings(\n",
            "      'glove'\n",
            "      (embedding): Embedding(400001, 100)\n",
            "    )\n",
            "    (list_embedding_1): FlairEmbeddings(\n",
            "      (lm): LanguageModel(\n",
            "        (drop): Dropout(p=0.05, inplace=False)\n",
            "        (encoder): Embedding(300, 100)\n",
            "        (rnn): LSTM(100, 2048)\n",
            "        (decoder): Linear(in_features=2048, out_features=300, bias=True)\n",
            "      )\n",
            "    )\n",
            "    (list_embedding_2): FlairEmbeddings(\n",
            "      (lm): LanguageModel(\n",
            "        (drop): Dropout(p=0.05, inplace=False)\n",
            "        (encoder): Embedding(300, 100)\n",
            "        (rnn): LSTM(100, 2048)\n",
            "        (decoder): Linear(in_features=2048, out_features=300, bias=True)\n",
            "      )\n",
            "    )\n",
            "  )\n",
            "  (word_dropout): WordDropout(p=0.05)\n",
            "  (locked_dropout): LockedDropout(p=0.5)\n",
            "  (embedding2nn): Linear(in_features=4196, out_features=4196, bias=True)\n",
            "  (rnn): LSTM(4196, 256, batch_first=True, bidirectional=True)\n",
            "  (linear): Linear(in_features=512, out_features=23, bias=True)\n",
            "  (loss_function): ViterbiLoss()\n",
            "  (crf): CRF()\n",
            ")\"\n",
            "2023-02-24 05:27:17,916 ----------------------------------------------------------------------------------------------------\n",
            "2023-02-24 05:27:17,920 Corpus: \"Corpus: 162 train + 18 dev + 20 test sentences\"\n",
            "2023-02-24 05:27:17,924 ----------------------------------------------------------------------------------------------------\n",
            "2023-02-24 05:27:17,932 Parameters:\n",
            "2023-02-24 05:27:17,937  - learning_rate: \"0.100000\"\n",
            "2023-02-24 05:27:17,946  - mini_batch_size: \"32\"\n",
            "2023-02-24 05:27:17,954  - patience: \"3\"\n",
            "2023-02-24 05:27:17,958  - anneal_factor: \"0.5\"\n",
            "2023-02-24 05:27:17,961  - max_epochs: \"150\"\n",
            "2023-02-24 05:27:17,965  - shuffle: \"True\"\n",
            "2023-02-24 05:27:17,969  - train_with_dev: \"False\"\n",
            "2023-02-24 05:27:17,978  - batch_growth_annealing: \"False\"\n",
            "2023-02-24 05:27:17,981 ----------------------------------------------------------------------------------------------------\n",
            "2023-02-24 05:27:17,985 Model training base path: \"resources/taggers/sota-ner-flair\"\n",
            "2023-02-24 05:27:17,989 ----------------------------------------------------------------------------------------------------\n",
            "2023-02-24 05:27:17,993 Device: cuda:0\n",
            "2023-02-24 05:27:17,996 ----------------------------------------------------------------------------------------------------\n",
            "2023-02-24 05:27:18,013 Embeddings storage mode: none\n",
            "2023-02-24 05:27:18,021 ----------------------------------------------------------------------------------------------------\n",
            "2023-02-24 05:27:19,271 epoch 1 - iter 1/6 - loss 4.46936503 - samples/sec: 25.86 - lr: 0.001111\n",
            "2023-02-24 05:27:20,040 epoch 1 - iter 2/6 - loss 4.45859773 - samples/sec: 41.74 - lr: 0.002222\n",
            "2023-02-24 05:27:21,697 epoch 1 - iter 3/6 - loss 3.81596980 - samples/sec: 19.39 - lr: 0.003333\n",
            "2023-02-24 05:27:22,434 epoch 1 - iter 4/6 - loss 2.97043026 - samples/sec: 43.85 - lr: 0.004444\n",
            "2023-02-24 05:27:23,260 epoch 1 - iter 5/6 - loss 2.52338343 - samples/sec: 39.07 - lr: 0.005556\n",
            "2023-02-24 05:27:23,440 epoch 1 - iter 6/6 - loss 2.51375676 - samples/sec: 184.91 - lr: 0.006667\n",
            "2023-02-24 05:27:23,444 ----------------------------------------------------------------------------------------------------\n",
            "2023-02-24 05:27:23,450 EPOCH 1 done: loss 2.5138 - lr 0.006667\n"
          ]
        },
        {
          "output_type": "stream",
          "name": "stderr",
          "text": [
            "100%|██████████| 1/1 [00:00<00:00,  1.58it/s]"
          ]
        },
        {
          "output_type": "stream",
          "name": "stdout",
          "text": [
            "2023-02-24 05:27:24,112 Evaluating as a multi-label problem: False\n",
            "2023-02-24 05:27:24,136 DEV : loss 0.9535583853721619 - f1-score (micro avg)  0.0\n",
            "2023-02-24 05:27:24,143 BAD EPOCHS (no improvement): 4\n",
            "2023-02-24 05:27:24,150 ----------------------------------------------------------------------------------------------------\n"
          ]
        },
        {
          "output_type": "stream",
          "name": "stderr",
          "text": [
            "\n"
          ]
        },
        {
          "output_type": "stream",
          "name": "stdout",
          "text": [
            "2023-02-24 05:27:24,842 epoch 2 - iter 1/6 - loss 0.94597435 - samples/sec: 46.49 - lr: 0.007778\n",
            "2023-02-24 05:27:25,528 epoch 2 - iter 2/6 - loss 0.81889303 - samples/sec: 46.80 - lr: 0.008889\n",
            "2023-02-24 05:27:26,253 epoch 2 - iter 3/6 - loss 0.74343661 - samples/sec: 44.47 - lr: 0.010000\n",
            "2023-02-24 05:27:26,944 epoch 2 - iter 4/6 - loss 0.73319919 - samples/sec: 46.59 - lr: 0.011111\n",
            "2023-02-24 05:27:28,508 epoch 2 - iter 5/6 - loss 0.72966117 - samples/sec: 20.48 - lr: 0.012222\n",
            "2023-02-24 05:27:28,725 epoch 2 - iter 6/6 - loss 0.72877871 - samples/sec: 149.21 - lr: 0.013333\n",
            "2023-02-24 05:27:28,726 ----------------------------------------------------------------------------------------------------\n",
            "2023-02-24 05:27:28,730 EPOCH 2 done: loss 0.7288 - lr 0.013333\n"
          ]
        },
        {
          "output_type": "stream",
          "name": "stderr",
          "text": [
            "100%|██████████| 1/1 [00:00<00:00,  1.80it/s]"
          ]
        },
        {
          "output_type": "stream",
          "name": "stdout",
          "text": [
            "2023-02-24 05:27:29,302 Evaluating as a multi-label problem: False\n",
            "2023-02-24 05:27:29,316 DEV : loss 0.6667810082435608 - f1-score (micro avg)  0.0026\n",
            "2023-02-24 05:27:29,318 BAD EPOCHS (no improvement): 4\n",
            "2023-02-24 05:27:29,324 ----------------------------------------------------------------------------------------------------\n"
          ]
        },
        {
          "output_type": "stream",
          "name": "stderr",
          "text": [
            "\n"
          ]
        },
        {
          "output_type": "stream",
          "name": "stdout",
          "text": [
            "2023-02-24 05:27:30,007 epoch 3 - iter 1/6 - loss 0.80971220 - samples/sec: 47.05 - lr: 0.014444\n",
            "2023-02-24 05:27:30,745 epoch 3 - iter 2/6 - loss 0.62529322 - samples/sec: 43.46 - lr: 0.015556\n",
            "2023-02-24 05:27:32,317 epoch 3 - iter 3/6 - loss 0.60396698 - samples/sec: 20.50 - lr: 0.016667\n",
            "2023-02-24 05:27:33,275 epoch 3 - iter 4/6 - loss 0.58382533 - samples/sec: 33.49 - lr: 0.017778\n",
            "2023-02-24 05:27:33,969 epoch 3 - iter 5/6 - loss 0.56766046 - samples/sec: 46.27 - lr: 0.018889\n",
            "2023-02-24 05:27:34,150 epoch 3 - iter 6/6 - loss 0.56851313 - samples/sec: 180.86 - lr: 0.020000\n",
            "2023-02-24 05:27:34,152 ----------------------------------------------------------------------------------------------------\n",
            "2023-02-24 05:27:34,156 EPOCH 3 done: loss 0.5685 - lr 0.020000\n"
          ]
        },
        {
          "output_type": "stream",
          "name": "stderr",
          "text": [
            "100%|██████████| 1/1 [00:00<00:00,  1.63it/s]"
          ]
        },
        {
          "output_type": "stream",
          "name": "stdout",
          "text": [
            "2023-02-24 05:27:34,788 Evaluating as a multi-label problem: False\n",
            "2023-02-24 05:27:34,807 DEV : loss 0.47555989027023315 - f1-score (micro avg)  0.0077\n",
            "2023-02-24 05:27:34,812 BAD EPOCHS (no improvement): 4\n",
            "2023-02-24 05:27:34,820 ----------------------------------------------------------------------------------------------------\n"
          ]
        },
        {
          "output_type": "stream",
          "name": "stderr",
          "text": [
            "\n"
          ]
        },
        {
          "output_type": "stream",
          "name": "stdout",
          "text": [
            "2023-02-24 05:27:36,624 epoch 4 - iter 1/6 - loss 0.41066273 - samples/sec: 17.79 - lr: 0.021111\n",
            "2023-02-24 05:27:37,369 epoch 4 - iter 2/6 - loss 0.43991562 - samples/sec: 43.10 - lr: 0.022222\n",
            "2023-02-24 05:27:38,129 epoch 4 - iter 3/6 - loss 0.44919270 - samples/sec: 42.42 - lr: 0.023333\n",
            "2023-02-24 05:27:38,969 epoch 4 - iter 4/6 - loss 0.45343619 - samples/sec: 38.19 - lr: 0.024444\n",
            "2023-02-24 05:27:39,553 epoch 4 - iter 5/6 - loss 0.45710795 - samples/sec: 55.24 - lr: 0.025556\n",
            "2023-02-24 05:27:39,774 epoch 4 - iter 6/6 - loss 0.46251523 - samples/sec: 149.41 - lr: 0.026667\n",
            "2023-02-24 05:27:39,781 ----------------------------------------------------------------------------------------------------\n",
            "2023-02-24 05:27:39,785 EPOCH 4 done: loss 0.4625 - lr 0.026667\n"
          ]
        },
        {
          "output_type": "stream",
          "name": "stderr",
          "text": [
            "100%|██████████| 1/1 [00:00<00:00,  1.78it/s]"
          ]
        },
        {
          "output_type": "stream",
          "name": "stdout",
          "text": [
            "2023-02-24 05:27:40,365 Evaluating as a multi-label problem: False\n",
            "2023-02-24 05:27:40,377 DEV : loss 0.4478803277015686 - f1-score (micro avg)  0.0077\n",
            "2023-02-24 05:27:40,385 BAD EPOCHS (no improvement): 4\n",
            "2023-02-24 05:27:40,390 ----------------------------------------------------------------------------------------------------\n"
          ]
        },
        {
          "output_type": "stream",
          "name": "stderr",
          "text": [
            "\n"
          ]
        },
        {
          "output_type": "stream",
          "name": "stdout",
          "text": [
            "2023-02-24 05:27:41,114 epoch 5 - iter 1/6 - loss 0.40230359 - samples/sec: 44.37 - lr: 0.027778\n",
            "2023-02-24 05:27:42,709 epoch 5 - iter 2/6 - loss 0.45994155 - samples/sec: 20.10 - lr: 0.028889\n",
            "2023-02-24 05:27:43,408 epoch 5 - iter 3/6 - loss 0.43713883 - samples/sec: 45.88 - lr: 0.030000\n",
            "2023-02-24 05:27:44,147 epoch 5 - iter 4/6 - loss 0.43751262 - samples/sec: 43.40 - lr: 0.031111\n",
            "2023-02-24 05:27:44,925 epoch 5 - iter 5/6 - loss 0.41629619 - samples/sec: 41.22 - lr: 0.032222\n",
            "2023-02-24 05:27:45,197 epoch 5 - iter 6/6 - loss 0.42821506 - samples/sec: 119.55 - lr: 0.033333\n",
            "2023-02-24 05:27:45,199 ----------------------------------------------------------------------------------------------------\n",
            "2023-02-24 05:27:45,204 EPOCH 5 done: loss 0.4282 - lr 0.033333\n"
          ]
        },
        {
          "output_type": "stream",
          "name": "stderr",
          "text": [
            "100%|██████████| 1/1 [00:00<00:00,  1.75it/s]"
          ]
        },
        {
          "output_type": "stream",
          "name": "stdout",
          "text": [
            "2023-02-24 05:27:45,813 Evaluating as a multi-label problem: False\n",
            "2023-02-24 05:27:45,825 DEV : loss 0.3606773018836975 - f1-score (micro avg)  0.0155\n",
            "2023-02-24 05:27:45,829 BAD EPOCHS (no improvement): 4\n",
            "2023-02-24 05:27:45,834 ----------------------------------------------------------------------------------------------------\n"
          ]
        },
        {
          "output_type": "stream",
          "name": "stderr",
          "text": [
            "\n"
          ]
        },
        {
          "output_type": "stream",
          "name": "stdout",
          "text": [
            "2023-02-24 05:27:46,536 epoch 6 - iter 1/6 - loss 0.37776909 - samples/sec: 45.79 - lr: 0.034444\n",
            "2023-02-24 05:27:48,136 epoch 6 - iter 2/6 - loss 0.38067274 - samples/sec: 20.04 - lr: 0.035556\n",
            "2023-02-24 05:27:48,840 epoch 6 - iter 3/6 - loss 0.41713100 - samples/sec: 45.58 - lr: 0.036667\n",
            "2023-02-24 05:27:49,510 epoch 6 - iter 4/6 - loss 0.40867785 - samples/sec: 47.90 - lr: 0.037778\n",
            "2023-02-24 05:27:50,343 epoch 6 - iter 5/6 - loss 0.40684939 - samples/sec: 38.64 - lr: 0.038889\n",
            "2023-02-24 05:27:50,741 epoch 6 - iter 6/6 - loss 0.40368047 - samples/sec: 81.43 - lr: 0.040000\n",
            "2023-02-24 05:27:50,746 ----------------------------------------------------------------------------------------------------\n",
            "2023-02-24 05:27:50,751 EPOCH 6 done: loss 0.4037 - lr 0.040000\n"
          ]
        },
        {
          "output_type": "stream",
          "name": "stderr",
          "text": [
            "100%|██████████| 1/1 [00:00<00:00,  1.60it/s]"
          ]
        },
        {
          "output_type": "stream",
          "name": "stdout",
          "text": [
            "2023-02-24 05:27:51,397 Evaluating as a multi-label problem: False\n",
            "2023-02-24 05:27:51,419 DEV : loss 0.401384562253952 - f1-score (micro avg)  0.0258\n",
            "2023-02-24 05:27:51,424 BAD EPOCHS (no improvement): 4\n",
            "2023-02-24 05:27:51,430 ----------------------------------------------------------------------------------------------------\n"
          ]
        },
        {
          "output_type": "stream",
          "name": "stderr",
          "text": [
            "\n"
          ]
        },
        {
          "output_type": "stream",
          "name": "stdout",
          "text": [
            "2023-02-24 05:27:52,264 epoch 7 - iter 1/6 - loss 0.49381779 - samples/sec: 38.52 - lr: 0.041111\n",
            "2023-02-24 05:27:53,057 epoch 7 - iter 2/6 - loss 0.41440977 - samples/sec: 40.58 - lr: 0.042222\n",
            "2023-02-24 05:27:53,823 epoch 7 - iter 3/6 - loss 0.38330448 - samples/sec: 42.03 - lr: 0.043333\n",
            "2023-02-24 05:27:55,429 epoch 7 - iter 4/6 - loss 0.36300087 - samples/sec: 19.97 - lr: 0.044444\n",
            "2023-02-24 05:27:56,132 epoch 7 - iter 5/6 - loss 0.35720309 - samples/sec: 45.81 - lr: 0.045556\n",
            "2023-02-24 05:27:56,470 epoch 7 - iter 6/6 - loss 0.36035267 - samples/sec: 95.06 - lr: 0.046667\n",
            "2023-02-24 05:27:56,475 ----------------------------------------------------------------------------------------------------\n",
            "2023-02-24 05:27:56,478 EPOCH 7 done: loss 0.3604 - lr 0.046667\n"
          ]
        },
        {
          "output_type": "stream",
          "name": "stderr",
          "text": [
            "100%|██████████| 1/1 [00:00<00:00,  1.77it/s]"
          ]
        },
        {
          "output_type": "stream",
          "name": "stdout",
          "text": [
            "2023-02-24 05:27:57,058 Evaluating as a multi-label problem: False\n",
            "2023-02-24 05:27:57,071 DEV : loss 0.3036803603172302 - f1-score (micro avg)  0.0361\n",
            "2023-02-24 05:27:57,073 BAD EPOCHS (no improvement): 4\n",
            "2023-02-24 05:27:57,080 ----------------------------------------------------------------------------------------------------\n"
          ]
        },
        {
          "output_type": "stream",
          "name": "stderr",
          "text": [
            "\n"
          ]
        },
        {
          "output_type": "stream",
          "name": "stdout",
          "text": [
            "2023-02-24 05:27:57,814 epoch 8 - iter 1/6 - loss 0.44205333 - samples/sec: 43.74 - lr: 0.047778\n",
            "2023-02-24 05:27:58,561 epoch 8 - iter 2/6 - loss 0.35944783 - samples/sec: 43.03 - lr: 0.048889\n",
            "2023-02-24 05:28:00,158 epoch 8 - iter 3/6 - loss 0.38659565 - samples/sec: 20.06 - lr: 0.050000\n",
            "2023-02-24 05:28:00,861 epoch 8 - iter 4/6 - loss 0.39106414 - samples/sec: 45.65 - lr: 0.051111\n",
            "2023-02-24 05:28:01,577 epoch 8 - iter 5/6 - loss 0.41380492 - samples/sec: 45.03 - lr: 0.052222\n",
            "2023-02-24 05:28:01,762 epoch 8 - iter 6/6 - loss 0.41475695 - samples/sec: 177.68 - lr: 0.053333\n",
            "2023-02-24 05:28:01,765 ----------------------------------------------------------------------------------------------------\n",
            "2023-02-24 05:28:01,768 EPOCH 8 done: loss 0.4148 - lr 0.053333\n"
          ]
        },
        {
          "output_type": "stream",
          "name": "stderr",
          "text": [
            "100%|██████████| 1/1 [00:00<00:00,  1.79it/s]"
          ]
        },
        {
          "output_type": "stream",
          "name": "stdout",
          "text": [
            "2023-02-24 05:28:02,343 Evaluating as a multi-label problem: False\n",
            "2023-02-24 05:28:02,355 DEV : loss 0.32689282298088074 - f1-score (micro avg)  0.0361\n",
            "2023-02-24 05:28:02,358 BAD EPOCHS (no improvement): 4\n",
            "2023-02-24 05:28:02,365 ----------------------------------------------------------------------------------------------------\n"
          ]
        },
        {
          "output_type": "stream",
          "name": "stderr",
          "text": [
            "\n"
          ]
        },
        {
          "output_type": "stream",
          "name": "stdout",
          "text": [
            "2023-02-24 05:28:03,138 epoch 9 - iter 1/6 - loss 0.39003728 - samples/sec: 41.49 - lr: 0.054444\n",
            "2023-02-24 05:28:03,884 epoch 9 - iter 2/6 - loss 0.41691682 - samples/sec: 43.02 - lr: 0.055556\n",
            "2023-02-24 05:28:05,579 epoch 9 - iter 3/6 - loss 0.41809588 - samples/sec: 18.90 - lr: 0.056667\n",
            "2023-02-24 05:28:06,337 epoch 9 - iter 4/6 - loss 0.40854926 - samples/sec: 42.51 - lr: 0.057778\n",
            "2023-02-24 05:28:07,033 epoch 9 - iter 5/6 - loss 0.42703219 - samples/sec: 46.40 - lr: 0.058889\n",
            "2023-02-24 05:28:07,315 epoch 9 - iter 6/6 - loss 0.42610967 - samples/sec: 115.59 - lr: 0.060000\n",
            "2023-02-24 05:28:07,318 ----------------------------------------------------------------------------------------------------\n",
            "2023-02-24 05:28:07,321 EPOCH 9 done: loss 0.4261 - lr 0.060000\n"
          ]
        },
        {
          "output_type": "stream",
          "name": "stderr",
          "text": [
            "100%|██████████| 1/1 [00:00<00:00,  1.60it/s]"
          ]
        },
        {
          "output_type": "stream",
          "name": "stdout",
          "text": [
            "2023-02-24 05:28:07,961 Evaluating as a multi-label problem: False\n",
            "2023-02-24 05:28:07,981 DEV : loss 0.2782980799674988 - f1-score (micro avg)  0.0412\n",
            "2023-02-24 05:28:07,987 BAD EPOCHS (no improvement): 4\n",
            "2023-02-24 05:28:07,998 ----------------------------------------------------------------------------------------------------\n"
          ]
        },
        {
          "output_type": "stream",
          "name": "stderr",
          "text": [
            "\n"
          ]
        },
        {
          "output_type": "stream",
          "name": "stdout",
          "text": [
            "2023-02-24 05:28:09,719 epoch 10 - iter 1/6 - loss 0.32166354 - samples/sec: 18.62 - lr: 0.061111\n",
            "2023-02-24 05:28:10,424 epoch 10 - iter 2/6 - loss 0.34376066 - samples/sec: 45.70 - lr: 0.062222\n",
            "2023-02-24 05:28:11,104 epoch 10 - iter 3/6 - loss 0.37898302 - samples/sec: 47.26 - lr: 0.063333\n",
            "2023-02-24 05:28:11,852 epoch 10 - iter 4/6 - loss 0.36946993 - samples/sec: 43.03 - lr: 0.064444\n",
            "2023-02-24 05:28:12,573 epoch 10 - iter 5/6 - loss 0.36352970 - samples/sec: 44.58 - lr: 0.065556\n",
            "2023-02-24 05:28:12,765 epoch 10 - iter 6/6 - loss 0.36281648 - samples/sec: 171.35 - lr: 0.066667\n",
            "2023-02-24 05:28:12,770 ----------------------------------------------------------------------------------------------------\n",
            "2023-02-24 05:28:12,774 EPOCH 10 done: loss 0.3628 - lr 0.066667\n"
          ]
        },
        {
          "output_type": "stream",
          "name": "stderr",
          "text": [
            "100%|██████████| 1/1 [00:00<00:00,  1.33it/s]"
          ]
        },
        {
          "output_type": "stream",
          "name": "stdout",
          "text": [
            "2023-02-24 05:28:13,546 Evaluating as a multi-label problem: False\n",
            "2023-02-24 05:28:13,559 DEV : loss 0.3384636342525482 - f1-score (micro avg)  0.0722\n",
            "2023-02-24 05:28:13,563 BAD EPOCHS (no improvement): 4\n",
            "2023-02-24 05:28:13,568 ----------------------------------------------------------------------------------------------------\n"
          ]
        },
        {
          "output_type": "stream",
          "name": "stderr",
          "text": [
            "\n"
          ]
        },
        {
          "output_type": "stream",
          "name": "stdout",
          "text": [
            "2023-02-24 05:28:15,183 epoch 11 - iter 1/6 - loss 0.55805927 - samples/sec: 19.88 - lr: 0.067778\n",
            "2023-02-24 05:28:15,927 epoch 11 - iter 2/6 - loss 0.46858997 - samples/sec: 43.26 - lr: 0.068889\n",
            "2023-02-24 05:28:16,670 epoch 11 - iter 3/6 - loss 0.44069896 - samples/sec: 43.37 - lr: 0.070000\n",
            "2023-02-24 05:28:17,392 epoch 11 - iter 4/6 - loss 0.44592959 - samples/sec: 44.49 - lr: 0.071111\n",
            "2023-02-24 05:28:18,190 epoch 11 - iter 5/6 - loss 0.46013895 - samples/sec: 40.39 - lr: 0.072222\n",
            "2023-02-24 05:28:18,255 epoch 11 - iter 6/6 - loss 0.46619079 - samples/sec: 529.02 - lr: 0.073333\n",
            "2023-02-24 05:28:18,256 ----------------------------------------------------------------------------------------------------\n",
            "2023-02-24 05:28:18,259 EPOCH 11 done: loss 0.4662 - lr 0.073333\n"
          ]
        },
        {
          "output_type": "stream",
          "name": "stderr",
          "text": [
            "100%|██████████| 1/1 [00:00<00:00,  1.75it/s]"
          ]
        },
        {
          "output_type": "stream",
          "name": "stdout",
          "text": [
            "2023-02-24 05:28:18,848 Evaluating as a multi-label problem: False\n",
            "2023-02-24 05:28:18,861 DEV : loss 0.3407980799674988 - f1-score (micro avg)  0.0644\n",
            "2023-02-24 05:28:18,865 BAD EPOCHS (no improvement): 4\n",
            "2023-02-24 05:28:18,871 ----------------------------------------------------------------------------------------------------\n"
          ]
        },
        {
          "output_type": "stream",
          "name": "stderr",
          "text": [
            "\n"
          ]
        },
        {
          "output_type": "stream",
          "name": "stdout",
          "text": [
            "2023-02-24 05:28:19,645 epoch 12 - iter 1/6 - loss 0.85239920 - samples/sec: 41.58 - lr: 0.074444\n",
            "2023-02-24 05:28:20,357 epoch 12 - iter 2/6 - loss 0.63661379 - samples/sec: 45.35 - lr: 0.075556\n",
            "2023-02-24 05:28:22,066 epoch 12 - iter 3/6 - loss 0.59497271 - samples/sec: 18.76 - lr: 0.076667\n",
            "2023-02-24 05:28:22,861 epoch 12 - iter 4/6 - loss 0.67447081 - samples/sec: 40.58 - lr: 0.077778\n",
            "2023-02-24 05:28:23,641 epoch 12 - iter 5/6 - loss 0.61741947 - samples/sec: 41.40 - lr: 0.078889\n",
            "2023-02-24 05:28:23,740 epoch 12 - iter 6/6 - loss 0.62023219 - samples/sec: 349.02 - lr: 0.080000\n",
            "2023-02-24 05:28:23,744 ----------------------------------------------------------------------------------------------------\n",
            "2023-02-24 05:28:23,751 EPOCH 12 done: loss 0.6202 - lr 0.080000\n"
          ]
        },
        {
          "output_type": "stream",
          "name": "stderr",
          "text": [
            "100%|██████████| 1/1 [00:00<00:00,  1.56it/s]"
          ]
        },
        {
          "output_type": "stream",
          "name": "stdout",
          "text": [
            "2023-02-24 05:28:24,410 Evaluating as a multi-label problem: False\n",
            "2023-02-24 05:28:24,428 DEV : loss 0.5069144368171692 - f1-score (micro avg)  0.1314\n",
            "2023-02-24 05:28:24,433 BAD EPOCHS (no improvement): 4\n",
            "2023-02-24 05:28:24,439 ----------------------------------------------------------------------------------------------------\n"
          ]
        },
        {
          "output_type": "stream",
          "name": "stderr",
          "text": [
            "\n"
          ]
        },
        {
          "output_type": "stream",
          "name": "stdout",
          "text": [
            "2023-02-24 05:28:25,188 epoch 13 - iter 1/6 - loss 1.29169950 - samples/sec: 43.02 - lr: 0.081111\n",
            "2023-02-24 05:28:25,982 epoch 13 - iter 2/6 - loss 0.87342401 - samples/sec: 40.43 - lr: 0.082222\n",
            "2023-02-24 05:28:26,790 epoch 13 - iter 3/6 - loss 0.69390919 - samples/sec: 39.72 - lr: 0.083333\n",
            "2023-02-24 05:28:28,519 epoch 13 - iter 4/6 - loss 0.63676672 - samples/sec: 18.59 - lr: 0.084444\n",
            "2023-02-24 05:28:29,200 epoch 13 - iter 5/6 - loss 0.60835530 - samples/sec: 47.47 - lr: 0.085556\n",
            "2023-02-24 05:28:29,434 epoch 13 - iter 6/6 - loss 0.60904108 - samples/sec: 140.06 - lr: 0.086667\n",
            "2023-02-24 05:28:29,441 ----------------------------------------------------------------------------------------------------\n",
            "2023-02-24 05:28:29,443 EPOCH 13 done: loss 0.6090 - lr 0.086667\n"
          ]
        },
        {
          "output_type": "stream",
          "name": "stderr",
          "text": [
            "100%|██████████| 1/1 [00:00<00:00,  1.54it/s]"
          ]
        },
        {
          "output_type": "stream",
          "name": "stdout",
          "text": [
            "2023-02-24 05:28:30,105 Evaluating as a multi-label problem: False\n",
            "2023-02-24 05:28:30,123 DEV : loss 0.41950511932373047 - f1-score (micro avg)  0.0876\n",
            "2023-02-24 05:28:30,129 BAD EPOCHS (no improvement): 4\n",
            "2023-02-24 05:28:30,134 ----------------------------------------------------------------------------------------------------\n"
          ]
        },
        {
          "output_type": "stream",
          "name": "stderr",
          "text": [
            "\n"
          ]
        },
        {
          "output_type": "stream",
          "name": "stdout",
          "text": [
            "2023-02-24 05:28:31,785 epoch 14 - iter 1/6 - loss 0.44918245 - samples/sec: 19.41 - lr: 0.087778\n",
            "2023-02-24 05:28:32,548 epoch 14 - iter 2/6 - loss 0.47114463 - samples/sec: 42.08 - lr: 0.088889\n",
            "2023-02-24 05:28:33,267 epoch 14 - iter 3/6 - loss 0.60557441 - samples/sec: 44.59 - lr: 0.090000\n",
            "2023-02-24 05:28:34,067 epoch 14 - iter 4/6 - loss 0.56930709 - samples/sec: 40.08 - lr: 0.091111\n",
            "2023-02-24 05:28:34,784 epoch 14 - iter 5/6 - loss 0.58018810 - samples/sec: 44.98 - lr: 0.092222\n",
            "2023-02-24 05:28:34,998 epoch 14 - iter 6/6 - loss 0.57507586 - samples/sec: 153.99 - lr: 0.093333\n",
            "2023-02-24 05:28:35,001 ----------------------------------------------------------------------------------------------------\n",
            "2023-02-24 05:28:35,004 EPOCH 14 done: loss 0.5751 - lr 0.093333\n"
          ]
        },
        {
          "output_type": "stream",
          "name": "stderr",
          "text": [
            "100%|██████████| 1/1 [00:00<00:00,  1.59it/s]"
          ]
        },
        {
          "output_type": "stream",
          "name": "stdout",
          "text": [
            "2023-02-24 05:28:35,656 Evaluating as a multi-label problem: False\n",
            "2023-02-24 05:28:35,674 DEV : loss 0.3045458197593689 - f1-score (micro avg)  0.0541\n",
            "2023-02-24 05:28:35,678 BAD EPOCHS (no improvement): 4\n",
            "2023-02-24 05:28:35,685 ----------------------------------------------------------------------------------------------------\n"
          ]
        },
        {
          "output_type": "stream",
          "name": "stderr",
          "text": [
            "\n"
          ]
        },
        {
          "output_type": "stream",
          "name": "stdout",
          "text": [
            "2023-02-24 05:28:36,462 epoch 15 - iter 1/6 - loss 0.62667281 - samples/sec: 41.29 - lr: 0.094444\n",
            "2023-02-24 05:28:37,322 epoch 15 - iter 2/6 - loss 0.62103924 - samples/sec: 37.39 - lr: 0.095556\n",
            "2023-02-24 05:28:38,084 epoch 15 - iter 3/6 - loss 0.67401264 - samples/sec: 42.11 - lr: 0.096667\n",
            "2023-02-24 05:28:38,903 epoch 15 - iter 4/6 - loss 0.71000409 - samples/sec: 39.36 - lr: 0.097778\n",
            "2023-02-24 05:28:40,546 epoch 15 - iter 5/6 - loss 0.68043243 - samples/sec: 19.54 - lr: 0.098889\n",
            "2023-02-24 05:28:40,831 epoch 15 - iter 6/6 - loss 0.69718293 - samples/sec: 114.13 - lr: 0.100000\n",
            "2023-02-24 05:28:40,833 ----------------------------------------------------------------------------------------------------\n",
            "2023-02-24 05:28:40,839 EPOCH 15 done: loss 0.6972 - lr 0.100000\n"
          ]
        },
        {
          "output_type": "stream",
          "name": "stderr",
          "text": [
            "100%|██████████| 1/1 [00:00<00:00,  1.70it/s]"
          ]
        },
        {
          "output_type": "stream",
          "name": "stdout",
          "text": [
            "2023-02-24 05:28:41,448 Evaluating as a multi-label problem: False\n",
            "2023-02-24 05:28:41,469 DEV : loss 0.33049485087394714 - f1-score (micro avg)  0.0851\n",
            "2023-02-24 05:28:41,475 BAD EPOCHS (no improvement): 4\n",
            "2023-02-24 05:28:41,480 ----------------------------------------------------------------------------------------------------\n"
          ]
        },
        {
          "output_type": "stream",
          "name": "stderr",
          "text": [
            "\n"
          ]
        },
        {
          "output_type": "stream",
          "name": "stdout",
          "text": [
            "2023-02-24 05:28:42,207 epoch 16 - iter 1/6 - loss 0.77341845 - samples/sec: 44.26 - lr: 0.099877\n",
            "2023-02-24 05:28:42,955 epoch 16 - iter 2/6 - loss 0.70678356 - samples/sec: 42.92 - lr: 0.099754\n",
            "2023-02-24 05:28:44,605 epoch 16 - iter 3/6 - loss 0.70460615 - samples/sec: 19.42 - lr: 0.099631\n",
            "2023-02-24 05:28:45,365 epoch 16 - iter 4/6 - loss 0.66002568 - samples/sec: 42.39 - lr: 0.099509\n",
            "2023-02-24 05:28:46,172 epoch 16 - iter 5/6 - loss 0.67980285 - samples/sec: 39.84 - lr: 0.099386\n",
            "2023-02-24 05:28:46,312 epoch 16 - iter 6/6 - loss 0.67664423 - samples/sec: 237.35 - lr: 0.099263\n",
            "2023-02-24 05:28:46,316 ----------------------------------------------------------------------------------------------------\n",
            "2023-02-24 05:28:46,318 EPOCH 16 done: loss 0.6766 - lr 0.099263\n"
          ]
        },
        {
          "output_type": "stream",
          "name": "stderr",
          "text": [
            "100%|██████████| 1/1 [00:00<00:00,  1.72it/s]"
          ]
        },
        {
          "output_type": "stream",
          "name": "stdout",
          "text": [
            "2023-02-24 05:28:46,919 Evaluating as a multi-label problem: False\n",
            "2023-02-24 05:28:46,936 DEV : loss 0.45002859830856323 - f1-score (micro avg)  0.0722\n",
            "2023-02-24 05:28:46,938 BAD EPOCHS (no improvement): 4\n",
            "2023-02-24 05:28:46,947 ----------------------------------------------------------------------------------------------------\n"
          ]
        },
        {
          "output_type": "stream",
          "name": "stderr",
          "text": [
            "\n"
          ]
        },
        {
          "output_type": "stream",
          "name": "stdout",
          "text": [
            "2023-02-24 05:28:47,740 epoch 17 - iter 1/6 - loss 1.08905247 - samples/sec: 40.47 - lr: 0.099140\n",
            "2023-02-24 05:28:48,510 epoch 17 - iter 2/6 - loss 0.83684200 - samples/sec: 41.80 - lr: 0.099017\n",
            "2023-02-24 05:28:49,249 epoch 17 - iter 3/6 - loss 0.79590324 - samples/sec: 43.62 - lr: 0.098894\n",
            "2023-02-24 05:28:51,000 epoch 17 - iter 4/6 - loss 0.88606006 - samples/sec: 18.33 - lr: 0.098771\n",
            "2023-02-24 05:28:51,718 epoch 17 - iter 5/6 - loss 0.87882775 - samples/sec: 44.91 - lr: 0.098649\n",
            "2023-02-24 05:28:51,999 epoch 17 - iter 6/6 - loss 0.87163822 - samples/sec: 114.95 - lr: 0.098526\n",
            "2023-02-24 05:28:52,005 ----------------------------------------------------------------------------------------------------\n",
            "2023-02-24 05:28:52,009 EPOCH 17 done: loss 0.8716 - lr 0.098526\n"
          ]
        },
        {
          "output_type": "stream",
          "name": "stderr",
          "text": [
            "100%|██████████| 1/1 [00:00<00:00,  1.57it/s]"
          ]
        },
        {
          "output_type": "stream",
          "name": "stdout",
          "text": [
            "2023-02-24 05:28:52,664 Evaluating as a multi-label problem: False\n",
            "2023-02-24 05:28:52,681 DEV : loss 0.4483366310596466 - f1-score (micro avg)  0.0696\n",
            "2023-02-24 05:28:52,686 BAD EPOCHS (no improvement): 4\n",
            "2023-02-24 05:28:52,692 ----------------------------------------------------------------------------------------------------\n"
          ]
        },
        {
          "output_type": "stream",
          "name": "stderr",
          "text": [
            "\n"
          ]
        },
        {
          "output_type": "stream",
          "name": "stdout",
          "text": [
            "2023-02-24 05:28:53,475 epoch 18 - iter 1/6 - loss 1.03289641 - samples/sec: 41.06 - lr: 0.098403\n",
            "2023-02-24 05:28:54,352 epoch 18 - iter 2/6 - loss 0.91322562 - samples/sec: 36.72 - lr: 0.098280\n",
            "2023-02-24 05:28:55,329 epoch 18 - iter 3/6 - loss 0.96879465 - samples/sec: 32.85 - lr: 0.098157\n",
            "2023-02-24 05:28:55,912 epoch 18 - iter 4/6 - loss 0.91938736 - samples/sec: 55.06 - lr: 0.098034\n",
            "2023-02-24 05:28:57,598 epoch 18 - iter 5/6 - loss 0.86769707 - samples/sec: 19.00 - lr: 0.097912\n",
            "2023-02-24 05:28:57,737 epoch 18 - iter 6/6 - loss 0.86534126 - samples/sec: 232.89 - lr: 0.097789\n",
            "2023-02-24 05:28:57,739 ----------------------------------------------------------------------------------------------------\n",
            "2023-02-24 05:28:57,743 EPOCH 18 done: loss 0.8653 - lr 0.097789\n"
          ]
        },
        {
          "output_type": "stream",
          "name": "stderr",
          "text": [
            "100%|██████████| 1/1 [00:00<00:00,  1.69it/s]"
          ]
        },
        {
          "output_type": "stream",
          "name": "stdout",
          "text": [
            "2023-02-24 05:28:58,352 Evaluating as a multi-label problem: False\n",
            "2023-02-24 05:28:58,365 DEV : loss 0.49057191610336304 - f1-score (micro avg)  0.0284\n",
            "2023-02-24 05:28:58,369 BAD EPOCHS (no improvement): 4\n",
            "2023-02-24 05:28:58,375 ----------------------------------------------------------------------------------------------------\n"
          ]
        },
        {
          "output_type": "stream",
          "name": "stderr",
          "text": [
            "\n"
          ]
        },
        {
          "output_type": "stream",
          "name": "stdout",
          "text": [
            "2023-02-24 05:28:59,048 epoch 19 - iter 1/6 - loss 0.81693908 - samples/sec: 47.78 - lr: 0.097666\n",
            "2023-02-24 05:28:59,791 epoch 19 - iter 2/6 - loss 0.83861681 - samples/sec: 43.26 - lr: 0.097543\n",
            "2023-02-24 05:29:00,529 epoch 19 - iter 3/6 - loss 0.91091768 - samples/sec: 43.50 - lr: 0.097420\n",
            "2023-02-24 05:29:02,203 epoch 19 - iter 4/6 - loss 0.89361194 - samples/sec: 19.17 - lr: 0.097297\n",
            "2023-02-24 05:29:03,012 epoch 19 - iter 5/6 - loss 0.88723403 - samples/sec: 39.76 - lr: 0.097174\n",
            "2023-02-24 05:29:03,400 epoch 19 - iter 6/6 - loss 0.88687295 - samples/sec: 83.16 - lr: 0.097052\n",
            "2023-02-24 05:29:03,403 ----------------------------------------------------------------------------------------------------\n",
            "2023-02-24 05:29:03,406 EPOCH 19 done: loss 0.8869 - lr 0.097052\n"
          ]
        },
        {
          "output_type": "stream",
          "name": "stderr",
          "text": [
            "100%|██████████| 1/1 [00:00<00:00,  1.66it/s]"
          ]
        },
        {
          "output_type": "stream",
          "name": "stdout",
          "text": [
            "2023-02-24 05:29:04,026 Evaluating as a multi-label problem: False\n",
            "2023-02-24 05:29:04,039 DEV : loss 0.5449496507644653 - f1-score (micro avg)  0.0335\n",
            "2023-02-24 05:29:04,043 BAD EPOCHS (no improvement): 4\n",
            "2023-02-24 05:29:04,049 ----------------------------------------------------------------------------------------------------\n"
          ]
        },
        {
          "output_type": "stream",
          "name": "stderr",
          "text": [
            "\n"
          ]
        },
        {
          "output_type": "stream",
          "name": "stdout",
          "text": [
            "2023-02-24 05:29:04,780 epoch 20 - iter 1/6 - loss 0.69289114 - samples/sec: 44.05 - lr: 0.096929\n",
            "2023-02-24 05:29:05,515 epoch 20 - iter 2/6 - loss 0.79686895 - samples/sec: 43.67 - lr: 0.096806\n",
            "2023-02-24 05:29:07,278 epoch 20 - iter 3/6 - loss 0.84788289 - samples/sec: 18.17 - lr: 0.096683\n",
            "2023-02-24 05:29:08,005 epoch 20 - iter 4/6 - loss 0.84221515 - samples/sec: 44.37 - lr: 0.096560\n",
            "2023-02-24 05:29:08,837 epoch 20 - iter 5/6 - loss 0.83879398 - samples/sec: 38.75 - lr: 0.096437\n",
            "2023-02-24 05:29:09,119 epoch 20 - iter 6/6 - loss 0.82908238 - samples/sec: 116.03 - lr: 0.096314\n",
            "2023-02-24 05:29:09,123 ----------------------------------------------------------------------------------------------------\n",
            "2023-02-24 05:29:09,126 EPOCH 20 done: loss 0.8291 - lr 0.096314\n"
          ]
        },
        {
          "output_type": "stream",
          "name": "stderr",
          "text": [
            "100%|██████████| 1/1 [00:00<00:00,  1.55it/s]"
          ]
        },
        {
          "output_type": "stream",
          "name": "stdout",
          "text": [
            "2023-02-24 05:29:09,792 Evaluating as a multi-label problem: False\n",
            "2023-02-24 05:29:09,809 DEV : loss 0.6597630977630615 - f1-score (micro avg)  0.0464\n",
            "2023-02-24 05:29:09,815 BAD EPOCHS (no improvement): 4\n",
            "2023-02-24 05:29:09,820 ----------------------------------------------------------------------------------------------------\n"
          ]
        },
        {
          "output_type": "stream",
          "name": "stderr",
          "text": [
            "\n"
          ]
        },
        {
          "output_type": "stream",
          "name": "stdout",
          "text": [
            "2023-02-24 05:29:10,541 epoch 21 - iter 1/6 - loss 0.92941175 - samples/sec: 44.58 - lr: 0.096192\n",
            "2023-02-24 05:29:11,278 epoch 21 - iter 2/6 - loss 0.78589509 - samples/sec: 43.54 - lr: 0.096069\n",
            "2023-02-24 05:29:12,932 epoch 21 - iter 3/6 - loss 0.75146471 - samples/sec: 19.37 - lr: 0.095946\n",
            "2023-02-24 05:29:13,659 epoch 21 - iter 4/6 - loss 0.80334175 - samples/sec: 44.15 - lr: 0.095823\n",
            "2023-02-24 05:29:14,403 epoch 21 - iter 5/6 - loss 0.81504736 - samples/sec: 43.14 - lr: 0.095700\n",
            "2023-02-24 05:29:14,688 epoch 21 - iter 6/6 - loss 0.81669177 - samples/sec: 114.18 - lr: 0.095577\n",
            "2023-02-24 05:29:14,693 ----------------------------------------------------------------------------------------------------\n",
            "2023-02-24 05:29:14,699 EPOCH 21 done: loss 0.8167 - lr 0.095577\n"
          ]
        },
        {
          "output_type": "stream",
          "name": "stderr",
          "text": [
            "100%|██████████| 1/1 [00:00<00:00,  1.71it/s]"
          ]
        },
        {
          "output_type": "stream",
          "name": "stdout",
          "text": [
            "2023-02-24 05:29:15,308 Evaluating as a multi-label problem: False\n",
            "2023-02-24 05:29:15,321 DEV : loss 0.5178170800209045 - f1-score (micro avg)  0.067\n",
            "2023-02-24 05:29:15,324 BAD EPOCHS (no improvement): 4\n",
            "2023-02-24 05:29:15,330 ----------------------------------------------------------------------------------------------------\n"
          ]
        },
        {
          "output_type": "stream",
          "name": "stderr",
          "text": [
            "\n"
          ]
        },
        {
          "output_type": "stream",
          "name": "stdout",
          "text": [
            "2023-02-24 05:29:16,066 epoch 22 - iter 1/6 - loss 1.10840106 - samples/sec: 43.80 - lr: 0.095455\n",
            "2023-02-24 05:29:16,876 epoch 22 - iter 2/6 - loss 0.94916516 - samples/sec: 39.57 - lr: 0.095332\n",
            "2023-02-24 05:29:18,522 epoch 22 - iter 3/6 - loss 0.93698729 - samples/sec: 19.48 - lr: 0.095209\n",
            "2023-02-24 05:29:19,292 epoch 22 - iter 4/6 - loss 0.90471369 - samples/sec: 41.64 - lr: 0.095086\n",
            "2023-02-24 05:29:20,028 epoch 22 - iter 5/6 - loss 0.86623907 - samples/sec: 43.58 - lr: 0.094963\n",
            "2023-02-24 05:29:20,295 epoch 22 - iter 6/6 - loss 0.85641149 - samples/sec: 120.86 - lr: 0.094840\n",
            "2023-02-24 05:29:20,297 ----------------------------------------------------------------------------------------------------\n",
            "2023-02-24 05:29:20,306 EPOCH 22 done: loss 0.8564 - lr 0.094840\n"
          ]
        },
        {
          "output_type": "stream",
          "name": "stderr",
          "text": [
            "100%|██████████| 1/1 [00:00<00:00,  1.54it/s]"
          ]
        },
        {
          "output_type": "stream",
          "name": "stdout",
          "text": [
            "2023-02-24 05:29:20,975 Evaluating as a multi-label problem: False\n",
            "2023-02-24 05:29:20,990 DEV : loss 1.2024192810058594 - f1-score (micro avg)  0.0103\n",
            "2023-02-24 05:29:20,993 BAD EPOCHS (no improvement): 4\n",
            "2023-02-24 05:29:20,998 ----------------------------------------------------------------------------------------------------\n"
          ]
        },
        {
          "output_type": "stream",
          "name": "stderr",
          "text": [
            "\n"
          ]
        },
        {
          "output_type": "stream",
          "name": "stdout",
          "text": [
            "2023-02-24 05:29:21,760 epoch 23 - iter 1/6 - loss 1.04169051 - samples/sec: 42.14 - lr: 0.094717\n",
            "2023-02-24 05:29:22,622 epoch 23 - iter 2/6 - loss 1.07072347 - samples/sec: 37.38 - lr: 0.094595\n",
            "2023-02-24 05:29:24,400 epoch 23 - iter 3/6 - loss 1.25250075 - samples/sec: 18.05 - lr: 0.094472\n",
            "2023-02-24 05:29:25,234 epoch 23 - iter 4/6 - loss 1.26548473 - samples/sec: 38.61 - lr: 0.094349\n",
            "2023-02-24 05:29:25,910 epoch 23 - iter 5/6 - loss 1.31601092 - samples/sec: 47.74 - lr: 0.094226\n",
            "2023-02-24 05:29:26,252 epoch 23 - iter 6/6 - loss 1.29609470 - samples/sec: 93.81 - lr: 0.094103\n",
            "2023-02-24 05:29:26,257 ----------------------------------------------------------------------------------------------------\n",
            "2023-02-24 05:29:26,261 EPOCH 23 done: loss 1.2961 - lr 0.094103\n"
          ]
        },
        {
          "output_type": "stream",
          "name": "stderr",
          "text": [
            "100%|██████████| 1/1 [00:00<00:00,  1.68it/s]"
          ]
        },
        {
          "output_type": "stream",
          "name": "stdout",
          "text": [
            "2023-02-24 05:29:26,876 Evaluating as a multi-label problem: False\n",
            "2023-02-24 05:29:26,888 DEV : loss 0.4647867977619171 - f1-score (micro avg)  0.0541\n",
            "2023-02-24 05:29:26,892 BAD EPOCHS (no improvement): 4\n",
            "2023-02-24 05:29:26,898 ----------------------------------------------------------------------------------------------------\n"
          ]
        },
        {
          "output_type": "stream",
          "name": "stderr",
          "text": [
            "\n"
          ]
        },
        {
          "output_type": "stream",
          "name": "stdout",
          "text": [
            "2023-02-24 05:29:27,623 epoch 24 - iter 1/6 - loss 0.89892898 - samples/sec: 44.46 - lr: 0.093980\n",
            "2023-02-24 05:29:28,452 epoch 24 - iter 2/6 - loss 0.94936505 - samples/sec: 38.73 - lr: 0.093857\n",
            "2023-02-24 05:29:29,191 epoch 24 - iter 3/6 - loss 0.93750000 - samples/sec: 43.45 - lr: 0.093735\n",
            "2023-02-24 05:29:30,864 epoch 24 - iter 4/6 - loss 0.96995420 - samples/sec: 19.18 - lr: 0.093612\n",
            "2023-02-24 05:29:31,639 epoch 24 - iter 5/6 - loss 0.96339815 - samples/sec: 41.96 - lr: 0.093489\n",
            "2023-02-24 05:29:31,891 epoch 24 - iter 6/6 - loss 0.96799461 - samples/sec: 130.53 - lr: 0.093366\n",
            "2023-02-24 05:29:31,896 ----------------------------------------------------------------------------------------------------\n",
            "2023-02-24 05:29:31,898 EPOCH 24 done: loss 0.9680 - lr 0.093366\n"
          ]
        },
        {
          "output_type": "stream",
          "name": "stderr",
          "text": [
            "100%|██████████| 1/1 [00:00<00:00,  1.69it/s]"
          ]
        },
        {
          "output_type": "stream",
          "name": "stdout",
          "text": [
            "2023-02-24 05:29:32,509 Evaluating as a multi-label problem: False\n",
            "2023-02-24 05:29:32,522 DEV : loss 0.5508493185043335 - f1-score (micro avg)  0.0567\n",
            "2023-02-24 05:29:32,525 BAD EPOCHS (no improvement): 4\n",
            "2023-02-24 05:29:32,531 ----------------------------------------------------------------------------------------------------\n"
          ]
        },
        {
          "output_type": "stream",
          "name": "stderr",
          "text": [
            "\n"
          ]
        },
        {
          "output_type": "stream",
          "name": "stdout",
          "text": [
            "2023-02-24 05:29:34,206 epoch 25 - iter 1/6 - loss 0.86416104 - samples/sec: 19.13 - lr: 0.093243\n",
            "2023-02-24 05:29:34,974 epoch 25 - iter 2/6 - loss 0.98589229 - samples/sec: 41.82 - lr: 0.093120\n",
            "2023-02-24 05:29:35,846 epoch 25 - iter 3/6 - loss 0.98801925 - samples/sec: 36.80 - lr: 0.092998\n",
            "2023-02-24 05:29:36,665 epoch 25 - iter 4/6 - loss 0.92860949 - samples/sec: 39.48 - lr: 0.092875\n",
            "2023-02-24 05:29:37,459 epoch 25 - iter 5/6 - loss 0.92329018 - samples/sec: 40.67 - lr: 0.092752\n",
            "2023-02-24 05:29:37,734 epoch 25 - iter 6/6 - loss 0.91465258 - samples/sec: 119.47 - lr: 0.092629\n",
            "2023-02-24 05:29:37,739 ----------------------------------------------------------------------------------------------------\n",
            "2023-02-24 05:29:37,743 EPOCH 25 done: loss 0.9147 - lr 0.092629\n"
          ]
        },
        {
          "output_type": "stream",
          "name": "stderr",
          "text": [
            "100%|██████████| 1/1 [00:00<00:00,  1.49it/s]"
          ]
        },
        {
          "output_type": "stream",
          "name": "stdout",
          "text": [
            "2023-02-24 05:29:38,429 Evaluating as a multi-label problem: False\n",
            "2023-02-24 05:29:38,449 DEV : loss 0.7560997009277344 - f1-score (micro avg)  0.0284\n",
            "2023-02-24 05:29:38,455 BAD EPOCHS (no improvement): 4\n",
            "2023-02-24 05:29:38,460 ----------------------------------------------------------------------------------------------------\n"
          ]
        },
        {
          "output_type": "stream",
          "name": "stderr",
          "text": [
            "\n"
          ]
        },
        {
          "output_type": "stream",
          "name": "stdout",
          "text": [
            "2023-02-24 05:29:39,281 epoch 26 - iter 1/6 - loss 0.97526226 - samples/sec: 39.09 - lr: 0.092506\n",
            "2023-02-24 05:29:40,229 epoch 26 - iter 2/6 - loss 0.94538955 - samples/sec: 33.90 - lr: 0.092383\n",
            "2023-02-24 05:29:41,000 epoch 26 - iter 3/6 - loss 0.90238177 - samples/sec: 41.69 - lr: 0.092260\n",
            "2023-02-24 05:29:41,745 epoch 26 - iter 4/6 - loss 0.87756075 - samples/sec: 43.09 - lr: 0.092138\n",
            "2023-02-24 05:29:42,511 epoch 26 - iter 5/6 - loss 0.84095978 - samples/sec: 41.97 - lr: 0.092015\n",
            "2023-02-24 05:29:43,353 epoch 26 - iter 6/6 - loss 0.86639947 - samples/sec: 38.11 - lr: 0.091892\n",
            "2023-02-24 05:29:43,360 ----------------------------------------------------------------------------------------------------\n",
            "2023-02-24 05:29:43,364 EPOCH 26 done: loss 0.8664 - lr 0.091892\n"
          ]
        },
        {
          "output_type": "stream",
          "name": "stderr",
          "text": [
            "100%|██████████| 1/1 [00:00<00:00,  1.68it/s]"
          ]
        },
        {
          "output_type": "stream",
          "name": "stdout",
          "text": [
            "2023-02-24 05:29:43,976 Evaluating as a multi-label problem: False\n",
            "2023-02-24 05:29:43,989 DEV : loss 0.4815967381000519 - f1-score (micro avg)  0.0876\n",
            "2023-02-24 05:29:43,992 BAD EPOCHS (no improvement): 4\n",
            "2023-02-24 05:29:43,999 ----------------------------------------------------------------------------------------------------\n"
          ]
        },
        {
          "output_type": "stream",
          "name": "stderr",
          "text": [
            "\n"
          ]
        },
        {
          "output_type": "stream",
          "name": "stdout",
          "text": [
            "2023-02-24 05:29:45,674 epoch 27 - iter 1/6 - loss 0.69941857 - samples/sec: 19.16 - lr: 0.091769\n",
            "2023-02-24 05:29:46,485 epoch 27 - iter 2/6 - loss 0.84261153 - samples/sec: 39.69 - lr: 0.091646\n",
            "2023-02-24 05:29:47,260 epoch 27 - iter 3/6 - loss 0.84309677 - samples/sec: 41.50 - lr: 0.091523\n",
            "2023-02-24 05:29:48,037 epoch 27 - iter 4/6 - loss 0.88411875 - samples/sec: 41.60 - lr: 0.091400\n",
            "2023-02-24 05:29:48,781 epoch 27 - iter 5/6 - loss 0.87155059 - samples/sec: 43.10 - lr: 0.091278\n",
            "2023-02-24 05:29:49,157 epoch 27 - iter 6/6 - loss 0.87931935 - samples/sec: 85.53 - lr: 0.091155\n",
            "2023-02-24 05:29:49,162 ----------------------------------------------------------------------------------------------------\n",
            "2023-02-24 05:29:49,164 EPOCH 27 done: loss 0.8793 - lr 0.091155\n"
          ]
        },
        {
          "output_type": "stream",
          "name": "stderr",
          "text": [
            "100%|██████████| 1/1 [00:00<00:00,  1.64it/s]"
          ]
        },
        {
          "output_type": "stream",
          "name": "stdout",
          "text": [
            "2023-02-24 05:29:49,793 Evaluating as a multi-label problem: False\n",
            "2023-02-24 05:29:49,805 DEV : loss 0.495451956987381 - f1-score (micro avg)  0.0515\n",
            "2023-02-24 05:29:49,810 BAD EPOCHS (no improvement): 4\n",
            "2023-02-24 05:29:49,815 ----------------------------------------------------------------------------------------------------\n"
          ]
        },
        {
          "output_type": "stream",
          "name": "stderr",
          "text": [
            "\n"
          ]
        },
        {
          "output_type": "stream",
          "name": "stdout",
          "text": [
            "2023-02-24 05:29:50,709 epoch 28 - iter 1/6 - loss 1.15143438 - samples/sec: 35.90 - lr: 0.091032\n",
            "2023-02-24 05:29:51,526 epoch 28 - iter 2/6 - loss 1.19305695 - samples/sec: 39.49 - lr: 0.090909\n",
            "2023-02-24 05:29:53,291 epoch 28 - iter 3/6 - loss 1.05756121 - samples/sec: 18.18 - lr: 0.090786\n",
            "2023-02-24 05:29:54,019 epoch 28 - iter 4/6 - loss 1.02045932 - samples/sec: 44.29 - lr: 0.090663\n",
            "2023-02-24 05:29:54,829 epoch 28 - iter 5/6 - loss 0.99324534 - samples/sec: 39.91 - lr: 0.090541\n",
            "2023-02-24 05:29:54,980 epoch 28 - iter 6/6 - loss 0.98891293 - samples/sec: 216.43 - lr: 0.090418\n",
            "2023-02-24 05:29:54,987 ----------------------------------------------------------------------------------------------------\n",
            "2023-02-24 05:29:54,990 EPOCH 28 done: loss 0.9889 - lr 0.090418\n"
          ]
        },
        {
          "output_type": "stream",
          "name": "stderr",
          "text": [
            "100%|██████████| 1/1 [00:00<00:00,  1.58it/s]"
          ]
        },
        {
          "output_type": "stream",
          "name": "stdout",
          "text": [
            "2023-02-24 05:29:55,646 Evaluating as a multi-label problem: False\n",
            "2023-02-24 05:29:55,658 DEV : loss 0.7214865684509277 - f1-score (micro avg)  0.0284\n",
            "2023-02-24 05:29:55,662 BAD EPOCHS (no improvement): 4\n",
            "2023-02-24 05:29:55,666 ----------------------------------------------------------------------------------------------------\n"
          ]
        },
        {
          "output_type": "stream",
          "name": "stderr",
          "text": [
            "\n"
          ]
        },
        {
          "output_type": "stream",
          "name": "stdout",
          "text": [
            "2023-02-24 05:29:56,469 epoch 29 - iter 1/6 - loss 1.09120689 - samples/sec: 39.94 - lr: 0.090295\n",
            "2023-02-24 05:29:57,220 epoch 29 - iter 2/6 - loss 1.00568749 - samples/sec: 43.06 - lr: 0.090172\n",
            "2023-02-24 05:29:58,912 epoch 29 - iter 3/6 - loss 0.93464792 - samples/sec: 18.93 - lr: 0.090049\n",
            "2023-02-24 05:29:59,653 epoch 29 - iter 4/6 - loss 0.86885407 - samples/sec: 43.45 - lr: 0.089926\n",
            "2023-02-24 05:30:00,406 epoch 29 - iter 5/6 - loss 0.93020369 - samples/sec: 42.73 - lr: 0.089803\n",
            "2023-02-24 05:30:00,753 epoch 29 - iter 6/6 - loss 0.93241099 - samples/sec: 93.44 - lr: 0.089681\n",
            "2023-02-24 05:30:00,757 ----------------------------------------------------------------------------------------------------\n",
            "2023-02-24 05:30:00,759 EPOCH 29 done: loss 0.9324 - lr 0.089681\n"
          ]
        },
        {
          "output_type": "stream",
          "name": "stderr",
          "text": [
            "100%|██████████| 1/1 [00:00<00:00,  1.63it/s]"
          ]
        },
        {
          "output_type": "stream",
          "name": "stdout",
          "text": [
            "2023-02-24 05:30:01,394 Evaluating as a multi-label problem: False\n",
            "2023-02-24 05:30:01,406 DEV : loss 0.46326568722724915 - f1-score (micro avg)  0.0722\n",
            "2023-02-24 05:30:01,409 BAD EPOCHS (no improvement): 4\n",
            "2023-02-24 05:30:01,415 ----------------------------------------------------------------------------------------------------\n"
          ]
        },
        {
          "output_type": "stream",
          "name": "stderr",
          "text": [
            "\n"
          ]
        },
        {
          "output_type": "stream",
          "name": "stdout",
          "text": [
            "2023-02-24 05:30:02,189 epoch 30 - iter 1/6 - loss 1.04274930 - samples/sec: 41.49 - lr: 0.089558\n",
            "2023-02-24 05:30:02,941 epoch 30 - iter 2/6 - loss 1.00114473 - samples/sec: 42.84 - lr: 0.089435\n",
            "2023-02-24 05:30:03,687 epoch 30 - iter 3/6 - loss 0.86901923 - samples/sec: 43.03 - lr: 0.089312\n",
            "2023-02-24 05:30:04,519 epoch 30 - iter 4/6 - loss 0.99848290 - samples/sec: 38.69 - lr: 0.089189\n",
            "2023-02-24 05:30:06,284 epoch 30 - iter 5/6 - loss 0.92882693 - samples/sec: 18.18 - lr: 0.089066\n",
            "2023-02-24 05:30:06,533 epoch 30 - iter 6/6 - loss 0.95837705 - samples/sec: 131.78 - lr: 0.088943\n",
            "2023-02-24 05:30:06,538 ----------------------------------------------------------------------------------------------------\n",
            "2023-02-24 05:30:06,542 EPOCH 30 done: loss 0.9584 - lr 0.088943\n"
          ]
        },
        {
          "output_type": "stream",
          "name": "stderr",
          "text": [
            "100%|██████████| 1/1 [00:00<00:00,  1.52it/s]"
          ]
        },
        {
          "output_type": "stream",
          "name": "stdout",
          "text": [
            "2023-02-24 05:30:07,220 Evaluating as a multi-label problem: False\n",
            "2023-02-24 05:30:07,238 DEV : loss 0.3864811956882477 - f1-score (micro avg)  0.0902\n",
            "2023-02-24 05:30:07,245 BAD EPOCHS (no improvement): 4\n",
            "2023-02-24 05:30:07,253 ----------------------------------------------------------------------------------------------------\n"
          ]
        },
        {
          "output_type": "stream",
          "name": "stderr",
          "text": [
            "\n"
          ]
        },
        {
          "output_type": "stream",
          "name": "stdout",
          "text": [
            "2023-02-24 05:30:08,127 epoch 31 - iter 1/6 - loss 1.05055440 - samples/sec: 36.74 - lr: 0.088821\n",
            "2023-02-24 05:30:08,962 epoch 31 - iter 2/6 - loss 0.96296575 - samples/sec: 38.51 - lr: 0.088698\n",
            "2023-02-24 05:30:10,686 epoch 31 - iter 3/6 - loss 1.11776909 - samples/sec: 18.62 - lr: 0.088575\n",
            "2023-02-24 05:30:11,472 epoch 31 - iter 4/6 - loss 1.08347665 - samples/sec: 40.80 - lr: 0.088452\n",
            "2023-02-24 05:30:11,995 epoch 31 - iter 5/6 - loss 1.00760001 - samples/sec: 61.39 - lr: 0.088329\n",
            "2023-02-24 05:30:12,266 epoch 31 - iter 6/6 - loss 0.99324367 - samples/sec: 118.80 - lr: 0.088206\n",
            "2023-02-24 05:30:12,268 ----------------------------------------------------------------------------------------------------\n",
            "2023-02-24 05:30:12,272 EPOCH 31 done: loss 0.9932 - lr 0.088206\n"
          ]
        },
        {
          "output_type": "stream",
          "name": "stderr",
          "text": [
            "100%|██████████| 1/1 [00:00<00:00,  1.68it/s]"
          ]
        },
        {
          "output_type": "stream",
          "name": "stdout",
          "text": [
            "2023-02-24 05:30:12,886 Evaluating as a multi-label problem: False\n",
            "2023-02-24 05:30:12,900 DEV : loss 1.136902093887329 - f1-score (micro avg)  0.018\n",
            "2023-02-24 05:30:12,905 BAD EPOCHS (no improvement): 4\n",
            "2023-02-24 05:30:12,910 ----------------------------------------------------------------------------------------------------\n"
          ]
        },
        {
          "output_type": "stream",
          "name": "stderr",
          "text": [
            "\n"
          ]
        },
        {
          "output_type": "stream",
          "name": "stdout",
          "text": [
            "2023-02-24 05:30:13,651 epoch 32 - iter 1/6 - loss 1.31100643 - samples/sec: 43.45 - lr: 0.088084\n",
            "2023-02-24 05:30:14,442 epoch 32 - iter 2/6 - loss 1.22567093 - samples/sec: 40.53 - lr: 0.087961\n",
            "2023-02-24 05:30:16,153 epoch 32 - iter 3/6 - loss 1.28541038 - samples/sec: 18.72 - lr: 0.087838\n",
            "2023-02-24 05:30:16,907 epoch 32 - iter 4/6 - loss 1.28369389 - samples/sec: 42.59 - lr: 0.087715\n",
            "2023-02-24 05:30:17,703 epoch 32 - iter 5/6 - loss 1.26989419 - samples/sec: 40.28 - lr: 0.087592\n",
            "2023-02-24 05:30:17,832 epoch 32 - iter 6/6 - loss 1.27763258 - samples/sec: 259.94 - lr: 0.087469\n",
            "2023-02-24 05:30:17,834 ----------------------------------------------------------------------------------------------------\n",
            "2023-02-24 05:30:17,841 EPOCH 32 done: loss 1.2776 - lr 0.087469\n"
          ]
        },
        {
          "output_type": "stream",
          "name": "stderr",
          "text": [
            "100%|██████████| 1/1 [00:00<00:00,  1.68it/s]"
          ]
        },
        {
          "output_type": "stream",
          "name": "stdout",
          "text": [
            "2023-02-24 05:30:18,454 Evaluating as a multi-label problem: False\n",
            "2023-02-24 05:30:18,468 DEV : loss 0.9180354475975037 - f1-score (micro avg)  0.0593\n",
            "2023-02-24 05:30:18,471 BAD EPOCHS (no improvement): 4\n",
            "2023-02-24 05:30:18,478 ----------------------------------------------------------------------------------------------------\n"
          ]
        },
        {
          "output_type": "stream",
          "name": "stderr",
          "text": [
            "\n"
          ]
        },
        {
          "output_type": "stream",
          "name": "stdout",
          "text": [
            "2023-02-24 05:30:19,292 epoch 33 - iter 1/6 - loss 1.19524971 - samples/sec: 39.43 - lr: 0.087346\n",
            "2023-02-24 05:30:20,040 epoch 33 - iter 2/6 - loss 1.01013544 - samples/sec: 42.87 - lr: 0.087224\n",
            "2023-02-24 05:30:21,834 epoch 33 - iter 3/6 - loss 0.92174069 - samples/sec: 17.93 - lr: 0.087101\n",
            "2023-02-24 05:30:22,672 epoch 33 - iter 4/6 - loss 0.87640064 - samples/sec: 38.51 - lr: 0.086978\n",
            "2023-02-24 05:30:23,461 epoch 33 - iter 5/6 - loss 0.90332047 - samples/sec: 40.79 - lr: 0.086855\n",
            "2023-02-24 05:30:23,602 epoch 33 - iter 6/6 - loss 0.90778030 - samples/sec: 237.45 - lr: 0.086732\n",
            "2023-02-24 05:30:23,609 ----------------------------------------------------------------------------------------------------\n",
            "2023-02-24 05:30:23,613 EPOCH 33 done: loss 0.9078 - lr 0.086732\n"
          ]
        },
        {
          "output_type": "stream",
          "name": "stderr",
          "text": [
            "100%|██████████| 1/1 [00:00<00:00,  1.50it/s]"
          ]
        },
        {
          "output_type": "stream",
          "name": "stdout",
          "text": [
            "2023-02-24 05:30:24,296 Evaluating as a multi-label problem: False\n",
            "2023-02-24 05:30:24,315 DEV : loss 0.5203647017478943 - f1-score (micro avg)  0.0619\n",
            "2023-02-24 05:30:24,320 BAD EPOCHS (no improvement): 4\n",
            "2023-02-24 05:30:24,328 ----------------------------------------------------------------------------------------------------\n"
          ]
        },
        {
          "output_type": "stream",
          "name": "stderr",
          "text": [
            "\n"
          ]
        },
        {
          "output_type": "stream",
          "name": "stdout",
          "text": [
            "2023-02-24 05:30:25,184 epoch 34 - iter 1/6 - loss 0.83895944 - samples/sec: 37.50 - lr: 0.086609\n",
            "2023-02-24 05:30:26,884 epoch 34 - iter 2/6 - loss 1.24830087 - samples/sec: 18.88 - lr: 0.086486\n",
            "2023-02-24 05:30:27,901 epoch 34 - iter 3/6 - loss 1.19714621 - samples/sec: 31.52 - lr: 0.086364\n",
            "2023-02-24 05:30:28,647 epoch 34 - iter 4/6 - loss 1.16853576 - samples/sec: 43.21 - lr: 0.086241\n",
            "2023-02-24 05:30:29,450 epoch 34 - iter 5/6 - loss 1.16457785 - samples/sec: 40.15 - lr: 0.086118\n",
            "2023-02-24 05:30:29,822 epoch 34 - iter 6/6 - loss 1.14570392 - samples/sec: 87.26 - lr: 0.085995\n",
            "2023-02-24 05:30:29,828 ----------------------------------------------------------------------------------------------------\n",
            "2023-02-24 05:30:29,832 EPOCH 34 done: loss 1.1457 - lr 0.085995\n"
          ]
        },
        {
          "output_type": "stream",
          "name": "stderr",
          "text": [
            "100%|██████████| 1/1 [00:00<00:00,  1.62it/s]"
          ]
        },
        {
          "output_type": "stream",
          "name": "stdout",
          "text": [
            "2023-02-24 05:30:30,466 Evaluating as a multi-label problem: False\n",
            "2023-02-24 05:30:30,480 DEV : loss 0.6091888546943665 - f1-score (micro avg)  0.0773\n",
            "2023-02-24 05:30:30,483 BAD EPOCHS (no improvement): 4\n",
            "2023-02-24 05:30:30,489 ----------------------------------------------------------------------------------------------------\n"
          ]
        },
        {
          "output_type": "stream",
          "name": "stderr",
          "text": [
            "\n"
          ]
        },
        {
          "output_type": "stream",
          "name": "stdout",
          "text": [
            "2023-02-24 05:30:32,196 epoch 35 - iter 1/6 - loss 1.30235342 - samples/sec: 18.78 - lr: 0.085872\n",
            "2023-02-24 05:30:32,951 epoch 35 - iter 2/6 - loss 1.07483380 - samples/sec: 42.56 - lr: 0.085749\n",
            "2023-02-24 05:30:33,738 epoch 35 - iter 3/6 - loss 1.11369397 - samples/sec: 40.86 - lr: 0.085627\n",
            "2023-02-24 05:30:34,434 epoch 35 - iter 4/6 - loss 0.98021693 - samples/sec: 46.22 - lr: 0.085504\n",
            "2023-02-24 05:30:35,195 epoch 35 - iter 5/6 - loss 0.94310904 - samples/sec: 42.22 - lr: 0.085381\n",
            "2023-02-24 05:30:35,446 epoch 35 - iter 6/6 - loss 0.93396546 - samples/sec: 128.42 - lr: 0.085258\n",
            "2023-02-24 05:30:35,449 ----------------------------------------------------------------------------------------------------\n",
            "2023-02-24 05:30:35,451 EPOCH 35 done: loss 0.9340 - lr 0.085258\n"
          ]
        },
        {
          "output_type": "stream",
          "name": "stderr",
          "text": [
            "100%|██████████| 1/1 [00:00<00:00,  1.54it/s]"
          ]
        },
        {
          "output_type": "stream",
          "name": "stdout",
          "text": [
            "2023-02-24 05:30:36,119 Evaluating as a multi-label problem: False\n",
            "2023-02-24 05:30:36,138 DEV : loss 0.8246743679046631 - f1-score (micro avg)  0.0361\n",
            "2023-02-24 05:30:36,143 BAD EPOCHS (no improvement): 4\n",
            "2023-02-24 05:30:36,150 ----------------------------------------------------------------------------------------------------\n"
          ]
        },
        {
          "output_type": "stream",
          "name": "stderr",
          "text": [
            "\n"
          ]
        },
        {
          "output_type": "stream",
          "name": "stdout",
          "text": [
            "2023-02-24 05:30:36,952 epoch 36 - iter 1/6 - loss 0.80239082 - samples/sec: 40.12 - lr: 0.085135\n",
            "2023-02-24 05:30:37,788 epoch 36 - iter 2/6 - loss 0.84434179 - samples/sec: 38.61 - lr: 0.085012\n",
            "2023-02-24 05:30:38,646 epoch 36 - iter 3/6 - loss 0.84970615 - samples/sec: 37.54 - lr: 0.084889\n",
            "2023-02-24 05:30:39,444 epoch 36 - iter 4/6 - loss 0.85146437 - samples/sec: 40.37 - lr: 0.084767\n",
            "2023-02-24 05:30:41,139 epoch 36 - iter 5/6 - loss 0.88663790 - samples/sec: 18.94 - lr: 0.084644\n",
            "2023-02-24 05:30:41,532 epoch 36 - iter 6/6 - loss 0.89162777 - samples/sec: 81.85 - lr: 0.084521\n",
            "2023-02-24 05:30:41,534 ----------------------------------------------------------------------------------------------------\n",
            "2023-02-24 05:30:41,538 EPOCH 36 done: loss 0.8916 - lr 0.084521\n"
          ]
        },
        {
          "output_type": "stream",
          "name": "stderr",
          "text": [
            "100%|██████████| 1/1 [00:00<00:00,  1.61it/s]"
          ]
        },
        {
          "output_type": "stream",
          "name": "stdout",
          "text": [
            "2023-02-24 05:30:42,178 Evaluating as a multi-label problem: False\n",
            "2023-02-24 05:30:42,190 DEV : loss 0.6226426362991333 - f1-score (micro avg)  0.0979\n",
            "2023-02-24 05:30:42,192 BAD EPOCHS (no improvement): 4\n",
            "2023-02-24 05:30:42,200 ----------------------------------------------------------------------------------------------------\n"
          ]
        },
        {
          "output_type": "stream",
          "name": "stderr",
          "text": [
            "\n"
          ]
        },
        {
          "output_type": "stream",
          "name": "stdout",
          "text": [
            "2023-02-24 05:30:43,892 epoch 37 - iter 1/6 - loss 1.01215567 - samples/sec: 18.95 - lr: 0.084398\n",
            "2023-02-24 05:30:44,628 epoch 37 - iter 2/6 - loss 1.15659969 - samples/sec: 43.59 - lr: 0.084275\n",
            "2023-02-24 05:30:45,426 epoch 37 - iter 3/6 - loss 1.06476950 - samples/sec: 40.21 - lr: 0.084152\n",
            "2023-02-24 05:30:46,260 epoch 37 - iter 4/6 - loss 0.99948578 - samples/sec: 38.44 - lr: 0.084029\n",
            "2023-02-24 05:30:47,002 epoch 37 - iter 5/6 - loss 1.09487003 - samples/sec: 43.40 - lr: 0.083907\n",
            "2023-02-24 05:30:47,304 epoch 37 - iter 6/6 - loss 1.08679993 - samples/sec: 108.57 - lr: 0.083784\n",
            "2023-02-24 05:30:47,309 ----------------------------------------------------------------------------------------------------\n",
            "2023-02-24 05:30:47,312 EPOCH 37 done: loss 1.0868 - lr 0.083784\n"
          ]
        },
        {
          "output_type": "stream",
          "name": "stderr",
          "text": [
            "100%|██████████| 1/1 [00:00<00:00,  1.66it/s]"
          ]
        },
        {
          "output_type": "stream",
          "name": "stdout",
          "text": [
            "2023-02-24 05:30:47,932 Evaluating as a multi-label problem: False\n",
            "2023-02-24 05:30:47,945 DEV : loss 1.0624722242355347 - f1-score (micro avg)  0.0103\n",
            "2023-02-24 05:30:47,949 BAD EPOCHS (no improvement): 4\n",
            "2023-02-24 05:30:47,954 ----------------------------------------------------------------------------------------------------\n"
          ]
        },
        {
          "output_type": "stream",
          "name": "stderr",
          "text": [
            "\n"
          ]
        },
        {
          "output_type": "stream",
          "name": "stdout",
          "text": [
            "2023-02-24 05:30:48,718 epoch 38 - iter 1/6 - loss 0.72396280 - samples/sec: 42.00 - lr: 0.083661\n",
            "2023-02-24 05:30:49,474 epoch 38 - iter 2/6 - loss 0.78111699 - samples/sec: 42.45 - lr: 0.083538\n",
            "2023-02-24 05:30:50,237 epoch 38 - iter 3/6 - loss 0.81881937 - samples/sec: 42.20 - lr: 0.083415\n",
            "2023-02-24 05:30:51,116 epoch 38 - iter 4/6 - loss 0.85385091 - samples/sec: 36.57 - lr: 0.083292\n",
            "2023-02-24 05:30:52,914 epoch 38 - iter 5/6 - loss 0.84675320 - samples/sec: 17.83 - lr: 0.083170\n",
            "2023-02-24 05:30:53,313 epoch 38 - iter 6/6 - loss 0.84242965 - samples/sec: 82.00 - lr: 0.083047\n",
            "2023-02-24 05:30:53,320 ----------------------------------------------------------------------------------------------------\n",
            "2023-02-24 05:30:53,322 EPOCH 38 done: loss 0.8424 - lr 0.083047\n"
          ]
        },
        {
          "output_type": "stream",
          "name": "stderr",
          "text": [
            "100%|██████████| 1/1 [00:00<00:00,  1.50it/s]"
          ]
        },
        {
          "output_type": "stream",
          "name": "stdout",
          "text": [
            "2023-02-24 05:30:54,004 Evaluating as a multi-label problem: False\n",
            "2023-02-24 05:30:54,022 DEV : loss 0.6487528085708618 - f1-score (micro avg)  0.1057\n",
            "2023-02-24 05:30:54,027 BAD EPOCHS (no improvement): 4\n",
            "2023-02-24 05:30:54,032 ----------------------------------------------------------------------------------------------------\n"
          ]
        },
        {
          "output_type": "stream",
          "name": "stderr",
          "text": [
            "\n"
          ]
        },
        {
          "output_type": "stream",
          "name": "stdout",
          "text": [
            "2023-02-24 05:30:54,845 epoch 39 - iter 1/6 - loss 1.51690318 - samples/sec: 39.66 - lr: 0.082924\n",
            "2023-02-24 05:30:55,729 epoch 39 - iter 2/6 - loss 1.67738509 - samples/sec: 36.42 - lr: 0.082801\n",
            "2023-02-24 05:30:57,425 epoch 39 - iter 3/6 - loss 1.42105177 - samples/sec: 18.93 - lr: 0.082678\n",
            "2023-02-24 05:30:58,197 epoch 39 - iter 4/6 - loss 1.27544302 - samples/sec: 41.56 - lr: 0.082555\n",
            "2023-02-24 05:30:58,985 epoch 39 - iter 5/6 - loss 1.23161136 - samples/sec: 40.80 - lr: 0.082432\n",
            "2023-02-24 05:30:59,245 epoch 39 - iter 6/6 - loss 1.21700145 - samples/sec: 125.28 - lr: 0.082310\n",
            "2023-02-24 05:30:59,250 ----------------------------------------------------------------------------------------------------\n",
            "2023-02-24 05:30:59,252 EPOCH 39 done: loss 1.2170 - lr 0.082310\n"
          ]
        },
        {
          "output_type": "stream",
          "name": "stderr",
          "text": [
            "100%|██████████| 1/1 [00:00<00:00,  1.69it/s]"
          ]
        },
        {
          "output_type": "stream",
          "name": "stdout",
          "text": [
            "2023-02-24 05:30:59,866 Evaluating as a multi-label problem: False\n",
            "2023-02-24 05:30:59,879 DEV : loss 1.1995965242385864 - f1-score (micro avg)  0.0155\n",
            "2023-02-24 05:30:59,882 BAD EPOCHS (no improvement): 4\n",
            "2023-02-24 05:30:59,887 ----------------------------------------------------------------------------------------------------\n"
          ]
        },
        {
          "output_type": "stream",
          "name": "stderr",
          "text": [
            "\n"
          ]
        },
        {
          "output_type": "stream",
          "name": "stdout",
          "text": [
            "2023-02-24 05:31:00,625 epoch 40 - iter 1/6 - loss 0.95917791 - samples/sec: 43.60 - lr: 0.082187\n",
            "2023-02-24 05:31:01,388 epoch 40 - iter 2/6 - loss 1.27483869 - samples/sec: 42.01 - lr: 0.082064\n",
            "2023-02-24 05:31:02,153 epoch 40 - iter 3/6 - loss 1.19476595 - samples/sec: 42.16 - lr: 0.081941\n",
            "2023-02-24 05:31:03,872 epoch 40 - iter 4/6 - loss 1.18243605 - samples/sec: 18.67 - lr: 0.081818\n",
            "2023-02-24 05:31:04,698 epoch 40 - iter 5/6 - loss 1.09376844 - samples/sec: 39.13 - lr: 0.081695\n",
            "2023-02-24 05:31:04,813 epoch 40 - iter 6/6 - loss 1.08900636 - samples/sec: 296.55 - lr: 0.081572\n",
            "2023-02-24 05:31:04,817 ----------------------------------------------------------------------------------------------------\n",
            "2023-02-24 05:31:04,819 EPOCH 40 done: loss 1.0890 - lr 0.081572\n"
          ]
        },
        {
          "output_type": "stream",
          "name": "stderr",
          "text": [
            "100%|██████████| 1/1 [00:00<00:00,  1.68it/s]"
          ]
        },
        {
          "output_type": "stream",
          "name": "stdout",
          "text": [
            "2023-02-24 05:31:05,434 Evaluating as a multi-label problem: False\n",
            "2023-02-24 05:31:05,448 DEV : loss 0.4842332899570465 - f1-score (micro avg)  0.0309\n",
            "2023-02-24 05:31:05,451 BAD EPOCHS (no improvement): 4\n",
            "2023-02-24 05:31:05,456 ----------------------------------------------------------------------------------------------------\n"
          ]
        },
        {
          "output_type": "stream",
          "name": "stderr",
          "text": [
            "\n"
          ]
        },
        {
          "output_type": "stream",
          "name": "stdout",
          "text": [
            "2023-02-24 05:31:07,233 epoch 41 - iter 1/6 - loss 0.79223434 - samples/sec: 18.03 - lr: 0.081450\n",
            "2023-02-24 05:31:08,118 epoch 41 - iter 2/6 - loss 0.83153847 - samples/sec: 36.53 - lr: 0.081327\n",
            "2023-02-24 05:31:08,945 epoch 41 - iter 3/6 - loss 0.94065826 - samples/sec: 38.80 - lr: 0.081204\n",
            "2023-02-24 05:31:09,794 epoch 41 - iter 4/6 - loss 0.93116787 - samples/sec: 37.90 - lr: 0.081081\n",
            "2023-02-24 05:31:10,593 epoch 41 - iter 5/6 - loss 0.90407575 - samples/sec: 40.22 - lr: 0.080958\n",
            "2023-02-24 05:31:10,970 epoch 41 - iter 6/6 - loss 0.89963859 - samples/sec: 86.54 - lr: 0.080835\n",
            "2023-02-24 05:31:10,972 ----------------------------------------------------------------------------------------------------\n",
            "2023-02-24 05:31:10,975 EPOCH 41 done: loss 0.8996 - lr 0.080835\n"
          ]
        },
        {
          "output_type": "stream",
          "name": "stderr",
          "text": [
            "100%|██████████| 1/1 [00:00<00:00,  1.21it/s]"
          ]
        },
        {
          "output_type": "stream",
          "name": "stdout",
          "text": [
            "2023-02-24 05:31:11,817 Evaluating as a multi-label problem: False\n",
            "2023-02-24 05:31:11,830 DEV : loss 0.9289429187774658 - f1-score (micro avg)  0.0258\n",
            "2023-02-24 05:31:11,836 BAD EPOCHS (no improvement): 4\n",
            "2023-02-24 05:31:11,842 ----------------------------------------------------------------------------------------------------\n"
          ]
        },
        {
          "output_type": "stream",
          "name": "stderr",
          "text": [
            "\n"
          ]
        },
        {
          "output_type": "stream",
          "name": "stdout",
          "text": [
            "2023-02-24 05:31:13,545 epoch 42 - iter 1/6 - loss 1.03981508 - samples/sec: 18.85 - lr: 0.080713\n",
            "2023-02-24 05:31:14,296 epoch 42 - iter 2/6 - loss 0.98751624 - samples/sec: 42.82 - lr: 0.080590\n",
            "2023-02-24 05:31:15,066 epoch 42 - iter 3/6 - loss 1.03537216 - samples/sec: 41.66 - lr: 0.080467\n",
            "2023-02-24 05:31:15,910 epoch 42 - iter 4/6 - loss 1.05228946 - samples/sec: 38.00 - lr: 0.080344\n",
            "2023-02-24 05:31:16,701 epoch 42 - iter 5/6 - loss 1.01694868 - samples/sec: 40.60 - lr: 0.080221\n",
            "2023-02-24 05:31:16,758 epoch 42 - iter 6/6 - loss 1.01720693 - samples/sec: 577.38 - lr: 0.080098\n",
            "2023-02-24 05:31:16,761 ----------------------------------------------------------------------------------------------------\n",
            "2023-02-24 05:31:16,763 EPOCH 42 done: loss 1.0172 - lr 0.080098\n"
          ]
        },
        {
          "output_type": "stream",
          "name": "stderr",
          "text": [
            "100%|██████████| 1/1 [00:00<00:00,  1.66it/s]"
          ]
        },
        {
          "output_type": "stream",
          "name": "stdout",
          "text": [
            "2023-02-24 05:31:17,387 Evaluating as a multi-label problem: False\n",
            "2023-02-24 05:31:17,401 DEV : loss 0.5901854634284973 - f1-score (micro avg)  0.0258\n",
            "2023-02-24 05:31:17,406 BAD EPOCHS (no improvement): 4\n",
            "2023-02-24 05:31:17,413 ----------------------------------------------------------------------------------------------------\n"
          ]
        },
        {
          "output_type": "stream",
          "name": "stderr",
          "text": [
            "\n"
          ]
        },
        {
          "output_type": "stream",
          "name": "stdout",
          "text": [
            "2023-02-24 05:31:18,220 epoch 43 - iter 1/6 - loss 0.71951316 - samples/sec: 39.75 - lr: 0.079975\n",
            "2023-02-24 05:31:19,021 epoch 43 - iter 2/6 - loss 0.70180074 - samples/sec: 40.09 - lr: 0.079853\n",
            "2023-02-24 05:31:19,782 epoch 43 - iter 3/6 - loss 0.64060570 - samples/sec: 42.18 - lr: 0.079730\n",
            "2023-02-24 05:31:20,487 epoch 43 - iter 4/6 - loss 0.68552065 - samples/sec: 45.71 - lr: 0.079607\n",
            "2023-02-24 05:31:21,342 epoch 43 - iter 5/6 - loss 0.77192149 - samples/sec: 37.66 - lr: 0.079484\n",
            "2023-02-24 05:31:22,221 epoch 43 - iter 6/6 - loss 0.79570497 - samples/sec: 36.67 - lr: 0.079361\n",
            "2023-02-24 05:31:22,229 ----------------------------------------------------------------------------------------------------\n",
            "2023-02-24 05:31:22,231 EPOCH 43 done: loss 0.7957 - lr 0.079361\n"
          ]
        },
        {
          "output_type": "stream",
          "name": "stderr",
          "text": [
            "100%|██████████| 1/1 [00:00<00:00,  1.51it/s]"
          ]
        },
        {
          "output_type": "stream",
          "name": "stdout",
          "text": [
            "2023-02-24 05:31:22,910 Evaluating as a multi-label problem: False\n",
            "2023-02-24 05:31:22,928 DEV : loss 0.42762601375579834 - f1-score (micro avg)  0.1031\n",
            "2023-02-24 05:31:22,933 BAD EPOCHS (no improvement): 4\n",
            "2023-02-24 05:31:22,941 ----------------------------------------------------------------------------------------------------\n"
          ]
        },
        {
          "output_type": "stream",
          "name": "stderr",
          "text": [
            "\n"
          ]
        },
        {
          "output_type": "stream",
          "name": "stdout",
          "text": [
            "2023-02-24 05:31:23,766 epoch 44 - iter 1/6 - loss 0.77388139 - samples/sec: 38.91 - lr: 0.079238\n",
            "2023-02-24 05:31:25,599 epoch 44 - iter 2/6 - loss 0.66249351 - samples/sec: 17.51 - lr: 0.079115\n",
            "2023-02-24 05:31:26,357 epoch 44 - iter 3/6 - loss 0.67141288 - samples/sec: 42.71 - lr: 0.078993\n",
            "2023-02-24 05:31:27,190 epoch 44 - iter 4/6 - loss 0.67877165 - samples/sec: 38.50 - lr: 0.078870\n",
            "2023-02-24 05:31:27,976 epoch 44 - iter 5/6 - loss 0.75946510 - samples/sec: 40.78 - lr: 0.078747\n",
            "2023-02-24 05:31:28,128 epoch 44 - iter 6/6 - loss 0.76243179 - samples/sec: 216.41 - lr: 0.078624\n",
            "2023-02-24 05:31:28,133 ----------------------------------------------------------------------------------------------------\n",
            "2023-02-24 05:31:28,135 EPOCH 44 done: loss 0.7624 - lr 0.078624\n"
          ]
        },
        {
          "output_type": "stream",
          "name": "stderr",
          "text": [
            "100%|██████████| 1/1 [00:00<00:00,  1.67it/s]"
          ]
        },
        {
          "output_type": "stream",
          "name": "stdout",
          "text": [
            "2023-02-24 05:31:28,761 Evaluating as a multi-label problem: False\n",
            "2023-02-24 05:31:28,774 DEV : loss 0.7859647274017334 - f1-score (micro avg)  0.0541\n",
            "2023-02-24 05:31:28,777 BAD EPOCHS (no improvement): 4\n",
            "2023-02-24 05:31:28,783 ----------------------------------------------------------------------------------------------------\n"
          ]
        },
        {
          "output_type": "stream",
          "name": "stderr",
          "text": [
            "\n"
          ]
        },
        {
          "output_type": "stream",
          "name": "stdout",
          "text": [
            "2023-02-24 05:31:29,594 epoch 45 - iter 1/6 - loss 0.61510529 - samples/sec: 39.66 - lr: 0.078501\n",
            "2023-02-24 05:31:31,322 epoch 45 - iter 2/6 - loss 0.77647284 - samples/sec: 18.54 - lr: 0.078378\n",
            "2023-02-24 05:31:32,101 epoch 45 - iter 3/6 - loss 0.81695688 - samples/sec: 41.21 - lr: 0.078256\n",
            "2023-02-24 05:31:32,855 epoch 45 - iter 4/6 - loss 0.87762652 - samples/sec: 42.72 - lr: 0.078133\n",
            "2023-02-24 05:31:33,626 epoch 45 - iter 5/6 - loss 0.89204044 - samples/sec: 41.63 - lr: 0.078010\n",
            "2023-02-24 05:31:33,824 epoch 45 - iter 6/6 - loss 0.89287479 - samples/sec: 163.18 - lr: 0.077887\n",
            "2023-02-24 05:31:33,826 ----------------------------------------------------------------------------------------------------\n",
            "2023-02-24 05:31:33,831 EPOCH 45 done: loss 0.8929 - lr 0.077887\n"
          ]
        },
        {
          "output_type": "stream",
          "name": "stderr",
          "text": [
            "100%|██████████| 1/1 [00:00<00:00,  1.65it/s]"
          ]
        },
        {
          "output_type": "stream",
          "name": "stdout",
          "text": [
            "2023-02-24 05:31:34,454 Evaluating as a multi-label problem: False\n",
            "2023-02-24 05:31:34,467 DEV : loss 0.6239914894104004 - f1-score (micro avg)  0.0696\n",
            "2023-02-24 05:31:34,470 BAD EPOCHS (no improvement): 4\n",
            "2023-02-24 05:31:34,475 ----------------------------------------------------------------------------------------------------\n"
          ]
        },
        {
          "output_type": "stream",
          "name": "stderr",
          "text": [
            "\n"
          ]
        },
        {
          "output_type": "stream",
          "name": "stdout",
          "text": [
            "2023-02-24 05:31:35,298 epoch 46 - iter 1/6 - loss 0.77066595 - samples/sec: 39.03 - lr: 0.077764\n",
            "2023-02-24 05:31:36,120 epoch 46 - iter 2/6 - loss 0.76088077 - samples/sec: 39.06 - lr: 0.077641\n",
            "2023-02-24 05:31:36,916 epoch 46 - iter 3/6 - loss 0.69218606 - samples/sec: 40.39 - lr: 0.077518\n",
            "2023-02-24 05:31:38,742 epoch 46 - iter 4/6 - loss 0.74221069 - samples/sec: 17.60 - lr: 0.077396\n",
            "2023-02-24 05:31:39,489 epoch 46 - iter 5/6 - loss 0.82553082 - samples/sec: 43.11 - lr: 0.077273\n",
            "2023-02-24 05:31:39,589 epoch 46 - iter 6/6 - loss 0.82976737 - samples/sec: 337.85 - lr: 0.077150\n",
            "2023-02-24 05:31:39,594 ----------------------------------------------------------------------------------------------------\n",
            "2023-02-24 05:31:39,597 EPOCH 46 done: loss 0.8298 - lr 0.077150\n"
          ]
        },
        {
          "output_type": "stream",
          "name": "stderr",
          "text": [
            "100%|██████████| 1/1 [00:00<00:00,  1.50it/s]"
          ]
        },
        {
          "output_type": "stream",
          "name": "stdout",
          "text": [
            "2023-02-24 05:31:40,286 Evaluating as a multi-label problem: False\n",
            "2023-02-24 05:31:40,305 DEV : loss 0.7245038151741028 - f1-score (micro avg)  0.0515\n",
            "2023-02-24 05:31:40,310 BAD EPOCHS (no improvement): 4\n",
            "2023-02-24 05:31:40,317 ----------------------------------------------------------------------------------------------------\n"
          ]
        },
        {
          "output_type": "stream",
          "name": "stderr",
          "text": [
            "\n"
          ]
        },
        {
          "output_type": "stream",
          "name": "stdout",
          "text": [
            "2023-02-24 05:31:42,053 epoch 47 - iter 1/6 - loss 0.98559757 - samples/sec: 18.47 - lr: 0.077027\n",
            "2023-02-24 05:31:42,835 epoch 47 - iter 2/6 - loss 0.92990884 - samples/sec: 41.25 - lr: 0.076904\n",
            "2023-02-24 05:31:43,623 epoch 47 - iter 3/6 - loss 0.82193445 - samples/sec: 40.98 - lr: 0.076781\n",
            "2023-02-24 05:31:44,478 epoch 47 - iter 4/6 - loss 0.73120308 - samples/sec: 37.53 - lr: 0.076658\n",
            "2023-02-24 05:31:45,261 epoch 47 - iter 5/6 - loss 0.69057764 - samples/sec: 41.19 - lr: 0.076536\n",
            "2023-02-24 05:31:45,585 epoch 47 - iter 6/6 - loss 0.69163501 - samples/sec: 100.16 - lr: 0.076413\n",
            "2023-02-24 05:31:45,590 ----------------------------------------------------------------------------------------------------\n",
            "2023-02-24 05:31:45,592 EPOCH 47 done: loss 0.6916 - lr 0.076413\n"
          ]
        },
        {
          "output_type": "stream",
          "name": "stderr",
          "text": [
            "100%|██████████| 1/1 [00:00<00:00,  1.47it/s]"
          ]
        },
        {
          "output_type": "stream",
          "name": "stdout",
          "text": [
            "2023-02-24 05:31:46,295 Evaluating as a multi-label problem: False\n",
            "2023-02-24 05:31:46,315 DEV : loss 0.42921242117881775 - f1-score (micro avg)  0.0567\n",
            "2023-02-24 05:31:46,319 BAD EPOCHS (no improvement): 4\n",
            "2023-02-24 05:31:46,327 ----------------------------------------------------------------------------------------------------\n"
          ]
        },
        {
          "output_type": "stream",
          "name": "stderr",
          "text": [
            "\n"
          ]
        },
        {
          "output_type": "stream",
          "name": "stdout",
          "text": [
            "2023-02-24 05:31:47,132 epoch 48 - iter 1/6 - loss 0.68718951 - samples/sec: 39.92 - lr: 0.076290\n",
            "2023-02-24 05:31:48,861 epoch 48 - iter 2/6 - loss 0.72984776 - samples/sec: 18.56 - lr: 0.076167\n",
            "2023-02-24 05:31:49,641 epoch 48 - iter 3/6 - loss 0.75893860 - samples/sec: 41.29 - lr: 0.076044\n",
            "2023-02-24 05:31:50,485 epoch 48 - iter 4/6 - loss 0.76905972 - samples/sec: 38.15 - lr: 0.075921\n",
            "2023-02-24 05:31:51,327 epoch 48 - iter 5/6 - loss 0.74237160 - samples/sec: 38.15 - lr: 0.075799\n",
            "2023-02-24 05:31:51,701 epoch 48 - iter 6/6 - loss 0.74542315 - samples/sec: 86.40 - lr: 0.075676\n",
            "2023-02-24 05:31:51,706 ----------------------------------------------------------------------------------------------------\n",
            "2023-02-24 05:31:51,709 EPOCH 48 done: loss 0.7454 - lr 0.075676\n"
          ]
        },
        {
          "output_type": "stream",
          "name": "stderr",
          "text": [
            "100%|██████████| 1/1 [00:00<00:00,  1.48it/s]"
          ]
        },
        {
          "output_type": "stream",
          "name": "stdout",
          "text": [
            "2023-02-24 05:31:52,399 Evaluating as a multi-label problem: False\n",
            "2023-02-24 05:31:52,420 DEV : loss 0.698757529258728 - f1-score (micro avg)  0.0206\n",
            "2023-02-24 05:31:52,423 BAD EPOCHS (no improvement): 4\n",
            "2023-02-24 05:31:52,431 ----------------------------------------------------------------------------------------------------\n"
          ]
        },
        {
          "output_type": "stream",
          "name": "stderr",
          "text": [
            "\n"
          ]
        },
        {
          "output_type": "stream",
          "name": "stdout",
          "text": [
            "2023-02-24 05:31:53,302 epoch 49 - iter 1/6 - loss 0.88598591 - samples/sec: 36.93 - lr: 0.075553\n",
            "2023-02-24 05:31:54,095 epoch 49 - iter 2/6 - loss 0.77201681 - samples/sec: 40.56 - lr: 0.075430\n",
            "2023-02-24 05:31:54,947 epoch 49 - iter 3/6 - loss 0.80070208 - samples/sec: 37.77 - lr: 0.075307\n",
            "2023-02-24 05:31:55,757 epoch 49 - iter 4/6 - loss 0.73483399 - samples/sec: 39.85 - lr: 0.075184\n",
            "2023-02-24 05:31:57,501 epoch 49 - iter 5/6 - loss 0.76393200 - samples/sec: 18.43 - lr: 0.075061\n",
            "2023-02-24 05:31:57,673 epoch 49 - iter 6/6 - loss 0.77878075 - samples/sec: 188.39 - lr: 0.074939\n",
            "2023-02-24 05:31:57,674 ----------------------------------------------------------------------------------------------------\n",
            "2023-02-24 05:31:57,678 EPOCH 49 done: loss 0.7788 - lr 0.074939\n"
          ]
        },
        {
          "output_type": "stream",
          "name": "stderr",
          "text": [
            "100%|██████████| 1/1 [00:00<00:00,  1.65it/s]"
          ]
        },
        {
          "output_type": "stream",
          "name": "stdout",
          "text": [
            "2023-02-24 05:31:58,301 Evaluating as a multi-label problem: False\n",
            "2023-02-24 05:31:58,315 DEV : loss 0.6115962266921997 - f1-score (micro avg)  0.0825\n",
            "2023-02-24 05:31:58,319 BAD EPOCHS (no improvement): 4\n",
            "2023-02-24 05:31:58,324 ----------------------------------------------------------------------------------------------------\n"
          ]
        },
        {
          "output_type": "stream",
          "name": "stderr",
          "text": [
            "\n"
          ]
        },
        {
          "output_type": "stream",
          "name": "stdout",
          "text": [
            "2023-02-24 05:31:59,095 epoch 50 - iter 1/6 - loss 0.96476389 - samples/sec: 41.66 - lr: 0.074816\n",
            "2023-02-24 05:32:00,859 epoch 50 - iter 2/6 - loss 0.89600247 - samples/sec: 18.17 - lr: 0.074693\n",
            "2023-02-24 05:32:01,609 epoch 50 - iter 3/6 - loss 0.88140239 - samples/sec: 42.86 - lr: 0.074570\n",
            "2023-02-24 05:32:02,403 epoch 50 - iter 4/6 - loss 0.78774344 - samples/sec: 40.39 - lr: 0.074447\n",
            "2023-02-24 05:32:03,189 epoch 50 - iter 5/6 - loss 0.79013652 - samples/sec: 40.90 - lr: 0.074324\n",
            "2023-02-24 05:32:03,328 epoch 50 - iter 6/6 - loss 0.78611998 - samples/sec: 239.73 - lr: 0.074201\n",
            "2023-02-24 05:32:03,331 ----------------------------------------------------------------------------------------------------\n",
            "2023-02-24 05:32:03,335 EPOCH 50 done: loss 0.7861 - lr 0.074201\n"
          ]
        },
        {
          "output_type": "stream",
          "name": "stderr",
          "text": [
            "100%|██████████| 1/1 [00:00<00:00,  1.67it/s]"
          ]
        },
        {
          "output_type": "stream",
          "name": "stdout",
          "text": [
            "2023-02-24 05:32:03,955 Evaluating as a multi-label problem: False\n",
            "2023-02-24 05:32:03,970 DEV : loss 0.7396592497825623 - f1-score (micro avg)  0.0361\n",
            "2023-02-24 05:32:03,973 BAD EPOCHS (no improvement): 4\n",
            "2023-02-24 05:32:03,981 ----------------------------------------------------------------------------------------------------\n"
          ]
        },
        {
          "output_type": "stream",
          "name": "stderr",
          "text": [
            "\n"
          ]
        },
        {
          "output_type": "stream",
          "name": "stdout",
          "text": [
            "2023-02-24 05:32:04,716 epoch 51 - iter 1/6 - loss 0.76936893 - samples/sec: 43.70 - lr: 0.074079\n",
            "2023-02-24 05:32:06,510 epoch 51 - iter 2/6 - loss 0.69494147 - samples/sec: 17.87 - lr: 0.073956\n",
            "2023-02-24 05:32:07,313 epoch 51 - iter 3/6 - loss 0.70478113 - samples/sec: 40.05 - lr: 0.073833\n",
            "2023-02-24 05:32:08,192 epoch 51 - iter 4/6 - loss 0.70181554 - samples/sec: 36.64 - lr: 0.073710\n",
            "2023-02-24 05:32:08,978 epoch 51 - iter 5/6 - loss 0.69263709 - samples/sec: 40.82 - lr: 0.073587\n",
            "2023-02-24 05:32:09,186 epoch 51 - iter 6/6 - loss 0.68863708 - samples/sec: 159.78 - lr: 0.073464\n",
            "2023-02-24 05:32:09,194 ----------------------------------------------------------------------------------------------------\n",
            "2023-02-24 05:32:09,200 EPOCH 51 done: loss 0.6886 - lr 0.073464\n"
          ]
        },
        {
          "output_type": "stream",
          "name": "stderr",
          "text": [
            "100%|██████████| 1/1 [00:00<00:00,  1.50it/s]"
          ]
        },
        {
          "output_type": "stream",
          "name": "stdout",
          "text": [
            "2023-02-24 05:32:09,893 Evaluating as a multi-label problem: False\n",
            "2023-02-24 05:32:09,915 DEV : loss 0.45251795649528503 - f1-score (micro avg)  0.0799\n",
            "2023-02-24 05:32:09,920 BAD EPOCHS (no improvement): 4\n",
            "2023-02-24 05:32:09,928 ----------------------------------------------------------------------------------------------------\n"
          ]
        },
        {
          "output_type": "stream",
          "name": "stderr",
          "text": [
            "\n"
          ]
        },
        {
          "output_type": "stream",
          "name": "stdout",
          "text": [
            "2023-02-24 05:32:10,724 epoch 52 - iter 1/6 - loss 0.91545611 - samples/sec: 40.32 - lr: 0.073342\n",
            "2023-02-24 05:32:12,464 epoch 52 - iter 2/6 - loss 0.82821897 - samples/sec: 18.42 - lr: 0.073219\n",
            "2023-02-24 05:32:13,283 epoch 52 - iter 3/6 - loss 0.74431626 - samples/sec: 39.17 - lr: 0.073096\n",
            "2023-02-24 05:32:14,039 epoch 52 - iter 4/6 - loss 0.70306555 - samples/sec: 42.42 - lr: 0.072973\n",
            "2023-02-24 05:32:14,843 epoch 52 - iter 5/6 - loss 0.65398850 - samples/sec: 39.92 - lr: 0.072850\n",
            "2023-02-24 05:32:15,046 epoch 52 - iter 6/6 - loss 0.66837053 - samples/sec: 160.46 - lr: 0.072727\n",
            "2023-02-24 05:32:15,049 ----------------------------------------------------------------------------------------------------\n",
            "2023-02-24 05:32:15,051 EPOCH 52 done: loss 0.6684 - lr 0.072727\n"
          ]
        },
        {
          "output_type": "stream",
          "name": "stderr",
          "text": [
            "100%|██████████| 1/1 [00:00<00:00,  1.63it/s]"
          ]
        },
        {
          "output_type": "stream",
          "name": "stdout",
          "text": [
            "2023-02-24 05:32:15,683 Evaluating as a multi-label problem: False\n",
            "2023-02-24 05:32:15,695 DEV : loss 0.6884668469429016 - f1-score (micro avg)  0.0335\n",
            "2023-02-24 05:32:15,698 BAD EPOCHS (no improvement): 4\n",
            "2023-02-24 05:32:15,707 ----------------------------------------------------------------------------------------------------\n"
          ]
        },
        {
          "output_type": "stream",
          "name": "stderr",
          "text": [
            "\n"
          ]
        },
        {
          "output_type": "stream",
          "name": "stdout",
          "text": [
            "2023-02-24 05:32:16,450 epoch 53 - iter 1/6 - loss 0.75617440 - samples/sec: 43.20 - lr: 0.072604\n",
            "2023-02-24 05:32:18,216 epoch 53 - iter 2/6 - loss 0.67968062 - samples/sec: 18.14 - lr: 0.072482\n",
            "2023-02-24 05:32:18,969 epoch 53 - iter 3/6 - loss 0.62471406 - samples/sec: 42.58 - lr: 0.072359\n",
            "2023-02-24 05:32:19,685 epoch 53 - iter 4/6 - loss 0.70087417 - samples/sec: 44.87 - lr: 0.072236\n",
            "2023-02-24 05:32:20,507 epoch 53 - iter 5/6 - loss 0.69592095 - samples/sec: 39.04 - lr: 0.072113\n",
            "2023-02-24 05:32:20,884 epoch 53 - iter 6/6 - loss 0.68848413 - samples/sec: 86.56 - lr: 0.071990\n",
            "2023-02-24 05:32:20,895 ----------------------------------------------------------------------------------------------------\n",
            "2023-02-24 05:32:20,897 EPOCH 53 done: loss 0.6885 - lr 0.071990\n"
          ]
        },
        {
          "output_type": "stream",
          "name": "stderr",
          "text": [
            "100%|██████████| 1/1 [00:00<00:00,  1.44it/s]"
          ]
        },
        {
          "output_type": "stream",
          "name": "stdout",
          "text": [
            "2023-02-24 05:32:21,611 Evaluating as a multi-label problem: False\n",
            "2023-02-24 05:32:21,627 DEV : loss 0.33331063389778137 - f1-score (micro avg)  0.0644\n",
            "2023-02-24 05:32:21,631 BAD EPOCHS (no improvement): 4\n",
            "2023-02-24 05:32:21,635 ----------------------------------------------------------------------------------------------------\n"
          ]
        },
        {
          "output_type": "stream",
          "name": "stderr",
          "text": [
            "\n"
          ]
        },
        {
          "output_type": "stream",
          "name": "stdout",
          "text": [
            "2023-02-24 05:32:22,428 epoch 54 - iter 1/6 - loss 0.40701927 - samples/sec: 40.61 - lr: 0.071867\n",
            "2023-02-24 05:32:24,259 epoch 54 - iter 2/6 - loss 0.59537941 - samples/sec: 17.51 - lr: 0.071744\n",
            "2023-02-24 05:32:25,073 epoch 54 - iter 3/6 - loss 0.55484875 - samples/sec: 39.68 - lr: 0.071622\n",
            "2023-02-24 05:32:25,979 epoch 54 - iter 4/6 - loss 0.56743417 - samples/sec: 35.62 - lr: 0.071499\n",
            "2023-02-24 05:32:26,676 epoch 54 - iter 5/6 - loss 0.62356237 - samples/sec: 46.44 - lr: 0.071376\n",
            "2023-02-24 05:32:26,840 epoch 54 - iter 6/6 - loss 0.62404023 - samples/sec: 203.50 - lr: 0.071253\n",
            "2023-02-24 05:32:26,845 ----------------------------------------------------------------------------------------------------\n",
            "2023-02-24 05:32:26,847 EPOCH 54 done: loss 0.6240 - lr 0.071253\n"
          ]
        },
        {
          "output_type": "stream",
          "name": "stderr",
          "text": [
            "100%|██████████| 1/1 [00:00<00:00,  1.62it/s]"
          ]
        },
        {
          "output_type": "stream",
          "name": "stdout",
          "text": [
            "2023-02-24 05:32:27,483 Evaluating as a multi-label problem: False\n",
            "2023-02-24 05:32:27,496 DEV : loss 0.5105851888656616 - f1-score (micro avg)  0.0541\n",
            "2023-02-24 05:32:27,500 BAD EPOCHS (no improvement): 4\n",
            "2023-02-24 05:32:27,506 ----------------------------------------------------------------------------------------------------\n"
          ]
        },
        {
          "output_type": "stream",
          "name": "stderr",
          "text": [
            "\n"
          ]
        },
        {
          "output_type": "stream",
          "name": "stdout",
          "text": [
            "2023-02-24 05:32:28,296 epoch 55 - iter 1/6 - loss 0.51121100 - samples/sec: 40.85 - lr: 0.071130\n",
            "2023-02-24 05:32:29,073 epoch 55 - iter 2/6 - loss 0.50939970 - samples/sec: 41.26 - lr: 0.071007\n",
            "2023-02-24 05:32:29,936 epoch 55 - iter 3/6 - loss 0.45755229 - samples/sec: 37.15 - lr: 0.070885\n",
            "2023-02-24 05:32:31,663 epoch 55 - iter 4/6 - loss 0.49053856 - samples/sec: 18.55 - lr: 0.070762\n",
            "2023-02-24 05:32:32,361 epoch 55 - iter 5/6 - loss 0.60477859 - samples/sec: 46.16 - lr: 0.070639\n",
            "2023-02-24 05:32:32,453 epoch 55 - iter 6/6 - loss 0.61146701 - samples/sec: 360.12 - lr: 0.070516\n",
            "2023-02-24 05:32:32,457 ----------------------------------------------------------------------------------------------------\n",
            "2023-02-24 05:32:32,459 EPOCH 55 done: loss 0.6115 - lr 0.070516\n"
          ]
        },
        {
          "output_type": "stream",
          "name": "stderr",
          "text": [
            "100%|██████████| 1/1 [00:00<00:00,  1.65it/s]"
          ]
        },
        {
          "output_type": "stream",
          "name": "stdout",
          "text": [
            "2023-02-24 05:32:33,083 Evaluating as a multi-label problem: False\n",
            "2023-02-24 05:32:33,100 DEV : loss 0.4167865812778473 - f1-score (micro avg)  0.0979\n",
            "2023-02-24 05:32:33,103 BAD EPOCHS (no improvement): 4\n",
            "2023-02-24 05:32:33,107 ----------------------------------------------------------------------------------------------------\n"
          ]
        },
        {
          "output_type": "stream",
          "name": "stderr",
          "text": [
            "\n"
          ]
        },
        {
          "output_type": "stream",
          "name": "stdout",
          "text": [
            "2023-02-24 05:32:33,900 epoch 56 - iter 1/6 - loss 0.57526355 - samples/sec: 40.48 - lr: 0.070393\n",
            "2023-02-24 05:32:34,621 epoch 56 - iter 2/6 - loss 0.56303443 - samples/sec: 44.52 - lr: 0.070270\n",
            "2023-02-24 05:32:35,466 epoch 56 - iter 3/6 - loss 0.60221517 - samples/sec: 37.92 - lr: 0.070147\n",
            "2023-02-24 05:32:36,222 epoch 56 - iter 4/6 - loss 0.63332164 - samples/sec: 42.52 - lr: 0.070025\n",
            "2023-02-24 05:32:38,058 epoch 56 - iter 5/6 - loss 0.63201487 - samples/sec: 17.45 - lr: 0.069902\n",
            "2023-02-24 05:32:38,326 epoch 56 - iter 6/6 - loss 0.63211487 - samples/sec: 121.53 - lr: 0.069779\n",
            "2023-02-24 05:32:38,334 ----------------------------------------------------------------------------------------------------\n",
            "2023-02-24 05:32:38,336 EPOCH 56 done: loss 0.6321 - lr 0.069779\n"
          ]
        },
        {
          "output_type": "stream",
          "name": "stderr",
          "text": [
            "100%|██████████| 1/1 [00:00<00:00,  1.49it/s]"
          ]
        },
        {
          "output_type": "stream",
          "name": "stdout",
          "text": [
            "2023-02-24 05:32:39,024 Evaluating as a multi-label problem: False\n",
            "2023-02-24 05:32:39,040 DEV : loss 0.5181393027305603 - f1-score (micro avg)  0.0567\n",
            "2023-02-24 05:32:39,047 BAD EPOCHS (no improvement): 4\n",
            "2023-02-24 05:32:39,052 ----------------------------------------------------------------------------------------------------\n"
          ]
        },
        {
          "output_type": "stream",
          "name": "stderr",
          "text": [
            "\n"
          ]
        },
        {
          "output_type": "stream",
          "name": "stdout",
          "text": [
            "2023-02-24 05:32:39,847 epoch 57 - iter 1/6 - loss 0.54361347 - samples/sec: 40.38 - lr: 0.069656\n",
            "2023-02-24 05:32:40,661 epoch 57 - iter 2/6 - loss 0.62081359 - samples/sec: 39.68 - lr: 0.069533\n",
            "2023-02-24 05:32:42,395 epoch 57 - iter 3/6 - loss 0.55791769 - samples/sec: 18.53 - lr: 0.069410\n",
            "2023-02-24 05:32:43,226 epoch 57 - iter 4/6 - loss 0.66901267 - samples/sec: 38.59 - lr: 0.069287\n",
            "2023-02-24 05:32:44,022 epoch 57 - iter 5/6 - loss 0.64509499 - samples/sec: 40.29 - lr: 0.069165\n",
            "2023-02-24 05:32:44,287 epoch 57 - iter 6/6 - loss 0.63754216 - samples/sec: 121.85 - lr: 0.069042\n",
            "2023-02-24 05:32:44,291 ----------------------------------------------------------------------------------------------------\n",
            "2023-02-24 05:32:44,295 EPOCH 57 done: loss 0.6375 - lr 0.069042\n"
          ]
        },
        {
          "output_type": "stream",
          "name": "stderr",
          "text": [
            "100%|██████████| 1/1 [00:00<00:00,  1.66it/s]"
          ]
        },
        {
          "output_type": "stream",
          "name": "stdout",
          "text": [
            "2023-02-24 05:32:44,911 Evaluating as a multi-label problem: False\n",
            "2023-02-24 05:32:44,925 DEV : loss 0.5150637626647949 - f1-score (micro avg)  0.0722\n",
            "2023-02-24 05:32:44,928 BAD EPOCHS (no improvement): 4\n",
            "2023-02-24 05:32:44,934 ----------------------------------------------------------------------------------------------------\n"
          ]
        },
        {
          "output_type": "stream",
          "name": "stderr",
          "text": [
            "\n"
          ]
        },
        {
          "output_type": "stream",
          "name": "stdout",
          "text": [
            "2023-02-24 05:32:45,683 epoch 58 - iter 1/6 - loss 0.71775839 - samples/sec: 42.84 - lr: 0.068919\n",
            "2023-02-24 05:32:47,433 epoch 58 - iter 2/6 - loss 0.60440074 - samples/sec: 18.31 - lr: 0.068796\n",
            "2023-02-24 05:32:48,235 epoch 58 - iter 3/6 - loss 0.55371150 - samples/sec: 40.03 - lr: 0.068673\n",
            "2023-02-24 05:32:49,085 epoch 58 - iter 4/6 - loss 0.52635856 - samples/sec: 37.86 - lr: 0.068550\n",
            "2023-02-24 05:32:49,846 epoch 58 - iter 5/6 - loss 0.53691945 - samples/sec: 42.38 - lr: 0.068428\n",
            "2023-02-24 05:32:50,124 epoch 58 - iter 6/6 - loss 0.55054946 - samples/sec: 116.54 - lr: 0.068305\n",
            "2023-02-24 05:32:50,128 ----------------------------------------------------------------------------------------------------\n",
            "2023-02-24 05:32:50,131 EPOCH 58 done: loss 0.5505 - lr 0.068305\n"
          ]
        },
        {
          "output_type": "stream",
          "name": "stderr",
          "text": [
            "100%|██████████| 1/1 [00:00<00:00,  1.60it/s]"
          ]
        },
        {
          "output_type": "stream",
          "name": "stdout",
          "text": [
            "2023-02-24 05:32:50,774 Evaluating as a multi-label problem: False\n",
            "2023-02-24 05:32:50,788 DEV : loss 0.46588560938835144 - f1-score (micro avg)  0.0619\n",
            "2023-02-24 05:32:50,790 BAD EPOCHS (no improvement): 4\n",
            "2023-02-24 05:32:50,797 ----------------------------------------------------------------------------------------------------\n"
          ]
        },
        {
          "output_type": "stream",
          "name": "stderr",
          "text": [
            "\n"
          ]
        },
        {
          "output_type": "stream",
          "name": "stdout",
          "text": [
            "2023-02-24 05:32:51,567 epoch 59 - iter 1/6 - loss 0.46816119 - samples/sec: 41.72 - lr: 0.068182\n",
            "2023-02-24 05:32:53,409 epoch 59 - iter 2/6 - loss 0.62702876 - samples/sec: 17.41 - lr: 0.068059\n",
            "2023-02-24 05:32:54,201 epoch 59 - iter 3/6 - loss 0.62188149 - samples/sec: 40.77 - lr: 0.067936\n",
            "2023-02-24 05:32:55,004 epoch 59 - iter 4/6 - loss 0.63548987 - samples/sec: 40.27 - lr: 0.067813\n",
            "2023-02-24 05:32:55,865 epoch 59 - iter 5/6 - loss 0.65721695 - samples/sec: 37.47 - lr: 0.067690\n",
            "2023-02-24 05:32:56,169 epoch 59 - iter 6/6 - loss 0.66194985 - samples/sec: 108.09 - lr: 0.067568\n",
            "2023-02-24 05:32:56,178 ----------------------------------------------------------------------------------------------------\n",
            "2023-02-24 05:32:56,181 EPOCH 59 done: loss 0.6619 - lr 0.067568\n"
          ]
        },
        {
          "output_type": "stream",
          "name": "stderr",
          "text": [
            "100%|██████████| 1/1 [00:00<00:00,  1.64it/s]"
          ]
        },
        {
          "output_type": "stream",
          "name": "stdout",
          "text": [
            "2023-02-24 05:32:56,810 Evaluating as a multi-label problem: False\n",
            "2023-02-24 05:32:56,823 DEV : loss 0.5793752074241638 - f1-score (micro avg)  0.0361\n",
            "2023-02-24 05:32:56,826 BAD EPOCHS (no improvement): 4\n",
            "2023-02-24 05:32:56,834 ----------------------------------------------------------------------------------------------------\n"
          ]
        },
        {
          "output_type": "stream",
          "name": "stderr",
          "text": [
            "\n"
          ]
        },
        {
          "output_type": "stream",
          "name": "stdout",
          "text": [
            "2023-02-24 05:32:58,573 epoch 60 - iter 1/6 - loss 0.58023462 - samples/sec: 18.47 - lr: 0.067445\n",
            "2023-02-24 05:32:59,365 epoch 60 - iter 2/6 - loss 0.50504616 - samples/sec: 40.65 - lr: 0.067322\n",
            "2023-02-24 05:33:00,203 epoch 60 - iter 3/6 - loss 0.65498761 - samples/sec: 38.45 - lr: 0.067199\n",
            "2023-02-24 05:33:00,976 epoch 60 - iter 4/6 - loss 0.62063124 - samples/sec: 41.65 - lr: 0.067076\n",
            "2023-02-24 05:33:01,743 epoch 60 - iter 5/6 - loss 0.63041613 - samples/sec: 42.07 - lr: 0.066953\n",
            "2023-02-24 05:33:01,814 epoch 60 - iter 6/6 - loss 0.62832073 - samples/sec: 481.08 - lr: 0.066830\n",
            "2023-02-24 05:33:01,817 ----------------------------------------------------------------------------------------------------\n",
            "2023-02-24 05:33:01,823 EPOCH 60 done: loss 0.6283 - lr 0.066830\n"
          ]
        },
        {
          "output_type": "stream",
          "name": "stderr",
          "text": [
            "100%|██████████| 1/1 [00:00<00:00,  1.66it/s]"
          ]
        },
        {
          "output_type": "stream",
          "name": "stdout",
          "text": [
            "2023-02-24 05:33:02,451 Evaluating as a multi-label problem: False\n",
            "2023-02-24 05:33:02,468 DEV : loss 0.5671535730361938 - f1-score (micro avg)  0.0644\n",
            "2023-02-24 05:33:02,473 BAD EPOCHS (no improvement): 4\n",
            "2023-02-24 05:33:02,477 ----------------------------------------------------------------------------------------------------\n"
          ]
        },
        {
          "output_type": "stream",
          "name": "stderr",
          "text": [
            "\n"
          ]
        },
        {
          "output_type": "stream",
          "name": "stdout",
          "text": [
            "2023-02-24 05:33:03,168 epoch 61 - iter 1/6 - loss 0.72596799 - samples/sec: 46.44 - lr: 0.066708\n",
            "2023-02-24 05:33:04,021 epoch 61 - iter 2/6 - loss 0.56061222 - samples/sec: 37.69 - lr: 0.066585\n",
            "2023-02-24 05:33:04,820 epoch 61 - iter 3/6 - loss 0.57065264 - samples/sec: 40.33 - lr: 0.066462\n",
            "2023-02-24 05:33:05,628 epoch 61 - iter 4/6 - loss 0.55105063 - samples/sec: 39.83 - lr: 0.066339\n",
            "2023-02-24 05:33:06,395 epoch 61 - iter 5/6 - loss 0.58913332 - samples/sec: 41.83 - lr: 0.066216\n",
            "2023-02-24 05:33:07,270 epoch 61 - iter 6/6 - loss 0.59497657 - samples/sec: 36.84 - lr: 0.066093\n",
            "2023-02-24 05:33:07,277 ----------------------------------------------------------------------------------------------------\n",
            "2023-02-24 05:33:07,279 EPOCH 61 done: loss 0.5950 - lr 0.066093\n"
          ]
        },
        {
          "output_type": "stream",
          "name": "stderr",
          "text": [
            "100%|██████████| 1/1 [00:00<00:00,  1.46it/s]"
          ]
        },
        {
          "output_type": "stream",
          "name": "stdout",
          "text": [
            "2023-02-24 05:33:07,982 Evaluating as a multi-label problem: False\n",
            "2023-02-24 05:33:07,999 DEV : loss 0.3914168179035187 - f1-score (micro avg)  0.1366\n",
            "2023-02-24 05:33:08,007 BAD EPOCHS (no improvement): 4\n",
            "2023-02-24 05:33:08,013 ----------------------------------------------------------------------------------------------------\n"
          ]
        },
        {
          "output_type": "stream",
          "name": "stderr",
          "text": [
            "\n"
          ]
        },
        {
          "output_type": "stream",
          "name": "stdout",
          "text": [
            "2023-02-24 05:33:08,860 epoch 62 - iter 1/6 - loss 0.47262170 - samples/sec: 37.93 - lr: 0.065971\n",
            "2023-02-24 05:33:09,666 epoch 62 - iter 2/6 - loss 0.52691392 - samples/sec: 39.84 - lr: 0.065848\n",
            "2023-02-24 05:33:11,509 epoch 62 - iter 3/6 - loss 0.55201700 - samples/sec: 17.41 - lr: 0.065725\n",
            "2023-02-24 05:33:12,343 epoch 62 - iter 4/6 - loss 0.47962556 - samples/sec: 38.57 - lr: 0.065602\n",
            "2023-02-24 05:33:13,110 epoch 62 - iter 5/6 - loss 0.51115672 - samples/sec: 41.97 - lr: 0.065479\n",
            "2023-02-24 05:33:13,282 epoch 62 - iter 6/6 - loss 0.51081983 - samples/sec: 187.83 - lr: 0.065356\n",
            "2023-02-24 05:33:13,285 ----------------------------------------------------------------------------------------------------\n",
            "2023-02-24 05:33:13,287 EPOCH 62 done: loss 0.5108 - lr 0.065356\n"
          ]
        },
        {
          "output_type": "stream",
          "name": "stderr",
          "text": [
            "100%|██████████| 1/1 [00:00<00:00,  1.64it/s]"
          ]
        },
        {
          "output_type": "stream",
          "name": "stdout",
          "text": [
            "2023-02-24 05:33:13,915 Evaluating as a multi-label problem: False\n",
            "2023-02-24 05:33:13,929 DEV : loss 0.4157488942146301 - f1-score (micro avg)  0.0902\n",
            "2023-02-24 05:33:13,932 BAD EPOCHS (no improvement): 4\n",
            "2023-02-24 05:33:13,949 ----------------------------------------------------------------------------------------------------\n"
          ]
        },
        {
          "output_type": "stream",
          "name": "stderr",
          "text": [
            "\n"
          ]
        },
        {
          "output_type": "stream",
          "name": "stdout",
          "text": [
            "2023-02-24 05:33:14,773 epoch 63 - iter 1/6 - loss 0.45812988 - samples/sec: 38.92 - lr: 0.065233\n",
            "2023-02-24 05:33:15,585 epoch 63 - iter 2/6 - loss 0.59081621 - samples/sec: 39.65 - lr: 0.065111\n",
            "2023-02-24 05:33:17,346 epoch 63 - iter 3/6 - loss 0.57993000 - samples/sec: 18.20 - lr: 0.064988\n",
            "2023-02-24 05:33:18,134 epoch 63 - iter 4/6 - loss 0.60289481 - samples/sec: 40.72 - lr: 0.064865\n",
            "2023-02-24 05:33:18,912 epoch 63 - iter 5/6 - loss 0.61300313 - samples/sec: 41.22 - lr: 0.064742\n",
            "2023-02-24 05:33:19,122 epoch 63 - iter 6/6 - loss 0.61074577 - samples/sec: 153.85 - lr: 0.064619\n",
            "2023-02-24 05:33:19,126 ----------------------------------------------------------------------------------------------------\n",
            "2023-02-24 05:33:19,128 EPOCH 63 done: loss 0.6107 - lr 0.064619\n"
          ]
        },
        {
          "output_type": "stream",
          "name": "stderr",
          "text": [
            "100%|██████████| 1/1 [00:00<00:00,  1.66it/s]"
          ]
        },
        {
          "output_type": "stream",
          "name": "stdout",
          "text": [
            "2023-02-24 05:33:19,753 Evaluating as a multi-label problem: False\n",
            "2023-02-24 05:33:19,766 DEV : loss 0.35170140862464905 - f1-score (micro avg)  0.0902\n",
            "2023-02-24 05:33:19,770 BAD EPOCHS (no improvement): 4\n",
            "2023-02-24 05:33:19,778 ----------------------------------------------------------------------------------------------------\n"
          ]
        },
        {
          "output_type": "stream",
          "name": "stderr",
          "text": [
            "\n"
          ]
        },
        {
          "output_type": "stream",
          "name": "stdout",
          "text": [
            "2023-02-24 05:33:20,524 epoch 64 - iter 1/6 - loss 0.51354374 - samples/sec: 43.08 - lr: 0.064496\n",
            "2023-02-24 05:33:21,317 epoch 64 - iter 2/6 - loss 0.62447114 - samples/sec: 40.46 - lr: 0.064373\n",
            "2023-02-24 05:33:22,218 epoch 64 - iter 3/6 - loss 0.62030436 - samples/sec: 35.83 - lr: 0.064251\n",
            "2023-02-24 05:33:23,057 epoch 64 - iter 4/6 - loss 0.62189670 - samples/sec: 38.46 - lr: 0.064128\n",
            "2023-02-24 05:33:24,895 epoch 64 - iter 5/6 - loss 0.65005765 - samples/sec: 17.48 - lr: 0.064005\n",
            "2023-02-24 05:33:25,146 epoch 64 - iter 6/6 - loss 0.64718154 - samples/sec: 131.45 - lr: 0.063882\n",
            "2023-02-24 05:33:25,152 ----------------------------------------------------------------------------------------------------\n",
            "2023-02-24 05:33:25,157 EPOCH 64 done: loss 0.6472 - lr 0.063882\n"
          ]
        },
        {
          "output_type": "stream",
          "name": "stderr",
          "text": [
            "100%|██████████| 1/1 [00:00<00:00,  1.44it/s]"
          ]
        },
        {
          "output_type": "stream",
          "name": "stdout",
          "text": [
            "2023-02-24 05:33:25,868 Evaluating as a multi-label problem: False\n",
            "2023-02-24 05:33:25,885 DEV : loss 0.4541946351528168 - f1-score (micro avg)  0.0876\n",
            "2023-02-24 05:33:25,889 BAD EPOCHS (no improvement): 4\n",
            "2023-02-24 05:33:25,895 ----------------------------------------------------------------------------------------------------\n"
          ]
        },
        {
          "output_type": "stream",
          "name": "stderr",
          "text": [
            "\n"
          ]
        },
        {
          "output_type": "stream",
          "name": "stdout",
          "text": [
            "2023-02-24 05:33:26,754 epoch 65 - iter 1/6 - loss 0.62146006 - samples/sec: 37.35 - lr: 0.063759\n",
            "2023-02-24 05:33:27,597 epoch 65 - iter 2/6 - loss 0.52398523 - samples/sec: 38.21 - lr: 0.063636\n",
            "2023-02-24 05:33:28,392 epoch 65 - iter 3/6 - loss 0.64086123 - samples/sec: 40.54 - lr: 0.063514\n",
            "2023-02-24 05:33:29,160 epoch 65 - iter 4/6 - loss 0.69682290 - samples/sec: 41.80 - lr: 0.063391\n",
            "2023-02-24 05:33:30,912 epoch 65 - iter 5/6 - loss 0.67839217 - samples/sec: 18.29 - lr: 0.063268\n",
            "2023-02-24 05:33:30,978 epoch 65 - iter 6/6 - loss 0.67736307 - samples/sec: 519.61 - lr: 0.063145\n",
            "2023-02-24 05:33:30,980 ----------------------------------------------------------------------------------------------------\n",
            "2023-02-24 05:33:30,984 EPOCH 65 done: loss 0.6774 - lr 0.063145\n"
          ]
        },
        {
          "output_type": "stream",
          "name": "stderr",
          "text": [
            "100%|██████████| 1/1 [00:00<00:00,  1.63it/s]"
          ]
        },
        {
          "output_type": "stream",
          "name": "stdout",
          "text": [
            "2023-02-24 05:33:31,618 Evaluating as a multi-label problem: False\n",
            "2023-02-24 05:33:31,636 DEV : loss 0.6659600734710693 - f1-score (micro avg)  0.0722\n",
            "2023-02-24 05:33:31,639 BAD EPOCHS (no improvement): 4\n",
            "2023-02-24 05:33:31,644 ----------------------------------------------------------------------------------------------------\n"
          ]
        },
        {
          "output_type": "stream",
          "name": "stderr",
          "text": [
            "\n"
          ]
        },
        {
          "output_type": "stream",
          "name": "stdout",
          "text": [
            "2023-02-24 05:33:32,382 epoch 66 - iter 1/6 - loss 0.88632813 - samples/sec: 43.51 - lr: 0.063022\n",
            "2023-02-24 05:33:34,345 epoch 66 - iter 2/6 - loss 0.62594213 - samples/sec: 16.31 - lr: 0.062899\n",
            "2023-02-24 05:33:35,103 epoch 66 - iter 3/6 - loss 0.69327247 - samples/sec: 42.39 - lr: 0.062776\n",
            "2023-02-24 05:33:35,951 epoch 66 - iter 4/6 - loss 0.63671953 - samples/sec: 37.95 - lr: 0.062654\n",
            "2023-02-24 05:33:36,752 epoch 66 - iter 5/6 - loss 0.61427994 - samples/sec: 40.05 - lr: 0.062531\n",
            "2023-02-24 05:33:37,037 epoch 66 - iter 6/6 - loss 0.61105857 - samples/sec: 112.93 - lr: 0.062408\n",
            "2023-02-24 05:33:37,044 ----------------------------------------------------------------------------------------------------\n",
            "2023-02-24 05:33:37,047 EPOCH 66 done: loss 0.6111 - lr 0.062408\n"
          ]
        },
        {
          "output_type": "stream",
          "name": "stderr",
          "text": [
            "100%|██████████| 1/1 [00:00<00:00,  1.48it/s]"
          ]
        },
        {
          "output_type": "stream",
          "name": "stdout",
          "text": [
            "2023-02-24 05:33:37,741 Evaluating as a multi-label problem: False\n",
            "2023-02-24 05:33:37,758 DEV : loss 0.3660067319869995 - f1-score (micro avg)  0.0902\n",
            "2023-02-24 05:33:37,761 BAD EPOCHS (no improvement): 4\n",
            "2023-02-24 05:33:37,766 ----------------------------------------------------------------------------------------------------\n"
          ]
        },
        {
          "output_type": "stream",
          "name": "stderr",
          "text": [
            "\n"
          ]
        },
        {
          "output_type": "stream",
          "name": "stdout",
          "text": [
            "2023-02-24 05:33:38,561 epoch 67 - iter 1/6 - loss 0.60353529 - samples/sec: 40.40 - lr: 0.062285\n",
            "2023-02-24 05:33:39,420 epoch 67 - iter 2/6 - loss 0.49491830 - samples/sec: 37.49 - lr: 0.062162\n",
            "2023-02-24 05:33:40,315 epoch 67 - iter 3/6 - loss 0.51958051 - samples/sec: 35.98 - lr: 0.062039\n",
            "2023-02-24 05:33:42,088 epoch 67 - iter 4/6 - loss 0.64071536 - samples/sec: 18.07 - lr: 0.061916\n",
            "2023-02-24 05:33:42,876 epoch 67 - iter 5/6 - loss 0.63104921 - samples/sec: 40.74 - lr: 0.061794\n",
            "2023-02-24 05:33:43,104 epoch 67 - iter 6/6 - loss 0.62417333 - samples/sec: 144.70 - lr: 0.061671\n",
            "2023-02-24 05:33:43,106 ----------------------------------------------------------------------------------------------------\n",
            "2023-02-24 05:33:43,110 EPOCH 67 done: loss 0.6242 - lr 0.061671\n"
          ]
        },
        {
          "output_type": "stream",
          "name": "stderr",
          "text": [
            "100%|██████████| 1/1 [00:00<00:00,  1.64it/s]"
          ]
        },
        {
          "output_type": "stream",
          "name": "stdout",
          "text": [
            "2023-02-24 05:33:43,735 Evaluating as a multi-label problem: False\n",
            "2023-02-24 05:33:43,748 DEV : loss 0.3874799907207489 - f1-score (micro avg)  0.0696\n",
            "2023-02-24 05:33:43,751 BAD EPOCHS (no improvement): 4\n",
            "2023-02-24 05:33:43,760 ----------------------------------------------------------------------------------------------------\n"
          ]
        },
        {
          "output_type": "stream",
          "name": "stderr",
          "text": [
            "\n"
          ]
        },
        {
          "output_type": "stream",
          "name": "stdout",
          "text": [
            "2023-02-24 05:33:45,496 epoch 68 - iter 1/6 - loss 0.51348637 - samples/sec: 18.45 - lr: 0.061548\n",
            "2023-02-24 05:33:46,281 epoch 68 - iter 2/6 - loss 0.50436659 - samples/sec: 40.94 - lr: 0.061425\n",
            "2023-02-24 05:33:47,091 epoch 68 - iter 3/6 - loss 0.53984406 - samples/sec: 39.64 - lr: 0.061302\n",
            "2023-02-24 05:33:47,811 epoch 68 - iter 4/6 - loss 0.53871631 - samples/sec: 44.67 - lr: 0.061179\n",
            "2023-02-24 05:33:48,595 epoch 68 - iter 5/6 - loss 0.56783663 - samples/sec: 40.89 - lr: 0.061057\n",
            "2023-02-24 05:33:48,866 epoch 68 - iter 6/6 - loss 0.56450326 - samples/sec: 119.24 - lr: 0.060934\n",
            "2023-02-24 05:33:48,870 ----------------------------------------------------------------------------------------------------\n",
            "2023-02-24 05:33:48,873 EPOCH 68 done: loss 0.5645 - lr 0.060934\n"
          ]
        },
        {
          "output_type": "stream",
          "name": "stderr",
          "text": [
            "100%|██████████| 1/1 [00:00<00:00,  1.62it/s]"
          ]
        },
        {
          "output_type": "stream",
          "name": "stdout",
          "text": [
            "2023-02-24 05:33:49,511 Evaluating as a multi-label problem: False\n",
            "2023-02-24 05:33:49,524 DEV : loss 0.2954983711242676 - f1-score (micro avg)  0.1418\n",
            "2023-02-24 05:33:49,527 BAD EPOCHS (no improvement): 4\n",
            "2023-02-24 05:33:49,533 ----------------------------------------------------------------------------------------------------\n"
          ]
        },
        {
          "output_type": "stream",
          "name": "stderr",
          "text": [
            "\n"
          ]
        },
        {
          "output_type": "stream",
          "name": "stdout",
          "text": [
            "2023-02-24 05:33:50,363 epoch 69 - iter 1/6 - loss 1.71198750 - samples/sec: 38.74 - lr: 0.060811\n",
            "2023-02-24 05:33:52,223 epoch 69 - iter 2/6 - loss 1.42266520 - samples/sec: 17.26 - lr: 0.060688\n",
            "2023-02-24 05:33:53,032 epoch 69 - iter 3/6 - loss 1.24608828 - samples/sec: 39.91 - lr: 0.060565\n",
            "2023-02-24 05:33:53,875 epoch 69 - iter 4/6 - loss 1.09051256 - samples/sec: 38.31 - lr: 0.060442\n",
            "2023-02-24 05:33:54,709 epoch 69 - iter 5/6 - loss 0.98921717 - samples/sec: 38.73 - lr: 0.060319\n",
            "2023-02-24 05:33:54,861 epoch 69 - iter 6/6 - loss 0.98308873 - samples/sec: 220.96 - lr: 0.060197\n",
            "2023-02-24 05:33:54,867 ----------------------------------------------------------------------------------------------------\n",
            "2023-02-24 05:33:54,871 EPOCH 69 done: loss 0.9831 - lr 0.060197\n"
          ]
        },
        {
          "output_type": "stream",
          "name": "stderr",
          "text": [
            "100%|██████████| 1/1 [00:00<00:00,  1.48it/s]"
          ]
        },
        {
          "output_type": "stream",
          "name": "stdout",
          "text": [
            "2023-02-24 05:33:55,563 Evaluating as a multi-label problem: False\n",
            "2023-02-24 05:33:55,580 DEV : loss 0.6990436911582947 - f1-score (micro avg)  0.0155\n",
            "2023-02-24 05:33:55,583 BAD EPOCHS (no improvement): 4\n",
            "2023-02-24 05:33:55,589 ----------------------------------------------------------------------------------------------------\n"
          ]
        },
        {
          "output_type": "stream",
          "name": "stderr",
          "text": [
            "\n"
          ]
        },
        {
          "output_type": "stream",
          "name": "stdout",
          "text": [
            "2023-02-24 05:33:56,483 epoch 70 - iter 1/6 - loss 0.77469917 - samples/sec: 35.91 - lr: 0.060074\n",
            "2023-02-24 05:33:57,181 epoch 70 - iter 2/6 - loss 0.96198061 - samples/sec: 46.05 - lr: 0.059951\n",
            "2023-02-24 05:33:58,002 epoch 70 - iter 3/6 - loss 0.96604950 - samples/sec: 39.20 - lr: 0.059828\n",
            "2023-02-24 05:33:58,816 epoch 70 - iter 4/6 - loss 0.91219017 - samples/sec: 39.55 - lr: 0.059705\n",
            "2023-02-24 05:34:00,570 epoch 70 - iter 5/6 - loss 0.81866123 - samples/sec: 18.26 - lr: 0.059582\n",
            "2023-02-24 05:34:00,690 epoch 70 - iter 6/6 - loss 0.82149090 - samples/sec: 272.73 - lr: 0.059459\n",
            "2023-02-24 05:34:00,695 ----------------------------------------------------------------------------------------------------\n",
            "2023-02-24 05:34:00,702 EPOCH 70 done: loss 0.8215 - lr 0.059459\n"
          ]
        },
        {
          "output_type": "stream",
          "name": "stderr",
          "text": [
            "100%|██████████| 1/1 [00:00<00:00,  1.65it/s]"
          ]
        },
        {
          "output_type": "stream",
          "name": "stdout",
          "text": [
            "2023-02-24 05:34:01,321 Evaluating as a multi-label problem: False\n",
            "2023-02-24 05:34:01,336 DEV : loss 0.6081317067146301 - f1-score (micro avg)  0.1031\n",
            "2023-02-24 05:34:01,338 BAD EPOCHS (no improvement): 4\n",
            "2023-02-24 05:34:01,342 ----------------------------------------------------------------------------------------------------\n"
          ]
        },
        {
          "output_type": "stream",
          "name": "stderr",
          "text": [
            "\n"
          ]
        },
        {
          "output_type": "stream",
          "name": "stdout",
          "text": [
            "2023-02-24 05:34:02,125 epoch 71 - iter 1/6 - loss 0.52252019 - samples/sec: 41.29 - lr: 0.059337\n",
            "2023-02-24 05:34:02,909 epoch 71 - iter 2/6 - loss 0.55230290 - samples/sec: 41.04 - lr: 0.059214\n",
            "2023-02-24 05:34:03,730 epoch 71 - iter 3/6 - loss 0.67966167 - samples/sec: 39.18 - lr: 0.059091\n",
            "2023-02-24 05:34:05,479 epoch 71 - iter 4/6 - loss 0.68669753 - samples/sec: 18.34 - lr: 0.058968\n",
            "2023-02-24 05:34:06,227 epoch 71 - iter 5/6 - loss 0.72105637 - samples/sec: 42.91 - lr: 0.058845\n",
            "2023-02-24 05:34:06,578 epoch 71 - iter 6/6 - loss 0.71049442 - samples/sec: 92.56 - lr: 0.058722\n",
            "2023-02-24 05:34:06,581 ----------------------------------------------------------------------------------------------------\n",
            "2023-02-24 05:34:06,586 EPOCH 71 done: loss 0.7105 - lr 0.058722\n"
          ]
        },
        {
          "output_type": "stream",
          "name": "stderr",
          "text": [
            "100%|██████████| 1/1 [00:00<00:00,  1.49it/s]"
          ]
        },
        {
          "output_type": "stream",
          "name": "stdout",
          "text": [
            "2023-02-24 05:34:07,275 Evaluating as a multi-label problem: False\n",
            "2023-02-24 05:34:07,290 DEV : loss 0.6276504397392273 - f1-score (micro avg)  0.0438\n",
            "2023-02-24 05:34:07,292 BAD EPOCHS (no improvement): 4\n",
            "2023-02-24 05:34:07,297 ----------------------------------------------------------------------------------------------------\n"
          ]
        },
        {
          "output_type": "stream",
          "name": "stderr",
          "text": [
            "\n"
          ]
        },
        {
          "output_type": "stream",
          "name": "stdout",
          "text": [
            "2023-02-24 05:34:09,126 epoch 72 - iter 1/6 - loss 0.83324321 - samples/sec: 17.52 - lr: 0.058600\n",
            "2023-02-24 05:34:09,967 epoch 72 - iter 2/6 - loss 0.80286260 - samples/sec: 38.16 - lr: 0.058477\n",
            "2023-02-24 05:34:10,866 epoch 72 - iter 3/6 - loss 0.77373920 - samples/sec: 35.86 - lr: 0.058354\n",
            "2023-02-24 05:34:11,686 epoch 72 - iter 4/6 - loss 0.66515408 - samples/sec: 39.30 - lr: 0.058231\n",
            "2023-02-24 05:34:12,444 epoch 72 - iter 5/6 - loss 0.67872919 - samples/sec: 42.45 - lr: 0.058108\n",
            "2023-02-24 05:34:12,670 epoch 72 - iter 6/6 - loss 0.67257641 - samples/sec: 144.27 - lr: 0.057985\n",
            "2023-02-24 05:34:12,674 ----------------------------------------------------------------------------------------------------\n",
            "2023-02-24 05:34:12,679 EPOCH 72 done: loss 0.6726 - lr 0.057985\n"
          ]
        },
        {
          "output_type": "stream",
          "name": "stderr",
          "text": [
            "100%|██████████| 1/1 [00:00<00:00,  1.61it/s]"
          ]
        },
        {
          "output_type": "stream",
          "name": "stdout",
          "text": [
            "2023-02-24 05:34:13,319 Evaluating as a multi-label problem: False\n",
            "2023-02-24 05:34:13,332 DEV : loss 0.5354201793670654 - f1-score (micro avg)  0.1263\n",
            "2023-02-24 05:34:13,335 BAD EPOCHS (no improvement): 4\n",
            "2023-02-24 05:34:13,344 ----------------------------------------------------------------------------------------------------\n"
          ]
        },
        {
          "output_type": "stream",
          "name": "stderr",
          "text": [
            "\n"
          ]
        },
        {
          "output_type": "stream",
          "name": "stdout",
          "text": [
            "2023-02-24 05:34:14,173 epoch 73 - iter 1/6 - loss 1.20499175 - samples/sec: 38.90 - lr: 0.057862\n",
            "2023-02-24 05:34:14,951 epoch 73 - iter 2/6 - loss 0.89337746 - samples/sec: 41.25 - lr: 0.057740\n",
            "2023-02-24 05:34:15,675 epoch 73 - iter 3/6 - loss 0.88224065 - samples/sec: 44.35 - lr: 0.057617\n",
            "2023-02-24 05:34:16,476 epoch 73 - iter 4/6 - loss 0.81118508 - samples/sec: 40.10 - lr: 0.057494\n",
            "2023-02-24 05:34:18,227 epoch 73 - iter 5/6 - loss 0.79190957 - samples/sec: 18.29 - lr: 0.057371\n",
            "2023-02-24 05:34:18,320 epoch 73 - iter 6/6 - loss 0.79027858 - samples/sec: 348.38 - lr: 0.057248\n",
            "2023-02-24 05:34:18,322 ----------------------------------------------------------------------------------------------------\n",
            "2023-02-24 05:34:18,326 EPOCH 73 done: loss 0.7903 - lr 0.057248\n"
          ]
        },
        {
          "output_type": "stream",
          "name": "stderr",
          "text": [
            "100%|██████████| 1/1 [00:00<00:00,  1.65it/s]"
          ]
        },
        {
          "output_type": "stream",
          "name": "stdout",
          "text": [
            "2023-02-24 05:34:18,962 Evaluating as a multi-label problem: False\n",
            "2023-02-24 05:34:18,980 DEV : loss 0.6457675695419312 - f1-score (micro avg)  0.0644\n",
            "2023-02-24 05:34:18,983 BAD EPOCHS (no improvement): 4\n",
            "2023-02-24 05:34:18,992 ----------------------------------------------------------------------------------------------------\n"
          ]
        },
        {
          "output_type": "stream",
          "name": "stderr",
          "text": [
            "\n"
          ]
        },
        {
          "output_type": "stream",
          "name": "stdout",
          "text": [
            "2023-02-24 05:34:20,740 epoch 74 - iter 1/6 - loss 0.81256363 - samples/sec: 18.34 - lr: 0.057125\n",
            "2023-02-24 05:34:21,727 epoch 74 - iter 2/6 - loss 0.74359749 - samples/sec: 32.50 - lr: 0.057002\n",
            "2023-02-24 05:34:22,557 epoch 74 - iter 3/6 - loss 0.77126384 - samples/sec: 38.68 - lr: 0.056880\n",
            "2023-02-24 05:34:23,441 epoch 74 - iter 4/6 - loss 0.79624205 - samples/sec: 36.32 - lr: 0.056757\n",
            "2023-02-24 05:34:24,250 epoch 74 - iter 5/6 - loss 0.73205027 - samples/sec: 39.68 - lr: 0.056634\n",
            "2023-02-24 05:34:24,429 epoch 74 - iter 6/6 - loss 0.73279570 - samples/sec: 181.90 - lr: 0.056511\n",
            "2023-02-24 05:34:24,437 ----------------------------------------------------------------------------------------------------\n",
            "2023-02-24 05:34:24,439 EPOCH 74 done: loss 0.7328 - lr 0.056511\n"
          ]
        },
        {
          "output_type": "stream",
          "name": "stderr",
          "text": [
            "100%|██████████| 1/1 [00:00<00:00,  1.49it/s]"
          ]
        },
        {
          "output_type": "stream",
          "name": "stdout",
          "text": [
            "2023-02-24 05:34:25,129 Evaluating as a multi-label problem: False\n",
            "2023-02-24 05:34:25,145 DEV : loss 0.46448394656181335 - f1-score (micro avg)  0.1031\n",
            "2023-02-24 05:34:25,148 BAD EPOCHS (no improvement): 4\n",
            "2023-02-24 05:34:25,159 ----------------------------------------------------------------------------------------------------\n"
          ]
        },
        {
          "output_type": "stream",
          "name": "stderr",
          "text": [
            "\n"
          ]
        },
        {
          "output_type": "stream",
          "name": "stdout",
          "text": [
            "2023-02-24 05:34:26,009 epoch 75 - iter 1/6 - loss 0.69950643 - samples/sec: 37.78 - lr: 0.056388\n",
            "2023-02-24 05:34:27,750 epoch 75 - iter 2/6 - loss 0.75231063 - samples/sec: 18.45 - lr: 0.056265\n",
            "2023-02-24 05:34:28,589 epoch 75 - iter 3/6 - loss 0.67923303 - samples/sec: 38.34 - lr: 0.056143\n",
            "2023-02-24 05:34:29,378 epoch 75 - iter 4/6 - loss 0.66958433 - samples/sec: 40.64 - lr: 0.056020\n",
            "2023-02-24 05:34:30,159 epoch 75 - iter 5/6 - loss 0.68543638 - samples/sec: 41.20 - lr: 0.055897\n",
            "2023-02-24 05:34:30,427 epoch 75 - iter 6/6 - loss 0.69948190 - samples/sec: 120.37 - lr: 0.055774\n",
            "2023-02-24 05:34:30,437 ----------------------------------------------------------------------------------------------------\n",
            "2023-02-24 05:34:30,439 EPOCH 75 done: loss 0.6995 - lr 0.055774\n"
          ]
        },
        {
          "output_type": "stream",
          "name": "stderr",
          "text": [
            "100%|██████████| 1/1 [00:00<00:00,  1.63it/s]"
          ]
        },
        {
          "output_type": "stream",
          "name": "stdout",
          "text": [
            "2023-02-24 05:34:31,071 Evaluating as a multi-label problem: False\n",
            "2023-02-24 05:34:31,086 DEV : loss 0.372732937335968 - f1-score (micro avg)  0.1005\n",
            "2023-02-24 05:34:31,090 BAD EPOCHS (no improvement): 4\n",
            "2023-02-24 05:34:31,095 ----------------------------------------------------------------------------------------------------\n"
          ]
        },
        {
          "output_type": "stream",
          "name": "stderr",
          "text": [
            "\n"
          ]
        },
        {
          "output_type": "stream",
          "name": "stdout",
          "text": [
            "2023-02-24 05:34:31,797 epoch 76 - iter 1/6 - loss 0.43550993 - samples/sec: 45.78 - lr: 0.055651\n",
            "2023-02-24 05:34:32,593 epoch 76 - iter 2/6 - loss 0.55740712 - samples/sec: 40.30 - lr: 0.055528\n",
            "2023-02-24 05:34:33,453 epoch 76 - iter 3/6 - loss 0.49248174 - samples/sec: 37.31 - lr: 0.055405\n",
            "2023-02-24 05:34:35,207 epoch 76 - iter 4/6 - loss 0.50552739 - samples/sec: 18.30 - lr: 0.055283\n",
            "2023-02-24 05:34:36,000 epoch 76 - iter 5/6 - loss 0.54211167 - samples/sec: 40.48 - lr: 0.055160\n",
            "2023-02-24 05:34:36,212 epoch 76 - iter 6/6 - loss 0.53718034 - samples/sec: 153.14 - lr: 0.055037\n",
            "2023-02-24 05:34:36,220 ----------------------------------------------------------------------------------------------------\n",
            "2023-02-24 05:34:36,223 EPOCH 76 done: loss 0.5372 - lr 0.055037\n"
          ]
        },
        {
          "output_type": "stream",
          "name": "stderr",
          "text": [
            "100%|██████████| 1/1 [00:00<00:00,  1.63it/s]"
          ]
        },
        {
          "output_type": "stream",
          "name": "stdout",
          "text": [
            "2023-02-24 05:34:36,855 Evaluating as a multi-label problem: False\n",
            "2023-02-24 05:34:36,868 DEV : loss 0.3577997088432312 - f1-score (micro avg)  0.0335\n",
            "2023-02-24 05:34:36,872 BAD EPOCHS (no improvement): 4\n",
            "2023-02-24 05:34:36,880 ----------------------------------------------------------------------------------------------------\n"
          ]
        },
        {
          "output_type": "stream",
          "name": "stderr",
          "text": [
            "\n"
          ]
        },
        {
          "output_type": "stream",
          "name": "stdout",
          "text": [
            "2023-02-24 05:34:37,679 epoch 77 - iter 1/6 - loss 0.27686232 - samples/sec: 40.16 - lr: 0.054914\n",
            "2023-02-24 05:34:39,537 epoch 77 - iter 2/6 - loss 0.51545981 - samples/sec: 17.28 - lr: 0.054791\n",
            "2023-02-24 05:34:40,446 epoch 77 - iter 3/6 - loss 0.55756617 - samples/sec: 35.45 - lr: 0.054668\n",
            "2023-02-24 05:34:41,316 epoch 77 - iter 4/6 - loss 0.57063664 - samples/sec: 37.10 - lr: 0.054545\n",
            "2023-02-24 05:34:42,139 epoch 77 - iter 5/6 - loss 0.57941548 - samples/sec: 39.21 - lr: 0.054423\n",
            "2023-02-24 05:34:42,321 epoch 77 - iter 6/6 - loss 0.58752925 - samples/sec: 184.05 - lr: 0.054300\n",
            "2023-02-24 05:34:42,322 ----------------------------------------------------------------------------------------------------\n",
            "2023-02-24 05:34:42,327 EPOCH 77 done: loss 0.5875 - lr 0.054300\n"
          ]
        },
        {
          "output_type": "stream",
          "name": "stderr",
          "text": [
            "100%|██████████| 1/1 [00:00<00:00,  1.66it/s]"
          ]
        },
        {
          "output_type": "stream",
          "name": "stdout",
          "text": [
            "2023-02-24 05:34:42,952 Evaluating as a multi-label problem: False\n",
            "2023-02-24 05:34:42,966 DEV : loss 0.45214149355888367 - f1-score (micro avg)  0.0851\n",
            "2023-02-24 05:34:42,969 BAD EPOCHS (no improvement): 4\n",
            "2023-02-24 05:34:42,983 ----------------------------------------------------------------------------------------------------\n"
          ]
        },
        {
          "output_type": "stream",
          "name": "stderr",
          "text": [
            "\n"
          ]
        },
        {
          "output_type": "stream",
          "name": "stdout",
          "text": [
            "2023-02-24 05:34:43,738 epoch 78 - iter 1/6 - loss 0.58356001 - samples/sec: 42.55 - lr: 0.054177\n",
            "2023-02-24 05:34:44,528 epoch 78 - iter 2/6 - loss 0.52528471 - samples/sec: 40.63 - lr: 0.054054\n",
            "2023-02-24 05:34:46,281 epoch 78 - iter 3/6 - loss 0.52819586 - samples/sec: 18.29 - lr: 0.053931\n",
            "2023-02-24 05:34:47,125 epoch 78 - iter 4/6 - loss 0.56235579 - samples/sec: 38.15 - lr: 0.053808\n",
            "2023-02-24 05:34:47,921 epoch 78 - iter 5/6 - loss 0.59565724 - samples/sec: 40.29 - lr: 0.053686\n",
            "2023-02-24 05:34:48,223 epoch 78 - iter 6/6 - loss 0.59956173 - samples/sec: 107.94 - lr: 0.053563\n",
            "2023-02-24 05:34:48,225 ----------------------------------------------------------------------------------------------------\n",
            "2023-02-24 05:34:48,233 EPOCH 78 done: loss 0.5996 - lr 0.053563\n"
          ]
        },
        {
          "output_type": "stream",
          "name": "stderr",
          "text": [
            "100%|██████████| 1/1 [00:00<00:00,  1.63it/s]"
          ]
        },
        {
          "output_type": "stream",
          "name": "stdout",
          "text": [
            "2023-02-24 05:34:48,865 Evaluating as a multi-label problem: False\n",
            "2023-02-24 05:34:48,878 DEV : loss 0.31086915731430054 - f1-score (micro avg)  0.1108\n",
            "2023-02-24 05:34:48,881 BAD EPOCHS (no improvement): 4\n",
            "2023-02-24 05:34:48,889 ----------------------------------------------------------------------------------------------------\n"
          ]
        },
        {
          "output_type": "stream",
          "name": "stderr",
          "text": [
            "\n"
          ]
        },
        {
          "output_type": "stream",
          "name": "stdout",
          "text": [
            "2023-02-24 05:34:49,657 epoch 79 - iter 1/6 - loss 0.82392925 - samples/sec: 41.78 - lr: 0.053440\n",
            "2023-02-24 05:34:50,482 epoch 79 - iter 2/6 - loss 0.67582767 - samples/sec: 38.91 - lr: 0.053317\n",
            "2023-02-24 05:34:51,204 epoch 79 - iter 3/6 - loss 0.61513186 - samples/sec: 44.42 - lr: 0.053194\n",
            "2023-02-24 05:34:53,053 epoch 79 - iter 4/6 - loss 0.62672916 - samples/sec: 17.32 - lr: 0.053071\n",
            "2023-02-24 05:34:53,862 epoch 79 - iter 5/6 - loss 0.61075622 - samples/sec: 39.92 - lr: 0.052948\n",
            "2023-02-24 05:34:54,158 epoch 79 - iter 6/6 - loss 0.64011552 - samples/sec: 110.90 - lr: 0.052826\n",
            "2023-02-24 05:34:54,164 ----------------------------------------------------------------------------------------------------\n",
            "2023-02-24 05:34:54,168 EPOCH 79 done: loss 0.6401 - lr 0.052826\n"
          ]
        },
        {
          "output_type": "stream",
          "name": "stderr",
          "text": [
            "100%|██████████| 1/1 [00:00<00:00,  1.45it/s]"
          ]
        },
        {
          "output_type": "stream",
          "name": "stdout",
          "text": [
            "2023-02-24 05:34:54,876 Evaluating as a multi-label problem: False\n",
            "2023-02-24 05:34:54,896 DEV : loss 0.3208848237991333 - f1-score (micro avg)  0.0902\n",
            "2023-02-24 05:34:54,902 BAD EPOCHS (no improvement): 4\n",
            "2023-02-24 05:34:54,907 ----------------------------------------------------------------------------------------------------\n"
          ]
        },
        {
          "output_type": "stream",
          "name": "stderr",
          "text": [
            "\n"
          ]
        },
        {
          "output_type": "stream",
          "name": "stdout",
          "text": [
            "2023-02-24 05:34:55,757 epoch 80 - iter 1/6 - loss 0.47335356 - samples/sec: 37.78 - lr: 0.052703\n",
            "2023-02-24 05:34:56,608 epoch 80 - iter 2/6 - loss 0.49366825 - samples/sec: 37.85 - lr: 0.052580\n",
            "2023-02-24 05:34:58,433 epoch 80 - iter 3/6 - loss 0.49032545 - samples/sec: 17.58 - lr: 0.052457\n",
            "2023-02-24 05:34:59,331 epoch 80 - iter 4/6 - loss 0.56627781 - samples/sec: 35.91 - lr: 0.052334\n",
            "2023-02-24 05:35:00,142 epoch 80 - iter 5/6 - loss 0.50145904 - samples/sec: 39.82 - lr: 0.052211\n",
            "2023-02-24 05:35:00,358 epoch 80 - iter 6/6 - loss 0.50332201 - samples/sec: 155.16 - lr: 0.052088\n",
            "2023-02-24 05:35:00,367 ----------------------------------------------------------------------------------------------------\n",
            "2023-02-24 05:35:00,369 EPOCH 80 done: loss 0.5033 - lr 0.052088\n"
          ]
        },
        {
          "output_type": "stream",
          "name": "stderr",
          "text": [
            "100%|██████████| 1/1 [00:00<00:00,  1.50it/s]"
          ]
        },
        {
          "output_type": "stream",
          "name": "stdout",
          "text": [
            "2023-02-24 05:35:01,056 Evaluating as a multi-label problem: False\n",
            "2023-02-24 05:35:01,074 DEV : loss 0.1939205825328827 - f1-score (micro avg)  0.1366\n",
            "2023-02-24 05:35:01,078 BAD EPOCHS (no improvement): 4\n",
            "2023-02-24 05:35:01,088 ----------------------------------------------------------------------------------------------------\n"
          ]
        },
        {
          "output_type": "stream",
          "name": "stderr",
          "text": [
            "\n"
          ]
        },
        {
          "output_type": "stream",
          "name": "stdout",
          "text": [
            "2023-02-24 05:35:01,906 epoch 81 - iter 1/6 - loss 0.61656117 - samples/sec: 39.24 - lr: 0.051966\n",
            "2023-02-24 05:35:02,772 epoch 81 - iter 2/6 - loss 0.53576572 - samples/sec: 37.19 - lr: 0.051843\n",
            "2023-02-24 05:35:03,467 epoch 81 - iter 3/6 - loss 0.52325231 - samples/sec: 46.38 - lr: 0.051720\n",
            "2023-02-24 05:35:05,411 epoch 81 - iter 4/6 - loss 0.51933750 - samples/sec: 16.50 - lr: 0.051597\n",
            "2023-02-24 05:35:06,171 epoch 81 - iter 5/6 - loss 0.50800625 - samples/sec: 42.31 - lr: 0.051474\n",
            "2023-02-24 05:35:06,554 epoch 81 - iter 6/6 - loss 0.49959925 - samples/sec: 83.92 - lr: 0.051351\n",
            "2023-02-24 05:35:06,556 ----------------------------------------------------------------------------------------------------\n",
            "2023-02-24 05:35:06,562 EPOCH 81 done: loss 0.4996 - lr 0.051351\n"
          ]
        },
        {
          "output_type": "stream",
          "name": "stderr",
          "text": [
            "100%|██████████| 1/1 [00:00<00:00,  1.60it/s]"
          ]
        },
        {
          "output_type": "stream",
          "name": "stdout",
          "text": [
            "2023-02-24 05:35:07,211 Evaluating as a multi-label problem: False\n",
            "2023-02-24 05:35:07,224 DEV : loss 0.2546508312225342 - f1-score (micro avg)  0.1186\n",
            "2023-02-24 05:35:07,229 BAD EPOCHS (no improvement): 4\n",
            "2023-02-24 05:35:07,239 ----------------------------------------------------------------------------------------------------\n"
          ]
        },
        {
          "output_type": "stream",
          "name": "stderr",
          "text": [
            "\n"
          ]
        },
        {
          "output_type": "stream",
          "name": "stdout",
          "text": [
            "2023-02-24 05:35:08,133 epoch 82 - iter 1/6 - loss 0.29761059 - samples/sec: 35.89 - lr: 0.051229\n",
            "2023-02-24 05:35:09,956 epoch 82 - iter 2/6 - loss 0.42039350 - samples/sec: 17.58 - lr: 0.051106\n",
            "2023-02-24 05:35:10,764 epoch 82 - iter 3/6 - loss 0.52671186 - samples/sec: 39.73 - lr: 0.050983\n",
            "2023-02-24 05:35:11,591 epoch 82 - iter 4/6 - loss 0.51424560 - samples/sec: 38.93 - lr: 0.050860\n",
            "2023-02-24 05:35:12,389 epoch 82 - iter 5/6 - loss 0.49250397 - samples/sec: 40.28 - lr: 0.050737\n",
            "2023-02-24 05:35:12,735 epoch 82 - iter 6/6 - loss 0.48995963 - samples/sec: 93.33 - lr: 0.050614\n",
            "2023-02-24 05:35:12,742 ----------------------------------------------------------------------------------------------------\n",
            "2023-02-24 05:35:12,745 EPOCH 82 done: loss 0.4900 - lr 0.050614\n"
          ]
        },
        {
          "output_type": "stream",
          "name": "stderr",
          "text": [
            "100%|██████████| 1/1 [00:00<00:00,  1.57it/s]"
          ]
        },
        {
          "output_type": "stream",
          "name": "stdout",
          "text": [
            "2023-02-24 05:35:13,402 Evaluating as a multi-label problem: False\n",
            "2023-02-24 05:35:13,415 DEV : loss 0.44726839661598206 - f1-score (micro avg)  0.1031\n",
            "2023-02-24 05:35:13,418 BAD EPOCHS (no improvement): 4\n",
            "2023-02-24 05:35:13,424 ----------------------------------------------------------------------------------------------------\n"
          ]
        },
        {
          "output_type": "stream",
          "name": "stderr",
          "text": [
            "\n"
          ]
        },
        {
          "output_type": "stream",
          "name": "stdout",
          "text": [
            "2023-02-24 05:35:14,254 epoch 83 - iter 1/6 - loss 0.50168158 - samples/sec: 38.70 - lr: 0.050491\n",
            "2023-02-24 05:35:15,021 epoch 83 - iter 2/6 - loss 0.53771962 - samples/sec: 41.84 - lr: 0.050369\n",
            "2023-02-24 05:35:15,838 epoch 83 - iter 3/6 - loss 0.47351288 - samples/sec: 39.38 - lr: 0.050246\n",
            "2023-02-24 05:35:17,602 epoch 83 - iter 4/6 - loss 0.51441136 - samples/sec: 18.18 - lr: 0.050123\n",
            "2023-02-24 05:35:18,399 epoch 83 - iter 5/6 - loss 0.51310846 - samples/sec: 40.44 - lr: 0.050000\n",
            "2023-02-24 05:35:18,672 epoch 83 - iter 6/6 - loss 0.51563191 - samples/sec: 118.06 - lr: 0.049877\n",
            "2023-02-24 05:35:18,676 ----------------------------------------------------------------------------------------------------\n",
            "2023-02-24 05:35:18,679 EPOCH 83 done: loss 0.5156 - lr 0.049877\n"
          ]
        },
        {
          "output_type": "stream",
          "name": "stderr",
          "text": [
            "100%|██████████| 1/1 [00:00<00:00,  1.64it/s]"
          ]
        },
        {
          "output_type": "stream",
          "name": "stdout",
          "text": [
            "2023-02-24 05:35:19,309 Evaluating as a multi-label problem: False\n",
            "2023-02-24 05:35:19,326 DEV : loss 0.32406872510910034 - f1-score (micro avg)  0.1366\n",
            "2023-02-24 05:35:19,337 BAD EPOCHS (no improvement): 4\n",
            "2023-02-24 05:35:19,345 ----------------------------------------------------------------------------------------------------\n"
          ]
        },
        {
          "output_type": "stream",
          "name": "stderr",
          "text": [
            "\n"
          ]
        },
        {
          "output_type": "stream",
          "name": "stdout",
          "text": [
            "2023-02-24 05:35:20,142 epoch 84 - iter 1/6 - loss 0.44774038 - samples/sec: 40.30 - lr: 0.049754\n",
            "2023-02-24 05:35:20,957 epoch 84 - iter 2/6 - loss 0.36842434 - samples/sec: 39.48 - lr: 0.049631\n",
            "2023-02-24 05:35:21,809 epoch 84 - iter 3/6 - loss 0.44495744 - samples/sec: 37.78 - lr: 0.049509\n",
            "2023-02-24 05:35:22,621 epoch 84 - iter 4/6 - loss 0.51023001 - samples/sec: 39.54 - lr: 0.049386\n",
            "2023-02-24 05:35:24,468 epoch 84 - iter 5/6 - loss 0.50072643 - samples/sec: 17.34 - lr: 0.049263\n",
            "2023-02-24 05:35:24,652 epoch 84 - iter 6/6 - loss 0.49930666 - samples/sec: 177.25 - lr: 0.049140\n",
            "2023-02-24 05:35:24,657 ----------------------------------------------------------------------------------------------------\n",
            "2023-02-24 05:35:24,661 EPOCH 84 done: loss 0.4993 - lr 0.049140\n"
          ]
        },
        {
          "output_type": "stream",
          "name": "stderr",
          "text": [
            "100%|██████████| 1/1 [00:00<00:00,  1.48it/s]"
          ]
        },
        {
          "output_type": "stream",
          "name": "stdout",
          "text": [
            "2023-02-24 05:35:25,354 Evaluating as a multi-label problem: False\n",
            "2023-02-24 05:35:25,373 DEV : loss 0.3082686960697174 - f1-score (micro avg)  0.1108\n",
            "2023-02-24 05:35:25,378 BAD EPOCHS (no improvement): 4\n",
            "2023-02-24 05:35:25,385 ----------------------------------------------------------------------------------------------------\n"
          ]
        },
        {
          "output_type": "stream",
          "name": "stderr",
          "text": [
            "\n"
          ]
        },
        {
          "output_type": "stream",
          "name": "stdout",
          "text": [
            "2023-02-24 05:35:26,240 epoch 85 - iter 1/6 - loss 0.48738105 - samples/sec: 37.57 - lr: 0.049017\n",
            "2023-02-24 05:35:27,091 epoch 85 - iter 2/6 - loss 0.60444834 - samples/sec: 37.74 - lr: 0.048894\n",
            "2023-02-24 05:35:28,848 epoch 85 - iter 3/6 - loss 0.49153453 - samples/sec: 18.31 - lr: 0.048771\n",
            "2023-02-24 05:35:29,597 epoch 85 - iter 4/6 - loss 0.48796875 - samples/sec: 43.05 - lr: 0.048649\n",
            "2023-02-24 05:35:30,382 epoch 85 - iter 5/6 - loss 0.48142954 - samples/sec: 41.01 - lr: 0.048526\n",
            "2023-02-24 05:35:30,795 epoch 85 - iter 6/6 - loss 0.47510931 - samples/sec: 79.02 - lr: 0.048403\n",
            "2023-02-24 05:35:30,798 ----------------------------------------------------------------------------------------------------\n",
            "2023-02-24 05:35:30,801 EPOCH 85 done: loss 0.4751 - lr 0.048403\n"
          ]
        },
        {
          "output_type": "stream",
          "name": "stderr",
          "text": [
            "100%|██████████| 1/1 [00:00<00:00,  1.57it/s]"
          ]
        },
        {
          "output_type": "stream",
          "name": "stdout",
          "text": [
            "2023-02-24 05:35:31,462 Evaluating as a multi-label problem: False\n",
            "2023-02-24 05:35:31,476 DEV : loss 0.2798219621181488 - f1-score (micro avg)  0.0954\n",
            "2023-02-24 05:35:31,479 BAD EPOCHS (no improvement): 4\n",
            "2023-02-24 05:35:31,485 ----------------------------------------------------------------------------------------------------\n"
          ]
        },
        {
          "output_type": "stream",
          "name": "stderr",
          "text": [
            "\n"
          ]
        },
        {
          "output_type": "stream",
          "name": "stdout",
          "text": [
            "2023-02-24 05:35:32,236 epoch 86 - iter 1/6 - loss 0.44382800 - samples/sec: 42.77 - lr: 0.048280\n",
            "2023-02-24 05:35:33,031 epoch 86 - iter 2/6 - loss 0.46803848 - samples/sec: 40.30 - lr: 0.048157\n",
            "2023-02-24 05:35:34,787 epoch 86 - iter 3/6 - loss 0.56215628 - samples/sec: 18.27 - lr: 0.048034\n",
            "2023-02-24 05:35:35,595 epoch 86 - iter 4/6 - loss 0.52682289 - samples/sec: 39.84 - lr: 0.047912\n",
            "2023-02-24 05:35:36,397 epoch 86 - iter 5/6 - loss 0.49971771 - samples/sec: 40.12 - lr: 0.047789\n",
            "2023-02-24 05:35:36,655 epoch 86 - iter 6/6 - loss 0.49459759 - samples/sec: 124.92 - lr: 0.047666\n",
            "2023-02-24 05:35:36,659 ----------------------------------------------------------------------------------------------------\n",
            "2023-02-24 05:35:36,662 EPOCH 86 done: loss 0.4946 - lr 0.047666\n"
          ]
        },
        {
          "output_type": "stream",
          "name": "stderr",
          "text": [
            "100%|██████████| 1/1 [00:00<00:00,  1.63it/s]"
          ]
        },
        {
          "output_type": "stream",
          "name": "stdout",
          "text": [
            "2023-02-24 05:35:37,292 Evaluating as a multi-label problem: False\n",
            "2023-02-24 05:35:37,308 DEV : loss 0.26029905676841736 - f1-score (micro avg)  0.0979\n",
            "2023-02-24 05:35:37,311 BAD EPOCHS (no improvement): 4\n",
            "2023-02-24 05:35:37,317 ----------------------------------------------------------------------------------------------------\n"
          ]
        },
        {
          "output_type": "stream",
          "name": "stderr",
          "text": [
            "\n"
          ]
        },
        {
          "output_type": "stream",
          "name": "stdout",
          "text": [
            "2023-02-24 05:35:39,143 epoch 87 - iter 1/6 - loss 0.30583845 - samples/sec: 17.55 - lr: 0.047543\n",
            "2023-02-24 05:35:39,994 epoch 87 - iter 2/6 - loss 0.42948971 - samples/sec: 37.73 - lr: 0.047420\n",
            "2023-02-24 05:35:40,839 epoch 87 - iter 3/6 - loss 0.41518959 - samples/sec: 38.01 - lr: 0.047297\n",
            "2023-02-24 05:35:41,751 epoch 87 - iter 4/6 - loss 0.42617659 - samples/sec: 35.39 - lr: 0.047174\n",
            "2023-02-24 05:35:42,502 epoch 87 - iter 5/6 - loss 0.44626857 - samples/sec: 42.80 - lr: 0.047052\n",
            "2023-02-24 05:35:42,766 epoch 87 - iter 6/6 - loss 0.44033769 - samples/sec: 122.77 - lr: 0.046929\n",
            "2023-02-24 05:35:42,767 ----------------------------------------------------------------------------------------------------\n",
            "2023-02-24 05:35:42,770 EPOCH 87 done: loss 0.4403 - lr 0.046929\n"
          ]
        },
        {
          "output_type": "stream",
          "name": "stderr",
          "text": [
            "100%|██████████| 1/1 [00:00<00:00,  1.70it/s]"
          ]
        },
        {
          "output_type": "stream",
          "name": "stdout",
          "text": [
            "2023-02-24 05:35:43,377 Evaluating as a multi-label problem: False\n",
            "2023-02-24 05:35:43,390 DEV : loss 0.36956292390823364 - f1-score (micro avg)  0.0335\n",
            "2023-02-24 05:35:43,393 BAD EPOCHS (no improvement): 4\n",
            "2023-02-24 05:35:43,398 ----------------------------------------------------------------------------------------------------\n"
          ]
        },
        {
          "output_type": "stream",
          "name": "stderr",
          "text": [
            "\n"
          ]
        },
        {
          "output_type": "stream",
          "name": "stdout",
          "text": [
            "2023-02-24 05:35:44,232 epoch 88 - iter 1/6 - loss 0.50244972 - samples/sec: 38.60 - lr: 0.046806\n",
            "2023-02-24 05:35:45,006 epoch 88 - iter 2/6 - loss 0.47845348 - samples/sec: 41.45 - lr: 0.046683\n",
            "2023-02-24 05:35:45,787 epoch 88 - iter 3/6 - loss 0.53955672 - samples/sec: 41.24 - lr: 0.046560\n",
            "2023-02-24 05:35:46,605 epoch 88 - iter 4/6 - loss 0.52280294 - samples/sec: 39.39 - lr: 0.046437\n",
            "2023-02-24 05:35:48,375 epoch 88 - iter 5/6 - loss 0.52249486 - samples/sec: 18.12 - lr: 0.046314\n",
            "2023-02-24 05:35:48,474 epoch 88 - iter 6/6 - loss 0.52309164 - samples/sec: 339.68 - lr: 0.046192\n",
            "2023-02-24 05:35:48,478 ----------------------------------------------------------------------------------------------------\n",
            "2023-02-24 05:35:48,483 EPOCH 88 done: loss 0.5231 - lr 0.046192\n"
          ]
        },
        {
          "output_type": "stream",
          "name": "stderr",
          "text": [
            "100%|██████████| 1/1 [00:00<00:00,  1.25it/s]"
          ]
        },
        {
          "output_type": "stream",
          "name": "stdout",
          "text": [
            "2023-02-24 05:35:49,304 Evaluating as a multi-label problem: False\n",
            "2023-02-24 05:35:49,318 DEV : loss 0.21390052139759064 - f1-score (micro avg)  0.1314\n",
            "2023-02-24 05:35:49,321 BAD EPOCHS (no improvement): 4\n",
            "2023-02-24 05:35:49,330 ----------------------------------------------------------------------------------------------------\n"
          ]
        },
        {
          "output_type": "stream",
          "name": "stderr",
          "text": [
            "\n"
          ]
        },
        {
          "output_type": "stream",
          "name": "stdout",
          "text": [
            "2023-02-24 05:35:50,157 epoch 89 - iter 1/6 - loss 0.32732185 - samples/sec: 38.86 - lr: 0.046069\n",
            "2023-02-24 05:35:50,951 epoch 89 - iter 2/6 - loss 0.46972452 - samples/sec: 40.44 - lr: 0.045946\n",
            "2023-02-24 05:35:52,813 epoch 89 - iter 3/6 - loss 0.41837822 - samples/sec: 17.21 - lr: 0.045823\n",
            "2023-02-24 05:35:53,566 epoch 89 - iter 4/6 - loss 0.43156076 - samples/sec: 42.75 - lr: 0.045700\n",
            "2023-02-24 05:35:54,384 epoch 89 - iter 5/6 - loss 0.43613475 - samples/sec: 39.47 - lr: 0.045577\n",
            "2023-02-24 05:35:54,449 epoch 89 - iter 6/6 - loss 0.43468485 - samples/sec: 511.41 - lr: 0.045455\n",
            "2023-02-24 05:35:54,458 ----------------------------------------------------------------------------------------------------\n",
            "2023-02-24 05:35:54,463 EPOCH 89 done: loss 0.4347 - lr 0.045455\n"
          ]
        },
        {
          "output_type": "stream",
          "name": "stderr",
          "text": [
            "100%|██████████| 1/1 [00:00<00:00,  1.52it/s]"
          ]
        },
        {
          "output_type": "stream",
          "name": "stdout",
          "text": [
            "2023-02-24 05:35:55,140 Evaluating as a multi-label problem: False\n",
            "2023-02-24 05:35:55,158 DEV : loss 0.34183576703071594 - f1-score (micro avg)  0.0954\n",
            "2023-02-24 05:35:55,171 BAD EPOCHS (no improvement): 4\n",
            "2023-02-24 05:35:55,175 ----------------------------------------------------------------------------------------------------\n"
          ]
        },
        {
          "output_type": "stream",
          "name": "stderr",
          "text": [
            "\n"
          ]
        },
        {
          "output_type": "stream",
          "name": "stdout",
          "text": [
            "2023-02-24 05:35:56,029 epoch 90 - iter 1/6 - loss 0.44888860 - samples/sec: 37.62 - lr: 0.045332\n",
            "2023-02-24 05:35:56,886 epoch 90 - iter 2/6 - loss 0.44139215 - samples/sec: 37.45 - lr: 0.045209\n",
            "2023-02-24 05:35:57,639 epoch 90 - iter 3/6 - loss 0.42452485 - samples/sec: 42.87 - lr: 0.045086\n",
            "2023-02-24 05:35:59,385 epoch 90 - iter 4/6 - loss 0.44122082 - samples/sec: 18.35 - lr: 0.044963\n",
            "2023-02-24 05:36:00,139 epoch 90 - iter 5/6 - loss 0.43628571 - samples/sec: 42.58 - lr: 0.044840\n",
            "2023-02-24 05:36:00,269 epoch 90 - iter 6/6 - loss 0.43406786 - samples/sec: 254.36 - lr: 0.044717\n",
            "2023-02-24 05:36:00,274 ----------------------------------------------------------------------------------------------------\n",
            "2023-02-24 05:36:00,278 EPOCH 90 done: loss 0.4341 - lr 0.044717\n"
          ]
        },
        {
          "output_type": "stream",
          "name": "stderr",
          "text": [
            "100%|██████████| 1/1 [00:00<00:00,  1.64it/s]"
          ]
        },
        {
          "output_type": "stream",
          "name": "stdout",
          "text": [
            "2023-02-24 05:36:00,906 Evaluating as a multi-label problem: False\n",
            "2023-02-24 05:36:00,921 DEV : loss 0.21570084989070892 - f1-score (micro avg)  0.1289\n",
            "2023-02-24 05:36:00,924 BAD EPOCHS (no improvement): 4\n",
            "2023-02-24 05:36:00,928 ----------------------------------------------------------------------------------------------------\n"
          ]
        },
        {
          "output_type": "stream",
          "name": "stderr",
          "text": [
            "\n"
          ]
        },
        {
          "output_type": "stream",
          "name": "stdout",
          "text": [
            "2023-02-24 05:36:01,681 epoch 91 - iter 1/6 - loss 0.43111326 - samples/sec: 42.81 - lr: 0.044595\n",
            "2023-02-24 05:36:02,471 epoch 91 - iter 2/6 - loss 0.45131025 - samples/sec: 40.65 - lr: 0.044472\n",
            "2023-02-24 05:36:04,224 epoch 91 - iter 3/6 - loss 0.52305466 - samples/sec: 18.30 - lr: 0.044349\n",
            "2023-02-24 05:36:05,026 epoch 91 - iter 4/6 - loss 0.47614075 - samples/sec: 40.23 - lr: 0.044226\n",
            "2023-02-24 05:36:05,798 epoch 91 - iter 5/6 - loss 0.43535576 - samples/sec: 41.62 - lr: 0.044103\n",
            "2023-02-24 05:36:06,069 epoch 91 - iter 6/6 - loss 0.43650045 - samples/sec: 119.90 - lr: 0.043980\n",
            "2023-02-24 05:36:06,071 ----------------------------------------------------------------------------------------------------\n",
            "2023-02-24 05:36:06,079 EPOCH 91 done: loss 0.4365 - lr 0.043980\n"
          ]
        },
        {
          "output_type": "stream",
          "name": "stderr",
          "text": [
            "100%|██████████| 1/1 [00:00<00:00,  1.62it/s]"
          ]
        },
        {
          "output_type": "stream",
          "name": "stdout",
          "text": [
            "2023-02-24 05:36:06,716 Evaluating as a multi-label problem: False\n",
            "2023-02-24 05:36:06,730 DEV : loss 0.22088927030563354 - f1-score (micro avg)  0.0799\n",
            "2023-02-24 05:36:06,736 BAD EPOCHS (no improvement): 4\n",
            "2023-02-24 05:36:06,741 ----------------------------------------------------------------------------------------------------\n"
          ]
        },
        {
          "output_type": "stream",
          "name": "stderr",
          "text": [
            "\n"
          ]
        },
        {
          "output_type": "stream",
          "name": "stdout",
          "text": [
            "2023-02-24 05:36:07,539 epoch 92 - iter 1/6 - loss 0.48479800 - samples/sec: 40.35 - lr: 0.043857\n",
            "2023-02-24 05:36:09,385 epoch 92 - iter 2/6 - loss 0.44849165 - samples/sec: 17.38 - lr: 0.043735\n",
            "2023-02-24 05:36:10,191 epoch 92 - iter 3/6 - loss 0.42998842 - samples/sec: 40.03 - lr: 0.043612\n",
            "2023-02-24 05:36:10,997 epoch 92 - iter 4/6 - loss 0.41921388 - samples/sec: 40.03 - lr: 0.043489\n",
            "2023-02-24 05:36:11,914 epoch 92 - iter 5/6 - loss 0.40639720 - samples/sec: 35.14 - lr: 0.043366\n",
            "2023-02-24 05:36:12,045 epoch 92 - iter 6/6 - loss 0.40398586 - samples/sec: 260.07 - lr: 0.043243\n",
            "2023-02-24 05:36:12,052 ----------------------------------------------------------------------------------------------------\n",
            "2023-02-24 05:36:12,057 EPOCH 92 done: loss 0.4040 - lr 0.043243\n"
          ]
        },
        {
          "output_type": "stream",
          "name": "stderr",
          "text": [
            "100%|██████████| 1/1 [00:00<00:00,  1.60it/s]"
          ]
        },
        {
          "output_type": "stream",
          "name": "stdout",
          "text": [
            "2023-02-24 05:36:12,707 Evaluating as a multi-label problem: False\n",
            "2023-02-24 05:36:12,720 DEV : loss 0.25053203105926514 - f1-score (micro avg)  0.1392\n",
            "2023-02-24 05:36:12,723 BAD EPOCHS (no improvement): 4\n",
            "2023-02-24 05:36:12,730 ----------------------------------------------------------------------------------------------------\n"
          ]
        },
        {
          "output_type": "stream",
          "name": "stderr",
          "text": [
            "\n"
          ]
        },
        {
          "output_type": "stream",
          "name": "stdout",
          "text": [
            "2023-02-24 05:36:13,419 epoch 93 - iter 1/6 - loss 0.42288360 - samples/sec: 46.65 - lr: 0.043120\n",
            "2023-02-24 05:36:14,244 epoch 93 - iter 2/6 - loss 0.49939676 - samples/sec: 39.12 - lr: 0.042998\n",
            "2023-02-24 05:36:15,101 epoch 93 - iter 3/6 - loss 0.51362990 - samples/sec: 37.40 - lr: 0.042875\n",
            "2023-02-24 05:36:15,875 epoch 93 - iter 4/6 - loss 0.47726571 - samples/sec: 41.61 - lr: 0.042752\n",
            "2023-02-24 05:36:17,634 epoch 93 - iter 5/6 - loss 0.44097790 - samples/sec: 18.25 - lr: 0.042629\n",
            "2023-02-24 05:36:17,907 epoch 93 - iter 6/6 - loss 0.43471174 - samples/sec: 119.17 - lr: 0.042506\n",
            "2023-02-24 05:36:17,909 ----------------------------------------------------------------------------------------------------\n",
            "2023-02-24 05:36:17,913 EPOCH 93 done: loss 0.4347 - lr 0.042506\n"
          ]
        },
        {
          "output_type": "stream",
          "name": "stderr",
          "text": [
            "100%|██████████| 1/1 [00:00<00:00,  1.53it/s]"
          ]
        },
        {
          "output_type": "stream",
          "name": "stdout",
          "text": [
            "2023-02-24 05:36:18,586 Evaluating as a multi-label problem: False\n",
            "2023-02-24 05:36:18,601 DEV : loss 0.24879145622253418 - f1-score (micro avg)  0.0773\n",
            "2023-02-24 05:36:18,604 BAD EPOCHS (no improvement): 4\n",
            "2023-02-24 05:36:18,619 ----------------------------------------------------------------------------------------------------\n"
          ]
        },
        {
          "output_type": "stream",
          "name": "stderr",
          "text": [
            "\n"
          ]
        },
        {
          "output_type": "stream",
          "name": "stdout",
          "text": [
            "2023-02-24 05:36:19,446 epoch 94 - iter 1/6 - loss 0.36456282 - samples/sec: 38.79 - lr: 0.042383\n",
            "2023-02-24 05:36:20,214 epoch 94 - iter 2/6 - loss 0.39735234 - samples/sec: 41.78 - lr: 0.042260\n",
            "2023-02-24 05:36:21,990 epoch 94 - iter 3/6 - loss 0.43952873 - samples/sec: 18.07 - lr: 0.042138\n",
            "2023-02-24 05:36:22,815 epoch 94 - iter 4/6 - loss 0.42262635 - samples/sec: 38.86 - lr: 0.042015\n",
            "2023-02-24 05:36:23,659 epoch 94 - iter 5/6 - loss 0.42111237 - samples/sec: 38.18 - lr: 0.041892\n",
            "2023-02-24 05:36:23,927 epoch 94 - iter 6/6 - loss 0.41937760 - samples/sec: 121.92 - lr: 0.041769\n",
            "2023-02-24 05:36:23,930 ----------------------------------------------------------------------------------------------------\n",
            "2023-02-24 05:36:23,932 EPOCH 94 done: loss 0.4194 - lr 0.041769\n"
          ]
        },
        {
          "output_type": "stream",
          "name": "stderr",
          "text": [
            "100%|██████████| 1/1 [00:00<00:00,  1.49it/s]"
          ]
        },
        {
          "output_type": "stream",
          "name": "stdout",
          "text": [
            "2023-02-24 05:36:24,618 Evaluating as a multi-label problem: False\n",
            "2023-02-24 05:36:24,635 DEV : loss 0.17945411801338196 - f1-score (micro avg)  0.1005\n",
            "2023-02-24 05:36:24,639 BAD EPOCHS (no improvement): 4\n",
            "2023-02-24 05:36:24,646 ----------------------------------------------------------------------------------------------------\n"
          ]
        },
        {
          "output_type": "stream",
          "name": "stderr",
          "text": [
            "\n"
          ]
        },
        {
          "output_type": "stream",
          "name": "stdout",
          "text": [
            "2023-02-24 05:36:25,447 epoch 95 - iter 1/6 - loss 0.35197037 - samples/sec: 40.11 - lr: 0.041646\n",
            "2023-02-24 05:36:26,274 epoch 95 - iter 2/6 - loss 0.42342683 - samples/sec: 38.81 - lr: 0.041523\n",
            "2023-02-24 05:36:27,183 epoch 95 - iter 3/6 - loss 0.38385653 - samples/sec: 35.35 - lr: 0.041400\n",
            "2023-02-24 05:36:27,886 epoch 95 - iter 4/6 - loss 0.43809765 - samples/sec: 45.85 - lr: 0.041278\n",
            "2023-02-24 05:36:29,675 epoch 95 - iter 5/6 - loss 0.38827240 - samples/sec: 17.96 - lr: 0.041155\n",
            "2023-02-24 05:36:29,743 epoch 95 - iter 6/6 - loss 0.38989190 - samples/sec: 483.58 - lr: 0.041032\n",
            "2023-02-24 05:36:29,747 ----------------------------------------------------------------------------------------------------\n",
            "2023-02-24 05:36:29,750 EPOCH 95 done: loss 0.3899 - lr 0.041032\n"
          ]
        },
        {
          "output_type": "stream",
          "name": "stderr",
          "text": [
            "100%|██████████| 1/1 [00:00<00:00,  1.62it/s]"
          ]
        },
        {
          "output_type": "stream",
          "name": "stdout",
          "text": [
            "2023-02-24 05:36:30,389 Evaluating as a multi-label problem: False\n",
            "2023-02-24 05:36:30,404 DEV : loss 0.1538037359714508 - f1-score (micro avg)  0.1005\n",
            "2023-02-24 05:36:30,407 BAD EPOCHS (no improvement): 4\n",
            "2023-02-24 05:36:30,414 ----------------------------------------------------------------------------------------------------\n"
          ]
        },
        {
          "output_type": "stream",
          "name": "stderr",
          "text": [
            "\n"
          ]
        },
        {
          "output_type": "stream",
          "name": "stdout",
          "text": [
            "2023-02-24 05:36:31,162 epoch 96 - iter 1/6 - loss 0.38541552 - samples/sec: 42.86 - lr: 0.040909\n",
            "2023-02-24 05:36:32,943 epoch 96 - iter 2/6 - loss 0.45596159 - samples/sec: 17.98 - lr: 0.040786\n",
            "2023-02-24 05:36:33,705 epoch 96 - iter 3/6 - loss 0.43475412 - samples/sec: 42.09 - lr: 0.040663\n",
            "2023-02-24 05:36:34,478 epoch 96 - iter 4/6 - loss 0.42841351 - samples/sec: 41.52 - lr: 0.040541\n",
            "2023-02-24 05:36:35,542 epoch 96 - iter 5/6 - loss 0.40087883 - samples/sec: 30.12 - lr: 0.040418\n",
            "2023-02-24 05:36:35,648 epoch 96 - iter 6/6 - loss 0.40069029 - samples/sec: 312.98 - lr: 0.040295\n",
            "2023-02-24 05:36:35,651 ----------------------------------------------------------------------------------------------------\n",
            "2023-02-24 05:36:35,654 EPOCH 96 done: loss 0.4007 - lr 0.040295\n"
          ]
        },
        {
          "output_type": "stream",
          "name": "stderr",
          "text": [
            "100%|██████████| 1/1 [00:00<00:00,  1.65it/s]"
          ]
        },
        {
          "output_type": "stream",
          "name": "stdout",
          "text": [
            "2023-02-24 05:36:36,277 Evaluating as a multi-label problem: False\n",
            "2023-02-24 05:36:36,294 DEV : loss 0.24440039694309235 - f1-score (micro avg)  0.0954\n",
            "2023-02-24 05:36:36,297 BAD EPOCHS (no improvement): 4\n",
            "2023-02-24 05:36:36,307 ----------------------------------------------------------------------------------------------------\n"
          ]
        },
        {
          "output_type": "stream",
          "name": "stderr",
          "text": [
            "\n"
          ]
        },
        {
          "output_type": "stream",
          "name": "stdout",
          "text": [
            "2023-02-24 05:36:37,096 epoch 97 - iter 1/6 - loss 0.37680249 - samples/sec: 40.66 - lr: 0.040172\n",
            "2023-02-24 05:36:37,828 epoch 97 - iter 2/6 - loss 0.42296017 - samples/sec: 43.91 - lr: 0.040049\n",
            "2023-02-24 05:36:38,717 epoch 97 - iter 3/6 - loss 0.41635566 - samples/sec: 36.14 - lr: 0.039926\n",
            "2023-02-24 05:36:39,532 epoch 97 - iter 4/6 - loss 0.43706016 - samples/sec: 39.38 - lr: 0.039803\n",
            "2023-02-24 05:36:41,374 epoch 97 - iter 5/6 - loss 0.43924800 - samples/sec: 17.40 - lr: 0.039681\n",
            "2023-02-24 05:36:41,759 epoch 97 - iter 6/6 - loss 0.43530623 - samples/sec: 84.22 - lr: 0.039558\n",
            "2023-02-24 05:36:41,765 ----------------------------------------------------------------------------------------------------\n",
            "2023-02-24 05:36:41,768 EPOCH 97 done: loss 0.4353 - lr 0.039558\n"
          ]
        },
        {
          "output_type": "stream",
          "name": "stderr",
          "text": [
            "100%|██████████| 1/1 [00:00<00:00,  1.44it/s]"
          ]
        },
        {
          "output_type": "stream",
          "name": "stdout",
          "text": [
            "2023-02-24 05:36:42,483 Evaluating as a multi-label problem: False\n",
            "2023-02-24 05:36:42,504 DEV : loss 0.17009828984737396 - f1-score (micro avg)  0.1263\n",
            "2023-02-24 05:36:42,512 BAD EPOCHS (no improvement): 4\n",
            "2023-02-24 05:36:42,517 ----------------------------------------------------------------------------------------------------\n"
          ]
        },
        {
          "output_type": "stream",
          "name": "stderr",
          "text": [
            "\n"
          ]
        },
        {
          "output_type": "stream",
          "name": "stdout",
          "text": [
            "2023-02-24 05:36:43,276 epoch 98 - iter 1/6 - loss 0.29676417 - samples/sec: 42.40 - lr: 0.039435\n",
            "2023-02-24 05:36:44,139 epoch 98 - iter 2/6 - loss 0.30644728 - samples/sec: 37.17 - lr: 0.039312\n",
            "2023-02-24 05:36:44,749 epoch 98 - iter 3/6 - loss 0.29822930 - samples/sec: 52.95 - lr: 0.039189\n",
            "2023-02-24 05:36:46,523 epoch 98 - iter 4/6 - loss 0.34222985 - samples/sec: 18.08 - lr: 0.039066\n",
            "2023-02-24 05:36:47,281 epoch 98 - iter 5/6 - loss 0.32595072 - samples/sec: 42.57 - lr: 0.038943\n",
            "2023-02-24 05:36:47,516 epoch 98 - iter 6/6 - loss 0.32619727 - samples/sec: 137.14 - lr: 0.038821\n",
            "2023-02-24 05:36:47,522 ----------------------------------------------------------------------------------------------------\n",
            "2023-02-24 05:36:47,524 EPOCH 98 done: loss 0.3262 - lr 0.038821\n"
          ]
        },
        {
          "output_type": "stream",
          "name": "stderr",
          "text": [
            "100%|██████████| 1/1 [00:00<00:00,  1.64it/s]"
          ]
        },
        {
          "output_type": "stream",
          "name": "stdout",
          "text": [
            "2023-02-24 05:36:48,153 Evaluating as a multi-label problem: False\n",
            "2023-02-24 05:36:48,168 DEV : loss 0.17183193564414978 - f1-score (micro avg)  0.0954\n",
            "2023-02-24 05:36:48,175 BAD EPOCHS (no improvement): 4\n",
            "2023-02-24 05:36:48,183 ----------------------------------------------------------------------------------------------------\n"
          ]
        },
        {
          "output_type": "stream",
          "name": "stderr",
          "text": [
            "\n"
          ]
        },
        {
          "output_type": "stream",
          "name": "stdout",
          "text": [
            "2023-02-24 05:36:48,967 epoch 99 - iter 1/6 - loss 0.23920187 - samples/sec: 40.95 - lr: 0.038698\n",
            "2023-02-24 05:36:49,804 epoch 99 - iter 2/6 - loss 0.35934048 - samples/sec: 38.36 - lr: 0.038575\n",
            "2023-02-24 05:36:50,572 epoch 99 - iter 3/6 - loss 0.40022095 - samples/sec: 41.89 - lr: 0.038452\n",
            "2023-02-24 05:36:52,328 epoch 99 - iter 4/6 - loss 0.41781055 - samples/sec: 18.25 - lr: 0.038329\n",
            "2023-02-24 05:36:53,038 epoch 99 - iter 5/6 - loss 0.41611575 - samples/sec: 45.40 - lr: 0.038206\n",
            "2023-02-24 05:36:53,231 epoch 99 - iter 6/6 - loss 0.41556247 - samples/sec: 170.32 - lr: 0.038084\n",
            "2023-02-24 05:36:53,237 ----------------------------------------------------------------------------------------------------\n",
            "2023-02-24 05:36:53,240 EPOCH 99 done: loss 0.4156 - lr 0.038084\n"
          ]
        },
        {
          "output_type": "stream",
          "name": "stderr",
          "text": [
            "100%|██████████| 1/1 [00:00<00:00,  1.47it/s]"
          ]
        },
        {
          "output_type": "stream",
          "name": "stdout",
          "text": [
            "2023-02-24 05:36:53,939 Evaluating as a multi-label problem: False\n",
            "2023-02-24 05:36:53,959 DEV : loss 0.16997744143009186 - f1-score (micro avg)  0.1314\n",
            "2023-02-24 05:36:53,963 BAD EPOCHS (no improvement): 4\n",
            "2023-02-24 05:36:53,968 ----------------------------------------------------------------------------------------------------\n"
          ]
        },
        {
          "output_type": "stream",
          "name": "stderr",
          "text": [
            "\n"
          ]
        },
        {
          "output_type": "stream",
          "name": "stdout",
          "text": [
            "2023-02-24 05:36:54,816 epoch 100 - iter 1/6 - loss 0.24044370 - samples/sec: 37.90 - lr: 0.037961\n",
            "2023-02-24 05:36:56,674 epoch 100 - iter 2/6 - loss 0.28912024 - samples/sec: 17.26 - lr: 0.037838\n",
            "2023-02-24 05:36:57,499 epoch 100 - iter 3/6 - loss 0.31800102 - samples/sec: 38.91 - lr: 0.037715\n",
            "2023-02-24 05:36:58,342 epoch 100 - iter 4/6 - loss 0.32915924 - samples/sec: 38.26 - lr: 0.037592\n",
            "2023-02-24 05:36:59,106 epoch 100 - iter 5/6 - loss 0.34341315 - samples/sec: 42.04 - lr: 0.037469\n",
            "2023-02-24 05:36:59,260 epoch 100 - iter 6/6 - loss 0.34489152 - samples/sec: 219.22 - lr: 0.037346\n",
            "2023-02-24 05:36:59,263 ----------------------------------------------------------------------------------------------------\n",
            "2023-02-24 05:36:59,265 EPOCH 100 done: loss 0.3449 - lr 0.037346\n"
          ]
        },
        {
          "output_type": "stream",
          "name": "stderr",
          "text": [
            "100%|██████████| 1/1 [00:00<00:00,  1.63it/s]"
          ]
        },
        {
          "output_type": "stream",
          "name": "stdout",
          "text": [
            "2023-02-24 05:36:59,895 Evaluating as a multi-label problem: False\n",
            "2023-02-24 05:36:59,910 DEV : loss 0.21947096288204193 - f1-score (micro avg)  0.0799\n",
            "2023-02-24 05:36:59,913 BAD EPOCHS (no improvement): 4\n",
            "2023-02-24 05:36:59,924 ----------------------------------------------------------------------------------------------------\n"
          ]
        },
        {
          "output_type": "stream",
          "name": "stderr",
          "text": [
            "\n"
          ]
        },
        {
          "output_type": "stream",
          "name": "stdout",
          "text": [
            "2023-02-24 05:37:00,753 epoch 101 - iter 1/6 - loss 0.47646426 - samples/sec: 38.74 - lr: 0.037224\n",
            "2023-02-24 05:37:02,519 epoch 101 - iter 2/6 - loss 0.40050095 - samples/sec: 18.17 - lr: 0.037101\n",
            "2023-02-24 05:37:03,226 epoch 101 - iter 3/6 - loss 0.36974300 - samples/sec: 45.56 - lr: 0.036978\n",
            "2023-02-24 05:37:04,040 epoch 101 - iter 4/6 - loss 0.33911093 - samples/sec: 39.52 - lr: 0.036855\n",
            "2023-02-24 05:37:04,824 epoch 101 - iter 5/6 - loss 0.34398197 - samples/sec: 40.96 - lr: 0.036732\n",
            "2023-02-24 05:37:05,078 epoch 101 - iter 6/6 - loss 0.34419689 - samples/sec: 128.42 - lr: 0.036609\n",
            "2023-02-24 05:37:05,082 ----------------------------------------------------------------------------------------------------\n",
            "2023-02-24 05:37:05,085 EPOCH 101 done: loss 0.3442 - lr 0.036609\n"
          ]
        },
        {
          "output_type": "stream",
          "name": "stderr",
          "text": [
            "100%|██████████| 1/1 [00:00<00:00,  1.63it/s]"
          ]
        },
        {
          "output_type": "stream",
          "name": "stdout",
          "text": [
            "2023-02-24 05:37:05,712 Evaluating as a multi-label problem: False\n",
            "2023-02-24 05:37:05,729 DEV : loss 0.2525712847709656 - f1-score (micro avg)  0.1211\n",
            "2023-02-24 05:37:05,732 BAD EPOCHS (no improvement): 4\n",
            "2023-02-24 05:37:05,736 ----------------------------------------------------------------------------------------------------\n"
          ]
        },
        {
          "output_type": "stream",
          "name": "stderr",
          "text": [
            "\n"
          ]
        },
        {
          "output_type": "stream",
          "name": "stdout",
          "text": [
            "2023-02-24 05:37:06,567 epoch 102 - iter 1/6 - loss 0.34599343 - samples/sec: 38.65 - lr: 0.036486\n",
            "2023-02-24 05:37:07,341 epoch 102 - iter 2/6 - loss 0.33432600 - samples/sec: 41.49 - lr: 0.036364\n",
            "2023-02-24 05:37:08,121 epoch 102 - iter 3/6 - loss 0.31966986 - samples/sec: 41.15 - lr: 0.036241\n",
            "2023-02-24 05:37:08,954 epoch 102 - iter 4/6 - loss 0.34932145 - samples/sec: 38.58 - lr: 0.036118\n",
            "2023-02-24 05:37:10,804 epoch 102 - iter 5/6 - loss 0.33427463 - samples/sec: 17.36 - lr: 0.035995\n",
            "2023-02-24 05:37:10,976 epoch 102 - iter 6/6 - loss 0.33366461 - samples/sec: 189.28 - lr: 0.035872\n",
            "2023-02-24 05:37:10,984 ----------------------------------------------------------------------------------------------------\n",
            "2023-02-24 05:37:10,986 EPOCH 102 done: loss 0.3337 - lr 0.035872\n"
          ]
        },
        {
          "output_type": "stream",
          "name": "stderr",
          "text": [
            "100%|██████████| 1/1 [00:00<00:00,  1.49it/s]"
          ]
        },
        {
          "output_type": "stream",
          "name": "stdout",
          "text": [
            "2023-02-24 05:37:11,681 Evaluating as a multi-label problem: False\n",
            "2023-02-24 05:37:11,705 DEV : loss 0.21200990676879883 - f1-score (micro avg)  0.1005\n",
            "2023-02-24 05:37:11,711 BAD EPOCHS (no improvement): 4\n",
            "2023-02-24 05:37:11,718 ----------------------------------------------------------------------------------------------------\n"
          ]
        },
        {
          "output_type": "stream",
          "name": "stderr",
          "text": [
            "\n"
          ]
        },
        {
          "output_type": "stream",
          "name": "stdout",
          "text": [
            "2023-02-24 05:37:12,490 epoch 103 - iter 1/6 - loss 0.47570025 - samples/sec: 41.61 - lr: 0.035749\n",
            "2023-02-24 05:37:14,245 epoch 103 - iter 2/6 - loss 0.30597181 - samples/sec: 18.33 - lr: 0.035627\n",
            "2023-02-24 05:37:15,041 epoch 103 - iter 3/6 - loss 0.29667679 - samples/sec: 40.68 - lr: 0.035504\n",
            "2023-02-24 05:37:15,843 epoch 103 - iter 4/6 - loss 0.28995570 - samples/sec: 40.10 - lr: 0.035381\n",
            "2023-02-24 05:37:16,634 epoch 103 - iter 5/6 - loss 0.29410009 - samples/sec: 40.65 - lr: 0.035258\n",
            "2023-02-24 05:37:16,813 epoch 103 - iter 6/6 - loss 0.29830513 - samples/sec: 181.12 - lr: 0.035135\n",
            "2023-02-24 05:37:16,818 ----------------------------------------------------------------------------------------------------\n",
            "2023-02-24 05:37:16,821 EPOCH 103 done: loss 0.2983 - lr 0.035135\n"
          ]
        },
        {
          "output_type": "stream",
          "name": "stderr",
          "text": [
            "100%|██████████| 1/1 [00:00<00:00,  1.64it/s]"
          ]
        },
        {
          "output_type": "stream",
          "name": "stdout",
          "text": [
            "2023-02-24 05:37:17,456 Evaluating as a multi-label problem: False\n",
            "2023-02-24 05:37:17,469 DEV : loss 0.2660389542579651 - f1-score (micro avg)  0.0644\n",
            "2023-02-24 05:37:17,472 BAD EPOCHS (no improvement): 4\n",
            "2023-02-24 05:37:17,481 ----------------------------------------------------------------------------------------------------\n"
          ]
        },
        {
          "output_type": "stream",
          "name": "stderr",
          "text": [
            "\n"
          ]
        },
        {
          "output_type": "stream",
          "name": "stdout",
          "text": [
            "2023-02-24 05:37:18,241 epoch 104 - iter 1/6 - loss 0.54274201 - samples/sec: 42.25 - lr: 0.035012\n",
            "2023-02-24 05:37:19,031 epoch 104 - iter 2/6 - loss 0.42728499 - samples/sec: 40.75 - lr: 0.034889\n",
            "2023-02-24 05:37:20,805 epoch 104 - iter 3/6 - loss 0.35994485 - samples/sec: 18.10 - lr: 0.034767\n",
            "2023-02-24 05:37:21,658 epoch 104 - iter 4/6 - loss 0.37389765 - samples/sec: 37.59 - lr: 0.034644\n",
            "2023-02-24 05:37:22,448 epoch 104 - iter 5/6 - loss 0.41032901 - samples/sec: 40.58 - lr: 0.034521\n",
            "2023-02-24 05:37:22,596 epoch 104 - iter 6/6 - loss 0.41233805 - samples/sec: 223.72 - lr: 0.034398\n",
            "2023-02-24 05:37:22,599 ----------------------------------------------------------------------------------------------------\n",
            "2023-02-24 05:37:22,602 EPOCH 104 done: loss 0.4123 - lr 0.034398\n"
          ]
        },
        {
          "output_type": "stream",
          "name": "stderr",
          "text": [
            "100%|██████████| 1/1 [00:00<00:00,  1.23it/s]"
          ]
        },
        {
          "output_type": "stream",
          "name": "stdout",
          "text": [
            "2023-02-24 05:37:23,437 Evaluating as a multi-label problem: False\n",
            "2023-02-24 05:37:23,452 DEV : loss 0.19710586965084076 - f1-score (micro avg)  0.1134\n",
            "2023-02-24 05:37:23,455 BAD EPOCHS (no improvement): 4\n",
            "2023-02-24 05:37:23,461 ----------------------------------------------------------------------------------------------------\n"
          ]
        },
        {
          "output_type": "stream",
          "name": "stderr",
          "text": [
            "\n"
          ]
        },
        {
          "output_type": "stream",
          "name": "stdout",
          "text": [
            "2023-02-24 05:37:24,308 epoch 105 - iter 1/6 - loss 0.19678309 - samples/sec: 37.86 - lr: 0.034275\n",
            "2023-02-24 05:37:25,205 epoch 105 - iter 2/6 - loss 0.38041422 - samples/sec: 36.10 - lr: 0.034152\n",
            "2023-02-24 05:37:26,005 epoch 105 - iter 3/6 - loss 0.37650322 - samples/sec: 40.42 - lr: 0.034029\n",
            "2023-02-24 05:37:26,823 epoch 105 - iter 4/6 - loss 0.39227102 - samples/sec: 39.48 - lr: 0.033907\n",
            "2023-02-24 05:37:28,678 epoch 105 - iter 5/6 - loss 0.36073246 - samples/sec: 17.33 - lr: 0.033784\n",
            "2023-02-24 05:37:28,747 epoch 105 - iter 6/6 - loss 0.36476015 - samples/sec: 474.75 - lr: 0.033661\n",
            "2023-02-24 05:37:28,749 ----------------------------------------------------------------------------------------------------\n",
            "2023-02-24 05:37:28,757 EPOCH 105 done: loss 0.3648 - lr 0.033661\n"
          ]
        },
        {
          "output_type": "stream",
          "name": "stderr",
          "text": [
            "100%|██████████| 1/1 [00:00<00:00,  1.65it/s]"
          ]
        },
        {
          "output_type": "stream",
          "name": "stdout",
          "text": [
            "2023-02-24 05:37:29,380 Evaluating as a multi-label problem: False\n",
            "2023-02-24 05:37:29,399 DEV : loss 0.17703841626644135 - f1-score (micro avg)  0.1057\n",
            "2023-02-24 05:37:29,401 BAD EPOCHS (no improvement): 4\n",
            "2023-02-24 05:37:29,409 ----------------------------------------------------------------------------------------------------\n"
          ]
        },
        {
          "output_type": "stream",
          "name": "stderr",
          "text": [
            "\n"
          ]
        },
        {
          "output_type": "stream",
          "name": "stdout",
          "text": [
            "2023-02-24 05:37:30,158 epoch 106 - iter 1/6 - loss 0.29148472 - samples/sec: 42.99 - lr: 0.033538\n",
            "2023-02-24 05:37:31,917 epoch 106 - iter 2/6 - loss 0.29113636 - samples/sec: 18.28 - lr: 0.033415\n",
            "2023-02-24 05:37:32,755 epoch 106 - iter 3/6 - loss 0.28525274 - samples/sec: 38.48 - lr: 0.033292\n",
            "2023-02-24 05:37:33,555 epoch 106 - iter 4/6 - loss 0.28893124 - samples/sec: 40.28 - lr: 0.033170\n",
            "2023-02-24 05:37:34,368 epoch 106 - iter 5/6 - loss 0.29841168 - samples/sec: 39.63 - lr: 0.033047\n",
            "2023-02-24 05:37:34,555 epoch 106 - iter 6/6 - loss 0.30141923 - samples/sec: 177.33 - lr: 0.032924\n",
            "2023-02-24 05:37:34,557 ----------------------------------------------------------------------------------------------------\n",
            "2023-02-24 05:37:34,560 EPOCH 106 done: loss 0.3014 - lr 0.032924\n"
          ]
        },
        {
          "output_type": "stream",
          "name": "stderr",
          "text": [
            "100%|██████████| 1/1 [00:00<00:00,  1.64it/s]"
          ]
        },
        {
          "output_type": "stream",
          "name": "stdout",
          "text": [
            "2023-02-24 05:37:35,183 Evaluating as a multi-label problem: False\n",
            "2023-02-24 05:37:35,206 DEV : loss 0.22142964601516724 - f1-score (micro avg)  0.1031\n",
            "2023-02-24 05:37:35,212 BAD EPOCHS (no improvement): 4\n",
            "2023-02-24 05:37:35,219 ----------------------------------------------------------------------------------------------------\n"
          ]
        },
        {
          "output_type": "stream",
          "name": "stderr",
          "text": [
            "\n"
          ]
        },
        {
          "output_type": "stream",
          "name": "stdout",
          "text": [
            "2023-02-24 05:37:35,969 epoch 107 - iter 1/6 - loss 0.52074441 - samples/sec: 42.82 - lr: 0.032801\n",
            "2023-02-24 05:37:36,799 epoch 107 - iter 2/6 - loss 0.35625504 - samples/sec: 38.77 - lr: 0.032678\n",
            "2023-02-24 05:37:38,559 epoch 107 - iter 3/6 - loss 0.32307739 - samples/sec: 18.22 - lr: 0.032555\n",
            "2023-02-24 05:37:39,469 epoch 107 - iter 4/6 - loss 0.31580024 - samples/sec: 35.27 - lr: 0.032432\n",
            "2023-02-24 05:37:40,270 epoch 107 - iter 5/6 - loss 0.31929493 - samples/sec: 40.22 - lr: 0.032310\n",
            "2023-02-24 05:37:40,461 epoch 107 - iter 6/6 - loss 0.31754028 - samples/sec: 174.45 - lr: 0.032187\n",
            "2023-02-24 05:37:40,469 ----------------------------------------------------------------------------------------------------\n",
            "2023-02-24 05:37:40,472 EPOCH 107 done: loss 0.3175 - lr 0.032187\n"
          ]
        },
        {
          "output_type": "stream",
          "name": "stderr",
          "text": [
            "100%|██████████| 1/1 [00:00<00:00,  1.46it/s]"
          ]
        },
        {
          "output_type": "stream",
          "name": "stdout",
          "text": [
            "2023-02-24 05:37:41,176 Evaluating as a multi-label problem: False\n",
            "2023-02-24 05:37:41,196 DEV : loss 0.3278874456882477 - f1-score (micro avg)  0.1134\n",
            "2023-02-24 05:37:41,203 BAD EPOCHS (no improvement): 4\n",
            "2023-02-24 05:37:41,209 ----------------------------------------------------------------------------------------------------\n"
          ]
        },
        {
          "output_type": "stream",
          "name": "stderr",
          "text": [
            "\n"
          ]
        },
        {
          "output_type": "stream",
          "name": "stdout",
          "text": [
            "2023-02-24 05:37:42,028 epoch 108 - iter 1/6 - loss 0.55722012 - samples/sec: 39.25 - lr: 0.032064\n",
            "2023-02-24 05:37:42,860 epoch 108 - iter 2/6 - loss 0.44764362 - samples/sec: 38.58 - lr: 0.031941\n",
            "2023-02-24 05:37:43,764 epoch 108 - iter 3/6 - loss 0.42396542 - samples/sec: 35.58 - lr: 0.031818\n",
            "2023-02-24 05:37:45,524 epoch 108 - iter 4/6 - loss 0.39999646 - samples/sec: 18.23 - lr: 0.031695\n",
            "2023-02-24 05:37:46,280 epoch 108 - iter 5/6 - loss 0.37905224 - samples/sec: 42.61 - lr: 0.031572\n",
            "2023-02-24 05:37:46,676 epoch 108 - iter 6/6 - loss 0.37525346 - samples/sec: 81.89 - lr: 0.031450\n",
            "2023-02-24 05:37:46,680 ----------------------------------------------------------------------------------------------------\n",
            "2023-02-24 05:37:46,683 EPOCH 108 done: loss 0.3753 - lr 0.031450\n"
          ]
        },
        {
          "output_type": "stream",
          "name": "stderr",
          "text": [
            "100%|██████████| 1/1 [00:00<00:00,  1.58it/s]"
          ]
        },
        {
          "output_type": "stream",
          "name": "stdout",
          "text": [
            "2023-02-24 05:37:47,342 Evaluating as a multi-label problem: False\n",
            "2023-02-24 05:37:47,355 DEV : loss 0.2655666470527649 - f1-score (micro avg)  0.0593\n",
            "2023-02-24 05:37:47,359 BAD EPOCHS (no improvement): 4\n",
            "2023-02-24 05:37:47,366 ----------------------------------------------------------------------------------------------------\n"
          ]
        },
        {
          "output_type": "stream",
          "name": "stderr",
          "text": [
            "\n"
          ]
        },
        {
          "output_type": "stream",
          "name": "stdout",
          "text": [
            "2023-02-24 05:37:48,149 epoch 109 - iter 1/6 - loss 0.31345346 - samples/sec: 41.13 - lr: 0.031327\n",
            "2023-02-24 05:37:49,928 epoch 109 - iter 2/6 - loss 0.28028181 - samples/sec: 18.02 - lr: 0.031204\n",
            "2023-02-24 05:37:50,686 epoch 109 - iter 3/6 - loss 0.32144612 - samples/sec: 42.39 - lr: 0.031081\n",
            "2023-02-24 05:37:51,522 epoch 109 - iter 4/6 - loss 0.31077309 - samples/sec: 38.52 - lr: 0.030958\n",
            "2023-02-24 05:37:52,280 epoch 109 - iter 5/6 - loss 0.30027990 - samples/sec: 42.37 - lr: 0.030835\n",
            "2023-02-24 05:37:52,566 epoch 109 - iter 6/6 - loss 0.31917632 - samples/sec: 113.27 - lr: 0.030713\n",
            "2023-02-24 05:37:52,569 ----------------------------------------------------------------------------------------------------\n",
            "2023-02-24 05:37:52,572 EPOCH 109 done: loss 0.3192 - lr 0.030713\n"
          ]
        },
        {
          "output_type": "stream",
          "name": "stderr",
          "text": [
            "100%|██████████| 1/1 [00:00<00:00,  1.61it/s]"
          ]
        },
        {
          "output_type": "stream",
          "name": "stdout",
          "text": [
            "2023-02-24 05:37:53,215 Evaluating as a multi-label problem: False\n",
            "2023-02-24 05:37:53,232 DEV : loss 0.17463521659374237 - f1-score (micro avg)  0.1289\n",
            "2023-02-24 05:37:53,236 BAD EPOCHS (no improvement): 4\n",
            "2023-02-24 05:37:53,246 ----------------------------------------------------------------------------------------------------\n"
          ]
        },
        {
          "output_type": "stream",
          "name": "stderr",
          "text": [
            "\n"
          ]
        },
        {
          "output_type": "stream",
          "name": "stdout",
          "text": [
            "2023-02-24 05:37:54,130 epoch 110 - iter 1/6 - loss 0.38012126 - samples/sec: 36.31 - lr: 0.030590\n",
            "2023-02-24 05:37:55,965 epoch 110 - iter 2/6 - loss 0.40406363 - samples/sec: 17.47 - lr: 0.030467\n",
            "2023-02-24 05:37:56,802 epoch 110 - iter 3/6 - loss 0.37439202 - samples/sec: 38.58 - lr: 0.030344\n",
            "2023-02-24 05:37:57,628 epoch 110 - iter 4/6 - loss 0.34948365 - samples/sec: 39.10 - lr: 0.030221\n",
            "2023-02-24 05:37:58,494 epoch 110 - iter 5/6 - loss 0.32792966 - samples/sec: 37.30 - lr: 0.030098\n",
            "2023-02-24 05:37:58,829 epoch 110 - iter 6/6 - loss 0.32454525 - samples/sec: 97.93 - lr: 0.029975\n",
            "2023-02-24 05:37:58,837 ----------------------------------------------------------------------------------------------------\n",
            "2023-02-24 05:37:58,839 EPOCH 110 done: loss 0.3245 - lr 0.029975\n"
          ]
        },
        {
          "output_type": "stream",
          "name": "stderr",
          "text": [
            "100%|██████████| 1/1 [00:00<00:00,  1.59it/s]"
          ]
        },
        {
          "output_type": "stream",
          "name": "stdout",
          "text": [
            "2023-02-24 05:37:59,488 Evaluating as a multi-label problem: False\n",
            "2023-02-24 05:37:59,504 DEV : loss 0.2084120512008667 - f1-score (micro avg)  0.1108\n",
            "2023-02-24 05:37:59,507 BAD EPOCHS (no improvement): 4\n",
            "2023-02-24 05:37:59,516 ----------------------------------------------------------------------------------------------------\n"
          ]
        },
        {
          "output_type": "stream",
          "name": "stderr",
          "text": [
            "\n"
          ]
        },
        {
          "output_type": "stream",
          "name": "stdout",
          "text": [
            "2023-02-24 05:38:00,275 epoch 111 - iter 1/6 - loss 0.15000603 - samples/sec: 42.53 - lr: 0.029853\n",
            "2023-02-24 05:38:02,042 epoch 111 - iter 2/6 - loss 0.20247845 - samples/sec: 18.15 - lr: 0.029730\n",
            "2023-02-24 05:38:02,874 epoch 111 - iter 3/6 - loss 0.21151567 - samples/sec: 38.65 - lr: 0.029607\n",
            "2023-02-24 05:38:03,670 epoch 111 - iter 4/6 - loss 0.26685544 - samples/sec: 40.48 - lr: 0.029484\n",
            "2023-02-24 05:38:04,488 epoch 111 - iter 5/6 - loss 0.26997204 - samples/sec: 39.31 - lr: 0.029361\n",
            "2023-02-24 05:38:04,863 epoch 111 - iter 6/6 - loss 0.26529857 - samples/sec: 85.70 - lr: 0.029238\n",
            "2023-02-24 05:38:04,866 ----------------------------------------------------------------------------------------------------\n",
            "2023-02-24 05:38:04,868 EPOCH 111 done: loss 0.2653 - lr 0.029238\n"
          ]
        },
        {
          "output_type": "stream",
          "name": "stderr",
          "text": [
            "100%|██████████| 1/1 [00:00<00:00,  1.55it/s]"
          ]
        },
        {
          "output_type": "stream",
          "name": "stdout",
          "text": [
            "2023-02-24 05:38:05,527 Evaluating as a multi-label problem: False\n",
            "2023-02-24 05:38:05,543 DEV : loss 0.1971711665391922 - f1-score (micro avg)  0.1186\n",
            "2023-02-24 05:38:05,546 BAD EPOCHS (no improvement): 4\n",
            "2023-02-24 05:38:05,550 ----------------------------------------------------------------------------------------------------\n"
          ]
        },
        {
          "output_type": "stream",
          "name": "stderr",
          "text": [
            "\n"
          ]
        },
        {
          "output_type": "stream",
          "name": "stdout",
          "text": [
            "2023-02-24 05:38:06,498 epoch 112 - iter 1/6 - loss 0.34969414 - samples/sec: 33.90 - lr: 0.029115\n",
            "2023-02-24 05:38:07,252 epoch 112 - iter 2/6 - loss 0.36003980 - samples/sec: 42.73 - lr: 0.028993\n",
            "2023-02-24 05:38:08,078 epoch 112 - iter 3/6 - loss 0.33420057 - samples/sec: 38.97 - lr: 0.028870\n",
            "2023-02-24 05:38:09,940 epoch 112 - iter 4/6 - loss 0.29568039 - samples/sec: 17.20 - lr: 0.028747\n",
            "2023-02-24 05:38:10,741 epoch 112 - iter 5/6 - loss 0.30503085 - samples/sec: 40.29 - lr: 0.028624\n",
            "2023-02-24 05:38:11,119 epoch 112 - iter 6/6 - loss 0.30197217 - samples/sec: 86.01 - lr: 0.028501\n",
            "2023-02-24 05:38:11,125 ----------------------------------------------------------------------------------------------------\n",
            "2023-02-24 05:38:11,127 EPOCH 112 done: loss 0.3020 - lr 0.028501\n"
          ]
        },
        {
          "output_type": "stream",
          "name": "stderr",
          "text": [
            "100%|██████████| 1/1 [00:00<00:00,  1.49it/s]"
          ]
        },
        {
          "output_type": "stream",
          "name": "stdout",
          "text": [
            "2023-02-24 05:38:11,821 Evaluating as a multi-label problem: False\n",
            "2023-02-24 05:38:11,838 DEV : loss 0.19955074787139893 - f1-score (micro avg)  0.1082\n",
            "2023-02-24 05:38:11,841 BAD EPOCHS (no improvement): 4\n",
            "2023-02-24 05:38:11,846 ----------------------------------------------------------------------------------------------------\n"
          ]
        },
        {
          "output_type": "stream",
          "name": "stderr",
          "text": [
            "\n"
          ]
        },
        {
          "output_type": "stream",
          "name": "stdout",
          "text": [
            "2023-02-24 05:38:12,750 epoch 113 - iter 1/6 - loss 0.40664254 - samples/sec: 35.51 - lr: 0.028378\n",
            "2023-02-24 05:38:13,562 epoch 113 - iter 2/6 - loss 0.39148243 - samples/sec: 39.79 - lr: 0.028256\n",
            "2023-02-24 05:38:14,363 epoch 113 - iter 3/6 - loss 0.34405765 - samples/sec: 40.32 - lr: 0.028133\n",
            "2023-02-24 05:38:16,217 epoch 113 - iter 4/6 - loss 0.32793055 - samples/sec: 17.33 - lr: 0.028010\n",
            "2023-02-24 05:38:16,971 epoch 113 - iter 5/6 - loss 0.36235612 - samples/sec: 42.88 - lr: 0.027887\n",
            "2023-02-24 05:38:17,398 epoch 113 - iter 6/6 - loss 0.35360366 - samples/sec: 76.33 - lr: 0.027764\n",
            "2023-02-24 05:38:17,408 ----------------------------------------------------------------------------------------------------\n",
            "2023-02-24 05:38:17,410 EPOCH 113 done: loss 0.3536 - lr 0.027764\n"
          ]
        },
        {
          "output_type": "stream",
          "name": "stderr",
          "text": [
            "100%|██████████| 1/1 [00:00<00:00,  1.48it/s]"
          ]
        },
        {
          "output_type": "stream",
          "name": "stdout",
          "text": [
            "2023-02-24 05:38:18,102 Evaluating as a multi-label problem: False\n",
            "2023-02-24 05:38:18,120 DEV : loss 0.1608341485261917 - f1-score (micro avg)  0.1263\n",
            "2023-02-24 05:38:18,125 BAD EPOCHS (no improvement): 4\n",
            "2023-02-24 05:38:18,129 ----------------------------------------------------------------------------------------------------\n"
          ]
        },
        {
          "output_type": "stream",
          "name": "stderr",
          "text": [
            "\n"
          ]
        },
        {
          "output_type": "stream",
          "name": "stdout",
          "text": [
            "2023-02-24 05:38:18,971 epoch 114 - iter 1/6 - loss 0.25217460 - samples/sec: 38.19 - lr: 0.027641\n",
            "2023-02-24 05:38:19,722 epoch 114 - iter 2/6 - loss 0.26379472 - samples/sec: 42.98 - lr: 0.027518\n",
            "2023-02-24 05:38:20,519 epoch 114 - iter 3/6 - loss 0.26233226 - samples/sec: 40.24 - lr: 0.027396\n",
            "2023-02-24 05:38:22,296 epoch 114 - iter 4/6 - loss 0.28883921 - samples/sec: 18.02 - lr: 0.027273\n",
            "2023-02-24 05:38:23,142 epoch 114 - iter 5/6 - loss 0.28158581 - samples/sec: 38.27 - lr: 0.027150\n",
            "2023-02-24 05:38:23,486 epoch 114 - iter 6/6 - loss 0.27977914 - samples/sec: 93.43 - lr: 0.027027\n",
            "2023-02-24 05:38:23,488 ----------------------------------------------------------------------------------------------------\n",
            "2023-02-24 05:38:23,494 EPOCH 114 done: loss 0.2798 - lr 0.027027\n"
          ]
        },
        {
          "output_type": "stream",
          "name": "stderr",
          "text": [
            "100%|██████████| 1/1 [00:00<00:00,  1.52it/s]"
          ]
        },
        {
          "output_type": "stream",
          "name": "stdout",
          "text": [
            "2023-02-24 05:38:24,169 Evaluating as a multi-label problem: False\n",
            "2023-02-24 05:38:24,189 DEV : loss 0.1822129487991333 - f1-score (micro avg)  0.116\n",
            "2023-02-24 05:38:24,193 BAD EPOCHS (no improvement): 4\n",
            "2023-02-24 05:38:24,203 ----------------------------------------------------------------------------------------------------\n"
          ]
        },
        {
          "output_type": "stream",
          "name": "stderr",
          "text": [
            "\n"
          ]
        },
        {
          "output_type": "stream",
          "name": "stdout",
          "text": [
            "2023-02-24 05:38:25,034 epoch 115 - iter 1/6 - loss 0.29329536 - samples/sec: 38.72 - lr: 0.026904\n",
            "2023-02-24 05:38:25,926 epoch 115 - iter 2/6 - loss 0.27131230 - samples/sec: 36.10 - lr: 0.026781\n",
            "2023-02-24 05:38:26,727 epoch 115 - iter 3/6 - loss 0.29753169 - samples/sec: 40.45 - lr: 0.026658\n",
            "2023-02-24 05:38:28,594 epoch 115 - iter 4/6 - loss 0.32179513 - samples/sec: 17.18 - lr: 0.026536\n",
            "2023-02-24 05:38:29,360 epoch 115 - iter 5/6 - loss 0.30313512 - samples/sec: 42.07 - lr: 0.026413\n",
            "2023-02-24 05:38:29,653 epoch 115 - iter 6/6 - loss 0.29997380 - samples/sec: 111.15 - lr: 0.026290\n",
            "2023-02-24 05:38:29,655 ----------------------------------------------------------------------------------------------------\n",
            "2023-02-24 05:38:29,662 EPOCH 115 done: loss 0.3000 - lr 0.026290\n"
          ]
        },
        {
          "output_type": "stream",
          "name": "stderr",
          "text": [
            "100%|██████████| 1/1 [00:00<00:00,  1.65it/s]"
          ]
        },
        {
          "output_type": "stream",
          "name": "stdout",
          "text": [
            "2023-02-24 05:38:30,300 Evaluating as a multi-label problem: False\n",
            "2023-02-24 05:38:30,314 DEV : loss 0.20734241604804993 - f1-score (micro avg)  0.1366\n",
            "2023-02-24 05:38:30,316 BAD EPOCHS (no improvement): 4\n",
            "2023-02-24 05:38:30,329 ----------------------------------------------------------------------------------------------------\n"
          ]
        },
        {
          "output_type": "stream",
          "name": "stderr",
          "text": [
            "\n"
          ]
        },
        {
          "output_type": "stream",
          "name": "stdout",
          "text": [
            "2023-02-24 05:38:31,149 epoch 116 - iter 1/6 - loss 0.43646982 - samples/sec: 39.21 - lr: 0.026167\n",
            "2023-02-24 05:38:31,918 epoch 116 - iter 2/6 - loss 0.35866278 - samples/sec: 41.89 - lr: 0.026044\n",
            "2023-02-24 05:38:32,737 epoch 116 - iter 3/6 - loss 0.30574228 - samples/sec: 39.62 - lr: 0.025921\n",
            "2023-02-24 05:38:34,491 epoch 116 - iter 4/6 - loss 0.28029828 - samples/sec: 18.28 - lr: 0.025799\n",
            "2023-02-24 05:38:35,291 epoch 116 - iter 5/6 - loss 0.27252400 - samples/sec: 40.05 - lr: 0.025676\n",
            "2023-02-24 05:38:35,393 epoch 116 - iter 6/6 - loss 0.27135516 - samples/sec: 323.00 - lr: 0.025553\n",
            "2023-02-24 05:38:35,397 ----------------------------------------------------------------------------------------------------\n",
            "2023-02-24 05:38:35,400 EPOCH 116 done: loss 0.2714 - lr 0.025553\n"
          ]
        },
        {
          "output_type": "stream",
          "name": "stderr",
          "text": [
            "100%|██████████| 1/1 [00:00<00:00,  1.66it/s]"
          ]
        },
        {
          "output_type": "stream",
          "name": "stdout",
          "text": [
            "2023-02-24 05:38:36,027 Evaluating as a multi-label problem: False\n",
            "2023-02-24 05:38:36,043 DEV : loss 0.18516069650650024 - f1-score (micro avg)  0.1031\n",
            "2023-02-24 05:38:36,046 BAD EPOCHS (no improvement): 4\n",
            "2023-02-24 05:38:36,050 ----------------------------------------------------------------------------------------------------\n"
          ]
        },
        {
          "output_type": "stream",
          "name": "stderr",
          "text": [
            "\n"
          ]
        },
        {
          "output_type": "stream",
          "name": "stdout",
          "text": [
            "2023-02-24 05:38:36,885 epoch 117 - iter 1/6 - loss 0.32126880 - samples/sec: 38.45 - lr: 0.025430\n",
            "2023-02-24 05:38:37,660 epoch 117 - iter 2/6 - loss 0.34914481 - samples/sec: 41.40 - lr: 0.025307\n",
            "2023-02-24 05:38:38,436 epoch 117 - iter 3/6 - loss 0.30613285 - samples/sec: 41.48 - lr: 0.025184\n",
            "2023-02-24 05:38:40,280 epoch 117 - iter 4/6 - loss 0.29697650 - samples/sec: 17.39 - lr: 0.025061\n",
            "2023-02-24 05:38:41,122 epoch 117 - iter 5/6 - loss 0.29505953 - samples/sec: 38.26 - lr: 0.024939\n",
            "2023-02-24 05:38:41,294 epoch 117 - iter 6/6 - loss 0.29438072 - samples/sec: 192.06 - lr: 0.024816\n",
            "2023-02-24 05:38:41,299 ----------------------------------------------------------------------------------------------------\n",
            "2023-02-24 05:38:41,302 EPOCH 117 done: loss 0.2944 - lr 0.024816\n"
          ]
        },
        {
          "output_type": "stream",
          "name": "stderr",
          "text": [
            "100%|██████████| 1/1 [00:00<00:00,  1.51it/s]"
          ]
        },
        {
          "output_type": "stream",
          "name": "stdout",
          "text": [
            "2023-02-24 05:38:41,980 Evaluating as a multi-label problem: False\n",
            "2023-02-24 05:38:41,998 DEV : loss 0.16848689317703247 - f1-score (micro avg)  0.134\n",
            "2023-02-24 05:38:42,003 BAD EPOCHS (no improvement): 4\n",
            "2023-02-24 05:38:42,009 ----------------------------------------------------------------------------------------------------\n"
          ]
        },
        {
          "output_type": "stream",
          "name": "stderr",
          "text": [
            "\n"
          ]
        },
        {
          "output_type": "stream",
          "name": "stdout",
          "text": [
            "2023-02-24 05:38:42,816 epoch 118 - iter 1/6 - loss 0.23575377 - samples/sec: 39.77 - lr: 0.024693\n",
            "2023-02-24 05:38:43,682 epoch 118 - iter 2/6 - loss 0.27453509 - samples/sec: 37.09 - lr: 0.024570\n",
            "2023-02-24 05:38:44,548 epoch 118 - iter 3/6 - loss 0.24749737 - samples/sec: 37.06 - lr: 0.024447\n",
            "2023-02-24 05:38:46,308 epoch 118 - iter 4/6 - loss 0.24597335 - samples/sec: 18.24 - lr: 0.024324\n",
            "2023-02-24 05:38:47,102 epoch 118 - iter 5/6 - loss 0.25319543 - samples/sec: 40.37 - lr: 0.024201\n",
            "2023-02-24 05:38:47,217 epoch 118 - iter 6/6 - loss 0.25482389 - samples/sec: 284.08 - lr: 0.024079\n",
            "2023-02-24 05:38:47,218 ----------------------------------------------------------------------------------------------------\n",
            "2023-02-24 05:38:47,222 EPOCH 118 done: loss 0.2548 - lr 0.024079\n"
          ]
        },
        {
          "output_type": "stream",
          "name": "stderr",
          "text": [
            "100%|██████████| 1/1 [00:00<00:00,  1.64it/s]"
          ]
        },
        {
          "output_type": "stream",
          "name": "stdout",
          "text": [
            "2023-02-24 05:38:47,854 Evaluating as a multi-label problem: False\n",
            "2023-02-24 05:38:47,867 DEV : loss 0.22281600534915924 - f1-score (micro avg)  0.0876\n",
            "2023-02-24 05:38:47,870 BAD EPOCHS (no improvement): 4\n",
            "2023-02-24 05:38:47,877 ----------------------------------------------------------------------------------------------------\n"
          ]
        },
        {
          "output_type": "stream",
          "name": "stderr",
          "text": [
            "\n"
          ]
        },
        {
          "output_type": "stream",
          "name": "stdout",
          "text": [
            "2023-02-24 05:38:48,581 epoch 119 - iter 1/6 - loss 0.24425781 - samples/sec: 45.73 - lr: 0.023956\n",
            "2023-02-24 05:38:50,358 epoch 119 - iter 2/6 - loss 0.26364247 - samples/sec: 18.07 - lr: 0.023833\n",
            "2023-02-24 05:38:51,147 epoch 119 - iter 3/6 - loss 0.28391503 - samples/sec: 40.83 - lr: 0.023710\n",
            "2023-02-24 05:38:51,954 epoch 119 - iter 4/6 - loss 0.25970793 - samples/sec: 39.76 - lr: 0.023587\n",
            "2023-02-24 05:38:52,821 epoch 119 - iter 5/6 - loss 0.25756715 - samples/sec: 37.12 - lr: 0.023464\n",
            "2023-02-24 05:38:52,947 epoch 119 - iter 6/6 - loss 0.25751809 - samples/sec: 264.18 - lr: 0.023342\n",
            "2023-02-24 05:38:52,952 ----------------------------------------------------------------------------------------------------\n",
            "2023-02-24 05:38:52,956 EPOCH 119 done: loss 0.2575 - lr 0.023342\n"
          ]
        },
        {
          "output_type": "stream",
          "name": "stderr",
          "text": [
            "100%|██████████| 1/1 [00:00<00:00,  1.63it/s]"
          ]
        },
        {
          "output_type": "stream",
          "name": "stdout",
          "text": [
            "2023-02-24 05:38:53,592 Evaluating as a multi-label problem: False\n",
            "2023-02-24 05:38:53,608 DEV : loss 0.16287340223789215 - f1-score (micro avg)  0.1289\n",
            "2023-02-24 05:38:53,611 BAD EPOCHS (no improvement): 4\n",
            "2023-02-24 05:38:53,628 ----------------------------------------------------------------------------------------------------\n"
          ]
        },
        {
          "output_type": "stream",
          "name": "stderr",
          "text": [
            "\n"
          ]
        },
        {
          "output_type": "stream",
          "name": "stdout",
          "text": [
            "2023-02-24 05:38:54,417 epoch 120 - iter 1/6 - loss 0.35307129 - samples/sec: 40.77 - lr: 0.023219\n",
            "2023-02-24 05:38:55,242 epoch 120 - iter 2/6 - loss 0.29090019 - samples/sec: 39.04 - lr: 0.023096\n",
            "2023-02-24 05:38:57,076 epoch 120 - iter 3/6 - loss 0.28586868 - samples/sec: 17.52 - lr: 0.022973\n",
            "2023-02-24 05:38:57,991 epoch 120 - iter 4/6 - loss 0.28184921 - samples/sec: 35.30 - lr: 0.022850\n",
            "2023-02-24 05:38:58,844 epoch 120 - iter 5/6 - loss 0.27424078 - samples/sec: 37.83 - lr: 0.022727\n",
            "2023-02-24 05:38:59,168 epoch 120 - iter 6/6 - loss 0.27020492 - samples/sec: 100.06 - lr: 0.022604\n",
            "2023-02-24 05:38:59,170 ----------------------------------------------------------------------------------------------------\n",
            "2023-02-24 05:38:59,175 EPOCH 120 done: loss 0.2702 - lr 0.022604\n"
          ]
        },
        {
          "output_type": "stream",
          "name": "stderr",
          "text": [
            "100%|██████████| 1/1 [00:00<00:00,  1.60it/s]"
          ]
        },
        {
          "output_type": "stream",
          "name": "stdout",
          "text": [
            "2023-02-24 05:38:59,825 Evaluating as a multi-label problem: False\n",
            "2023-02-24 05:38:59,845 DEV : loss 0.16321513056755066 - f1-score (micro avg)  0.1289\n",
            "2023-02-24 05:38:59,849 BAD EPOCHS (no improvement): 4\n",
            "2023-02-24 05:38:59,858 ----------------------------------------------------------------------------------------------------\n"
          ]
        },
        {
          "output_type": "stream",
          "name": "stderr",
          "text": [
            "\n"
          ]
        },
        {
          "output_type": "stream",
          "name": "stdout",
          "text": [
            "2023-02-24 05:39:00,608 epoch 121 - iter 1/6 - loss 0.21738490 - samples/sec: 42.90 - lr: 0.022482\n",
            "2023-02-24 05:39:02,392 epoch 121 - iter 2/6 - loss 0.20207531 - samples/sec: 17.97 - lr: 0.022359\n",
            "2023-02-24 05:39:03,149 epoch 121 - iter 3/6 - loss 0.22215157 - samples/sec: 42.35 - lr: 0.022236\n",
            "2023-02-24 05:39:03,922 epoch 121 - iter 4/6 - loss 0.21796477 - samples/sec: 41.69 - lr: 0.022113\n",
            "2023-02-24 05:39:04,746 epoch 121 - iter 5/6 - loss 0.21964943 - samples/sec: 39.05 - lr: 0.021990\n",
            "2023-02-24 05:39:05,091 epoch 121 - iter 6/6 - loss 0.21874884 - samples/sec: 93.19 - lr: 0.021867\n",
            "2023-02-24 05:39:05,093 ----------------------------------------------------------------------------------------------------\n",
            "2023-02-24 05:39:05,100 EPOCH 121 done: loss 0.2187 - lr 0.021867\n"
          ]
        },
        {
          "output_type": "stream",
          "name": "stderr",
          "text": [
            "100%|██████████| 1/1 [00:00<00:00,  1.55it/s]"
          ]
        },
        {
          "output_type": "stream",
          "name": "stdout",
          "text": [
            "2023-02-24 05:39:05,768 Evaluating as a multi-label problem: False\n",
            "2023-02-24 05:39:05,784 DEV : loss 0.16309288144111633 - f1-score (micro avg)  0.1366\n",
            "2023-02-24 05:39:05,788 BAD EPOCHS (no improvement): 4\n",
            "2023-02-24 05:39:05,798 ----------------------------------------------------------------------------------------------------\n"
          ]
        },
        {
          "output_type": "stream",
          "name": "stderr",
          "text": [
            "\n"
          ]
        },
        {
          "output_type": "stream",
          "name": "stdout",
          "text": [
            "2023-02-24 05:39:06,405 epoch 122 - iter 1/6 - loss 0.20525012 - samples/sec: 53.03 - lr: 0.021744\n",
            "2023-02-24 05:39:07,230 epoch 122 - iter 2/6 - loss 0.28513024 - samples/sec: 39.16 - lr: 0.021622\n",
            "2023-02-24 05:39:08,009 epoch 122 - iter 3/6 - loss 0.28227983 - samples/sec: 41.22 - lr: 0.021499\n",
            "2023-02-24 05:39:08,858 epoch 122 - iter 4/6 - loss 0.28610895 - samples/sec: 37.78 - lr: 0.021376\n",
            "2023-02-24 05:39:10,710 epoch 122 - iter 5/6 - loss 0.23959286 - samples/sec: 17.30 - lr: 0.021253\n",
            "2023-02-24 05:39:10,983 epoch 122 - iter 6/6 - loss 0.23704377 - samples/sec: 120.55 - lr: 0.021130\n",
            "2023-02-24 05:39:10,988 ----------------------------------------------------------------------------------------------------\n",
            "2023-02-24 05:39:10,992 EPOCH 122 done: loss 0.2370 - lr 0.021130\n"
          ]
        },
        {
          "output_type": "stream",
          "name": "stderr",
          "text": [
            "100%|██████████| 1/1 [00:00<00:00,  1.45it/s]"
          ]
        },
        {
          "output_type": "stream",
          "name": "stdout",
          "text": [
            "2023-02-24 05:39:11,709 Evaluating as a multi-label problem: False\n",
            "2023-02-24 05:39:11,727 DEV : loss 0.15144358575344086 - f1-score (micro avg)  0.0979\n",
            "2023-02-24 05:39:11,730 BAD EPOCHS (no improvement): 4\n",
            "2023-02-24 05:39:11,739 ----------------------------------------------------------------------------------------------------\n"
          ]
        },
        {
          "output_type": "stream",
          "name": "stderr",
          "text": [
            "\n"
          ]
        },
        {
          "output_type": "stream",
          "name": "stdout",
          "text": [
            "2023-02-24 05:39:12,589 epoch 123 - iter 1/6 - loss 0.24478298 - samples/sec: 37.78 - lr: 0.021007\n",
            "2023-02-24 05:39:13,405 epoch 123 - iter 2/6 - loss 0.24368903 - samples/sec: 39.35 - lr: 0.020885\n",
            "2023-02-24 05:39:15,138 epoch 123 - iter 3/6 - loss 0.23467341 - samples/sec: 18.50 - lr: 0.020762\n",
            "2023-02-24 05:39:15,977 epoch 123 - iter 4/6 - loss 0.23773553 - samples/sec: 38.32 - lr: 0.020639\n",
            "2023-02-24 05:39:16,778 epoch 123 - iter 5/6 - loss 0.25412677 - samples/sec: 40.22 - lr: 0.020516\n",
            "2023-02-24 05:39:16,897 epoch 123 - iter 6/6 - loss 0.25279937 - samples/sec: 279.21 - lr: 0.020393\n",
            "2023-02-24 05:39:16,902 ----------------------------------------------------------------------------------------------------\n",
            "2023-02-24 05:39:16,907 EPOCH 123 done: loss 0.2528 - lr 0.020393\n"
          ]
        },
        {
          "output_type": "stream",
          "name": "stderr",
          "text": [
            "100%|██████████| 1/1 [00:00<00:00,  1.64it/s]"
          ]
        },
        {
          "output_type": "stream",
          "name": "stdout",
          "text": [
            "2023-02-24 05:39:17,542 Evaluating as a multi-label problem: False\n",
            "2023-02-24 05:39:17,557 DEV : loss 0.15818367898464203 - f1-score (micro avg)  0.0979\n",
            "2023-02-24 05:39:17,560 BAD EPOCHS (no improvement): 4\n",
            "2023-02-24 05:39:17,565 ----------------------------------------------------------------------------------------------------\n"
          ]
        },
        {
          "output_type": "stream",
          "name": "stderr",
          "text": [
            "\n"
          ]
        },
        {
          "output_type": "stream",
          "name": "stdout",
          "text": [
            "2023-02-24 05:39:18,387 epoch 124 - iter 1/6 - loss 0.23870750 - samples/sec: 39.03 - lr: 0.020270\n",
            "2023-02-24 05:39:19,160 epoch 124 - iter 2/6 - loss 0.20936950 - samples/sec: 41.62 - lr: 0.020147\n",
            "2023-02-24 05:39:20,933 epoch 124 - iter 3/6 - loss 0.22580042 - samples/sec: 18.09 - lr: 0.020025\n",
            "2023-02-24 05:39:21,749 epoch 124 - iter 4/6 - loss 0.22805718 - samples/sec: 39.49 - lr: 0.019902\n",
            "2023-02-24 05:39:22,459 epoch 124 - iter 5/6 - loss 0.23491509 - samples/sec: 45.26 - lr: 0.019779\n",
            "2023-02-24 05:39:22,579 epoch 124 - iter 6/6 - loss 0.23686937 - samples/sec: 276.75 - lr: 0.019656\n",
            "2023-02-24 05:39:22,583 ----------------------------------------------------------------------------------------------------\n",
            "2023-02-24 05:39:22,587 EPOCH 124 done: loss 0.2369 - lr 0.019656\n"
          ]
        },
        {
          "output_type": "stream",
          "name": "stderr",
          "text": [
            "100%|██████████| 1/1 [00:00<00:00,  1.62it/s]"
          ]
        },
        {
          "output_type": "stream",
          "name": "stdout",
          "text": [
            "2023-02-24 05:39:23,228 Evaluating as a multi-label problem: False\n",
            "2023-02-24 05:39:23,244 DEV : loss 0.16395969688892365 - f1-score (micro avg)  0.1237\n",
            "2023-02-24 05:39:23,248 BAD EPOCHS (no improvement): 4\n",
            "2023-02-24 05:39:23,256 ----------------------------------------------------------------------------------------------------\n"
          ]
        },
        {
          "output_type": "stream",
          "name": "stderr",
          "text": [
            "\n"
          ]
        },
        {
          "output_type": "stream",
          "name": "stdout",
          "text": [
            "2023-02-24 05:39:24,009 epoch 125 - iter 1/6 - loss 0.28687860 - samples/sec: 42.66 - lr: 0.019533\n",
            "2023-02-24 05:39:24,934 epoch 125 - iter 2/6 - loss 0.22717717 - samples/sec: 34.66 - lr: 0.019410\n",
            "2023-02-24 05:39:25,736 epoch 125 - iter 3/6 - loss 0.22367764 - samples/sec: 40.18 - lr: 0.019287\n",
            "2023-02-24 05:39:26,538 epoch 125 - iter 4/6 - loss 0.21747644 - samples/sec: 40.03 - lr: 0.019165\n",
            "2023-02-24 05:39:28,391 epoch 125 - iter 5/6 - loss 0.23065243 - samples/sec: 17.29 - lr: 0.019042\n",
            "2023-02-24 05:39:28,716 epoch 125 - iter 6/6 - loss 0.22753708 - samples/sec: 99.45 - lr: 0.018919\n",
            "2023-02-24 05:39:28,719 ----------------------------------------------------------------------------------------------------\n",
            "2023-02-24 05:39:28,721 EPOCH 125 done: loss 0.2275 - lr 0.018919\n"
          ]
        },
        {
          "output_type": "stream",
          "name": "stderr",
          "text": [
            "100%|██████████| 1/1 [00:00<00:00,  1.43it/s]"
          ]
        },
        {
          "output_type": "stream",
          "name": "stdout",
          "text": [
            "2023-02-24 05:39:29,440 Evaluating as a multi-label problem: False\n",
            "2023-02-24 05:39:29,464 DEV : loss 0.12227312475442886 - f1-score (micro avg)  0.1211\n",
            "2023-02-24 05:39:29,471 BAD EPOCHS (no improvement): 4\n",
            "2023-02-24 05:39:29,476 ----------------------------------------------------------------------------------------------------\n"
          ]
        },
        {
          "output_type": "stream",
          "name": "stderr",
          "text": [
            "\n"
          ]
        },
        {
          "output_type": "stream",
          "name": "stdout",
          "text": [
            "2023-02-24 05:39:30,317 epoch 126 - iter 1/6 - loss 0.20991341 - samples/sec: 38.29 - lr: 0.018796\n",
            "2023-02-24 05:39:32,077 epoch 126 - iter 2/6 - loss 0.26093568 - samples/sec: 18.20 - lr: 0.018673\n",
            "2023-02-24 05:39:32,772 epoch 126 - iter 3/6 - loss 0.26086401 - samples/sec: 46.23 - lr: 0.018550\n",
            "2023-02-24 05:39:33,602 epoch 126 - iter 4/6 - loss 0.24451545 - samples/sec: 38.75 - lr: 0.018428\n",
            "2023-02-24 05:39:34,371 epoch 126 - iter 5/6 - loss 0.24007806 - samples/sec: 41.85 - lr: 0.018305\n",
            "2023-02-24 05:39:34,607 epoch 126 - iter 6/6 - loss 0.24263042 - samples/sec: 138.57 - lr: 0.018182\n",
            "2023-02-24 05:39:34,612 ----------------------------------------------------------------------------------------------------\n",
            "2023-02-24 05:39:34,616 EPOCH 126 done: loss 0.2426 - lr 0.018182\n"
          ]
        },
        {
          "output_type": "stream",
          "name": "stderr",
          "text": [
            "100%|██████████| 1/1 [00:00<00:00,  1.25it/s]"
          ]
        },
        {
          "output_type": "stream",
          "name": "stdout",
          "text": [
            "2023-02-24 05:39:35,442 Evaluating as a multi-label problem: False\n",
            "2023-02-24 05:39:35,456 DEV : loss 0.18323396146297455 - f1-score (micro avg)  0.0876\n",
            "2023-02-24 05:39:35,459 BAD EPOCHS (no improvement): 4\n",
            "2023-02-24 05:39:35,468 ----------------------------------------------------------------------------------------------------\n"
          ]
        },
        {
          "output_type": "stream",
          "name": "stderr",
          "text": [
            "\n"
          ]
        },
        {
          "output_type": "stream",
          "name": "stdout",
          "text": [
            "2023-02-24 05:39:36,295 epoch 127 - iter 1/6 - loss 0.16967581 - samples/sec: 38.87 - lr: 0.018059\n",
            "2023-02-24 05:39:37,110 epoch 127 - iter 2/6 - loss 0.20740056 - samples/sec: 39.44 - lr: 0.017936\n",
            "2023-02-24 05:39:38,870 epoch 127 - iter 3/6 - loss 0.17877518 - samples/sec: 18.23 - lr: 0.017813\n",
            "2023-02-24 05:39:39,630 epoch 127 - iter 4/6 - loss 0.22013300 - samples/sec: 42.35 - lr: 0.017690\n",
            "2023-02-24 05:39:40,486 epoch 127 - iter 5/6 - loss 0.22349448 - samples/sec: 37.54 - lr: 0.017568\n",
            "2023-02-24 05:39:40,808 epoch 127 - iter 6/6 - loss 0.22107425 - samples/sec: 101.56 - lr: 0.017445\n",
            "2023-02-24 05:39:40,813 ----------------------------------------------------------------------------------------------------\n",
            "2023-02-24 05:39:40,818 EPOCH 127 done: loss 0.2211 - lr 0.017445\n"
          ]
        },
        {
          "output_type": "stream",
          "name": "stderr",
          "text": [
            "100%|██████████| 1/1 [00:00<00:00,  1.42it/s]"
          ]
        },
        {
          "output_type": "stream",
          "name": "stdout",
          "text": [
            "2023-02-24 05:39:41,541 Evaluating as a multi-label problem: False\n",
            "2023-02-24 05:39:41,558 DEV : loss 0.15072400867938995 - f1-score (micro avg)  0.1314\n",
            "2023-02-24 05:39:41,564 BAD EPOCHS (no improvement): 4\n",
            "2023-02-24 05:39:41,570 ----------------------------------------------------------------------------------------------------\n"
          ]
        },
        {
          "output_type": "stream",
          "name": "stderr",
          "text": [
            "\n"
          ]
        },
        {
          "output_type": "stream",
          "name": "stdout",
          "text": [
            "2023-02-24 05:39:43,409 epoch 128 - iter 1/6 - loss 0.21319302 - samples/sec: 17.45 - lr: 0.017322\n",
            "2023-02-24 05:39:44,260 epoch 128 - iter 2/6 - loss 0.24495570 - samples/sec: 37.90 - lr: 0.017199\n",
            "2023-02-24 05:39:45,076 epoch 128 - iter 3/6 - loss 0.24512592 - samples/sec: 39.43 - lr: 0.017076\n",
            "2023-02-24 05:39:45,881 epoch 128 - iter 4/6 - loss 0.23775397 - samples/sec: 39.90 - lr: 0.016953\n",
            "2023-02-24 05:39:46,731 epoch 128 - iter 5/6 - loss 0.22428448 - samples/sec: 37.75 - lr: 0.016830\n",
            "2023-02-24 05:39:46,893 epoch 128 - iter 6/6 - loss 0.22334361 - samples/sec: 202.78 - lr: 0.016708\n",
            "2023-02-24 05:39:46,901 ----------------------------------------------------------------------------------------------------\n",
            "2023-02-24 05:39:46,903 EPOCH 128 done: loss 0.2233 - lr 0.016708\n"
          ]
        },
        {
          "output_type": "stream",
          "name": "stderr",
          "text": [
            "100%|██████████| 1/1 [00:00<00:00,  1.63it/s]"
          ]
        },
        {
          "output_type": "stream",
          "name": "stdout",
          "text": [
            "2023-02-24 05:39:47,543 Evaluating as a multi-label problem: False\n",
            "2023-02-24 05:39:47,557 DEV : loss 0.1211618185043335 - f1-score (micro avg)  0.1289\n",
            "2023-02-24 05:39:47,560 BAD EPOCHS (no improvement): 4\n",
            "2023-02-24 05:39:47,570 ----------------------------------------------------------------------------------------------------\n"
          ]
        },
        {
          "output_type": "stream",
          "name": "stderr",
          "text": [
            "\n"
          ]
        },
        {
          "output_type": "stream",
          "name": "stdout",
          "text": [
            "2023-02-24 05:39:48,360 epoch 129 - iter 1/6 - loss 0.24488444 - samples/sec: 40.63 - lr: 0.016585\n",
            "2023-02-24 05:39:49,178 epoch 129 - iter 2/6 - loss 0.23459220 - samples/sec: 39.29 - lr: 0.016462\n",
            "2023-02-24 05:39:49,957 epoch 129 - iter 3/6 - loss 0.22007772 - samples/sec: 41.17 - lr: 0.016339\n",
            "2023-02-24 05:39:50,821 epoch 129 - iter 4/6 - loss 0.21899523 - samples/sec: 37.15 - lr: 0.016216\n",
            "2023-02-24 05:39:52,565 epoch 129 - iter 5/6 - loss 0.22304282 - samples/sec: 18.37 - lr: 0.016093\n",
            "2023-02-24 05:39:52,940 epoch 129 - iter 6/6 - loss 0.22076491 - samples/sec: 85.92 - lr: 0.015971\n",
            "2023-02-24 05:39:52,942 ----------------------------------------------------------------------------------------------------\n",
            "2023-02-24 05:39:52,944 EPOCH 129 done: loss 0.2208 - lr 0.015971\n"
          ]
        },
        {
          "output_type": "stream",
          "name": "stderr",
          "text": [
            "100%|██████████| 1/1 [00:00<00:00,  1.50it/s]"
          ]
        },
        {
          "output_type": "stream",
          "name": "stdout",
          "text": [
            "2023-02-24 05:39:53,627 Evaluating as a multi-label problem: False\n",
            "2023-02-24 05:39:53,642 DEV : loss 0.11181015521287918 - f1-score (micro avg)  0.1314\n",
            "2023-02-24 05:39:53,649 BAD EPOCHS (no improvement): 4\n",
            "2023-02-24 05:39:53,656 ----------------------------------------------------------------------------------------------------\n"
          ]
        },
        {
          "output_type": "stream",
          "name": "stderr",
          "text": [
            "\n"
          ]
        },
        {
          "output_type": "stream",
          "name": "stdout",
          "text": [
            "2023-02-24 05:39:54,413 epoch 130 - iter 1/6 - loss 0.14793019 - samples/sec: 42.58 - lr: 0.015848\n",
            "2023-02-24 05:39:55,291 epoch 130 - iter 2/6 - loss 0.18380406 - samples/sec: 36.76 - lr: 0.015725\n",
            "2023-02-24 05:39:56,189 epoch 130 - iter 3/6 - loss 0.18131396 - samples/sec: 35.77 - lr: 0.015602\n",
            "2023-02-24 05:39:57,032 epoch 130 - iter 4/6 - loss 0.19396556 - samples/sec: 38.28 - lr: 0.015479\n",
            "2023-02-24 05:39:58,920 epoch 130 - iter 5/6 - loss 0.20610437 - samples/sec: 17.04 - lr: 0.015356\n",
            "2023-02-24 05:39:59,296 epoch 130 - iter 6/6 - loss 0.20466001 - samples/sec: 87.14 - lr: 0.015233\n",
            "2023-02-24 05:39:59,304 ----------------------------------------------------------------------------------------------------\n",
            "2023-02-24 05:39:59,306 EPOCH 130 done: loss 0.2047 - lr 0.015233\n"
          ]
        },
        {
          "output_type": "stream",
          "name": "stderr",
          "text": [
            "100%|██████████| 1/1 [00:00<00:00,  1.45it/s]"
          ]
        },
        {
          "output_type": "stream",
          "name": "stdout",
          "text": [
            "2023-02-24 05:40:00,017 Evaluating as a multi-label problem: False\n",
            "2023-02-24 05:40:00,034 DEV : loss 0.1442839801311493 - f1-score (micro avg)  0.1134\n",
            "2023-02-24 05:40:00,040 BAD EPOCHS (no improvement): 4\n",
            "2023-02-24 05:40:00,047 ----------------------------------------------------------------------------------------------------\n"
          ]
        },
        {
          "output_type": "stream",
          "name": "stderr",
          "text": [
            "\n"
          ]
        },
        {
          "output_type": "stream",
          "name": "stdout",
          "text": [
            "2023-02-24 05:40:00,798 epoch 131 - iter 1/6 - loss 0.20407150 - samples/sec: 42.77 - lr: 0.015111\n",
            "2023-02-24 05:40:01,585 epoch 131 - iter 2/6 - loss 0.20065053 - samples/sec: 40.75 - lr: 0.014988\n",
            "2023-02-24 05:40:02,443 epoch 131 - iter 3/6 - loss 0.19624194 - samples/sec: 37.53 - lr: 0.014865\n",
            "2023-02-24 05:40:03,253 epoch 131 - iter 4/6 - loss 0.20473518 - samples/sec: 39.72 - lr: 0.014742\n",
            "2023-02-24 05:40:05,013 epoch 131 - iter 5/6 - loss 0.20680685 - samples/sec: 18.22 - lr: 0.014619\n",
            "2023-02-24 05:40:05,167 epoch 131 - iter 6/6 - loss 0.20513212 - samples/sec: 215.43 - lr: 0.014496\n",
            "2023-02-24 05:40:05,171 ----------------------------------------------------------------------------------------------------\n",
            "2023-02-24 05:40:05,173 EPOCH 131 done: loss 0.2051 - lr 0.014496\n"
          ]
        },
        {
          "output_type": "stream",
          "name": "stderr",
          "text": [
            "100%|██████████| 1/1 [00:00<00:00,  1.62it/s]"
          ]
        },
        {
          "output_type": "stream",
          "name": "stdout",
          "text": [
            "2023-02-24 05:40:05,815 Evaluating as a multi-label problem: False\n",
            "2023-02-24 05:40:05,833 DEV : loss 0.1358102560043335 - f1-score (micro avg)  0.1186\n",
            "2023-02-24 05:40:05,836 BAD EPOCHS (no improvement): 4\n",
            "2023-02-24 05:40:05,844 ----------------------------------------------------------------------------------------------------\n"
          ]
        },
        {
          "output_type": "stream",
          "name": "stderr",
          "text": [
            "\n"
          ]
        },
        {
          "output_type": "stream",
          "name": "stdout",
          "text": [
            "2023-02-24 05:40:06,543 epoch 132 - iter 1/6 - loss 0.23691211 - samples/sec: 46.08 - lr: 0.014373\n",
            "2023-02-24 05:40:08,324 epoch 132 - iter 2/6 - loss 0.26838634 - samples/sec: 18.03 - lr: 0.014251\n",
            "2023-02-24 05:40:09,112 epoch 132 - iter 3/6 - loss 0.24799119 - samples/sec: 40.66 - lr: 0.014128\n",
            "2023-02-24 05:40:09,933 epoch 132 - iter 4/6 - loss 0.21823751 - samples/sec: 39.07 - lr: 0.014005\n",
            "2023-02-24 05:40:10,749 epoch 132 - iter 5/6 - loss 0.21288173 - samples/sec: 39.58 - lr: 0.013882\n",
            "2023-02-24 05:40:11,116 epoch 132 - iter 6/6 - loss 0.21453891 - samples/sec: 87.84 - lr: 0.013759\n",
            "2023-02-24 05:40:11,121 ----------------------------------------------------------------------------------------------------\n",
            "2023-02-24 05:40:11,128 EPOCH 132 done: loss 0.2145 - lr 0.013759\n"
          ]
        },
        {
          "output_type": "stream",
          "name": "stderr",
          "text": [
            "100%|██████████| 1/1 [00:00<00:00,  1.46it/s]"
          ]
        },
        {
          "output_type": "stream",
          "name": "stdout",
          "text": [
            "2023-02-24 05:40:11,833 Evaluating as a multi-label problem: False\n",
            "2023-02-24 05:40:11,851 DEV : loss 0.1446785032749176 - f1-score (micro avg)  0.1134\n",
            "2023-02-24 05:40:11,856 BAD EPOCHS (no improvement): 4\n",
            "2023-02-24 05:40:11,861 ----------------------------------------------------------------------------------------------------\n"
          ]
        },
        {
          "output_type": "stream",
          "name": "stderr",
          "text": [
            "\n"
          ]
        },
        {
          "output_type": "stream",
          "name": "stdout",
          "text": [
            "2023-02-24 05:40:12,750 epoch 133 - iter 1/6 - loss 0.25471647 - samples/sec: 36.11 - lr: 0.013636\n",
            "2023-02-24 05:40:14,623 epoch 133 - iter 2/6 - loss 0.18954302 - samples/sec: 17.15 - lr: 0.013514\n",
            "2023-02-24 05:40:15,485 epoch 133 - iter 3/6 - loss 0.19318704 - samples/sec: 37.51 - lr: 0.013391\n",
            "2023-02-24 05:40:16,184 epoch 133 - iter 4/6 - loss 0.18843975 - samples/sec: 45.88 - lr: 0.013268\n",
            "2023-02-24 05:40:16,980 epoch 133 - iter 5/6 - loss 0.17412478 - samples/sec: 40.45 - lr: 0.013145\n",
            "2023-02-24 05:40:17,122 epoch 133 - iter 6/6 - loss 0.17365176 - samples/sec: 230.81 - lr: 0.013022\n",
            "2023-02-24 05:40:17,126 ----------------------------------------------------------------------------------------------------\n",
            "2023-02-24 05:40:17,128 EPOCH 133 done: loss 0.1737 - lr 0.013022\n"
          ]
        },
        {
          "output_type": "stream",
          "name": "stderr",
          "text": [
            "100%|██████████| 1/1 [00:00<00:00,  1.63it/s]"
          ]
        },
        {
          "output_type": "stream",
          "name": "stdout",
          "text": [
            "2023-02-24 05:40:17,758 Evaluating as a multi-label problem: False\n",
            "2023-02-24 05:40:17,773 DEV : loss 0.13325145840644836 - f1-score (micro avg)  0.134\n",
            "2023-02-24 05:40:17,777 BAD EPOCHS (no improvement): 4\n",
            "2023-02-24 05:40:17,783 ----------------------------------------------------------------------------------------------------\n"
          ]
        },
        {
          "output_type": "stream",
          "name": "stderr",
          "text": [
            "\n"
          ]
        },
        {
          "output_type": "stream",
          "name": "stdout",
          "text": [
            "2023-02-24 05:40:18,815 epoch 134 - iter 1/6 - loss 0.12874462 - samples/sec: 31.21 - lr: 0.012899\n",
            "2023-02-24 05:40:19,607 epoch 134 - iter 2/6 - loss 0.11849985 - samples/sec: 40.66 - lr: 0.012776\n",
            "2023-02-24 05:40:20,399 epoch 134 - iter 3/6 - loss 0.15687657 - samples/sec: 40.56 - lr: 0.012654\n",
            "2023-02-24 05:40:22,169 epoch 134 - iter 4/6 - loss 0.17817686 - samples/sec: 18.12 - lr: 0.012531\n",
            "2023-02-24 05:40:22,929 epoch 134 - iter 5/6 - loss 0.18674042 - samples/sec: 42.31 - lr: 0.012408\n",
            "2023-02-24 05:40:23,197 epoch 134 - iter 6/6 - loss 0.18659338 - samples/sec: 121.89 - lr: 0.012285\n",
            "2023-02-24 05:40:23,201 ----------------------------------------------------------------------------------------------------\n",
            "2023-02-24 05:40:23,204 EPOCH 134 done: loss 0.1866 - lr 0.012285\n"
          ]
        },
        {
          "output_type": "stream",
          "name": "stderr",
          "text": [
            "100%|██████████| 1/1 [00:00<00:00,  1.63it/s]"
          ]
        },
        {
          "output_type": "stream",
          "name": "stdout",
          "text": [
            "2023-02-24 05:40:23,834 Evaluating as a multi-label problem: False\n",
            "2023-02-24 05:40:23,851 DEV : loss 0.14336436986923218 - f1-score (micro avg)  0.0954\n",
            "2023-02-24 05:40:23,856 BAD EPOCHS (no improvement): 4\n",
            "2023-02-24 05:40:23,860 ----------------------------------------------------------------------------------------------------\n"
          ]
        },
        {
          "output_type": "stream",
          "name": "stderr",
          "text": [
            "\n"
          ]
        },
        {
          "output_type": "stream",
          "name": "stdout",
          "text": [
            "2023-02-24 05:40:24,689 epoch 135 - iter 1/6 - loss 0.19977304 - samples/sec: 38.74 - lr: 0.012162\n",
            "2023-02-24 05:40:25,470 epoch 135 - iter 2/6 - loss 0.18458714 - samples/sec: 41.12 - lr: 0.012039\n",
            "2023-02-24 05:40:27,329 epoch 135 - iter 3/6 - loss 0.17122449 - samples/sec: 17.25 - lr: 0.011916\n",
            "2023-02-24 05:40:28,183 epoch 135 - iter 4/6 - loss 0.16847694 - samples/sec: 37.70 - lr: 0.011794\n",
            "2023-02-24 05:40:29,022 epoch 135 - iter 5/6 - loss 0.17221061 - samples/sec: 38.38 - lr: 0.011671\n",
            "2023-02-24 05:40:29,223 epoch 135 - iter 6/6 - loss 0.17418203 - samples/sec: 163.61 - lr: 0.011548\n",
            "2023-02-24 05:40:29,228 ----------------------------------------------------------------------------------------------------\n",
            "2023-02-24 05:40:29,231 EPOCH 135 done: loss 0.1742 - lr 0.011548\n"
          ]
        },
        {
          "output_type": "stream",
          "name": "stderr",
          "text": [
            "100%|██████████| 1/1 [00:00<00:00,  1.48it/s]"
          ]
        },
        {
          "output_type": "stream",
          "name": "stdout",
          "text": [
            "2023-02-24 05:40:29,925 Evaluating as a multi-label problem: False\n",
            "2023-02-24 05:40:29,945 DEV : loss 0.159043550491333 - f1-score (micro avg)  0.0954\n",
            "2023-02-24 05:40:29,950 BAD EPOCHS (no improvement): 4\n",
            "2023-02-24 05:40:29,954 ----------------------------------------------------------------------------------------------------\n"
          ]
        },
        {
          "output_type": "stream",
          "name": "stderr",
          "text": [
            "\n"
          ]
        },
        {
          "output_type": "stream",
          "name": "stdout",
          "text": [
            "2023-02-24 05:40:31,704 epoch 136 - iter 1/6 - loss 0.15088607 - samples/sec: 18.32 - lr: 0.011425\n",
            "2023-02-24 05:40:32,458 epoch 136 - iter 2/6 - loss 0.19134388 - samples/sec: 42.69 - lr: 0.011302\n",
            "2023-02-24 05:40:33,177 epoch 136 - iter 3/6 - loss 0.18800915 - samples/sec: 44.61 - lr: 0.011179\n",
            "2023-02-24 05:40:33,997 epoch 136 - iter 4/6 - loss 0.17802207 - samples/sec: 39.13 - lr: 0.011057\n",
            "2023-02-24 05:40:34,778 epoch 136 - iter 5/6 - loss 0.17432222 - samples/sec: 41.04 - lr: 0.010934\n",
            "2023-02-24 05:40:34,949 epoch 136 - iter 6/6 - loss 0.17250735 - samples/sec: 192.03 - lr: 0.010811\n",
            "2023-02-24 05:40:34,955 ----------------------------------------------------------------------------------------------------\n",
            "2023-02-24 05:40:34,958 EPOCH 136 done: loss 0.1725 - lr 0.010811\n"
          ]
        },
        {
          "output_type": "stream",
          "name": "stderr",
          "text": [
            "100%|██████████| 1/1 [00:00<00:00,  1.63it/s]"
          ]
        },
        {
          "output_type": "stream",
          "name": "stdout",
          "text": [
            "2023-02-24 05:40:35,586 Evaluating as a multi-label problem: False\n",
            "2023-02-24 05:40:35,602 DEV : loss 0.11869470775127411 - f1-score (micro avg)  0.1289\n",
            "2023-02-24 05:40:35,605 BAD EPOCHS (no improvement): 4\n",
            "2023-02-24 05:40:35,610 ----------------------------------------------------------------------------------------------------\n"
          ]
        },
        {
          "output_type": "stream",
          "name": "stderr",
          "text": [
            "\n"
          ]
        },
        {
          "output_type": "stream",
          "name": "stdout",
          "text": [
            "2023-02-24 05:40:36,362 epoch 137 - iter 1/6 - loss 0.20092868 - samples/sec: 42.82 - lr: 0.010688\n",
            "2023-02-24 05:40:37,232 epoch 137 - iter 2/6 - loss 0.19504973 - samples/sec: 37.00 - lr: 0.010565\n",
            "2023-02-24 05:40:38,998 epoch 137 - iter 3/6 - loss 0.19110218 - samples/sec: 18.15 - lr: 0.010442\n",
            "2023-02-24 05:40:39,762 epoch 137 - iter 4/6 - loss 0.17673565 - samples/sec: 42.14 - lr: 0.010319\n",
            "2023-02-24 05:40:40,569 epoch 137 - iter 5/6 - loss 0.18794804 - samples/sec: 39.87 - lr: 0.010197\n",
            "2023-02-24 05:40:40,821 epoch 137 - iter 6/6 - loss 0.20063129 - samples/sec: 128.15 - lr: 0.010074\n",
            "2023-02-24 05:40:40,824 ----------------------------------------------------------------------------------------------------\n",
            "2023-02-24 05:40:40,831 EPOCH 137 done: loss 0.2006 - lr 0.010074\n"
          ]
        },
        {
          "output_type": "stream",
          "name": "stderr",
          "text": [
            "100%|██████████| 1/1 [00:00<00:00,  1.50it/s]"
          ]
        },
        {
          "output_type": "stream",
          "name": "stdout",
          "text": [
            "2023-02-24 05:40:41,516 Evaluating as a multi-label problem: False\n",
            "2023-02-24 05:40:41,531 DEV : loss 0.09764930605888367 - f1-score (micro avg)  0.134\n",
            "2023-02-24 05:40:41,534 BAD EPOCHS (no improvement): 4\n",
            "2023-02-24 05:40:41,539 ----------------------------------------------------------------------------------------------------\n"
          ]
        },
        {
          "output_type": "stream",
          "name": "stderr",
          "text": [
            "\n"
          ]
        },
        {
          "output_type": "stream",
          "name": "stdout",
          "text": [
            "2023-02-24 05:40:43,373 epoch 138 - iter 1/6 - loss 0.20859521 - samples/sec: 17.47 - lr: 0.009951\n",
            "2023-02-24 05:40:44,177 epoch 138 - iter 2/6 - loss 0.16267776 - samples/sec: 39.98 - lr: 0.009828\n",
            "2023-02-24 05:40:45,035 epoch 138 - iter 3/6 - loss 0.21717075 - samples/sec: 37.54 - lr: 0.009705\n",
            "2023-02-24 05:40:45,859 epoch 138 - iter 4/6 - loss 0.20185324 - samples/sec: 39.00 - lr: 0.009582\n",
            "2023-02-24 05:40:46,703 epoch 138 - iter 5/6 - loss 0.18508107 - samples/sec: 38.13 - lr: 0.009459\n",
            "2023-02-24 05:40:46,802 epoch 138 - iter 6/6 - loss 0.18509348 - samples/sec: 326.75 - lr: 0.009337\n",
            "2023-02-24 05:40:46,804 ----------------------------------------------------------------------------------------------------\n",
            "2023-02-24 05:40:46,811 EPOCH 138 done: loss 0.1851 - lr 0.009337\n"
          ]
        },
        {
          "output_type": "stream",
          "name": "stderr",
          "text": [
            "100%|██████████| 1/1 [00:00<00:00,  1.63it/s]"
          ]
        },
        {
          "output_type": "stream",
          "name": "stdout",
          "text": [
            "2023-02-24 05:40:47,447 Evaluating as a multi-label problem: False\n",
            "2023-02-24 05:40:47,463 DEV : loss 0.11201852560043335 - f1-score (micro avg)  0.1211\n",
            "2023-02-24 05:40:47,466 BAD EPOCHS (no improvement): 4\n",
            "2023-02-24 05:40:47,471 ----------------------------------------------------------------------------------------------------\n"
          ]
        },
        {
          "output_type": "stream",
          "name": "stderr",
          "text": [
            "\n"
          ]
        },
        {
          "output_type": "stream",
          "name": "stdout",
          "text": [
            "2023-02-24 05:40:48,225 epoch 139 - iter 1/6 - loss 0.14243664 - samples/sec: 42.63 - lr: 0.009214\n",
            "2023-02-24 05:40:49,017 epoch 139 - iter 2/6 - loss 0.14497077 - samples/sec: 40.68 - lr: 0.009091\n",
            "2023-02-24 05:40:50,790 epoch 139 - iter 3/6 - loss 0.19569374 - samples/sec: 18.08 - lr: 0.008968\n",
            "2023-02-24 05:40:51,635 epoch 139 - iter 4/6 - loss 0.18345889 - samples/sec: 38.10 - lr: 0.008845\n",
            "2023-02-24 05:40:52,398 epoch 139 - iter 5/6 - loss 0.17330930 - samples/sec: 42.19 - lr: 0.008722\n",
            "2023-02-24 05:40:52,585 epoch 139 - iter 6/6 - loss 0.17261585 - samples/sec: 174.96 - lr: 0.008600\n",
            "2023-02-24 05:40:52,589 ----------------------------------------------------------------------------------------------------\n",
            "2023-02-24 05:40:52,592 EPOCH 139 done: loss 0.1726 - lr 0.008600\n"
          ]
        },
        {
          "output_type": "stream",
          "name": "stderr",
          "text": [
            "100%|██████████| 1/1 [00:00<00:00,  1.65it/s]"
          ]
        },
        {
          "output_type": "stream",
          "name": "stdout",
          "text": [
            "2023-02-24 05:40:53,221 Evaluating as a multi-label problem: False\n",
            "2023-02-24 05:40:53,237 DEV : loss 0.15041424334049225 - f1-score (micro avg)  0.0825\n",
            "2023-02-24 05:40:53,240 BAD EPOCHS (no improvement): 4\n",
            "2023-02-24 05:40:53,246 ----------------------------------------------------------------------------------------------------\n"
          ]
        },
        {
          "output_type": "stream",
          "name": "stderr",
          "text": [
            "\n"
          ]
        },
        {
          "output_type": "stream",
          "name": "stdout",
          "text": [
            "2023-02-24 05:40:53,949 epoch 140 - iter 1/6 - loss 0.20778800 - samples/sec: 45.96 - lr: 0.008477\n",
            "2023-02-24 05:40:54,751 epoch 140 - iter 2/6 - loss 0.17853812 - samples/sec: 40.00 - lr: 0.008354\n",
            "2023-02-24 05:40:55,539 epoch 140 - iter 3/6 - loss 0.17283834 - samples/sec: 40.84 - lr: 0.008231\n",
            "2023-02-24 05:40:57,404 epoch 140 - iter 4/6 - loss 0.17342047 - samples/sec: 17.19 - lr: 0.008108\n",
            "2023-02-24 05:40:58,327 epoch 140 - iter 5/6 - loss 0.18231926 - samples/sec: 34.98 - lr: 0.007985\n",
            "2023-02-24 05:40:58,501 epoch 140 - iter 6/6 - loss 0.18198612 - samples/sec: 190.90 - lr: 0.007862\n",
            "2023-02-24 05:40:58,506 ----------------------------------------------------------------------------------------------------\n",
            "2023-02-24 05:40:58,512 EPOCH 140 done: loss 0.1820 - lr 0.007862\n"
          ]
        },
        {
          "output_type": "stream",
          "name": "stderr",
          "text": [
            "100%|██████████| 1/1 [00:00<00:00,  1.50it/s]"
          ]
        },
        {
          "output_type": "stream",
          "name": "stdout",
          "text": [
            "2023-02-24 05:40:59,202 Evaluating as a multi-label problem: False\n",
            "2023-02-24 05:40:59,223 DEV : loss 0.12172996997833252 - f1-score (micro avg)  0.1005\n",
            "2023-02-24 05:40:59,229 BAD EPOCHS (no improvement): 4\n",
            "2023-02-24 05:40:59,237 ----------------------------------------------------------------------------------------------------\n"
          ]
        },
        {
          "output_type": "stream",
          "name": "stderr",
          "text": [
            "\n"
          ]
        },
        {
          "output_type": "stream",
          "name": "stdout",
          "text": [
            "2023-02-24 05:41:00,127 epoch 141 - iter 1/6 - loss 0.23661030 - samples/sec: 36.07 - lr: 0.007740\n",
            "2023-02-24 05:41:01,872 epoch 141 - iter 2/6 - loss 0.20245024 - samples/sec: 18.37 - lr: 0.007617\n",
            "2023-02-24 05:41:02,668 epoch 141 - iter 3/6 - loss 0.19347076 - samples/sec: 40.27 - lr: 0.007494\n",
            "2023-02-24 05:41:03,395 epoch 141 - iter 4/6 - loss 0.22023749 - samples/sec: 44.19 - lr: 0.007371\n",
            "2023-02-24 05:41:04,172 epoch 141 - iter 5/6 - loss 0.20750394 - samples/sec: 41.36 - lr: 0.007248\n",
            "2023-02-24 05:41:04,555 epoch 141 - iter 6/6 - loss 0.20482490 - samples/sec: 84.03 - lr: 0.007125\n",
            "2023-02-24 05:41:04,557 ----------------------------------------------------------------------------------------------------\n",
            "2023-02-24 05:41:04,562 EPOCH 141 done: loss 0.2048 - lr 0.007125\n"
          ]
        },
        {
          "output_type": "stream",
          "name": "stderr",
          "text": [
            "100%|██████████| 1/1 [00:00<00:00,  1.59it/s]"
          ]
        },
        {
          "output_type": "stream",
          "name": "stdout",
          "text": [
            "2023-02-24 05:41:05,210 Evaluating as a multi-label problem: False\n",
            "2023-02-24 05:41:05,226 DEV : loss 0.11610814183950424 - f1-score (micro avg)  0.1057\n",
            "2023-02-24 05:41:05,229 BAD EPOCHS (no improvement): 4\n",
            "2023-02-24 05:41:05,238 ----------------------------------------------------------------------------------------------------\n"
          ]
        },
        {
          "output_type": "stream",
          "name": "stderr",
          "text": [
            "\n"
          ]
        },
        {
          "output_type": "stream",
          "name": "stdout",
          "text": [
            "2023-02-24 05:41:07,166 epoch 142 - iter 1/6 - loss 0.22758103 - samples/sec: 16.62 - lr: 0.007002\n",
            "2023-02-24 05:41:07,922 epoch 142 - iter 2/6 - loss 0.21372813 - samples/sec: 42.56 - lr: 0.006880\n",
            "2023-02-24 05:41:08,705 epoch 142 - iter 3/6 - loss 0.22005894 - samples/sec: 41.11 - lr: 0.006757\n",
            "2023-02-24 05:41:09,576 epoch 142 - iter 4/6 - loss 0.19473284 - samples/sec: 36.94 - lr: 0.006634\n",
            "2023-02-24 05:41:10,340 epoch 142 - iter 5/6 - loss 0.18373595 - samples/sec: 41.98 - lr: 0.006511\n",
            "2023-02-24 05:41:10,511 epoch 142 - iter 6/6 - loss 0.18276972 - samples/sec: 192.59 - lr: 0.006388\n",
            "2023-02-24 05:41:10,515 ----------------------------------------------------------------------------------------------------\n",
            "2023-02-24 05:41:10,518 EPOCH 142 done: loss 0.1828 - lr 0.006388\n"
          ]
        },
        {
          "output_type": "stream",
          "name": "stderr",
          "text": [
            "100%|██████████| 1/1 [00:00<00:00,  1.59it/s]"
          ]
        },
        {
          "output_type": "stream",
          "name": "stdout",
          "text": [
            "2023-02-24 05:41:11,165 Evaluating as a multi-label problem: False\n",
            "2023-02-24 05:41:11,185 DEV : loss 0.10842760652303696 - f1-score (micro avg)  0.1289\n",
            "2023-02-24 05:41:11,188 BAD EPOCHS (no improvement): 4\n",
            "2023-02-24 05:41:11,198 ----------------------------------------------------------------------------------------------------\n"
          ]
        },
        {
          "output_type": "stream",
          "name": "stderr",
          "text": [
            "\n"
          ]
        },
        {
          "output_type": "stream",
          "name": "stdout",
          "text": [
            "2023-02-24 05:41:12,094 epoch 143 - iter 1/6 - loss 0.13296595 - samples/sec: 35.83 - lr: 0.006265\n",
            "2023-02-24 05:41:12,900 epoch 143 - iter 2/6 - loss 0.18298657 - samples/sec: 40.03 - lr: 0.006143\n",
            "2023-02-24 05:41:13,744 epoch 143 - iter 3/6 - loss 0.21460175 - samples/sec: 38.29 - lr: 0.006020\n",
            "2023-02-24 05:41:14,601 epoch 143 - iter 4/6 - loss 0.18903092 - samples/sec: 37.57 - lr: 0.005897\n",
            "2023-02-24 05:41:16,373 epoch 143 - iter 5/6 - loss 0.17740732 - samples/sec: 18.10 - lr: 0.005774\n",
            "2023-02-24 05:41:16,726 epoch 143 - iter 6/6 - loss 0.17599697 - samples/sec: 91.11 - lr: 0.005651\n",
            "2023-02-24 05:41:16,728 ----------------------------------------------------------------------------------------------------\n",
            "2023-02-24 05:41:16,731 EPOCH 143 done: loss 0.1760 - lr 0.005651\n"
          ]
        },
        {
          "output_type": "stream",
          "name": "stderr",
          "text": [
            "100%|██████████| 1/1 [00:00<00:00,  1.52it/s]"
          ]
        },
        {
          "output_type": "stream",
          "name": "stdout",
          "text": [
            "2023-02-24 05:41:17,409 Evaluating as a multi-label problem: False\n",
            "2023-02-24 05:41:17,424 DEV : loss 0.10955280810594559 - f1-score (micro avg)  0.1211\n",
            "2023-02-24 05:41:17,428 BAD EPOCHS (no improvement): 4\n",
            "2023-02-24 05:41:17,433 ----------------------------------------------------------------------------------------------------\n"
          ]
        },
        {
          "output_type": "stream",
          "name": "stderr",
          "text": [
            "\n"
          ]
        },
        {
          "output_type": "stream",
          "name": "stdout",
          "text": [
            "2023-02-24 05:41:18,259 epoch 144 - iter 1/6 - loss 0.23667905 - samples/sec: 38.80 - lr: 0.005528\n",
            "2023-02-24 05:41:20,037 epoch 144 - iter 2/6 - loss 0.13730296 - samples/sec: 18.02 - lr: 0.005405\n",
            "2023-02-24 05:41:20,849 epoch 144 - iter 3/6 - loss 0.14655788 - samples/sec: 39.72 - lr: 0.005283\n",
            "2023-02-24 05:41:21,652 epoch 144 - iter 4/6 - loss 0.15504558 - samples/sec: 40.08 - lr: 0.005160\n",
            "2023-02-24 05:41:22,430 epoch 144 - iter 5/6 - loss 0.16708598 - samples/sec: 41.21 - lr: 0.005037\n",
            "2023-02-24 05:41:22,500 epoch 144 - iter 6/6 - loss 0.16718480 - samples/sec: 495.21 - lr: 0.004914\n",
            "2023-02-24 05:41:22,504 ----------------------------------------------------------------------------------------------------\n",
            "2023-02-24 05:41:22,507 EPOCH 144 done: loss 0.1672 - lr 0.004914\n"
          ]
        },
        {
          "output_type": "stream",
          "name": "stderr",
          "text": [
            "100%|██████████| 1/1 [00:00<00:00,  1.62it/s]"
          ]
        },
        {
          "output_type": "stream",
          "name": "stdout",
          "text": [
            "2023-02-24 05:41:23,146 Evaluating as a multi-label problem: False\n",
            "2023-02-24 05:41:23,160 DEV : loss 0.11465927213430405 - f1-score (micro avg)  0.134\n",
            "2023-02-24 05:41:23,163 BAD EPOCHS (no improvement): 4\n",
            "2023-02-24 05:41:23,170 ----------------------------------------------------------------------------------------------------\n"
          ]
        },
        {
          "output_type": "stream",
          "name": "stderr",
          "text": [
            "\n"
          ]
        },
        {
          "output_type": "stream",
          "name": "stdout",
          "text": [
            "2023-02-24 05:41:24,921 epoch 145 - iter 1/6 - loss 0.22570006 - samples/sec: 18.30 - lr: 0.004791\n",
            "2023-02-24 05:41:25,715 epoch 145 - iter 2/6 - loss 0.22370708 - samples/sec: 40.38 - lr: 0.004668\n",
            "2023-02-24 05:41:26,624 epoch 145 - iter 3/6 - loss 0.22790179 - samples/sec: 35.30 - lr: 0.004545\n",
            "2023-02-24 05:41:27,494 epoch 145 - iter 4/6 - loss 0.21920574 - samples/sec: 37.12 - lr: 0.004423\n",
            "2023-02-24 05:41:28,308 epoch 145 - iter 5/6 - loss 0.21076480 - samples/sec: 39.54 - lr: 0.004300\n",
            "2023-02-24 05:41:28,587 epoch 145 - iter 6/6 - loss 0.20959533 - samples/sec: 118.11 - lr: 0.004177\n",
            "2023-02-24 05:41:28,592 ----------------------------------------------------------------------------------------------------\n",
            "2023-02-24 05:41:28,595 EPOCH 145 done: loss 0.2096 - lr 0.004177\n"
          ]
        },
        {
          "output_type": "stream",
          "name": "stderr",
          "text": [
            "100%|██████████| 1/1 [00:00<00:00,  1.46it/s]"
          ]
        },
        {
          "output_type": "stream",
          "name": "stdout",
          "text": [
            "2023-02-24 05:41:29,300 Evaluating as a multi-label problem: False\n",
            "2023-02-24 05:41:29,320 DEV : loss 0.11462176591157913 - f1-score (micro avg)  0.1211\n",
            "2023-02-24 05:41:29,323 BAD EPOCHS (no improvement): 4\n",
            "2023-02-24 05:41:29,329 ----------------------------------------------------------------------------------------------------\n"
          ]
        },
        {
          "output_type": "stream",
          "name": "stderr",
          "text": [
            "\n"
          ]
        },
        {
          "output_type": "stream",
          "name": "stdout",
          "text": [
            "2023-02-24 05:41:31,212 epoch 146 - iter 1/6 - loss 0.23825355 - samples/sec: 17.02 - lr: 0.004054\n",
            "2023-02-24 05:41:32,073 epoch 146 - iter 2/6 - loss 0.20918748 - samples/sec: 37.33 - lr: 0.003931\n",
            "2023-02-24 05:41:32,977 epoch 146 - iter 3/6 - loss 0.18933962 - samples/sec: 35.50 - lr: 0.003808\n",
            "2023-02-24 05:41:33,788 epoch 146 - iter 4/6 - loss 0.16658187 - samples/sec: 39.88 - lr: 0.003686\n",
            "2023-02-24 05:41:34,691 epoch 146 - iter 5/6 - loss 0.16717740 - samples/sec: 35.65 - lr: 0.003563\n",
            "2023-02-24 05:41:34,791 epoch 146 - iter 6/6 - loss 0.16858890 - samples/sec: 349.73 - lr: 0.003440\n",
            "2023-02-24 05:41:34,798 ----------------------------------------------------------------------------------------------------\n",
            "2023-02-24 05:41:34,802 EPOCH 146 done: loss 0.1686 - lr 0.003440\n"
          ]
        },
        {
          "output_type": "stream",
          "name": "stderr",
          "text": [
            "100%|██████████| 1/1 [00:00<00:00,  1.44it/s]"
          ]
        },
        {
          "output_type": "stream",
          "name": "stdout",
          "text": [
            "2023-02-24 05:41:35,514 Evaluating as a multi-label problem: False\n",
            "2023-02-24 05:41:35,531 DEV : loss 0.11887252330780029 - f1-score (micro avg)  0.1057\n",
            "2023-02-24 05:41:35,537 BAD EPOCHS (no improvement): 4\n",
            "2023-02-24 05:41:35,543 ----------------------------------------------------------------------------------------------------\n"
          ]
        },
        {
          "output_type": "stream",
          "name": "stderr",
          "text": [
            "\n"
          ]
        },
        {
          "output_type": "stream",
          "name": "stdout",
          "text": [
            "2023-02-24 05:41:37,300 epoch 147 - iter 1/6 - loss 0.15564277 - samples/sec: 18.24 - lr: 0.003317\n",
            "2023-02-24 05:41:38,058 epoch 147 - iter 2/6 - loss 0.17354392 - samples/sec: 42.43 - lr: 0.003194\n",
            "2023-02-24 05:41:38,866 epoch 147 - iter 3/6 - loss 0.16027561 - samples/sec: 39.82 - lr: 0.003071\n",
            "2023-02-24 05:41:39,598 epoch 147 - iter 4/6 - loss 0.15306759 - samples/sec: 44.19 - lr: 0.002948\n",
            "2023-02-24 05:41:40,388 epoch 147 - iter 5/6 - loss 0.16378464 - samples/sec: 40.76 - lr: 0.002826\n",
            "2023-02-24 05:41:40,509 epoch 147 - iter 6/6 - loss 0.16298060 - samples/sec: 271.69 - lr: 0.002703\n",
            "2023-02-24 05:41:40,513 ----------------------------------------------------------------------------------------------------\n",
            "2023-02-24 05:41:40,515 EPOCH 147 done: loss 0.1630 - lr 0.002703\n"
          ]
        },
        {
          "output_type": "stream",
          "name": "stderr",
          "text": [
            "100%|██████████| 1/1 [00:00<00:00,  1.65it/s]"
          ]
        },
        {
          "output_type": "stream",
          "name": "stdout",
          "text": [
            "2023-02-24 05:41:41,141 Evaluating as a multi-label problem: False\n",
            "2023-02-24 05:41:41,159 DEV : loss 0.12460826337337494 - f1-score (micro avg)  0.1289\n",
            "2023-02-24 05:41:41,163 BAD EPOCHS (no improvement): 4\n",
            "2023-02-24 05:41:41,172 ----------------------------------------------------------------------------------------------------\n"
          ]
        },
        {
          "output_type": "stream",
          "name": "stderr",
          "text": [
            "\n"
          ]
        },
        {
          "output_type": "stream",
          "name": "stdout",
          "text": [
            "2023-02-24 05:41:41,918 epoch 148 - iter 1/6 - loss 0.19262718 - samples/sec: 43.05 - lr: 0.002580\n",
            "2023-02-24 05:41:42,745 epoch 148 - iter 2/6 - loss 0.19531998 - samples/sec: 38.89 - lr: 0.002457\n",
            "2023-02-24 05:41:43,605 epoch 148 - iter 3/6 - loss 0.17063340 - samples/sec: 37.45 - lr: 0.002334\n",
            "2023-02-24 05:41:45,440 epoch 148 - iter 4/6 - loss 0.18940756 - samples/sec: 17.49 - lr: 0.002211\n",
            "2023-02-24 05:41:46,340 epoch 148 - iter 5/6 - loss 0.18970190 - samples/sec: 35.74 - lr: 0.002088\n",
            "2023-02-24 05:41:46,751 epoch 148 - iter 6/6 - loss 0.18703319 - samples/sec: 79.57 - lr: 0.001966\n",
            "2023-02-24 05:41:46,759 ----------------------------------------------------------------------------------------------------\n",
            "2023-02-24 05:41:46,763 EPOCH 148 done: loss 0.1870 - lr 0.001966\n"
          ]
        },
        {
          "output_type": "stream",
          "name": "stderr",
          "text": [
            "100%|██████████| 1/1 [00:00<00:00,  1.47it/s]"
          ]
        },
        {
          "output_type": "stream",
          "name": "stdout",
          "text": [
            "2023-02-24 05:41:47,460 Evaluating as a multi-label problem: False\n",
            "2023-02-24 05:41:47,477 DEV : loss 0.12210503965616226 - f1-score (micro avg)  0.1366\n",
            "2023-02-24 05:41:47,481 BAD EPOCHS (no improvement): 4\n",
            "2023-02-24 05:41:47,486 ----------------------------------------------------------------------------------------------------\n"
          ]
        },
        {
          "output_type": "stream",
          "name": "stderr",
          "text": [
            "\n"
          ]
        },
        {
          "output_type": "stream",
          "name": "stdout",
          "text": [
            "2023-02-24 05:41:48,343 epoch 149 - iter 1/6 - loss 0.14236746 - samples/sec: 37.56 - lr: 0.001843\n",
            "2023-02-24 05:41:49,040 epoch 149 - iter 2/6 - loss 0.16132671 - samples/sec: 46.25 - lr: 0.001720\n",
            "2023-02-24 05:41:49,990 epoch 149 - iter 3/6 - loss 0.14449670 - samples/sec: 33.81 - lr: 0.001597\n",
            "2023-02-24 05:41:50,776 epoch 149 - iter 4/6 - loss 0.15875514 - samples/sec: 40.86 - lr: 0.001474\n",
            "2023-02-24 05:41:52,547 epoch 149 - iter 5/6 - loss 0.15810529 - samples/sec: 18.10 - lr: 0.001351\n",
            "2023-02-24 05:41:52,919 epoch 149 - iter 6/6 - loss 0.15938292 - samples/sec: 87.09 - lr: 0.001229\n",
            "2023-02-24 05:41:52,923 ----------------------------------------------------------------------------------------------------\n",
            "2023-02-24 05:41:52,925 EPOCH 149 done: loss 0.1594 - lr 0.001229\n"
          ]
        },
        {
          "output_type": "stream",
          "name": "stderr",
          "text": [
            "100%|██████████| 1/1 [00:00<00:00,  1.54it/s]"
          ]
        },
        {
          "output_type": "stream",
          "name": "stdout",
          "text": [
            "2023-02-24 05:41:53,591 Evaluating as a multi-label problem: False\n",
            "2023-02-24 05:41:53,609 DEV : loss 0.11857108026742935 - f1-score (micro avg)  0.1418\n",
            "2023-02-24 05:41:53,612 BAD EPOCHS (no improvement): 4\n",
            "2023-02-24 05:41:53,617 ----------------------------------------------------------------------------------------------------\n"
          ]
        },
        {
          "output_type": "stream",
          "name": "stderr",
          "text": [
            "\n"
          ]
        },
        {
          "output_type": "stream",
          "name": "stdout",
          "text": [
            "2023-02-24 05:41:54,419 epoch 150 - iter 1/6 - loss 0.13459052 - samples/sec: 40.04 - lr: 0.001106\n",
            "2023-02-24 05:41:55,195 epoch 150 - iter 2/6 - loss 0.14606941 - samples/sec: 41.36 - lr: 0.000983\n",
            "2023-02-24 05:41:56,067 epoch 150 - iter 3/6 - loss 0.14955513 - samples/sec: 36.91 - lr: 0.000860\n",
            "2023-02-24 05:41:57,850 epoch 150 - iter 4/6 - loss 0.17057031 - samples/sec: 18.00 - lr: 0.000737\n",
            "2023-02-24 05:41:58,657 epoch 150 - iter 5/6 - loss 0.17200990 - samples/sec: 39.85 - lr: 0.000614\n",
            "2023-02-24 05:41:58,821 epoch 150 - iter 6/6 - loss 0.17105082 - samples/sec: 208.79 - lr: 0.000491\n",
            "2023-02-24 05:41:58,826 ----------------------------------------------------------------------------------------------------\n",
            "2023-02-24 05:41:58,829 EPOCH 150 done: loss 0.1711 - lr 0.000491\n"
          ]
        },
        {
          "output_type": "stream",
          "name": "stderr",
          "text": [
            "100%|██████████| 1/1 [00:00<00:00,  1.50it/s]"
          ]
        },
        {
          "output_type": "stream",
          "name": "stdout",
          "text": [
            "2023-02-24 05:41:59,512 Evaluating as a multi-label problem: False\n",
            "2023-02-24 05:41:59,531 DEV : loss 0.1169930174946785 - f1-score (micro avg)  0.1418\n",
            "2023-02-24 05:41:59,541 BAD EPOCHS (no improvement): 4\n"
          ]
        },
        {
          "output_type": "stream",
          "name": "stderr",
          "text": [
            "\n"
          ]
        },
        {
          "output_type": "stream",
          "name": "stdout",
          "text": [
            "2023-02-24 05:42:01,798 ----------------------------------------------------------------------------------------------------\n",
            "2023-02-24 05:42:01,801 Testing using last state of model ...\n"
          ]
        },
        {
          "output_type": "stream",
          "name": "stderr",
          "text": [
            "100%|██████████| 1/1 [00:01<00:00,  1.25s/it]"
          ]
        },
        {
          "output_type": "stream",
          "name": "stdout",
          "text": [
            "2023-02-24 05:42:03,078 Evaluating as a multi-label problem: False\n",
            "2023-02-24 05:42:03,100 0.0691\t0.6923\t0.1257\t0.0691\n",
            "2023-02-24 05:42:03,107 \n",
            "Results:\n",
            "- F-score (micro) 0.1257\n",
            "- F-score (macro) 0.5946\n",
            "- Accuracy 0.0691\n",
            "\n",
            "By class:\n",
            "              precision    recall  f1-score   support\n",
            "\n",
            "       <unk>     0.0000    0.0000    0.0000         0\n",
            "     I_VAL_5     0.3000    1.0000    0.4615         6\n",
            "     B_VAL_5     0.4667    0.7000    0.5600        10\n",
            "     I_COV_3     1.0000    0.7273    0.8421        11\n",
            "     B_COV_5     0.8750    1.0000    0.9333         7\n",
            "     I_COV_5     0.8750    1.0000    0.9333         7\n",
            "     I_COV_1     0.4444    1.0000    0.6154         4\n",
            "     I_COV_4     1.0000    1.0000    1.0000         4\n",
            "     B_COV_3     1.0000    0.7500    0.8571         4\n",
            "     B_COV_1     0.4000    1.0000    0.5714         2\n",
            "     B_VAL_4     0.5000    0.2500    0.3333         4\n",
            "     I_VAL_4     0.0000    0.0000    0.0000         6\n",
            "     B_VAL_3     0.0000    0.0000    0.0000         4\n",
            "     I_VAL_3     0.0000    0.0000    0.0000         4\n",
            "     B_COV_4     1.0000    1.0000    1.0000         2\n",
            "     B_VAL_1     1.0000    1.0000    1.0000         2\n",
            "     I_VAL_1     1.0000    1.0000    1.0000         1\n",
            "\n",
            "   micro avg     0.0691    0.6923    0.1257        78\n",
            "   macro avg     0.5801    0.6722    0.5946        78\n",
            "weighted avg     0.6063    0.6923    0.6162        78\n",
            "\n",
            "2023-02-24 05:42:03,111 ----------------------------------------------------------------------------------------------------\n"
          ]
        },
        {
          "output_type": "stream",
          "name": "stderr",
          "text": [
            "\n"
          ]
        },
        {
          "output_type": "execute_result",
          "data": {
            "text/plain": [
              "{'test_score': 0.12572759022118743,\n",
              " 'dev_score_history': [0.0,\n",
              "  0.0025773195876288664,\n",
              "  0.007731958762886597,\n",
              "  0.007731958762886597,\n",
              "  0.015463917525773195,\n",
              "  0.025773195876288662,\n",
              "  0.03608247422680412,\n",
              "  0.03608247422680412,\n",
              "  0.04123711340206186,\n",
              "  0.07216494845360824,\n",
              "  0.06443298969072166,\n",
              "  0.13144329896907217,\n",
              "  0.08762886597938145,\n",
              "  0.05412371134020619,\n",
              "  0.08505154639175258,\n",
              "  0.07216494845360824,\n",
              "  0.06958762886597938,\n",
              "  0.028350515463917522,\n",
              "  0.033505154639175264,\n",
              "  0.04639175257731958,\n",
              "  0.06701030927835053,\n",
              "  0.010309278350515465,\n",
              "  0.05412371134020619,\n",
              "  0.056701030927835044,\n",
              "  0.028350515463917522,\n",
              "  0.08762886597938145,\n",
              "  0.051546391752577324,\n",
              "  0.028350515463917522,\n",
              "  0.07216494845360824,\n",
              "  0.09020618556701031,\n",
              "  0.01804123711340206,\n",
              "  0.059278350515463915,\n",
              "  0.06185567010309278,\n",
              "  0.07731958762886597,\n",
              "  0.03608247422680412,\n",
              "  0.0979381443298969,\n",
              "  0.010309278350515465,\n",
              "  0.1056701030927835,\n",
              "  0.015463917525773195,\n",
              "  0.03092783505154639,\n",
              "  0.025773195876288662,\n",
              "  0.025773195876288662,\n",
              "  0.10309278350515465,\n",
              "  0.05412371134020619,\n",
              "  0.06958762886597938,\n",
              "  0.051546391752577324,\n",
              "  0.056701030927835044,\n",
              "  0.02061855670103093,\n",
              "  0.08247422680412372,\n",
              "  0.03608247422680412,\n",
              "  0.07989690721649485,\n",
              "  0.033505154639175264,\n",
              "  0.06443298969072166,\n",
              "  0.05412371134020619,\n",
              "  0.0979381443298969,\n",
              "  0.056701030927835044,\n",
              "  0.07216494845360824,\n",
              "  0.06185567010309278,\n",
              "  0.03608247422680412,\n",
              "  0.06443298969072166,\n",
              "  0.13659793814432988,\n",
              "  0.09020618556701031,\n",
              "  0.09020618556701031,\n",
              "  0.08762886597938145,\n",
              "  0.07216494845360824,\n",
              "  0.09020618556701031,\n",
              "  0.06958762886597938,\n",
              "  0.14175257731958765,\n",
              "  0.015463917525773195,\n",
              "  0.10309278350515465,\n",
              "  0.043814432989690726,\n",
              "  0.12628865979381443,\n",
              "  0.06443298969072166,\n",
              "  0.10309278350515465,\n",
              "  0.10051546391752579,\n",
              "  0.033505154639175264,\n",
              "  0.08505154639175258,\n",
              "  0.11082474226804123,\n",
              "  0.09020618556701031,\n",
              "  0.13659793814432988,\n",
              "  0.11855670103092783,\n",
              "  0.10309278350515465,\n",
              "  0.13659793814432988,\n",
              "  0.11082474226804123,\n",
              "  0.09536082474226804,\n",
              "  0.0979381443298969,\n",
              "  0.033505154639175264,\n",
              "  0.13144329896907217,\n",
              "  0.09536082474226804,\n",
              "  0.1288659793814433,\n",
              "  0.07989690721649485,\n",
              "  0.13917525773195877,\n",
              "  0.07731958762886597,\n",
              "  0.10051546391752579,\n",
              "  0.10051546391752579,\n",
              "  0.09536082474226804,\n",
              "  0.12628865979381443,\n",
              "  0.09536082474226804,\n",
              "  0.13144329896907217,\n",
              "  0.07989690721649485,\n",
              "  0.1211340206185567,\n",
              "  0.10051546391752579,\n",
              "  0.06443298969072166,\n",
              "  0.11340206185567009,\n",
              "  0.1056701030927835,\n",
              "  0.10309278350515465,\n",
              "  0.11340206185567009,\n",
              "  0.059278350515463915,\n",
              "  0.1288659793814433,\n",
              "  0.11082474226804123,\n",
              "  0.11855670103092783,\n",
              "  0.10824742268041238,\n",
              "  0.12628865979381443,\n",
              "  0.11597938144329897,\n",
              "  0.13659793814432988,\n",
              "  0.10309278350515465,\n",
              "  0.13402061855670105,\n",
              "  0.08762886597938145,\n",
              "  0.1288659793814433,\n",
              "  0.1288659793814433,\n",
              "  0.13659793814432988,\n",
              "  0.0979381443298969,\n",
              "  0.0979381443298969,\n",
              "  0.12371134020618556,\n",
              "  0.1211340206185567,\n",
              "  0.08762886597938145,\n",
              "  0.13144329896907217,\n",
              "  0.1288659793814433,\n",
              "  0.13144329896907217,\n",
              "  0.11340206185567009,\n",
              "  0.11855670103092783,\n",
              "  0.11340206185567009,\n",
              "  0.13402061855670105,\n",
              "  0.09536082474226804,\n",
              "  0.09536082474226804,\n",
              "  0.1288659793814433,\n",
              "  0.13402061855670105,\n",
              "  0.1211340206185567,\n",
              "  0.08247422680412372,\n",
              "  0.10051546391752579,\n",
              "  0.1056701030927835,\n",
              "  0.1288659793814433,\n",
              "  0.1211340206185567,\n",
              "  0.13402061855670105,\n",
              "  0.1211340206185567,\n",
              "  0.1056701030927835,\n",
              "  0.1288659793814433,\n",
              "  0.13659793814432988,\n",
              "  0.14175257731958765,\n",
              "  0.14175257731958765],\n",
              " 'train_loss_history': [2.513756755806407,\n",
              "  0.7287787110850639,\n",
              "  0.5685131278689532,\n",
              "  0.4625152252959356,\n",
              "  0.4282150644745606,\n",
              "  0.4036804655501929,\n",
              "  0.3603526692294119,\n",
              "  0.4147569484355739,\n",
              "  0.4261096670988995,\n",
              "  0.36281648189592614,\n",
              "  0.46619079259766555,\n",
              "  0.6202321878502701,\n",
              "  0.6090410783784993,\n",
              "  0.5750758633887386,\n",
              "  0.6971829309549964,\n",
              "  0.6766442271129911,\n",
              "  0.8716382220380349,\n",
              "  0.8653412617616212,\n",
              "  0.8868729542980555,\n",
              "  0.829082379190194,\n",
              "  0.81669176677196,\n",
              "  0.8564114892958684,\n",
              "  1.296094697515707,\n",
              "  0.9679946086356271,\n",
              "  0.9146525809395877,\n",
              "  0.8663994698261294,\n",
              "  0.8793193513152139,\n",
              "  0.9889129303740606,\n",
              "  0.9324109863358915,\n",
              "  0.9583770523811536,\n",
              "  0.9932436693524336,\n",
              "  1.277632577252043,\n",
              "  0.9077802961157448,\n",
              "  1.1457039171852632,\n",
              "  0.9339654557519484,\n",
              "  0.8916277745123866,\n",
              "  1.086799933456438,\n",
              "  0.8424296523953198,\n",
              "  1.2170014451944489,\n",
              "  1.0890063635776206,\n",
              "  0.8996385926564737,\n",
              "  1.0172069289260701,\n",
              "  0.7957049734322809,\n",
              "  0.7624317944021394,\n",
              "  0.8928747867313007,\n",
              "  0.8297673670309269,\n",
              "  0.6916350129110664,\n",
              "  0.7454231496416216,\n",
              "  0.7787807507679537,\n",
              "  0.7861199783220832,\n",
              "  0.6886370770973338,\n",
              "  0.668370531609124,\n",
              "  0.688484134859134,\n",
              "  0.6240402326042329,\n",
              "  0.6114670098330384,\n",
              "  0.6321148721444051,\n",
              "  0.63754215668244,\n",
              "  0.5505494581452799,\n",
              "  0.6619498506342453,\n",
              "  0.6283207270381218,\n",
              "  0.5949765668492524,\n",
              "  0.510819833305581,\n",
              "  0.61074577174999,\n",
              "  0.6471815368642636,\n",
              "  0.67736307213639,\n",
              "  0.6110585684311377,\n",
              "  0.6241733313782408,\n",
              "  0.5645032579007276,\n",
              "  0.9830887280114223,\n",
              "  0.8214909047035301,\n",
              "  0.7104944199091379,\n",
              "  0.6725764140351619,\n",
              "  0.7902785820442978,\n",
              "  0.7327956971292449,\n",
              "  0.6994818991880567,\n",
              "  0.5371803415964987,\n",
              "  0.5875292487225624,\n",
              "  0.5995617273863727,\n",
              "  0.640115516144425,\n",
              "  0.5033220133683594,\n",
              "  0.499599247455066,\n",
              "  0.48995963427757677,\n",
              "  0.5156319122047479,\n",
              "  0.49930666314791433,\n",
              "  0.47510930603328294,\n",
              "  0.4945975877492743,\n",
              "  0.4403376930446755,\n",
              "  0.5230916373506342,\n",
              "  0.43468485414005337,\n",
              "  0.4340678573470057,\n",
              "  0.43650044859432163,\n",
              "  0.4039858646189558,\n",
              "  0.4347117408690552,\n",
              "  0.4193775971250199,\n",
              "  0.38989190340838487,\n",
              "  0.40069028655049604,\n",
              "  0.4353062293099849,\n",
              "  0.32619727152755684,\n",
              "  0.4155624678465981,\n",
              "  0.34489152343128676,\n",
              "  0.3441968856867345,\n",
              "  0.3336646078651881,\n",
              "  0.29830512739581677,\n",
              "  0.41233805053769185,\n",
              "  0.36476014630108505,\n",
              "  0.3014192309651861,\n",
              "  0.3175402787373747,\n",
              "  0.3752534604516264,\n",
              "  0.3191763160527179,\n",
              "  0.3245452545928106,\n",
              "  0.26529857307241134,\n",
              "  0.30197216851240655,\n",
              "  0.35360365852900827,\n",
              "  0.2797791371953038,\n",
              "  0.2999738035206577,\n",
              "  0.27135515948708644,\n",
              "  0.2943807231502008,\n",
              "  0.2548238937210464,\n",
              "  0.257518090560134,\n",
              "  0.2702049181346429,\n",
              "  0.2187488350216717,\n",
              "  0.23704377118707254,\n",
              "  0.25279937496582733,\n",
              "  0.23686937393132654,\n",
              "  0.2275370820368419,\n",
              "  0.24263042476041832,\n",
              "  0.22107424826278432,\n",
              "  0.22334360663000039,\n",
              "  0.22076490768401066,\n",
              "  0.2046600142779744,\n",
              "  0.20513212174551654,\n",
              "  0.21453891400409575,\n",
              "  0.17365175698924865,\n",
              "  0.18659337503230874,\n",
              "  0.174182025999831,\n",
              "  0.17250735023659933,\n",
              "  0.20063128622305948,\n",
              "  0.18509348485093247,\n",
              "  0.1726158485515747,\n",
              "  0.1819861187395618,\n",
              "  0.2048248975440393,\n",
              "  0.18276972199578495,\n",
              "  0.17599696515378957,\n",
              "  0.16718479725027835,\n",
              "  0.20959532846796963,\n",
              "  0.1685889019426868,\n",
              "  0.16298060404281653,\n",
              "  0.1870331931838516,\n",
              "  0.15938291796937132,\n",
              "  0.1710508166653412],\n",
              " 'dev_loss_history': [0.9535583853721619,\n",
              "  0.6667810082435608,\n",
              "  0.47555989027023315,\n",
              "  0.4478803277015686,\n",
              "  0.3606773018836975,\n",
              "  0.401384562253952,\n",
              "  0.3036803603172302,\n",
              "  0.32689282298088074,\n",
              "  0.2782980799674988,\n",
              "  0.3384636342525482,\n",
              "  0.3407980799674988,\n",
              "  0.5069144368171692,\n",
              "  0.41950511932373047,\n",
              "  0.3045458197593689,\n",
              "  0.33049485087394714,\n",
              "  0.45002859830856323,\n",
              "  0.4483366310596466,\n",
              "  0.49057191610336304,\n",
              "  0.5449496507644653,\n",
              "  0.6597630977630615,\n",
              "  0.5178170800209045,\n",
              "  1.2024192810058594,\n",
              "  0.4647867977619171,\n",
              "  0.5508493185043335,\n",
              "  0.7560997009277344,\n",
              "  0.4815967381000519,\n",
              "  0.495451956987381,\n",
              "  0.7214865684509277,\n",
              "  0.46326568722724915,\n",
              "  0.3864811956882477,\n",
              "  1.136902093887329,\n",
              "  0.9180354475975037,\n",
              "  0.5203647017478943,\n",
              "  0.6091888546943665,\n",
              "  0.8246743679046631,\n",
              "  0.6226426362991333,\n",
              "  1.0624722242355347,\n",
              "  0.6487528085708618,\n",
              "  1.1995965242385864,\n",
              "  0.4842332899570465,\n",
              "  0.9289429187774658,\n",
              "  0.5901854634284973,\n",
              "  0.42762601375579834,\n",
              "  0.7859647274017334,\n",
              "  0.6239914894104004,\n",
              "  0.7245038151741028,\n",
              "  0.42921242117881775,\n",
              "  0.698757529258728,\n",
              "  0.6115962266921997,\n",
              "  0.7396592497825623,\n",
              "  0.45251795649528503,\n",
              "  0.6884668469429016,\n",
              "  0.33331063389778137,\n",
              "  0.5105851888656616,\n",
              "  0.4167865812778473,\n",
              "  0.5181393027305603,\n",
              "  0.5150637626647949,\n",
              "  0.46588560938835144,\n",
              "  0.5793752074241638,\n",
              "  0.5671535730361938,\n",
              "  0.3914168179035187,\n",
              "  0.4157488942146301,\n",
              "  0.35170140862464905,\n",
              "  0.4541946351528168,\n",
              "  0.6659600734710693,\n",
              "  0.3660067319869995,\n",
              "  0.3874799907207489,\n",
              "  0.2954983711242676,\n",
              "  0.6990436911582947,\n",
              "  0.6081317067146301,\n",
              "  0.6276504397392273,\n",
              "  0.5354201793670654,\n",
              "  0.6457675695419312,\n",
              "  0.46448394656181335,\n",
              "  0.372732937335968,\n",
              "  0.3577997088432312,\n",
              "  0.45214149355888367,\n",
              "  0.31086915731430054,\n",
              "  0.3208848237991333,\n",
              "  0.1939205825328827,\n",
              "  0.2546508312225342,\n",
              "  0.44726839661598206,\n",
              "  0.32406872510910034,\n",
              "  0.3082686960697174,\n",
              "  0.2798219621181488,\n",
              "  0.26029905676841736,\n",
              "  0.36956292390823364,\n",
              "  0.21390052139759064,\n",
              "  0.34183576703071594,\n",
              "  0.21570084989070892,\n",
              "  0.22088927030563354,\n",
              "  0.25053203105926514,\n",
              "  0.24879145622253418,\n",
              "  0.17945411801338196,\n",
              "  0.1538037359714508,\n",
              "  0.24440039694309235,\n",
              "  0.17009828984737396,\n",
              "  0.17183193564414978,\n",
              "  0.16997744143009186,\n",
              "  0.21947096288204193,\n",
              "  0.2525712847709656,\n",
              "  0.21200990676879883,\n",
              "  0.2660389542579651,\n",
              "  0.19710586965084076,\n",
              "  0.17703841626644135,\n",
              "  0.22142964601516724,\n",
              "  0.3278874456882477,\n",
              "  0.2655666470527649,\n",
              "  0.17463521659374237,\n",
              "  0.2084120512008667,\n",
              "  0.1971711665391922,\n",
              "  0.19955074787139893,\n",
              "  0.1608341485261917,\n",
              "  0.1822129487991333,\n",
              "  0.20734241604804993,\n",
              "  0.18516069650650024,\n",
              "  0.16848689317703247,\n",
              "  0.22281600534915924,\n",
              "  0.16287340223789215,\n",
              "  0.16321513056755066,\n",
              "  0.16309288144111633,\n",
              "  0.15144358575344086,\n",
              "  0.15818367898464203,\n",
              "  0.16395969688892365,\n",
              "  0.12227312475442886,\n",
              "  0.18323396146297455,\n",
              "  0.15072400867938995,\n",
              "  0.1211618185043335,\n",
              "  0.11181015521287918,\n",
              "  0.1442839801311493,\n",
              "  0.1358102560043335,\n",
              "  0.1446785032749176,\n",
              "  0.13325145840644836,\n",
              "  0.14336436986923218,\n",
              "  0.159043550491333,\n",
              "  0.11869470775127411,\n",
              "  0.09764930605888367,\n",
              "  0.11201852560043335,\n",
              "  0.15041424334049225,\n",
              "  0.12172996997833252,\n",
              "  0.11610814183950424,\n",
              "  0.10842760652303696,\n",
              "  0.10955280810594559,\n",
              "  0.11465927213430405,\n",
              "  0.11462176591157913,\n",
              "  0.11887252330780029,\n",
              "  0.12460826337337494,\n",
              "  0.12210503965616226,\n",
              "  0.11857108026742935,\n",
              "  0.1169930174946785]}"
            ]
          },
          "metadata": {},
          "execution_count": 15
        }
      ]
    },
    {
      "cell_type": "code",
      "source": [],
      "metadata": {
        "id": "DrZfOeRp49HL"
      },
      "execution_count": null,
      "outputs": []
    }
  ]
}